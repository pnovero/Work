{
 "cells": [
  {
   "cell_type": "markdown",
   "id": "4636e879",
   "metadata": {},
   "source": [
    "##### En este notebook se automatiza la extracción de datos del DW, segmentación por cantidad de puntos disponibles y la exportación a archivos csv.\n",
    "\n",
    "Importante: \n",
    "- Líneas de código para conectarse directamente al DW.\n",
    "- Líneas de código para exportar archivos csv y dividirlos si son muy pesados."
   ]
  },
  {
   "cell_type": "code",
   "execution_count": null,
   "id": "cc0969ce",
   "metadata": {},
   "outputs": [],
   "source": [
    "import pandas as pd\n",
    "import numpy as np\n",
    "import seaborn as sns\n",
    "import matplotlib.pyplot as plt\n",
    "import seaborn as sns\n",
    "import matplotlib.axes as ax\n",
    "import pyodbc\n",
    "import math\n",
    "import os\n",
    "pd.set_option('display.max_columns', None)"
   ]
  },
  {
   "cell_type": "code",
   "execution_count": null,
   "id": "58bb8f56",
   "metadata": {},
   "outputs": [],
   "source": [
    "DB = {'servername': '+++',\n",
    "      'database': '+++',\n",
    "      'usuario' :'+++',\n",
    "      'contraseña':'+++',\n",
    "      'Encrypt':'yes',\n",
    "      'TrustServerCertificate':'no',\n",
    "      'Connection Timeout':'30'}\n",
    "\n",
    "# create the connection\n",
    "conn = pyodbc.connect('DRIVER={ODBC Driver 13 for SQL Server};SERVER=' + DB['servername'] + ';DATABASE=' + DB['database'] +\\\n",
    "                      ';UID=' + DB['usuario'] + ';PWD='+ DB['contraseña'] + ';Encrypt='+ DB['Encrypt']+';TrustServerCertificate=' + \\\n",
    "                      DB['TrustServerCertificate']+ ';Connection Timeout=' + DB['Connection Timeout'])\n",
    "\n",
    "# query db\n",
    "sql = \"\"\"\n",
    "\n",
    "SELECT cpl.CustomerId, sum(cpl.Points) 'Puntos', c.FirstName, c.Email\n",
    "FROM dbo.CustomerPointsLog cpl\n",
    "INNER JOIN dbo.Customer c ON c.CustomerId = cpl.CustomerId\n",
    "GROUP BY cpl.CustomerId, c.FirstName, c.Email\n",
    "HAVING sum(cpl.Points) > 1799\n",
    "\"\"\"\n",
    "df = pd.read_sql(sql, conn)\n",
    "df.head()"
   ]
  },
  {
   "cell_type": "code",
   "execution_count": null,
   "id": "f646852b",
   "metadata": {},
   "outputs": [],
   "source": [
    "#Como ya me pasan los datos que necesito para df, importo directamente.\n",
    "\n",
    "#df = pd.read_csv(r'C:/Users/pnovero/Documents/Extractos DW/puntos al 07-12.csv')\n",
    "#df.drop(index=df.index[0], axis=0, inplace=True)\n",
    "#df[\"Puntos\"] = df.Puntos.astype('int')\n",
    "\n",
    "#df.head()"
   ]
  },
  {
   "cell_type": "code",
   "execution_count": null,
   "id": "56a242a1",
   "metadata": {},
   "outputs": [],
   "source": [
    "df.shape"
   ]
  },
  {
   "cell_type": "code",
   "execution_count": null,
   "id": "ce406f26",
   "metadata": {},
   "outputs": [],
   "source": [
    "df.Puntos.fillna(0,inplace=True)\n",
    "df.isna().sum().sort_values(ascending=False)"
   ]
  },
  {
   "cell_type": "code",
   "execution_count": null,
   "id": "4814237b",
   "metadata": {},
   "outputs": [],
   "source": [
    "df.dropna(how=\"any\",inplace=True)"
   ]
  },
  {
   "cell_type": "code",
   "execution_count": null,
   "id": "eb2d30ca",
   "metadata": {},
   "outputs": [],
   "source": [
    "pd.DataFrame(df[df.Puntos < 0])"
   ]
  },
  {
   "cell_type": "code",
   "execution_count": null,
   "id": "73879de2",
   "metadata": {},
   "outputs": [],
   "source": [
    "df.drop(columns=['CustomerId'],inplace=True)"
   ]
  },
  {
   "cell_type": "code",
   "execution_count": null,
   "id": "0f6a2e5c",
   "metadata": {},
   "outputs": [],
   "source": [
    "clusters = [-np.inf,-1,1799,4599,5999,6499,7999,np.inf]\n",
    "nombres_clusters =[\"negativos\",\"0 a 1799\",\"1800 a 4599\",\"4600 a 5999\",\"6000 a 6499\",\"6500 a 7999\",\"mas de 8000\"]\n",
    "df['segmento_puntos'] = pd.cut(df.Puntos,bins= clusters, labels = nombres_clusters)"
   ]
  },
  {
   "cell_type": "code",
   "execution_count": null,
   "id": "73e71923",
   "metadata": {},
   "outputs": [],
   "source": [
    "for grupo in [\"1800 a 4599\",\"4600 a 5999\",\"6000 a 6499\",\"6500 a 7999\",\"mas de 8000\"]:\n",
    "    max_MB=78\n",
    "    df_grupo = df[df[\"segmento_puntos\"] == grupo]\n",
    "    df_grupo.drop('segmento_puntos',axis=1,inplace=True)\n",
    "    path = r'C:/Users/pnovero/Documents/Extractos DW/' + grupo + '.csv'\n",
    "    df_grupo.to_csv(path,index=False)\n",
    "    tamaño = os.path.getsize(path)/1000000\n",
    "    print(tamaño)\n",
    "    if tamaño > max_MB:\n",
    "        os.remove(path)\n",
    "        cantidad_archivos= math.ceil(tamaño/max_MB)\n",
    "        archivos= np.array_split(df_grupo,cantidad_archivos)\n",
    "        for idx,archivo in enumerate(archivos):\n",
    "            path = r'C:/Users/pnovero/Documents/Extractos DW/' + grupo + '_' +str(idx) + '.csv'\n",
    "            archivo.to_csv(path,index=False)\n",
    "            print(path)"
   ]
  },
  {
   "cell_type": "code",
   "execution_count": null,
   "id": "3514d732",
   "metadata": {},
   "outputs": [],
   "source": []
  }
 ],
 "metadata": {
  "kernelspec": {
   "display_name": "Python 3",
   "language": "python",
   "name": "python3"
  },
  "language_info": {
   "codemirror_mode": {
    "name": "ipython",
    "version": 3
   },
   "file_extension": ".py",
   "mimetype": "text/x-python",
   "name": "python",
   "nbconvert_exporter": "python",
   "pygments_lexer": "ipython3",
   "version": "3.8.8"
  }
 },
 "nbformat": 4,
 "nbformat_minor": 5
}
