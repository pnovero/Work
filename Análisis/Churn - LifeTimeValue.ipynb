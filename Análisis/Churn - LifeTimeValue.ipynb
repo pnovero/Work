{
 "cells": [
  {
   "cell_type": "code",
   "execution_count": 2,
   "id": "b6e91bfb",
   "metadata": {},
   "outputs": [],
   "source": [
    "import pandas as pd\n",
    "import numpy as np\n",
    "import seaborn as sns\n",
    "import matplotlib.pyplot as plt\n",
    "import seaborn as sns\n",
    "import matplotlib.axes as ax\n",
    "import pyodbc\n",
    "import math\n",
    "import os\n",
    "import datetime as dt\n",
    "import sidetable as stb\n",
    "\n",
    "from sklearn.preprocessing import LabelEncoder\n",
    "from sklearn.preprocessing import StandardScaler\n",
    "from sklearn.decomposition import PCA\n",
    "from sklearn.cluster import KMeans\n",
    "from sklearn import metrics\n",
    "from scipy.spatial.distance import cdist\n",
    "\n",
    "pd.set_option('display.max_rows', None)\n",
    "pd.set_option('display.max_columns', None)\n",
    "pd.set_option('max_colwidth', None)"
   ]
  },
  {
   "cell_type": "markdown",
   "id": "29944448",
   "metadata": {},
   "source": [
    "#### Importacion de datos y limpieza"
   ]
  },
  {
   "cell_type": "code",
   "execution_count": 3,
   "id": "7bc32e0c",
   "metadata": {
    "scrolled": true
   },
   "outputs": [
    {
     "data": {
      "text/html": [
       "<div>\n",
       "<style scoped>\n",
       "    .dataframe tbody tr th:only-of-type {\n",
       "        vertical-align: middle;\n",
       "    }\n",
       "\n",
       "    .dataframe tbody tr th {\n",
       "        vertical-align: top;\n",
       "    }\n",
       "\n",
       "    .dataframe thead th {\n",
       "        text-align: right;\n",
       "    }\n",
       "</style>\n",
       "<table border=\"1\" class=\"dataframe\">\n",
       "  <thead>\n",
       "    <tr style=\"text-align: right;\">\n",
       "      <th></th>\n",
       "      <th>CustomerId</th>\n",
       "      <th>kilos</th>\n",
       "      <th>meses_desde_alta</th>\n",
       "      <th>meses_activo</th>\n",
       "      <th>meses_desde_ult_compra</th>\n",
       "      <th>cantidad_compras</th>\n",
       "      <th>cantidad_promos</th>\n",
       "      <th>categoria</th>\n",
       "      <th>kilos_ult_año</th>\n",
       "      <th>GenderCode</th>\n",
       "      <th>BirthDate</th>\n",
       "      <th>fecha_activacion</th>\n",
       "      <th>ultima_compra</th>\n",
       "    </tr>\n",
       "  </thead>\n",
       "  <tbody>\n",
       "    <tr>\n",
       "      <th>0</th>\n",
       "      <td>273AFE21-79E8-CC3A-AAF6-08D0C0CE8984</td>\n",
       "      <td>31.120</td>\n",
       "      <td>102</td>\n",
       "      <td>100</td>\n",
       "      <td>102</td>\n",
       "      <td>58</td>\n",
       "      <td>2</td>\n",
       "      <td>PLATA</td>\n",
       "      <td>0.820</td>\n",
       "      <td>Female</td>\n",
       "      <td>1984-06-21</td>\n",
       "      <td>2013-12-03</td>\n",
       "      <td>2022-04-03</td>\n",
       "    </tr>\n",
       "    <tr>\n",
       "      <th>1</th>\n",
       "      <td>D1C0D365-6970-C40B-A6E6-08D0BD70A3EB</td>\n",
       "      <td>94.061</td>\n",
       "      <td>103</td>\n",
       "      <td>100</td>\n",
       "      <td>103</td>\n",
       "      <td>28</td>\n",
       "      <td>10</td>\n",
       "      <td>ORO</td>\n",
       "      <td>20.995</td>\n",
       "      <td>Male</td>\n",
       "      <td>1975-05-12</td>\n",
       "      <td>2013-11-29</td>\n",
       "      <td>2022-03-21</td>\n",
       "    </tr>\n",
       "    <tr>\n",
       "      <th>2</th>\n",
       "      <td>10C29CB8-C4F5-C071-3842-08D0BF4D95AE</td>\n",
       "      <td>15.990</td>\n",
       "      <td>103</td>\n",
       "      <td>71</td>\n",
       "      <td>103</td>\n",
       "      <td>11</td>\n",
       "      <td>3</td>\n",
       "      <td>ABANDONO</td>\n",
       "      <td>0.000</td>\n",
       "      <td>Female</td>\n",
       "      <td>1980-09-17</td>\n",
       "      <td>2013-11-29</td>\n",
       "      <td>2019-10-30</td>\n",
       "    </tr>\n",
       "    <tr>\n",
       "      <th>3</th>\n",
       "      <td>DE3B393D-8E46-C831-D611-08D0BF3B6F0A</td>\n",
       "      <td>1.560</td>\n",
       "      <td>103</td>\n",
       "      <td>16</td>\n",
       "      <td>71</td>\n",
       "      <td>2</td>\n",
       "      <td>0</td>\n",
       "      <td>ABANDONO</td>\n",
       "      <td>0.000</td>\n",
       "      <td>Female</td>\n",
       "      <td>1959-08-22</td>\n",
       "      <td>2013-11-29</td>\n",
       "      <td>2017-11-27</td>\n",
       "    </tr>\n",
       "    <tr>\n",
       "      <th>4</th>\n",
       "      <td>6ACC86A5-45BC-C851-BE13-08D0BF45D4BD</td>\n",
       "      <td>15.134</td>\n",
       "      <td>103</td>\n",
       "      <td>98</td>\n",
       "      <td>103</td>\n",
       "      <td>16</td>\n",
       "      <td>4</td>\n",
       "      <td>BRONCE</td>\n",
       "      <td>1.470</td>\n",
       "      <td>Female</td>\n",
       "      <td>1983-09-16</td>\n",
       "      <td>2013-11-29</td>\n",
       "      <td>2022-01-30</td>\n",
       "    </tr>\n",
       "  </tbody>\n",
       "</table>\n",
       "</div>"
      ],
      "text/plain": [
       "                             CustomerId   kilos  meses_desde_alta  \\\n",
       "0  273AFE21-79E8-CC3A-AAF6-08D0C0CE8984  31.120               102   \n",
       "1  D1C0D365-6970-C40B-A6E6-08D0BD70A3EB  94.061               103   \n",
       "2  10C29CB8-C4F5-C071-3842-08D0BF4D95AE  15.990               103   \n",
       "3  DE3B393D-8E46-C831-D611-08D0BF3B6F0A   1.560               103   \n",
       "4  6ACC86A5-45BC-C851-BE13-08D0BF45D4BD  15.134               103   \n",
       "\n",
       "   meses_activo  meses_desde_ult_compra  cantidad_compras  cantidad_promos  \\\n",
       "0           100                     102                58                2   \n",
       "1           100                     103                28               10   \n",
       "2            71                     103                11                3   \n",
       "3            16                      71                 2                0   \n",
       "4            98                     103                16                4   \n",
       "\n",
       "  categoria  kilos_ult_año GenderCode  BirthDate fecha_activacion  \\\n",
       "0     PLATA          0.820     Female 1984-06-21       2013-12-03   \n",
       "1       ORO         20.995       Male 1975-05-12       2013-11-29   \n",
       "2  ABANDONO          0.000     Female 1980-09-17       2013-11-29   \n",
       "3  ABANDONO          0.000     Female 1959-08-22       2013-11-29   \n",
       "4    BRONCE          1.470     Female 1983-09-16       2013-11-29   \n",
       "\n",
       "  ultima_compra  \n",
       "0    2022-04-03  \n",
       "1    2022-03-21  \n",
       "2    2019-10-30  \n",
       "3    2017-11-27  \n",
       "4    2022-01-30  "
      ]
     },
     "execution_count": 3,
     "metadata": {},
     "output_type": "execute_result"
    }
   ],
   "source": [
    "DB = {'servername': '',\n",
    "      'database': '',\n",
    "      'usuario' :'',\n",
    "      'contraseña':'',\n",
    "      'Encrypt':'yes',\n",
    "      'TrustServerCertificate':'no',\n",
    "      'Connection Timeout':'30'}\n",
    "\n",
    "# create the connection\n",
    "conn = pyodbc.connect('DRIVER={ODBC Driver 17 for SQL Server};SERVER=' + DB['servername'] + ';DATABASE=' + DB['database'] +\\\n",
    "                      ';UID=' + DB['usuario'] + ';PWD='+ DB['contraseña'] + ';Encrypt=yes;TrustServerCertificate=no;Connection Timeout=30')\n",
    "\n",
    "# query db\n",
    "sql = \"\"\"\n",
    "\n",
    "SELECT c.CustomerId, ISNULL(sum(s.ProductWeightGrams* s.Amount * 0.001),0) 'kilos',\n",
    "DATEDIFF(MONTH,c.ActivatedDate,getdate()) 'meses_desde_alta',\n",
    "ISNULL(DATEDIFF(MONTH,min(s.SaleDate),max(s.SaleDate)),0) 'meses_activo',\n",
    "ISNULL(DATEDIFF(MONTH,min(s.SaleDate),getdate()),0) 'meses_desde_ult_compra',\n",
    "ISNULL(COUNT(DISTINCT s.SaleId),0) 'cantidad_compras',\n",
    "ISNULL(COUNT(DISTINCT s.PromotionId),0) 'cantidad_promos',\n",
    "ISNULL(seg.categoria, 'ABANDONO') 'categoria',\n",
    "ISNULL(seg.Kilos, 0) 'kilos_ult_año',\n",
    "c.GenderCode, c.BirthDate,CONVERT(DATE,c.ActivatedDate) 'fecha_activacion', convert(DATE, max(s.SaleDate)) 'ultima_compra'\n",
    "\n",
    "FROM dbo.Customer c\n",
    "LEFT JOIN dbo.SaleCustomer SC ON sc.CustomerId = c.CustomerId\n",
    "LEFT JOIN dbo.Sale s ON s.SaleId=sc.SaleId\n",
    "LEFT JOIN dbo.Clientes_Segmentacion_2022 seg ON c.CustomerId = seg.CustomerId\n",
    "GROUP BY c.CustomerId,seg.categoria,c.GenderCode, c.BirthDate, c.ActivatedDate,seg.Kilos\n",
    "\"\"\"\n",
    "df = pd.read_sql(sql, conn)\n",
    "df.head()"
   ]
  },
  {
   "cell_type": "code",
   "execution_count": 4,
   "id": "e3eb7b47",
   "metadata": {},
   "outputs": [
    {
     "data": {
      "text/plain": [
       "(4556732, 13)"
      ]
     },
     "execution_count": 4,
     "metadata": {},
     "output_type": "execute_result"
    }
   ],
   "source": [
    "df.shape"
   ]
  },
  {
   "cell_type": "code",
   "execution_count": 5,
   "id": "a59ded34",
   "metadata": {},
   "outputs": [
    {
     "data": {
      "text/plain": [
       "CustomerId                     0\n",
       "kilos                          0\n",
       "meses_desde_alta               0\n",
       "meses_activo                   0\n",
       "meses_desde_ult_compra         0\n",
       "cantidad_compras               0\n",
       "cantidad_promos                0\n",
       "categoria                      0\n",
       "kilos_ult_año                  0\n",
       "GenderCode                     0\n",
       "BirthDate                      0\n",
       "fecha_activacion               0\n",
       "ultima_compra             419672\n",
       "dtype: int64"
      ]
     },
     "execution_count": 5,
     "metadata": {},
     "output_type": "execute_result"
    }
   ],
   "source": [
    "df.isnull().sum()"
   ]
  },
  {
   "cell_type": "markdown",
   "id": "f0c9c419",
   "metadata": {},
   "source": [
    "#### Empiezo con el feature engineering"
   ]
  },
  {
   "cell_type": "markdown",
   "id": "53084118",
   "metadata": {},
   "source": [
    "Saco los meses que estuvo activo este socio (meses entre primera y ultima compra), su edad y su lifetimevalue"
   ]
  },
  {
   "cell_type": "code",
   "execution_count": 6,
   "id": "14fb1b67",
   "metadata": {},
   "outputs": [],
   "source": [
    "df['meses_activo'] = df['meses_activo'].astype('int')"
   ]
  },
  {
   "cell_type": "code",
   "execution_count": 7,
   "id": "574b868d",
   "metadata": {},
   "outputs": [],
   "source": [
    "df['edad'] = (dt.datetime.today() - pd.to_datetime(df.BirthDate)) / np.timedelta64(1,'Y')\n",
    "df['edad'] = df['edad'].apply(np.floor).astype('int')"
   ]
  },
  {
   "cell_type": "code",
   "execution_count": 8,
   "id": "742c25b3",
   "metadata": {},
   "outputs": [],
   "source": [
    "valor_kg_promedio = 800"
   ]
  },
  {
   "cell_type": "code",
   "execution_count": 9,
   "id": "45899049",
   "metadata": {},
   "outputs": [],
   "source": [
    "df['lifetime_value_año'] = np.where(df.meses_activo == 0,0, df.kilos * 12 / df.meses_activo)"
   ]
  },
  {
   "cell_type": "code",
   "execution_count": 10,
   "id": "98cb1f17",
   "metadata": {},
   "outputs": [
    {
     "data": {
      "text/plain": [
       "<Figure size 432x288 with 0 Axes>"
      ]
     },
     "metadata": {},
     "output_type": "display_data"
    }
   ],
   "source": [
    "sns.set(rc={\"axes.facecolor\":\"#D9D9D9\",\"figure.facecolor\":\"#D9D9D9\"})\n",
    "sns.despine()"
   ]
  },
  {
   "cell_type": "markdown",
   "id": "e23aca8b",
   "metadata": {},
   "source": [
    "Cantidad de socios por segmento"
   ]
  },
  {
   "cell_type": "code",
   "execution_count": 23,
   "id": "ed1a954d",
   "metadata": {
    "scrolled": true
   },
   "outputs": [
    {
     "data": {
      "image/png": "[encoded data removed]",
      "text/plain": [
       "<Figure size 720x360 with 1 Axes>"
      ]
     },
     "metadata": {},
     "output_type": "display_data"
    }
   ],
   "source": [
    "order= ['ORO', 'PLATA','BRONCE', 'ALERTA DE CONSUMO','CORTESÍA','ABANDONO']\n",
    "pallete = ['#EBCE00','#CBC2CC','#C2793E','#BA0202','#185196','#185196']\n",
    "\n",
    "fig, ax = plt.subplots(figsize=(10,5))\n",
    "ax.tick_params(axis='x', labelrotation = 30,labelsize=12)\n",
    "ax.tick_params(axis='y',labelsize=14)\n",
    "sns.countplot(y=df.categoria,palette=pallete,order=order)\n",
    "ax.set_xlabel('Cantidad de socios',loc='center')\n",
    "ax.set_ylabel('',loc='center')\n",
    "plt.ticklabel_format(style='plain', axis='x')"
   ]
  },
  {
   "cell_type": "code",
   "execution_count": 24,
   "id": "3b50580a",
   "metadata": {
    "scrolled": true
   },
   "outputs": [
    {
     "data": {
      "text/html": [
       "<div>\n",
       "<style scoped>\n",
       "    .dataframe tbody tr th:only-of-type {\n",
       "        vertical-align: middle;\n",
       "    }\n",
       "\n",
       "    .dataframe tbody tr th {\n",
       "        vertical-align: top;\n",
       "    }\n",
       "\n",
       "    .dataframe thead th {\n",
       "        text-align: right;\n",
       "    }\n",
       "</style>\n",
       "<table border=\"1\" class=\"dataframe\">\n",
       "  <thead>\n",
       "    <tr style=\"text-align: right;\">\n",
       "      <th></th>\n",
       "      <th>categoria</th>\n",
       "      <th>count</th>\n",
       "      <th>percent</th>\n",
       "      <th>cumulative_count</th>\n",
       "      <th>cumulative_percent</th>\n",
       "    </tr>\n",
       "  </thead>\n",
       "  <tbody>\n",
       "    <tr>\n",
       "      <th>0</th>\n",
       "      <td>ABANDONO</td>\n",
       "      <td>1858912</td>\n",
       "      <td>40.864720</td>\n",
       "      <td>1858912</td>\n",
       "      <td>40.864720</td>\n",
       "    </tr>\n",
       "    <tr>\n",
       "      <th>1</th>\n",
       "      <td>PLATA</td>\n",
       "      <td>1411365</td>\n",
       "      <td>31.026232</td>\n",
       "      <td>3270277</td>\n",
       "      <td>71.890952</td>\n",
       "    </tr>\n",
       "    <tr>\n",
       "      <th>2</th>\n",
       "      <td>BRONCE</td>\n",
       "      <td>940988</td>\n",
       "      <td>20.685870</td>\n",
       "      <td>4211265</td>\n",
       "      <td>92.576822</td>\n",
       "    </tr>\n",
       "    <tr>\n",
       "      <th>3</th>\n",
       "      <td>ORO</td>\n",
       "      <td>272391</td>\n",
       "      <td>5.988009</td>\n",
       "      <td>4483656</td>\n",
       "      <td>98.564831</td>\n",
       "    </tr>\n",
       "    <tr>\n",
       "      <th>4</th>\n",
       "      <td>ALERTA DE CONSUMO</td>\n",
       "      <td>64087</td>\n",
       "      <td>1.408833</td>\n",
       "      <td>4547743</td>\n",
       "      <td>99.973664</td>\n",
       "    </tr>\n",
       "    <tr>\n",
       "      <th>5</th>\n",
       "      <td>CORTESÍA</td>\n",
       "      <td>1198</td>\n",
       "      <td>0.026336</td>\n",
       "      <td>4548941</td>\n",
       "      <td>100.000000</td>\n",
       "    </tr>\n",
       "  </tbody>\n",
       "</table>\n",
       "</div>"
      ],
      "text/plain": [
       "           categoria    count    percent  cumulative_count  cumulative_percent\n",
       "0           ABANDONO  1858912  40.864720           1858912           40.864720\n",
       "1              PLATA  1411365  31.026232           3270277           71.890952\n",
       "2             BRONCE   940988  20.685870           4211265           92.576822\n",
       "3                ORO   272391   5.988009           4483656           98.564831\n",
       "4  ALERTA DE CONSUMO    64087   1.408833           4547743           99.973664\n",
       "5           CORTESÍA     1198   0.026336           4548941          100.000000"
      ]
     },
     "execution_count": 24,
     "metadata": {},
     "output_type": "execute_result"
    }
   ],
   "source": [
    "df.stb.freq(['categoria'])"
   ]
  },
  {
   "cell_type": "markdown",
   "id": "bc1a355d",
   "metadata": {},
   "source": [
    "## Lifetime Value"
   ]
  },
  {
   "cell_type": "markdown",
   "id": "dadbf9ca",
   "metadata": {},
   "source": [
    "LifetimeValue por segmento y comparacion con Oro"
   ]
  },
  {
   "cell_type": "code",
   "execution_count": 67,
   "id": "c8240e68",
   "metadata": {},
   "outputs": [
    {
     "name": "stdout",
     "output_type": "stream",
     "text": [
      "el valor de ciclo de vida anual promedio de un socio CG es (kg): 8.0\n",
      "el valor de ciclo de vida promedio de un socio CG es: 19.6 kg para el segmento ORO\n",
      "el valor de ciclo de vida promedio de un socio CG es: 7.9 kg para el segmento PLATA\n",
      "el valor de ciclo de vida promedio de un socio CG es: 6.1 kg para el segmento BRONCE\n",
      "el valor de ciclo de vida promedio de un socio CG es: 47.1 kg para el segmento ALERTA DE CONSUMO\n",
      "el valor de ciclo de vida promedio de un socio CG es: 8.0 kg para el segmento CORTESÍA\n",
      "el valor de ciclo de vida promedio de un socio CG es: 5.9 kg para el segmento ABANDONO\n"
     ]
    }
   ],
   "source": [
    "order= ['ORO', 'PLATA','BRONCE', 'ALERTA DE CONSUMO','CORTESÍA','ABANDONO']\n",
    "print(\"el valor de ciclo de vida anual promedio de un socio CG es (kg):\",round(df['lifetime_value_año'].mean(),1))\n",
    "for cat in order:\n",
    "    print(\"el valor de ciclo de vida promedio de un socio CG es:\",round(df[df.categoria == cat]['lifetime_value_año'].mean(),1),\\\n",
    "          \"kg para el segmento\",cat)"
   ]
  },
  {
   "cell_type": "code",
   "execution_count": 68,
   "id": "fe0462f0",
   "metadata": {
    "scrolled": true
   },
   "outputs": [
    {
     "name": "stdout",
     "output_type": "stream",
     "text": [
      "En promedio, el segmento Oro tiene un lifetime value un 248.0 % mayor que el segmento PLATA\n",
      "En promedio, el segmento Oro tiene un lifetime value un 323.0 % mayor que el segmento BRONCE\n",
      "En promedio, el segmento Oro tiene un lifetime value un 245.0 % mayor que el segmento CORTESÍA\n",
      "En promedio, el segmento Oro tiene un lifetime value un 329.0 % mayor que el segmento ABANDONO\n"
     ]
    }
   ],
   "source": [
    "for cat in ['PLATA','BRONCE','CORTESÍA','ABANDONO']:\n",
    "    print(\"En promedio, el segmento Oro tiene un lifetime value un\",round(df[df.categoria == 'ORO']['lifetime_value_año'].mean()/df[df.categoria == cat]['lifetime_value_año'].mean()*100,0),\\\n",
    "          \"% mayor que el segmento\",cat)"
   ]
  },
  {
   "cell_type": "markdown",
   "id": "d4a9ba62",
   "metadata": {},
   "source": [
    "## Churn"
   ]
  },
  {
   "cell_type": "markdown",
   "id": "81609189",
   "metadata": {},
   "source": [
    "¿Que cantidad de meses activos lleva cada segmento?"
   ]
  },
  {
   "cell_type": "code",
   "execution_count": 29,
   "id": "9b933408",
   "metadata": {},
   "outputs": [
    {
     "data": {
      "text/plain": [
       "<AxesSubplot:xlabel='meses_activo', ylabel='categoria'>"
      ]
     },
     "execution_count": 29,
     "metadata": {},
     "output_type": "execute_result"
    },
    {
     "data": {
      "image/png": "[encoded data removed]",
      "text/plain": [
       "<Figure size 432x288 with 1 Axes>"
      ]
     },
     "metadata": {},
     "output_type": "display_data"
    }
   ],
   "source": [
    "order= ['ORO', 'PLATA','BRONCE', 'ALERTA DE CONSUMO','CORTESÍA','ABANDONO']\n",
    "pallete = ['#EBCE00','#CBC2CC','#C2793E','#BA0202','#185196','#185196']\n",
    "sns.barplot(data=df.groupby('categoria')['meses_activo'].mean().reset_index(),x='meses_activo',y='categoria',\\\n",
    "            orient=\"h\",order=order,palette= pallete)"
   ]
  },
  {
   "cell_type": "code",
   "execution_count": 30,
   "id": "526fd662",
   "metadata": {
    "scrolled": true
   },
   "outputs": [
    {
     "data": {
      "text/plain": [
       "<AxesSubplot:xlabel='meses_activo', ylabel='categoria'>"
      ]
     },
     "execution_count": 30,
     "metadata": {},
     "output_type": "execute_result"
    },
    {
     "data": {
      "image/png": "[encoded data removed]",
      "text/plain": [
       "<Figure size 432x288 with 1 Axes>"
      ]
     },
     "metadata": {},
     "output_type": "display_data"
    }
   ],
   "source": [
    "order= ['ORO', 'PLATA','BRONCE', 'ALERTA DE CONSUMO','CORTESÍA','ABANDONO']\n",
    "pallete = ['#EBCE00','#CBC2CC','#C2793E','#BA0202','#185196','#185196']\n",
    "sns.barplot(data=df.groupby('categoria')['meses_activo'].median().reset_index(),x='meses_activo',y='categoria',\\\n",
    "            orient=\"h\",order=order,palette= pallete)"
   ]
  },
  {
   "cell_type": "markdown",
   "id": "78334189",
   "metadata": {},
   "source": [
    "Para media y mediana de meses activos vemos que se cumple la jerarquia logica de ORO, PLATA, BRONCE. ALERTA DE CONSUMO es similar a ORO y CORTESIA también.\n",
    "\n",
    "En cuanto a SOCIOS PERDIDOS, hay bastante diferencia entre la media y la mediana asi que analizaremos.."
   ]
  },
  {
   "cell_type": "code",
   "execution_count": 31,
   "id": "5dd08442",
   "metadata": {},
   "outputs": [
    {
     "name": "stdout",
     "output_type": "stream",
     "text": [
      "Mediana de meses activo para socios perdidos: 8.0\n",
      "Media de meses activo para socios perdidos: 15.913831854331997\n"
     ]
    }
   ],
   "source": [
    "print('Mediana de meses activo para socios perdidos:',df[df.categoria == 'ABANDONO'].meses_activo.median())\n",
    "print('Media de meses activo para socios perdidos:',df[df.categoria == 'ABANDONO'].meses_activo.mean())"
   ]
  },
  {
   "cell_type": "markdown",
   "id": "32650e11",
   "metadata": {},
   "source": [
    "Es probable que la distribución este sesgada hacia valores más cercanos al cero"
   ]
  },
  {
   "cell_type": "code",
   "execution_count": 32,
   "id": "036e97ee",
   "metadata": {},
   "outputs": [
    {
     "name": "stderr",
     "output_type": "stream",
     "text": [
      "C:\\Users\\pnovero\\Anaconda3\\lib\\site-packages\\seaborn\\_decorators.py:36: FutureWarning: Pass the following variable as a keyword arg: x. From version 0.12, the only valid positional argument will be `data`, and passing other arguments without an explicit keyword will result in an error or misinterpretation.\n",
      "  warnings.warn(\n"
     ]
    },
    {
     "data": {
      "text/plain": [
       "<AxesSubplot:xlabel='meses_activo'>"
      ]
     },
     "execution_count": 32,
     "metadata": {},
     "output_type": "execute_result"
    },
    {
     "data": {
      "image/png": "[encoded data removed]",
      "text/plain": [
       "<Figure size 432x288 with 1 Axes>"
      ]
     },
     "metadata": {},
     "output_type": "display_data"
    }
   ],
   "source": [
    "sns.violinplot(df[df.categoria =='ABANDONO']['meses_activo'])"
   ]
  },
  {
   "cell_type": "code",
   "execution_count": 33,
   "id": "d8908555",
   "metadata": {
    "scrolled": true
   },
   "outputs": [
    {
     "name": "stderr",
     "output_type": "stream",
     "text": [
      "C:\\Users\\pnovero\\Anaconda3\\lib\\site-packages\\seaborn\\_decorators.py:36: FutureWarning: Pass the following variable as a keyword arg: x. From version 0.12, the only valid positional argument will be `data`, and passing other arguments without an explicit keyword will result in an error or misinterpretation.\n",
      "  warnings.warn(\n"
     ]
    },
    {
     "data": {
      "text/plain": [
       "(0.0, 30.0)"
      ]
     },
     "execution_count": 33,
     "metadata": {},
     "output_type": "execute_result"
    },
    {
     "data": {
      "image/png": "[encoded data removed]",
      "text/plain": [
       "<Figure size 720x360 with 1 Axes>"
      ]
     },
     "metadata": {},
     "output_type": "display_data"
    }
   ],
   "source": [
    "fig, ax = plt.subplots(figsize=(10,5))\n",
    "ax.tick_params(axis='x', labelrotation = 30,labelsize=14)\n",
    "ax.tick_params(axis='y',labelsize=14)\n",
    "fig = sns.countplot(df[df.categoria =='ABANDONO']['meses_activo'])\n",
    "\n",
    "ax.set_ylabel('Cantidad de socios',loc='center',fontsize=14)\n",
    "ax.set_xlabel('Meses de actividad previo a la baja',loc='center',fontsize=14)\n",
    "#plt.ticklabel_format(style='plain', axis='x')\n",
    "plt.xlim(0,30)"
   ]
  },
  {
   "cell_type": "markdown",
   "id": "295d81e5",
   "metadata": {},
   "source": [
    "Vemos gran cantidad de socios con 0 y 1 mes activo, filtro la tabla y veo algun comportamiento extraño"
   ]
  },
  {
   "cell_type": "code",
   "execution_count": 34,
   "id": "59c9ae67",
   "metadata": {},
   "outputs": [
    {
     "name": "stdout",
     "output_type": "stream",
     "text": [
      "socios que compraron 1 promocion como socios completos y no volvieron 70732\n"
     ]
    }
   ],
   "source": [
    "print('socios que compraron 1 promocion como socios completos y no volvieron',df[((df.cantidad_compras == 1) & (df.meses_activo == 0) & (df.cantidad_promos == 1))].shape[0])"
   ]
  },
  {
   "cell_type": "code",
   "execution_count": 35,
   "id": "36d53a1d",
   "metadata": {},
   "outputs": [
    {
     "name": "stdout",
     "output_type": "stream",
     "text": [
      "socios que no compraron nunca como socios completos: 417376\n"
     ]
    }
   ],
   "source": [
    "print('socios que no compraron nunca como socios completos:', df[((df.cantidad_compras == 0) & (df.categoria == 'ABANDONO'))].shape[0])"
   ]
  },
  {
   "cell_type": "code",
   "execution_count": 36,
   "id": "5731af1e",
   "metadata": {},
   "outputs": [
    {
     "name": "stdout",
     "output_type": "stream",
     "text": [
      "socios que solo estuvieron activos 1 mes: 689898\n"
     ]
    }
   ],
   "source": [
    "print('socios que solo estuvieron activos 1 mes:', df[((df.meses_activo == 0) & (df.categoria == 'ABANDONO'))].shape[0])"
   ]
  },
  {
   "cell_type": "code",
   "execution_count": 37,
   "id": "280dcae2",
   "metadata": {},
   "outputs": [
    {
     "name": "stdout",
     "output_type": "stream",
     "text": [
      "socios que tienen 15 o mas compras: 315513\n"
     ]
    }
   ],
   "source": [
    "print('socios que tienen 15 o mas compras:', df[((df.cantidad_compras >= 15) & (df.categoria == 'ABANDONO'))].shape[0])"
   ]
  },
  {
   "cell_type": "code",
   "execution_count": 38,
   "id": "2d199b6e",
   "metadata": {},
   "outputs": [
    {
     "name": "stdout",
     "output_type": "stream",
     "text": [
      "Kg promedio de socios que tienen 15 o mas compras: 33.012141179604704\n",
      "Kg mediana de socios que tienen 15 o mas compras: 23.866\n"
     ]
    }
   ],
   "source": [
    "print('Kg promedio de socios que tienen 15 o mas compras:', df[((df.cantidad_compras >= 15) & (df.categoria == 'ABANDONO'))].kilos.mean())\n",
    "print('Kg mediana de socios que tienen 15 o mas compras:', df[((df.cantidad_compras >= 15) & (df.categoria == 'ABANDONO'))].kilos.median())"
   ]
  },
  {
   "cell_type": "code",
   "execution_count": 39,
   "id": "c2b68aa1",
   "metadata": {},
   "outputs": [
    {
     "data": {
      "text/plain": [
       "3.0"
      ]
     },
     "execution_count": 39,
     "metadata": {},
     "output_type": "execute_result"
    }
   ],
   "source": [
    "#df[~((df.meses_activo == 0) & (df.cantidad_promos == 1))].edad.median()\n",
    "df[df.categoria == 'ABANDONO'].cantidad_compras.median()"
   ]
  },
  {
   "cell_type": "code",
   "execution_count": 40,
   "id": "a2af0abb",
   "metadata": {
    "scrolled": true
   },
   "outputs": [
    {
     "name": "stderr",
     "output_type": "stream",
     "text": [
      "C:\\Users\\pnovero\\Anaconda3\\lib\\site-packages\\seaborn\\_decorators.py:36: FutureWarning: Pass the following variable as a keyword arg: x. From version 0.12, the only valid positional argument will be `data`, and passing other arguments without an explicit keyword will result in an error or misinterpretation.\n",
      "  warnings.warn(\n"
     ]
    },
    {
     "data": {
      "text/plain": [
       "(0.0, 30.0)"
      ]
     },
     "execution_count": 40,
     "metadata": {},
     "output_type": "execute_result"
    },
    {
     "data": {
      "image/png": "[encoded data removed]",
      "text/plain": [
       "<Figure size 720x360 with 1 Axes>"
      ]
     },
     "metadata": {},
     "output_type": "display_data"
    }
   ],
   "source": [
    "fig, ax = plt.subplots(figsize=(10,5))\n",
    "ax.tick_params(axis='x', labelrotation = 30,labelsize=14)\n",
    "ax.tick_params(axis='y',labelsize=14)\n",
    "fig = sns.countplot(df[df.categoria =='ABANDONO']['cantidad_compras'], palette = ['#092D74'])\n",
    "\n",
    "ax.set_ylabel('Cantidad de socios',loc='center',fontsize=14)\n",
    "ax.set_xlabel('Cantidad de compras',loc='center',fontsize=14)\n",
    "#plt.ticklabel_format(style='plain', axis='x')\n",
    "plt.xlim(0,30)"
   ]
  },
  {
   "cell_type": "code",
   "execution_count": 41,
   "id": "b5fd6d37",
   "metadata": {},
   "outputs": [
    {
     "data": {
      "text/plain": [
       "count    1.858912e+06\n",
       "mean     3.966101e+01\n",
       "std      1.544784e+01\n",
       "min      1.600000e+01\n",
       "25%      2.700000e+01\n",
       "50%      3.700000e+01\n",
       "75%      4.900000e+01\n",
       "max      1.220000e+02\n",
       "Name: edad, dtype: float64"
      ]
     },
     "execution_count": 41,
     "metadata": {},
     "output_type": "execute_result"
    }
   ],
   "source": [
    "df[df.categoria == 'ABANDONO'].edad.describe()"
   ]
  },
  {
   "cell_type": "code",
   "execution_count": 42,
   "id": "db3bedc9",
   "metadata": {
    "scrolled": true
   },
   "outputs": [
    {
     "name": "stderr",
     "output_type": "stream",
     "text": [
      "C:\\Users\\pnovero\\Anaconda3\\lib\\site-packages\\seaborn\\_decorators.py:36: FutureWarning: Pass the following variable as a keyword arg: x. From version 0.12, the only valid positional argument will be `data`, and passing other arguments without an explicit keyword will result in an error or misinterpretation.\n",
      "  warnings.warn(\n"
     ]
    },
    {
     "data": {
      "text/plain": [
       "(0.0, 100.0)"
      ]
     },
     "execution_count": 42,
     "metadata": {},
     "output_type": "execute_result"
    },
    {
     "data": {
      "image/png": "[encoded data removed]",
      "text/plain": [
       "<Figure size 720x360 with 1 Axes>"
      ]
     },
     "metadata": {},
     "output_type": "display_data"
    }
   ],
   "source": [
    "fig, ax = plt.subplots(figsize=(10,5))\n",
    "ax.tick_params(axis='x', labelrotation = 30,labelsize=14)\n",
    "ax.tick_params(axis='y',labelsize=14)\n",
    "fig = sns.countplot(df[df.categoria =='ABANDONO']['edad'])\n",
    "\n",
    "ax.set_ylabel('Cantidad de socios',loc='center',fontsize=14)\n",
    "ax.set_xlabel('Edad',loc='center',fontsize=14)\n",
    "#plt.ticklabel_format(style='plain', axis='x')\n",
    "plt.xlim(0,100)"
   ]
  },
  {
   "cell_type": "code",
   "execution_count": 44,
   "id": "7eb5d245",
   "metadata": {},
   "outputs": [
    {
     "name": "stderr",
     "output_type": "stream",
     "text": [
      "C:\\Users\\pnovero\\Anaconda3\\lib\\site-packages\\seaborn\\_decorators.py:36: FutureWarning: Pass the following variable as a keyword arg: x. From version 0.12, the only valid positional argument will be `data`, and passing other arguments without an explicit keyword will result in an error or misinterpretation.\n",
      "  warnings.warn(\n"
     ]
    },
    {
     "data": {
      "text/plain": [
       "(0.0, 100.0)"
      ]
     },
     "execution_count": 44,
     "metadata": {},
     "output_type": "execute_result"
    },
    {
     "data": {
      "image/png": "[encoded data removed]",
      "text/plain": [
       "<Figure size 1080x720 with 1 Axes>"
      ]
     },
     "metadata": {},
     "output_type": "display_data"
    }
   ],
   "source": [
    "plt.figure(figsize=(15,10))\n",
    "sns.countplot(df[(df.categoria =='ABANDONO')&(df['meses_activo']>=1)]['meses_activo'])\n",
    "plt.xlim(0,100)"
   ]
  },
  {
   "cell_type": "code",
   "execution_count": 45,
   "id": "506a0d19",
   "metadata": {},
   "outputs": [
    {
     "data": {
      "text/plain": [
       "0     37.112999\n",
       "1      3.022790\n",
       "2      2.213553\n",
       "3      1.785076\n",
       "12     1.540202\n",
       "4      1.496305\n",
       "13     1.471829\n",
       "14     1.419863\n",
       "11     1.385595\n",
       "24     1.331478\n",
       "5      1.330671\n",
       "15     1.321364\n",
       "25     1.305226\n",
       "10     1.258048\n",
       "23     1.243362\n",
       "26     1.238897\n",
       "16     1.214151\n",
       "6      1.204791\n",
       "9      1.162938\n",
       "22     1.153255\n",
       "27     1.144971\n",
       "8      1.127649\n",
       "7      1.124206\n",
       "17     1.123722\n",
       "36     1.102419\n",
       "37     1.080309\n",
       "28     1.067775\n",
       "18     1.066484\n",
       "21     1.065354\n",
       "35     1.032593\n",
       "20     1.023932\n",
       "38     1.022265\n",
       "19     1.014518\n",
       "29     0.972289\n",
       "39     0.959325\n",
       "34     0.957765\n",
       "30     0.913868\n",
       "33     0.898214\n",
       "32     0.880192\n",
       "40     0.878202\n",
       "31     0.877287\n",
       "41     0.806439\n",
       "42     0.740379\n",
       "48     0.724348\n",
       "49     0.723273\n",
       "47     0.703261\n",
       "43     0.680828\n",
       "46     0.680398\n",
       "50     0.671360\n",
       "44     0.670231\n",
       "45     0.665120\n",
       "51     0.617404\n",
       "52     0.577004\n",
       "53     0.514279\n",
       "54     0.452308\n",
       "55     0.423097\n",
       "56     0.369571\n",
       "57     0.349559\n",
       "59     0.334551\n",
       "58     0.331215\n",
       "60     0.329655\n",
       "61     0.304318\n",
       "62     0.278173\n",
       "63     0.254988\n",
       "64     0.219698\n",
       "65     0.192317\n",
       "66     0.161492\n",
       "67     0.132174\n",
       "68     0.106137\n",
       "69     0.088277\n",
       "70     0.065630\n",
       "71     0.055678\n",
       "72     0.044381\n",
       "73     0.032922\n",
       "74     0.023293\n",
       "75     0.014040\n",
       "77     0.011996\n",
       "78     0.011889\n",
       "76     0.010759\n",
       "84     0.010544\n",
       "82     0.010167\n",
       "83     0.009844\n",
       "79     0.008984\n",
       "80     0.008930\n",
       "85     0.008769\n",
       "81     0.008500\n",
       "86     0.007854\n",
       "87     0.004250\n",
       "88     0.002797\n",
       "89     0.000968\n",
       "90     0.000108\n",
       "92     0.000054\n",
       "91     0.000054\n",
       "Name: meses_activo, dtype: float64"
      ]
     },
     "execution_count": 45,
     "metadata": {},
     "output_type": "execute_result"
    }
   ],
   "source": [
    "df[df.categoria =='ABANDONO']['meses_activo'].value_counts(normalize=True)*100"
   ]
  },
  {
   "cell_type": "code",
   "execution_count": 47,
   "id": "fd27904b",
   "metadata": {
    "scrolled": true
   },
   "outputs": [
    {
     "data": {
      "text/plain": [
       "1     4.806700\n",
       "2     3.519889\n",
       "3     2.838546\n",
       "12    2.449158\n",
       "4     2.379356\n",
       "13    2.340434\n",
       "14    2.257800\n",
       "11    2.203310\n",
       "24    2.117254\n",
       "5     2.115971\n",
       "15    2.101172\n",
       "25    2.075510\n",
       "10    2.000489\n",
       "23    1.977136\n",
       "26    1.970036\n",
       "16    1.930687\n",
       "6     1.915803\n",
       "9     1.849251\n",
       "22    1.833853\n",
       "27    1.820680\n",
       "8     1.793135\n",
       "7     1.787660\n",
       "17    1.786890\n",
       "36    1.753016\n",
       "37    1.717858\n",
       "28    1.697927\n",
       "18    1.695874\n",
       "21    1.694077\n",
       "35    1.641982\n",
       "20    1.628210\n",
       "38    1.625558\n",
       "19    1.613240\n",
       "29    1.546089\n",
       "39    1.525474\n",
       "34    1.522993\n",
       "30    1.453190\n",
       "33    1.428298\n",
       "32    1.399641\n",
       "40    1.396476\n",
       "31    1.395022\n",
       "41    1.282363\n",
       "42    1.177317\n",
       "48    1.151825\n",
       "49    1.150115\n",
       "47    1.118293\n",
       "43    1.082622\n",
       "46    1.081937\n",
       "50    1.067566\n",
       "44    1.065770\n",
       "45    1.057643\n",
       "51    0.981768\n",
       "52    0.917525\n",
       "53    0.817783\n",
       "54    0.719239\n",
       "55    0.672789\n",
       "56    0.587675\n",
       "57    0.555853\n",
       "59    0.531987\n",
       "58    0.526683\n",
       "60    0.524202\n",
       "61    0.483912\n",
       "62    0.442339\n",
       "63    0.405470\n",
       "64    0.349354\n",
       "65    0.305813\n",
       "66    0.256798\n",
       "67    0.210177\n",
       "68    0.168775\n",
       "69    0.140375\n",
       "70    0.104361\n",
       "71    0.088536\n",
       "72    0.070572\n",
       "73    0.052352\n",
       "74    0.037040\n",
       "75    0.022327\n",
       "77    0.019076\n",
       "78    0.018905\n",
       "76    0.017108\n",
       "84    0.016766\n",
       "82    0.016167\n",
       "83    0.015654\n",
       "79    0.014286\n",
       "80    0.014200\n",
       "85    0.013943\n",
       "81    0.013516\n",
       "86    0.012489\n",
       "87    0.006758\n",
       "88    0.004448\n",
       "89    0.001540\n",
       "90    0.000171\n",
       "92    0.000086\n",
       "91    0.000086\n",
       "Name: meses_activo, dtype: float64"
      ]
     },
     "execution_count": 47,
     "metadata": {},
     "output_type": "execute_result"
    }
   ],
   "source": [
    "df[(df.categoria =='ABANDONO')&(df['meses_activo']>=1)]['meses_activo'].value_counts(normalize=True)*100"
   ]
  },
  {
   "cell_type": "code",
   "execution_count": 49,
   "id": "6808d5d2",
   "metadata": {},
   "outputs": [
    {
     "name": "stdout",
     "output_type": "stream",
     "text": [
      "Mediana de meses activo para socios perdidos: 23.0\n",
      "Media de meses activo para socios perdidos: 25.305439455814902\n"
     ]
    }
   ],
   "source": [
    "print('Mediana de meses activo para socios perdidos:',df[(df.categoria == 'ABANDONO') & (df.meses_activo >0)].meses_activo.median())\n",
    "print('Media de meses activo para socios perdidos:',df[(df.categoria == 'ABANDONO')&(df.meses_activo >0)].meses_activo.mean())"
   ]
  },
  {
   "cell_type": "code",
   "execution_count": 11,
   "id": "78dcab03",
   "metadata": {},
   "outputs": [
    {
     "data": {
      "text/html": [
       "<div>\n",
       "<style scoped>\n",
       "    .dataframe tbody tr th:only-of-type {\n",
       "        vertical-align: middle;\n",
       "    }\n",
       "\n",
       "    .dataframe tbody tr th {\n",
       "        vertical-align: top;\n",
       "    }\n",
       "\n",
       "    .dataframe thead th {\n",
       "        text-align: right;\n",
       "    }\n",
       "</style>\n",
       "<table border=\"1\" class=\"dataframe\">\n",
       "  <thead>\n",
       "    <tr style=\"text-align: right;\">\n",
       "      <th></th>\n",
       "      <th>CustomerId</th>\n",
       "      <th>kilos</th>\n",
       "      <th>meses_desde_alta</th>\n",
       "      <th>meses_activo</th>\n",
       "      <th>meses_desde_ult_compra</th>\n",
       "      <th>cantidad_compras</th>\n",
       "      <th>cantidad_promos</th>\n",
       "      <th>categoria</th>\n",
       "      <th>kilos_ult_año</th>\n",
       "      <th>GenderCode</th>\n",
       "      <th>BirthDate</th>\n",
       "      <th>fecha_activacion</th>\n",
       "      <th>ultima_compra</th>\n",
       "      <th>edad</th>\n",
       "      <th>lifetime_value_año</th>\n",
       "    </tr>\n",
       "  </thead>\n",
       "  <tbody>\n",
       "    <tr>\n",
       "      <th>0</th>\n",
       "      <td>273AFE21-79E8-CC3A-AAF6-08D0C0CE8984</td>\n",
       "      <td>31.120</td>\n",
       "      <td>102</td>\n",
       "      <td>100</td>\n",
       "      <td>102</td>\n",
       "      <td>58</td>\n",
       "      <td>2</td>\n",
       "      <td>PLATA</td>\n",
       "      <td>0.820</td>\n",
       "      <td>Female</td>\n",
       "      <td>1984-06-21</td>\n",
       "      <td>2013-12-03</td>\n",
       "      <td>2022-04-03</td>\n",
       "      <td>37</td>\n",
       "      <td>3.73440</td>\n",
       "    </tr>\n",
       "    <tr>\n",
       "      <th>1</th>\n",
       "      <td>D1C0D365-6970-C40B-A6E6-08D0BD70A3EB</td>\n",
       "      <td>94.061</td>\n",
       "      <td>103</td>\n",
       "      <td>100</td>\n",
       "      <td>103</td>\n",
       "      <td>28</td>\n",
       "      <td>10</td>\n",
       "      <td>ORO</td>\n",
       "      <td>20.995</td>\n",
       "      <td>Male</td>\n",
       "      <td>1975-05-12</td>\n",
       "      <td>2013-11-29</td>\n",
       "      <td>2022-03-21</td>\n",
       "      <td>47</td>\n",
       "      <td>11.28732</td>\n",
       "    </tr>\n",
       "  </tbody>\n",
       "</table>\n",
       "</div>"
      ],
      "text/plain": [
       "                             CustomerId   kilos  meses_desde_alta  \\\n",
       "0  273AFE21-79E8-CC3A-AAF6-08D0C0CE8984  31.120               102   \n",
       "1  D1C0D365-6970-C40B-A6E6-08D0BD70A3EB  94.061               103   \n",
       "\n",
       "   meses_activo  meses_desde_ult_compra  cantidad_compras  cantidad_promos  \\\n",
       "0           100                     102                58                2   \n",
       "1           100                     103                28               10   \n",
       "\n",
       "  categoria  kilos_ult_año GenderCode  BirthDate fecha_activacion  \\\n",
       "0     PLATA          0.820     Female 1984-06-21       2013-12-03   \n",
       "1       ORO         20.995       Male 1975-05-12       2013-11-29   \n",
       "\n",
       "  ultima_compra  edad  lifetime_value_año  \n",
       "0    2022-04-03    37             3.73440  \n",
       "1    2022-03-21    47            11.28732  "
      ]
     },
     "execution_count": 11,
     "metadata": {},
     "output_type": "execute_result"
    }
   ],
   "source": [
    "df.head(2)"
   ]
  },
  {
   "cell_type": "markdown",
   "id": "01298fa3",
   "metadata": {},
   "source": [
    "¿Cuando se fueron dando de baja los socios que nos abandonaron?"
   ]
  },
  {
   "cell_type": "code",
   "execution_count": 133,
   "id": "2756cc2b",
   "metadata": {
    "scrolled": false
   },
   "outputs": [
    {
     "data": {
      "text/html": [
       "<div>\n",
       "<style scoped>\n",
       "    .dataframe tbody tr th:only-of-type {\n",
       "        vertical-align: middle;\n",
       "    }\n",
       "\n",
       "    .dataframe tbody tr th {\n",
       "        vertical-align: top;\n",
       "    }\n",
       "\n",
       "    .dataframe thead th {\n",
       "        text-align: right;\n",
       "    }\n",
       "</style>\n",
       "<table border=\"1\" class=\"dataframe\">\n",
       "  <thead>\n",
       "    <tr style=\"text-align: right;\">\n",
       "      <th></th>\n",
       "      <th>CustomerId</th>\n",
       "      <th>kilos</th>\n",
       "      <th>meses_desde_alta</th>\n",
       "      <th>meses_activo</th>\n",
       "      <th>meses_desde_ult_compra</th>\n",
       "      <th>cantidad_compras</th>\n",
       "      <th>cantidad_promos</th>\n",
       "      <th>categoria</th>\n",
       "      <th>GenderCode</th>\n",
       "      <th>BirthDate</th>\n",
       "      <th>fecha_activacion</th>\n",
       "      <th>ultima_compra</th>\n",
       "      <th>fecha_baja</th>\n",
       "    </tr>\n",
       "  </thead>\n",
       "  <tbody>\n",
       "    <tr>\n",
       "      <th>0</th>\n",
       "      <td>273AFE21-79E8-CC3A-AAF6-08D0C0CE8984</td>\n",
       "      <td>31.120</td>\n",
       "      <td>101</td>\n",
       "      <td>100</td>\n",
       "      <td>101</td>\n",
       "      <td>58</td>\n",
       "      <td>2</td>\n",
       "      <td>PLATA</td>\n",
       "      <td>Female</td>\n",
       "      <td>1984-06-21</td>\n",
       "      <td>2013-12-03</td>\n",
       "      <td>2022-04-03</td>\n",
       "      <td>2020-04-03</td>\n",
       "    </tr>\n",
       "    <tr>\n",
       "      <th>1</th>\n",
       "      <td>D1C0D365-6970-C40B-A6E6-08D0BD70A3EB</td>\n",
       "      <td>94.061</td>\n",
       "      <td>102</td>\n",
       "      <td>100</td>\n",
       "      <td>102</td>\n",
       "      <td>28</td>\n",
       "      <td>10</td>\n",
       "      <td>ALERTA DE CONSUMO</td>\n",
       "      <td>Male</td>\n",
       "      <td>1975-05-12</td>\n",
       "      <td>2013-11-29</td>\n",
       "      <td>2022-03-21</td>\n",
       "      <td>2020-03-21</td>\n",
       "    </tr>\n",
       "  </tbody>\n",
       "</table>\n",
       "</div>"
      ],
      "text/plain": [
       "                             CustomerId   kilos  meses_desde_alta  \\\n",
       "0  273AFE21-79E8-CC3A-AAF6-08D0C0CE8984  31.120               101   \n",
       "1  D1C0D365-6970-C40B-A6E6-08D0BD70A3EB  94.061               102   \n",
       "\n",
       "   meses_activo  meses_desde_ult_compra  cantidad_compras  cantidad_promos  \\\n",
       "0           100                     101                58                2   \n",
       "1           100                     102                28               10   \n",
       "\n",
       "           categoria GenderCode  BirthDate fecha_activacion ultima_compra  \\\n",
       "0              PLATA     Female 1984-06-21       2013-12-03    2022-04-03   \n",
       "1  ALERTA DE CONSUMO       Male 1975-05-12       2013-11-29    2022-03-21   \n",
       "\n",
       "  fecha_baja  \n",
       "0 2020-04-03  \n",
       "1 2020-03-21  "
      ]
     },
     "execution_count": 133,
     "metadata": {},
     "output_type": "execute_result"
    }
   ],
   "source": [
    "df.head(2)"
   ]
  },
  {
   "cell_type": "code",
   "execution_count": 12,
   "id": "28c9bf6a",
   "metadata": {},
   "outputs": [],
   "source": [
    "df['ultima_compra'] = pd.to_datetime(df['ultima_compra'])\n",
    "df['fecha_baja'] = df['ultima_compra'] + pd.DateOffset(months=12)"
   ]
  },
  {
   "cell_type": "code",
   "execution_count": 30,
   "id": "c32955dd",
   "metadata": {},
   "outputs": [],
   "source": [
    "baja_por_mes=df[df.categoria == 'ABANDONO'].groupby(pd.Grouper(key='fecha_baja',axis=0,freq='M')).CustomerId.count().reset_index()"
   ]
  },
  {
   "cell_type": "code",
   "execution_count": 14,
   "id": "1290bb2c",
   "metadata": {},
   "outputs": [
    {
     "data": {
      "image/png": "[encoded data removed]",
      "text/plain": [
       "<Figure size 720x504 with 1 Axes>"
      ]
     },
     "metadata": {},
     "output_type": "display_data"
    }
   ],
   "source": [
    "fig, ax = plt.subplots(figsize=(10,7))\n",
    "ax.tick_params(axis='x', labelrotation = 30)\n",
    "plt.title('Bajas por mes')\n",
    "fig = sns.lineplot(data=baja_por_mes, y='CustomerId',x='fecha_baja')\n",
    "ax.tick_params(axis='y', labelsize=16)"
   ]
  },
  {
   "cell_type": "code",
   "execution_count": 17,
   "id": "669c6959",
   "metadata": {},
   "outputs": [],
   "source": [
    "baja_por_anio=df[df.categoria == 'ABANDONO'].groupby(pd.Grouper(key='fecha_baja',axis=0,freq='Y')).CustomerId.count().reset_index()"
   ]
  },
  {
   "cell_type": "code",
   "execution_count": 18,
   "id": "3118ac5f",
   "metadata": {},
   "outputs": [
    {
     "data": {
      "image/png": "[encoded data removed]",
      "text/plain": [
       "<Figure size 720x504 with 1 Axes>"
      ]
     },
     "metadata": {},
     "output_type": "display_data"
    }
   ],
   "source": [
    "fig, ax = plt.subplots(figsize=(10,7))\n",
    "ax.tick_params(axis='x', labelrotation = 30)\n",
    "plt.title('Bajas por mes')\n",
    "fig = sns.lineplot(data=baja_por_anio, y='CustomerId',x='fecha_baja')\n",
    "ax.tick_params(axis='y', labelsize=16)"
   ]
  },
  {
   "cell_type": "code",
   "execution_count": 31,
   "id": "96f008cc",
   "metadata": {},
   "outputs": [],
   "source": [
    "ultima_compra_por_mes=df[df.categoria == 'ABANDONO'].groupby(pd.Grouper(key='ultima_compra',axis=0,freq='M')).CustomerId.count().reset_index()"
   ]
  },
  {
   "cell_type": "code",
   "execution_count": 16,
   "id": "110b5e3a",
   "metadata": {},
   "outputs": [
    {
     "data": {
      "text/plain": [
       "Text(0.5, 0, '')"
      ]
     },
     "execution_count": 16,
     "metadata": {},
     "output_type": "execute_result"
    },
    {
     "data": {
      "image/png": "[encoded data removed]",
      "text/plain": [
       "<Figure size 720x360 with 1 Axes>"
      ]
     },
     "metadata": {},
     "output_type": "display_data"
    }
   ],
   "source": [
    "fig, ax = plt.subplots(figsize=(10,5))\n",
    "ax.tick_params(axis='x', labelrotation = 30)\n",
    "plt.title('', fontsize=22)\n",
    "fig = sns.lineplot(data=ultima_compra_por_mes, y='CustomerId',x='ultima_compra')\n",
    "ax.tick_params(axis='y', labelsize=16)\n",
    "ax.set_ylabel('Cantidad de socios',loc='center',fontsize=14)\n",
    "ax.set_xlabel('',loc='center',fontsize=14)"
   ]
  },
  {
   "cell_type": "code",
   "execution_count": 32,
   "id": "0978b66b",
   "metadata": {},
   "outputs": [
    {
     "data": {
      "text/html": [
       "<div>\n",
       "<style scoped>\n",
       "    .dataframe tbody tr th:only-of-type {\n",
       "        vertical-align: middle;\n",
       "    }\n",
       "\n",
       "    .dataframe tbody tr th {\n",
       "        vertical-align: top;\n",
       "    }\n",
       "\n",
       "    .dataframe thead th {\n",
       "        text-align: right;\n",
       "    }\n",
       "</style>\n",
       "<table border=\"1\" class=\"dataframe\">\n",
       "  <thead>\n",
       "    <tr style=\"text-align: right;\">\n",
       "      <th></th>\n",
       "      <th>fecha_activacion</th>\n",
       "      <th>socios_alta</th>\n",
       "    </tr>\n",
       "  </thead>\n",
       "  <tbody>\n",
       "    <tr>\n",
       "      <th>0</th>\n",
       "      <td>2013-11-30</td>\n",
       "      <td>119</td>\n",
       "    </tr>\n",
       "    <tr>\n",
       "      <th>1</th>\n",
       "      <td>2013-12-31</td>\n",
       "      <td>5445</td>\n",
       "    </tr>\n",
       "  </tbody>\n",
       "</table>\n",
       "</div>"
      ],
      "text/plain": [
       "  fecha_activacion  socios_alta\n",
       "0       2013-11-30          119\n",
       "1       2013-12-31         5445"
      ]
     },
     "execution_count": 32,
     "metadata": {},
     "output_type": "execute_result"
    }
   ],
   "source": [
    "df['fecha_activacion'] = pd.to_datetime(df.fecha_activacion)\n",
    "socios_activos_por_mes=df.groupby(pd.Grouper(key='fecha_activacion',axis=0,freq='M')).CustomerId.count().reset_index()\n",
    "socios_activos_por_mes['socios_alta'] = socios_activos_por_mes.CustomerId.cumsum()\n",
    "socios_activos_por_mes.drop(columns=['CustomerId'],inplace=True)\n",
    "socios_activos_por_mes.head(2)"
   ]
  },
  {
   "cell_type": "code",
   "execution_count": 33,
   "id": "8bb8afb8",
   "metadata": {},
   "outputs": [
    {
     "data": {
      "text/html": [
       "<div>\n",
       "<style scoped>\n",
       "    .dataframe tbody tr th:only-of-type {\n",
       "        vertical-align: middle;\n",
       "    }\n",
       "\n",
       "    .dataframe tbody tr th {\n",
       "        vertical-align: top;\n",
       "    }\n",
       "\n",
       "    .dataframe thead th {\n",
       "        text-align: right;\n",
       "    }\n",
       "</style>\n",
       "<table border=\"1\" class=\"dataframe\">\n",
       "  <thead>\n",
       "    <tr style=\"text-align: right;\">\n",
       "      <th></th>\n",
       "      <th>fecha_baja</th>\n",
       "      <th>CustomerId</th>\n",
       "    </tr>\n",
       "  </thead>\n",
       "  <tbody>\n",
       "    <tr>\n",
       "      <th>0</th>\n",
       "      <td>2014-11-30</td>\n",
       "      <td>1</td>\n",
       "    </tr>\n",
       "    <tr>\n",
       "      <th>1</th>\n",
       "      <td>2014-12-31</td>\n",
       "      <td>133</td>\n",
       "    </tr>\n",
       "  </tbody>\n",
       "</table>\n",
       "</div>"
      ],
      "text/plain": [
       "  fecha_baja  CustomerId\n",
       "0 2014-11-30           1\n",
       "1 2014-12-31         133"
      ]
     },
     "execution_count": 33,
     "metadata": {},
     "output_type": "execute_result"
    }
   ],
   "source": [
    "baja_por_mes.head(2)"
   ]
  },
  {
   "cell_type": "code",
   "execution_count": 34,
   "id": "3543d4a9",
   "metadata": {},
   "outputs": [
    {
     "data": {
      "text/html": [
       "<div>\n",
       "<style scoped>\n",
       "    .dataframe tbody tr th:only-of-type {\n",
       "        vertical-align: middle;\n",
       "    }\n",
       "\n",
       "    .dataframe tbody tr th {\n",
       "        vertical-align: top;\n",
       "    }\n",
       "\n",
       "    .dataframe thead th {\n",
       "        text-align: right;\n",
       "    }\n",
       "</style>\n",
       "<table border=\"1\" class=\"dataframe\">\n",
       "  <thead>\n",
       "    <tr style=\"text-align: right;\">\n",
       "      <th></th>\n",
       "      <th>fecha_baja</th>\n",
       "      <th>CustomerId</th>\n",
       "      <th>fecha_activacion</th>\n",
       "      <th>socios_alta</th>\n",
       "    </tr>\n",
       "  </thead>\n",
       "  <tbody>\n",
       "    <tr>\n",
       "      <th>0</th>\n",
       "      <td>2014-11-30</td>\n",
       "      <td>1</td>\n",
       "      <td>2014-11-30</td>\n",
       "      <td>38981.0</td>\n",
       "    </tr>\n",
       "    <tr>\n",
       "      <th>1</th>\n",
       "      <td>2014-12-31</td>\n",
       "      <td>133</td>\n",
       "      <td>2014-12-31</td>\n",
       "      <td>42715.0</td>\n",
       "    </tr>\n",
       "    <tr>\n",
       "      <th>2</th>\n",
       "      <td>2015-01-31</td>\n",
       "      <td>205</td>\n",
       "      <td>2015-01-31</td>\n",
       "      <td>52587.0</td>\n",
       "    </tr>\n",
       "    <tr>\n",
       "      <th>3</th>\n",
       "      <td>2015-02-28</td>\n",
       "      <td>314</td>\n",
       "      <td>2015-02-28</td>\n",
       "      <td>68296.0</td>\n",
       "    </tr>\n",
       "    <tr>\n",
       "      <th>4</th>\n",
       "      <td>2015-03-31</td>\n",
       "      <td>316</td>\n",
       "      <td>2015-03-31</td>\n",
       "      <td>90125.0</td>\n",
       "    </tr>\n",
       "  </tbody>\n",
       "</table>\n",
       "</div>"
      ],
      "text/plain": [
       "  fecha_baja  CustomerId fecha_activacion  socios_alta\n",
       "0 2014-11-30           1       2014-11-30      38981.0\n",
       "1 2014-12-31         133       2014-12-31      42715.0\n",
       "2 2015-01-31         205       2015-01-31      52587.0\n",
       "3 2015-02-28         314       2015-02-28      68296.0\n",
       "4 2015-03-31         316       2015-03-31      90125.0"
      ]
     },
     "execution_count": 34,
     "metadata": {},
     "output_type": "execute_result"
    }
   ],
   "source": [
    "baja_por_mes = baja_por_mes.merge(socios_activos_por_mes,left_on='fecha_baja',right_on='fecha_activacion',how='left')\n",
    "baja_por_mes.dropna(inplace=True)\n",
    "baja_por_mes.head(5)"
   ]
  },
  {
   "cell_type": "code",
   "execution_count": 36,
   "id": "e3f84795",
   "metadata": {},
   "outputs": [
    {
     "data": {
      "text/html": [
       "<div>\n",
       "<style scoped>\n",
       "    .dataframe tbody tr th:only-of-type {\n",
       "        vertical-align: middle;\n",
       "    }\n",
       "\n",
       "    .dataframe tbody tr th {\n",
       "        vertical-align: top;\n",
       "    }\n",
       "\n",
       "    .dataframe thead th {\n",
       "        text-align: right;\n",
       "    }\n",
       "</style>\n",
       "<table border=\"1\" class=\"dataframe\">\n",
       "  <thead>\n",
       "    <tr style=\"text-align: right;\">\n",
       "      <th></th>\n",
       "      <th>fecha_baja</th>\n",
       "      <th>socios_baja</th>\n",
       "      <th>socios_alta</th>\n",
       "      <th>tasa_abandono</th>\n",
       "    </tr>\n",
       "  </thead>\n",
       "  <tbody>\n",
       "    <tr>\n",
       "      <th>0</th>\n",
       "      <td>2014-11-30</td>\n",
       "      <td>1</td>\n",
       "      <td>38981.0</td>\n",
       "      <td>0.0</td>\n",
       "    </tr>\n",
       "    <tr>\n",
       "      <th>1</th>\n",
       "      <td>2014-12-31</td>\n",
       "      <td>133</td>\n",
       "      <td>42715.0</td>\n",
       "      <td>0.3</td>\n",
       "    </tr>\n",
       "    <tr>\n",
       "      <th>2</th>\n",
       "      <td>2015-01-31</td>\n",
       "      <td>205</td>\n",
       "      <td>52587.0</td>\n",
       "      <td>0.4</td>\n",
       "    </tr>\n",
       "    <tr>\n",
       "      <th>3</th>\n",
       "      <td>2015-02-28</td>\n",
       "      <td>314</td>\n",
       "      <td>68296.0</td>\n",
       "      <td>0.5</td>\n",
       "    </tr>\n",
       "    <tr>\n",
       "      <th>4</th>\n",
       "      <td>2015-03-31</td>\n",
       "      <td>316</td>\n",
       "      <td>90125.0</td>\n",
       "      <td>0.4</td>\n",
       "    </tr>\n",
       "  </tbody>\n",
       "</table>\n",
       "</div>"
      ],
      "text/plain": [
       "  fecha_baja  socios_baja  socios_alta  tasa_abandono\n",
       "0 2014-11-30            1      38981.0            0.0\n",
       "1 2014-12-31          133      42715.0            0.3\n",
       "2 2015-01-31          205      52587.0            0.4\n",
       "3 2015-02-28          314      68296.0            0.5\n",
       "4 2015-03-31          316      90125.0            0.4"
      ]
     },
     "execution_count": 36,
     "metadata": {},
     "output_type": "execute_result"
    }
   ],
   "source": [
    "baja_por_mes.drop(columns=['fecha_activacion'],inplace=True)\n",
    "baja_por_mes.columns=['fecha_baja', 'socios_baja', 'socios_alta']\n",
    "baja_por_mes['tasa_abandono'] = round(baja_por_mes.socios_baja/baja_por_mes.socios_alta*100,1)\n",
    "baja_por_mes.head()"
   ]
  },
  {
   "cell_type": "code",
   "execution_count": 37,
   "id": "95fd62ff",
   "metadata": {},
   "outputs": [
    {
     "data": {
      "text/plain": [
       "Text(0.5, 0, '')"
      ]
     },
     "execution_count": 37,
     "metadata": {},
     "output_type": "execute_result"
    },
    {
     "data": {
      "image/png": "[encoded data removed]",
      "text/plain": [
       "<Figure size 720x360 with 1 Axes>"
      ]
     },
     "metadata": {},
     "output_type": "display_data"
    }
   ],
   "source": [
    "fig, ax = plt.subplots(figsize=(10,5))\n",
    "ax.tick_params(axis='x', labelrotation = 30)\n",
    "plt.title('', fontsize=22)\n",
    "fig = sns.lineplot(data=baja_por_mes, y='tasa_abandono',x='fecha_baja',color='red')\n",
    "ax.tick_params(axis='y', labelsize=16)\n",
    "ax.set_ylabel('% Tasa de abandono',loc='center',fontsize=14)\n",
    "ax.set_xlabel('',loc='center',fontsize=14)"
   ]
  },
  {
   "cell_type": "code",
   "execution_count": 38,
   "id": "c06e3a6d",
   "metadata": {},
   "outputs": [
    {
     "name": "stdout",
     "output_type": "stream",
     "text": [
      "La tasa de abandono mensual promedio del Club Grido desde su creación es del: 0.45 %\n",
      "La tasa de abandono mensual promedio del Club Grido antes de la pandemia fue del : 0.28 %\n",
      "La tasa de abandono mensual promedio del Club Grido en la ultima temporada fue del : 0.71 %\n"
     ]
    }
   ],
   "source": [
    "print('La tasa de abandono mensual promedio del Club Grido desde su creación es del:',round(baja_por_mes.tasa_abandono.mean(),2),'%')\n",
    "print('La tasa de abandono mensual promedio del Club Grido antes de la pandemia fue del :',round(baja_por_mes[baja_por_mes.fecha_baja < dt.datetime(2020,3,15)].tasa_abandono.mean(),2),'%')\n",
    "print('La tasa de abandono mensual promedio del Club Grido en la ultima temporada fue del :',round(baja_por_mes[(baja_por_mes.fecha_baja >= dt.datetime(2021,5,1)) & (baja_por_mes.fecha_baja < dt.datetime(2022,5,1))].tasa_abandono.mean(),2),'%')"
   ]
  },
  {
   "cell_type": "code",
   "execution_count": 39,
   "id": "85d3c6be",
   "metadata": {},
   "outputs": [
    {
     "data": {
      "text/html": [
       "<div>\n",
       "<style scoped>\n",
       "    .dataframe tbody tr th:only-of-type {\n",
       "        vertical-align: middle;\n",
       "    }\n",
       "\n",
       "    .dataframe tbody tr th {\n",
       "        vertical-align: top;\n",
       "    }\n",
       "\n",
       "    .dataframe thead th {\n",
       "        text-align: right;\n",
       "    }\n",
       "</style>\n",
       "<table border=\"1\" class=\"dataframe\">\n",
       "  <thead>\n",
       "    <tr style=\"text-align: right;\">\n",
       "      <th></th>\n",
       "      <th>fecha_baja</th>\n",
       "      <th>socios_baja</th>\n",
       "      <th>socios_alta</th>\n",
       "      <th>tasa_abandono</th>\n",
       "    </tr>\n",
       "  </thead>\n",
       "  <tbody>\n",
       "    <tr>\n",
       "      <th>89</th>\n",
       "      <td>2022-04-30</td>\n",
       "      <td>37180</td>\n",
       "      <td>4533309.0</td>\n",
       "      <td>0.8</td>\n",
       "    </tr>\n",
       "    <tr>\n",
       "      <th>90</th>\n",
       "      <td>2022-05-31</td>\n",
       "      <td>26962</td>\n",
       "      <td>4556648.0</td>\n",
       "      <td>0.6</td>\n",
       "    </tr>\n",
       "    <tr>\n",
       "      <th>91</th>\n",
       "      <td>2022-06-30</td>\n",
       "      <td>587</td>\n",
       "      <td>4556732.0</td>\n",
       "      <td>0.0</td>\n",
       "    </tr>\n",
       "  </tbody>\n",
       "</table>\n",
       "</div>"
      ],
      "text/plain": [
       "   fecha_baja  socios_baja  socios_alta  tasa_abandono\n",
       "89 2022-04-30        37180    4533309.0            0.8\n",
       "90 2022-05-31        26962    4556648.0            0.6\n",
       "91 2022-06-30          587    4556732.0            0.0"
      ]
     },
     "execution_count": 39,
     "metadata": {},
     "output_type": "execute_result"
    }
   ],
   "source": [
    "baja_por_mes.tail(3)"
   ]
  },
  {
   "cell_type": "code",
   "execution_count": 40,
   "id": "b15cf491",
   "metadata": {},
   "outputs": [],
   "source": [
    "baja_por_mes['temporada']= np.where(baja_por_mes.fecha_baja.dt.month<5,\\\n",
    "                                    [' '.join([str(x), '-', str(y)]) for x, y in zip((baja_por_mes.fecha_baja.dt.year-1), (baja_por_mes.fecha_baja.dt.year))],\\\n",
    "                                   [' '.join([str(x), '-', str(y)]) for x, y in zip((baja_por_mes.fecha_baja.dt.year), (baja_por_mes.fecha_baja.dt.year+1))])"
   ]
  },
  {
   "cell_type": "code",
   "execution_count": 42,
   "id": "cc2f8d2e",
   "metadata": {},
   "outputs": [
    {
     "data": {
      "text/html": [
       "<div>\n",
       "<style scoped>\n",
       "    .dataframe tbody tr th:only-of-type {\n",
       "        vertical-align: middle;\n",
       "    }\n",
       "\n",
       "    .dataframe tbody tr th {\n",
       "        vertical-align: top;\n",
       "    }\n",
       "\n",
       "    .dataframe thead tr th {\n",
       "        text-align: left;\n",
       "    }\n",
       "</style>\n",
       "<table border=\"1\" class=\"dataframe\">\n",
       "  <thead>\n",
       "    <tr>\n",
       "      <th></th>\n",
       "      <th>temporada</th>\n",
       "      <th>socios_baja</th>\n",
       "      <th colspan=\"2\" halign=\"left\">socios_alta</th>\n",
       "    </tr>\n",
       "    <tr>\n",
       "      <th></th>\n",
       "      <th></th>\n",
       "      <th>sum</th>\n",
       "      <th>mean</th>\n",
       "      <th>max</th>\n",
       "    </tr>\n",
       "  </thead>\n",
       "  <tbody>\n",
       "    <tr>\n",
       "      <th>0</th>\n",
       "      <td>2014 - 2015</td>\n",
       "      <td>1193</td>\n",
       "      <td>6.727033e+04</td>\n",
       "      <td>110918.0</td>\n",
       "    </tr>\n",
       "    <tr>\n",
       "      <th>1</th>\n",
       "      <td>2015 - 2016</td>\n",
       "      <td>2707</td>\n",
       "      <td>5.300248e+05</td>\n",
       "      <td>974831.0</td>\n",
       "    </tr>\n",
       "    <tr>\n",
       "      <th>2</th>\n",
       "      <td>2016 - 2017</td>\n",
       "      <td>38325</td>\n",
       "      <td>1.470630e+06</td>\n",
       "      <td>1919882.0</td>\n",
       "    </tr>\n",
       "    <tr>\n",
       "      <th>3</th>\n",
       "      <td>2017 - 2018</td>\n",
       "      <td>82166</td>\n",
       "      <td>2.345408e+06</td>\n",
       "      <td>2764308.0</td>\n",
       "    </tr>\n",
       "    <tr>\n",
       "      <th>4</th>\n",
       "      <td>2018 - 2019</td>\n",
       "      <td>153203</td>\n",
       "      <td>3.092902e+06</td>\n",
       "      <td>3371036.0</td>\n",
       "    </tr>\n",
       "  </tbody>\n",
       "</table>\n",
       "</div>"
      ],
      "text/plain": [
       "     temporada socios_baja   socios_alta           \n",
       "                       sum          mean        max\n",
       "0  2014 - 2015        1193  6.727033e+04   110918.0\n",
       "1  2015 - 2016        2707  5.300248e+05   974831.0\n",
       "2  2016 - 2017       38325  1.470630e+06  1919882.0\n",
       "3  2017 - 2018       82166  2.345408e+06  2764308.0\n",
       "4  2018 - 2019      153203  3.092902e+06  3371036.0"
      ]
     },
     "execution_count": 42,
     "metadata": {},
     "output_type": "execute_result"
    }
   ],
   "source": [
    "bajas_por_temp = baja_por_mes.groupby('temporada',as_index=False).agg({'socios_baja':'sum','socios_alta':['mean','max']})\n",
    "bajas_por_temp.head()"
   ]
  },
  {
   "cell_type": "code",
   "execution_count": 45,
   "id": "bb0f06e5",
   "metadata": {},
   "outputs": [],
   "source": [
    "#bajas_por_temp.columns.droplevel(0)\n",
    "bajas_por_temp.columns = ['temporada','socios_baja','prom_alta','max_alta']"
   ]
  },
  {
   "cell_type": "code",
   "execution_count": 47,
   "id": "f58ae51e",
   "metadata": {},
   "outputs": [
    {
     "data": {
      "text/html": [
       "<div>\n",
       "<style scoped>\n",
       "    .dataframe tbody tr th:only-of-type {\n",
       "        vertical-align: middle;\n",
       "    }\n",
       "\n",
       "    .dataframe tbody tr th {\n",
       "        vertical-align: top;\n",
       "    }\n",
       "\n",
       "    .dataframe thead th {\n",
       "        text-align: right;\n",
       "    }\n",
       "</style>\n",
       "<table border=\"1\" class=\"dataframe\">\n",
       "  <thead>\n",
       "    <tr style=\"text-align: right;\">\n",
       "      <th></th>\n",
       "      <th>temporada</th>\n",
       "      <th>socios_baja</th>\n",
       "      <th>prom_alta</th>\n",
       "      <th>max_alta</th>\n",
       "      <th>churn_anual_mean</th>\n",
       "      <th>churn_anual_max</th>\n",
       "    </tr>\n",
       "  </thead>\n",
       "  <tbody>\n",
       "    <tr>\n",
       "      <th>0</th>\n",
       "      <td>2014 - 2015</td>\n",
       "      <td>1193</td>\n",
       "      <td>6.727033e+04</td>\n",
       "      <td>110918.0</td>\n",
       "      <td>1.8</td>\n",
       "      <td>1.1</td>\n",
       "    </tr>\n",
       "    <tr>\n",
       "      <th>1</th>\n",
       "      <td>2015 - 2016</td>\n",
       "      <td>2707</td>\n",
       "      <td>5.300248e+05</td>\n",
       "      <td>974831.0</td>\n",
       "      <td>0.5</td>\n",
       "      <td>0.3</td>\n",
       "    </tr>\n",
       "    <tr>\n",
       "      <th>2</th>\n",
       "      <td>2016 - 2017</td>\n",
       "      <td>38325</td>\n",
       "      <td>1.470630e+06</td>\n",
       "      <td>1919882.0</td>\n",
       "      <td>2.6</td>\n",
       "      <td>2.0</td>\n",
       "    </tr>\n",
       "    <tr>\n",
       "      <th>3</th>\n",
       "      <td>2017 - 2018</td>\n",
       "      <td>82166</td>\n",
       "      <td>2.345408e+06</td>\n",
       "      <td>2764308.0</td>\n",
       "      <td>3.5</td>\n",
       "      <td>3.0</td>\n",
       "    </tr>\n",
       "    <tr>\n",
       "      <th>4</th>\n",
       "      <td>2018 - 2019</td>\n",
       "      <td>153203</td>\n",
       "      <td>3.092902e+06</td>\n",
       "      <td>3371036.0</td>\n",
       "      <td>5.0</td>\n",
       "      <td>4.5</td>\n",
       "    </tr>\n",
       "  </tbody>\n",
       "</table>\n",
       "</div>"
      ],
      "text/plain": [
       "     temporada  socios_baja     prom_alta   max_alta  churn_anual_mean  \\\n",
       "0  2014 - 2015         1193  6.727033e+04   110918.0               1.8   \n",
       "1  2015 - 2016         2707  5.300248e+05   974831.0               0.5   \n",
       "2  2016 - 2017        38325  1.470630e+06  1919882.0               2.6   \n",
       "3  2017 - 2018        82166  2.345408e+06  2764308.0               3.5   \n",
       "4  2018 - 2019       153203  3.092902e+06  3371036.0               5.0   \n",
       "\n",
       "   churn_anual_max  \n",
       "0              1.1  \n",
       "1              0.3  \n",
       "2              2.0  \n",
       "3              3.0  \n",
       "4              4.5  "
      ]
     },
     "execution_count": 47,
     "metadata": {},
     "output_type": "execute_result"
    }
   ],
   "source": [
    "bajas_por_temp['churn_anual_mean'] = round(bajas_por_temp.socios_baja / bajas_por_temp.prom_alta * 100,1)\n",
    "bajas_por_temp['churn_anual_max'] = round(bajas_por_temp.socios_baja / bajas_por_temp.max_alta * 100,1)\n",
    "bajas_por_temp.head()"
   ]
  },
  {
   "cell_type": "code",
   "execution_count": 49,
   "id": "eb59209f",
   "metadata": {},
   "outputs": [
    {
     "data": {
      "text/plain": [
       "Text(0.5, 0, '')"
      ]
     },
     "execution_count": 49,
     "metadata": {},
     "output_type": "execute_result"
    },
    {
     "data": {
      "image/png": "[encoded data removed]",
      "text/plain": [
       "<Figure size 720x360 with 1 Axes>"
      ]
     },
     "metadata": {},
     "output_type": "display_data"
    }
   ],
   "source": [
    "fig, ax = plt.subplots(figsize=(10,5))\n",
    "ax.tick_params(axis='x', labelrotation = 30)\n",
    "plt.title('', fontsize=22)\n",
    "fig = sns.lineplot(data=bajas_por_temp, y='churn_anual_mean',x='temporada',color='red')\n",
    "ax.tick_params(axis='y', labelsize=16)\n",
    "ax.set_ylabel('% Tasa de abandono',loc='center',fontsize=14)\n",
    "ax.set_xlabel('',loc='center',fontsize=14)"
   ]
  },
  {
   "cell_type": "code",
   "execution_count": 60,
   "id": "8fd7059f",
   "metadata": {},
   "outputs": [
    {
     "data": {
      "text/plain": [
       "Text(0.5, 0, '')"
      ]
     },
     "execution_count": 60,
     "metadata": {},
     "output_type": "execute_result"
    },
    {
     "data": {
      "image/png": "[encoded data removed]",
      "text/plain": [
       "<Figure size 720x360 with 1 Axes>"
      ]
     },
     "metadata": {},
     "output_type": "display_data"
    }
   ],
   "source": [
    "fig, ax = plt.subplots(figsize=(10,5))\n",
    "ax.tick_params(axis='x', labelrotation = 30)\n",
    "plt.title('', fontsize=22)\n",
    "fig = sns.lineplot(data=bajas_por_temp[~bajas_por_temp.temporada.str.contains('2022 - 2023')], y='churn_anual_max',x='temporada',color='red')\n",
    "ax.tick_params(axis='y', labelsize=16)\n",
    "ax.set_ylabel('% Tasa de abandono',loc='center',fontsize=14)\n",
    "ax.set_xlabel('',loc='center',fontsize=14)"
   ]
  },
  {
   "cell_type": "code",
   "execution_count": 56,
   "id": "aacf4ad4",
   "metadata": {},
   "outputs": [
    {
     "data": {
      "text/html": [
       "<div>\n",
       "<style scoped>\n",
       "    .dataframe tbody tr th:only-of-type {\n",
       "        vertical-align: middle;\n",
       "    }\n",
       "\n",
       "    .dataframe tbody tr th {\n",
       "        vertical-align: top;\n",
       "    }\n",
       "\n",
       "    .dataframe thead th {\n",
       "        text-align: right;\n",
       "    }\n",
       "</style>\n",
       "<table border=\"1\" class=\"dataframe\">\n",
       "  <thead>\n",
       "    <tr style=\"text-align: right;\">\n",
       "      <th></th>\n",
       "      <th>temporada</th>\n",
       "      <th>socios_baja</th>\n",
       "      <th>prom_alta</th>\n",
       "      <th>max_alta</th>\n",
       "      <th>churn_anual_mean</th>\n",
       "      <th>churn_anual_max</th>\n",
       "    </tr>\n",
       "  </thead>\n",
       "  <tbody>\n",
       "    <tr>\n",
       "      <th>0</th>\n",
       "      <td>2014 - 2015</td>\n",
       "      <td>1193</td>\n",
       "      <td>6.727033e+04</td>\n",
       "      <td>110918.0</td>\n",
       "      <td>1.8</td>\n",
       "      <td>1.1</td>\n",
       "    </tr>\n",
       "    <tr>\n",
       "      <th>1</th>\n",
       "      <td>2015 - 2016</td>\n",
       "      <td>2707</td>\n",
       "      <td>5.300248e+05</td>\n",
       "      <td>974831.0</td>\n",
       "      <td>0.5</td>\n",
       "      <td>0.3</td>\n",
       "    </tr>\n",
       "    <tr>\n",
       "      <th>2</th>\n",
       "      <td>2016 - 2017</td>\n",
       "      <td>38325</td>\n",
       "      <td>1.470630e+06</td>\n",
       "      <td>1919882.0</td>\n",
       "      <td>2.6</td>\n",
       "      <td>2.0</td>\n",
       "    </tr>\n",
       "    <tr>\n",
       "      <th>3</th>\n",
       "      <td>2017 - 2018</td>\n",
       "      <td>82166</td>\n",
       "      <td>2.345408e+06</td>\n",
       "      <td>2764308.0</td>\n",
       "      <td>3.5</td>\n",
       "      <td>3.0</td>\n",
       "    </tr>\n",
       "    <tr>\n",
       "      <th>4</th>\n",
       "      <td>2018 - 2019</td>\n",
       "      <td>153203</td>\n",
       "      <td>3.092902e+06</td>\n",
       "      <td>3371036.0</td>\n",
       "      <td>5.0</td>\n",
       "      <td>4.5</td>\n",
       "    </tr>\n",
       "    <tr>\n",
       "      <th>5</th>\n",
       "      <td>2019 - 2020</td>\n",
       "      <td>233832</td>\n",
       "      <td>3.655838e+06</td>\n",
       "      <td>3918720.0</td>\n",
       "      <td>6.4</td>\n",
       "      <td>6.0</td>\n",
       "    </tr>\n",
       "    <tr>\n",
       "      <th>6</th>\n",
       "      <td>2020 - 2021</td>\n",
       "      <td>525427</td>\n",
       "      <td>4.038469e+06</td>\n",
       "      <td>4190225.0</td>\n",
       "      <td>13.0</td>\n",
       "      <td>12.5</td>\n",
       "    </tr>\n",
       "    <tr>\n",
       "      <th>7</th>\n",
       "      <td>2021 - 2022</td>\n",
       "      <td>374533</td>\n",
       "      <td>4.365478e+06</td>\n",
       "      <td>4533309.0</td>\n",
       "      <td>8.6</td>\n",
       "      <td>8.3</td>\n",
       "    </tr>\n",
       "    <tr>\n",
       "      <th>8</th>\n",
       "      <td>2022 - 2023</td>\n",
       "      <td>27549</td>\n",
       "      <td>4.556690e+06</td>\n",
       "      <td>4556732.0</td>\n",
       "      <td>0.6</td>\n",
       "      <td>0.6</td>\n",
       "    </tr>\n",
       "  </tbody>\n",
       "</table>\n",
       "</div>"
      ],
      "text/plain": [
       "     temporada  socios_baja     prom_alta   max_alta  churn_anual_mean  \\\n",
       "0  2014 - 2015         1193  6.727033e+04   110918.0               1.8   \n",
       "1  2015 - 2016         2707  5.300248e+05   974831.0               0.5   \n",
       "2  2016 - 2017        38325  1.470630e+06  1919882.0               2.6   \n",
       "3  2017 - 2018        82166  2.345408e+06  2764308.0               3.5   \n",
       "4  2018 - 2019       153203  3.092902e+06  3371036.0               5.0   \n",
       "5  2019 - 2020       233832  3.655838e+06  3918720.0               6.4   \n",
       "6  2020 - 2021       525427  4.038469e+06  4190225.0              13.0   \n",
       "7  2021 - 2022       374533  4.365478e+06  4533309.0               8.6   \n",
       "8  2022 - 2023        27549  4.556690e+06  4556732.0               0.6   \n",
       "\n",
       "   churn_anual_max  \n",
       "0              1.1  \n",
       "1              0.3  \n",
       "2              2.0  \n",
       "3              3.0  \n",
       "4              4.5  \n",
       "5              6.0  \n",
       "6             12.5  \n",
       "7              8.3  \n",
       "8              0.6  "
      ]
     },
     "execution_count": 56,
     "metadata": {},
     "output_type": "execute_result"
    }
   ],
   "source": [
    "bajas_por_temp"
   ]
  },
  {
   "cell_type": "code",
   "execution_count": null,
   "id": "de941e9e",
   "metadata": {},
   "outputs": [],
   "source": []
  }
 ],
 "metadata": {
  "kernelspec": {
   "display_name": "Python 3",
   "language": "python",
   "name": "python3"
  },
  "language_info": {
   "codemirror_mode": {
    "name": "ipython",
    "version": 3
   },
   "file_extension": ".py",
   "mimetype": "text/x-python",
   "name": "python",
   "nbconvert_exporter": "python",
   "pygments_lexer": "ipython3",
   "version": "3.8.8"
  }
 },
 "nbformat": 4,
 "nbformat_minor": 5
}
