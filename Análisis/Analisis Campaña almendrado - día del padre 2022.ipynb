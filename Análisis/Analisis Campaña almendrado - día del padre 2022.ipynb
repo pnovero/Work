{
 "cells": [
  {
   "cell_type": "markdown",
   "id": "8e07321a",
   "metadata": {},
   "source": [
    "##### En este notebook  hago Análisis exploratorio de datos sobre el canje de un producto en particular y obtengo conclusiones al respecto"
   ]
  },
  {
   "cell_type": "markdown",
   "id": "8a446ec4",
   "metadata": {},
   "source": [
    "Nos centraremos en la campaña promocional de canje del almendrado realizada entre el 10/06 y el 19/06 por motivo del día del padre del 2022.\n",
    "\n",
    "Dudas a resolver:\n",
    "- Cuantos canjes se hicieron? --\n",
    "- Cuantos socios canjearon? --\n",
    "- Qué días se canjeó más? --\n",
    "- Cuantas franquicias realizaron canjes? Cuanto sobre el total? --\n",
    "\n",
    "\n",
    "- El canje fue acompañado de otros productos? --\n",
    "- Comparación con canje de producto similar, con el total de canjes. --\n",
    "- Cómo canjearon los segmentos?\n",
    "- El canje fue acompañado de ventas?"
   ]
  },
  {
   "cell_type": "code",
   "execution_count": 53,
   "id": "0d3f1d15",
   "metadata": {},
   "outputs": [],
   "source": [
    "import pandas as pd\n",
    "import numpy as np\n",
    "import matplotlib.pyplot as plt\n",
    "import seaborn as sns\n",
    "import datetime as dt\n",
    "\n",
    "import pyodbc\n",
    "import math\n",
    "import os\n",
    "\n",
    "import sidetable as stb\n",
    "import glob\n",
    "\n",
    "pd.set_option('display.max_rows', 10000)\n",
    "pd.set_option('display.max_columns', 10000)"
   ]
  },
  {
   "cell_type": "code",
   "execution_count": 2,
   "id": "67222e41",
   "metadata": {
    "scrolled": true
   },
   "outputs": [
    {
     "data": {
      "text/html": [
       "<div>\n",
       "<style scoped>\n",
       "    .dataframe tbody tr th:only-of-type {\n",
       "        vertical-align: middle;\n",
       "    }\n",
       "\n",
       "    .dataframe tbody tr th {\n",
       "        vertical-align: top;\n",
       "    }\n",
       "\n",
       "    .dataframe thead th {\n",
       "        text-align: right;\n",
       "    }\n",
       "</style>\n",
       "<table border=\"1\" class=\"dataframe\">\n",
       "  <thead>\n",
       "    <tr style=\"text-align: right;\">\n",
       "      <th></th>\n",
       "      <th>ExchangeId</th>\n",
       "      <th>CustomerId</th>\n",
       "      <th>Fecha</th>\n",
       "      <th>Amount</th>\n",
       "      <th>ProductId</th>\n",
       "      <th>ProductName</th>\n",
       "      <th>BranchOfficeId</th>\n",
       "    </tr>\n",
       "  </thead>\n",
       "  <tbody>\n",
       "    <tr>\n",
       "      <th>0</th>\n",
       "      <td>4542414</td>\n",
       "      <td>2F02F3CC-0222-C085-4246-08D51BC812DE</td>\n",
       "      <td>2022-06-11</td>\n",
       "      <td>1</td>\n",
       "      <td>56</td>\n",
       "      <td>Almendrado x8U.</td>\n",
       "      <td>0C5B1895-92EE-C4B8-2791-08D52AA72E37</td>\n",
       "    </tr>\n",
       "    <tr>\n",
       "      <th>1</th>\n",
       "      <td>4592409</td>\n",
       "      <td>6AB7E336-60E1-C824-CB13-08D432AC4B1B</td>\n",
       "      <td>2022-06-19</td>\n",
       "      <td>1</td>\n",
       "      <td>56</td>\n",
       "      <td>Almendrado x8U.</td>\n",
       "      <td>97238761-4EB7-CF0E-ACA4-08D1FFD89B51</td>\n",
       "    </tr>\n",
       "    <tr>\n",
       "      <th>2</th>\n",
       "      <td>4542850</td>\n",
       "      <td>A3C3ACF1-1607-C08D-472F-08D50A8F7E4C</td>\n",
       "      <td>2022-06-11</td>\n",
       "      <td>1</td>\n",
       "      <td>243</td>\n",
       "      <td>Yogurt Helado Frutilla Sin Tacc xU.</td>\n",
       "      <td>A60F83FF-0D43-C4EB-9E57-08D24690BE0B</td>\n",
       "    </tr>\n",
       "    <tr>\n",
       "      <th>3</th>\n",
       "      <td>4585536</td>\n",
       "      <td>2642926C-5694-CD40-8EF5-08D77C2CCB0E</td>\n",
       "      <td>2022-06-18</td>\n",
       "      <td>1</td>\n",
       "      <td>32</td>\n",
       "      <td>Grido Batido</td>\n",
       "      <td>D71DD0A3-47AD-C0B8-EFDB-08D2B20AF292</td>\n",
       "    </tr>\n",
       "    <tr>\n",
       "      <th>4</th>\n",
       "      <td>4543275</td>\n",
       "      <td>1BDEADC6-8537-C6AD-C40D-08D933508F63</td>\n",
       "      <td>2022-06-11</td>\n",
       "      <td>1</td>\n",
       "      <td>56</td>\n",
       "      <td>Almendrado x8U.</td>\n",
       "      <td>C5C5AFD8-9591-CBE2-BF78-08D2660B27B5</td>\n",
       "    </tr>\n",
       "  </tbody>\n",
       "</table>\n",
       "</div>"
      ],
      "text/plain": [
       "   ExchangeId                            CustomerId       Fecha  Amount  \\\n",
       "0     4542414  2F02F3CC-0222-C085-4246-08D51BC812DE  2022-06-11       1   \n",
       "1     4592409  6AB7E336-60E1-C824-CB13-08D432AC4B1B  2022-06-19       1   \n",
       "2     4542850  A3C3ACF1-1607-C08D-472F-08D50A8F7E4C  2022-06-11       1   \n",
       "3     4585536  2642926C-5694-CD40-8EF5-08D77C2CCB0E  2022-06-18       1   \n",
       "4     4543275  1BDEADC6-8537-C6AD-C40D-08D933508F63  2022-06-11       1   \n",
       "\n",
       "   ProductId                          ProductName  \\\n",
       "0         56                      Almendrado x8U.   \n",
       "1         56                      Almendrado x8U.   \n",
       "2        243  Yogurt Helado Frutilla Sin Tacc xU.   \n",
       "3         32                         Grido Batido   \n",
       "4         56                      Almendrado x8U.   \n",
       "\n",
       "                         BranchOfficeId  \n",
       "0  0C5B1895-92EE-C4B8-2791-08D52AA72E37  \n",
       "1  97238761-4EB7-CF0E-ACA4-08D1FFD89B51  \n",
       "2  A60F83FF-0D43-C4EB-9E57-08D24690BE0B  \n",
       "3  D71DD0A3-47AD-C0B8-EFDB-08D2B20AF292  \n",
       "4  C5C5AFD8-9591-CBE2-BF78-08D2660B27B5  "
      ]
     },
     "execution_count": 2,
     "metadata": {},
     "output_type": "execute_result"
    }
   ],
   "source": [
    "DB = {'servername': '',\n",
    "      'database': '',\n",
    "      'usuario' :'',\n",
    "      'contraseña':'',\n",
    "      'Encrypt':'yes',\n",
    "      'TrustServerCertificate':'no',\n",
    "      'Connection Timeout':'30'}\n",
    "\n",
    "# create the connection\n",
    "conn = pyodbc.connect('DRIVER={ODBC Driver 17 for SQL Server};SERVER=' + DB['servername'] + ';DATABASE=' + DB['database'] +\\\n",
    "                      ';UID=' + DB['usuario'] + ';PWD='+ DB['contraseña'] + ';Encrypt=yes;TrustServerCertificate=no;Connection Timeout=30')\n",
    "\n",
    "# query db\n",
    "sql = \"\"\"\n",
    "\n",
    "SELECT e.ExchangeId, e.CustomerId, Convert(DATE, e.ExchangeDate) 'Fecha', e.Amount, e.ProductId, e.ProductName, e.BranchOfficeId\n",
    "FROM dbo.Exchange e\n",
    "WHERE e.ExchangeDate BETWEEN '2022-06-11' AND '2022-06-20'\n",
    "\"\"\"\n",
    "e = pd.read_sql(sql, conn)\n",
    "e.head()"
   ]
  },
  {
   "cell_type": "code",
   "execution_count": 4,
   "id": "6f99f6c3",
   "metadata": {},
   "outputs": [
    {
     "name": "stdout",
     "output_type": "stream",
     "text": [
      "Socios que canjearon Almendrado: 42119\n",
      "Cantidad de almendrados canjeados: 42647\n",
      "minima fecha: 2022-06-11\n",
      "maxima fecha: 2022-06-19\n",
      "Franquicias que canjearon Almendrado: 1546\n",
      "Participación de canjes Almendrado sobre el total de canjes durante la campaña: 67.2 %\n"
     ]
    }
   ],
   "source": [
    "print('Socios que canjearon Almendrado:', e[e.ProductId == 56].CustomerId.nunique())\n",
    "print('Cantidad de almendrados canjeados:', e[e.ProductId == 56].Amount.sum())\n",
    "print('minima fecha:', e['Fecha'].min())\n",
    "print('maxima fecha:', e['Fecha'].max())\n",
    "print('Franquicias que canjearon Almendrado:', e[e.ProductId == 56].BranchOfficeId.nunique())\n",
    "print('Participación de canjes Almendrado sobre el total de canjes durante la campaña:',\n",
    "      round(e[(e.ProductId == 56)].ExchangeId.nunique()/e.ExchangeId.nunique()*100,1),'%')"
   ]
  },
  {
   "cell_type": "code",
   "execution_count": 102,
   "id": "f16c2d07",
   "metadata": {},
   "outputs": [
    {
     "data": {
      "text/plain": [
       "<Figure size 432x288 with 0 Axes>"
      ]
     },
     "metadata": {},
     "output_type": "display_data"
    }
   ],
   "source": [
    "sns.set(rc={\"axes.facecolor\":\"#E8E6E1\",\"figure.facecolor\":\"#E8E6E1\"})\n",
    "sns.despine()"
   ]
  },
  {
   "cell_type": "markdown",
   "id": "fb8ca3e8",
   "metadata": {},
   "source": [
    "### Evolucion de la campaña"
   ]
  },
  {
   "cell_type": "markdown",
   "id": "6e46f428",
   "metadata": {},
   "source": [
    "Evolución en cantidad de canjes realizados"
   ]
  },
  {
   "cell_type": "code",
   "execution_count": 23,
   "id": "9204dfe8",
   "metadata": {},
   "outputs": [
    {
     "data": {
      "image/png": "[encoded data removed]",
      "text/plain": [
       "<Figure size 1080x360 with 1 Axes>"
      ]
     },
     "metadata": {},
     "output_type": "display_data"
    }
   ],
   "source": [
    "X= e[e.ProductId == 56].groupby(\"Fecha\",as_index=False).ExchangeId.nunique()\n",
    "X['dia'] = [i for i in range(1,10)]\n",
    "fig, ax = plt.subplots(figsize=(15,5))\n",
    "ax.tick_params(axis='x', labelrotation = 30)\n",
    "ax.set_ylabel('Cantidad de canjes',fontsize=14)\n",
    "ax.set_xlabel(' ')\n",
    "ax.set_title('Canjes \"Almendrado x 8 ud.\" por día durante la campaña',fontsize=16,loc='center')\n",
    "plt.ylim(0,12000)\n",
    "fig = sns.lineplot(data= X, x= \"Fecha\",y= \"ExchangeId\",marker='o')\n"
   ]
  },
  {
   "cell_type": "markdown",
   "id": "a9a6cfc3",
   "metadata": {},
   "source": [
    "Participación sobre el total de canjes"
   ]
  },
  {
   "cell_type": "code",
   "execution_count": 7,
   "id": "0874ac51",
   "metadata": {
    "scrolled": false
   },
   "outputs": [
    {
     "data": {
      "text/html": [
       "<div>\n",
       "<style scoped>\n",
       "    .dataframe tbody tr th:only-of-type {\n",
       "        vertical-align: middle;\n",
       "    }\n",
       "\n",
       "    .dataframe tbody tr th {\n",
       "        vertical-align: top;\n",
       "    }\n",
       "\n",
       "    .dataframe thead th {\n",
       "        text-align: right;\n",
       "    }\n",
       "</style>\n",
       "<table border=\"1\" class=\"dataframe\">\n",
       "  <thead>\n",
       "    <tr style=\"text-align: right;\">\n",
       "      <th></th>\n",
       "      <th>Fecha</th>\n",
       "      <th>canjes</th>\n",
       "    </tr>\n",
       "  </thead>\n",
       "  <tbody>\n",
       "    <tr>\n",
       "      <th>0</th>\n",
       "      <td>2022-05-29</td>\n",
       "      <td>432</td>\n",
       "    </tr>\n",
       "    <tr>\n",
       "      <th>1</th>\n",
       "      <td>2022-06-01</td>\n",
       "      <td>116</td>\n",
       "    </tr>\n",
       "    <tr>\n",
       "      <th>2</th>\n",
       "      <td>2022-05-30</td>\n",
       "      <td>89</td>\n",
       "    </tr>\n",
       "    <tr>\n",
       "      <th>3</th>\n",
       "      <td>2022-06-03</td>\n",
       "      <td>156</td>\n",
       "    </tr>\n",
       "    <tr>\n",
       "      <th>4</th>\n",
       "      <td>2022-06-02</td>\n",
       "      <td>133</td>\n",
       "    </tr>\n",
       "  </tbody>\n",
       "</table>\n",
       "</div>"
      ],
      "text/plain": [
       "        Fecha  canjes\n",
       "0  2022-05-29     432\n",
       "1  2022-06-01     116\n",
       "2  2022-05-30      89\n",
       "3  2022-06-03     156\n",
       "4  2022-06-02     133"
      ]
     },
     "execution_count": 7,
     "metadata": {},
     "output_type": "execute_result"
    }
   ],
   "source": [
    "DB = {'servername': '',\n",
    "      'database': '',\n",
    "      'usuario' :'',\n",
    "      'contraseña':'',\n",
    "      'Encrypt':'yes',\n",
    "      'TrustServerCertificate':'no',\n",
    "      'Connection Timeout':'30'}\n",
    "\n",
    "# create the connection\n",
    "conn = pyodbc.connect('DRIVER={ODBC Driver 17 for SQL Server};SERVER=' + DB['servername'] + ';DATABASE=' + DB['database'] +\\\n",
    "                      ';UID=' + DB['usuario'] + ';PWD='+ DB['contraseña'] + ';Encrypt=yes;TrustServerCertificate=no;Connection Timeout=30')\n",
    "\n",
    "# query db\n",
    "sql = \"\"\"\n",
    "\n",
    "SELECT Convert(DATE, e.ExchangeDate) 'Fecha',COUNT(DISTINCT e.ExchangeId) 'canjes'\n",
    "FROM dbo.Exchange e\n",
    "WHERE e.ExchangeDate BETWEEN '2022-05-27' AND '2022-06-05'\n",
    "AND e.ProductId = 56\n",
    "GROUP BY Convert(DATE, e.ExchangeDate)\n",
    "\"\"\"\n",
    "e_anterior = pd.read_sql(sql, conn)\n",
    "e_anterior.head()"
   ]
  },
  {
   "cell_type": "markdown",
   "id": "b3646ce2",
   "metadata": {},
   "source": [
    "Extraigo canjes de un período anterior similar para hacer una comparacion"
   ]
  },
  {
   "cell_type": "code",
   "execution_count": 9,
   "id": "a6ed7c2c",
   "metadata": {},
   "outputs": [
    {
     "data": {
      "text/html": [
       "<div>\n",
       "<style scoped>\n",
       "    .dataframe tbody tr th:only-of-type {\n",
       "        vertical-align: middle;\n",
       "    }\n",
       "\n",
       "    .dataframe tbody tr th {\n",
       "        vertical-align: top;\n",
       "    }\n",
       "\n",
       "    .dataframe thead th {\n",
       "        text-align: right;\n",
       "    }\n",
       "</style>\n",
       "<table border=\"1\" class=\"dataframe\">\n",
       "  <thead>\n",
       "    <tr style=\"text-align: right;\">\n",
       "      <th></th>\n",
       "      <th>Fecha</th>\n",
       "      <th>canjes</th>\n",
       "      <th>dia</th>\n",
       "    </tr>\n",
       "  </thead>\n",
       "  <tbody>\n",
       "    <tr>\n",
       "      <th>6</th>\n",
       "      <td>2022-05-27</td>\n",
       "      <td>230</td>\n",
       "      <td>1</td>\n",
       "    </tr>\n",
       "    <tr>\n",
       "      <th>7</th>\n",
       "      <td>2022-05-28</td>\n",
       "      <td>375</td>\n",
       "      <td>2</td>\n",
       "    </tr>\n",
       "    <tr>\n",
       "      <th>0</th>\n",
       "      <td>2022-05-29</td>\n",
       "      <td>432</td>\n",
       "      <td>3</td>\n",
       "    </tr>\n",
       "    <tr>\n",
       "      <th>2</th>\n",
       "      <td>2022-05-30</td>\n",
       "      <td>89</td>\n",
       "      <td>4</td>\n",
       "    </tr>\n",
       "    <tr>\n",
       "      <th>8</th>\n",
       "      <td>2022-05-31</td>\n",
       "      <td>97</td>\n",
       "      <td>5</td>\n",
       "    </tr>\n",
       "  </tbody>\n",
       "</table>\n",
       "</div>"
      ],
      "text/plain": [
       "        Fecha  canjes  dia\n",
       "6  2022-05-27     230    1\n",
       "7  2022-05-28     375    2\n",
       "0  2022-05-29     432    3\n",
       "2  2022-05-30      89    4\n",
       "8  2022-05-31      97    5"
      ]
     },
     "execution_count": 9,
     "metadata": {},
     "output_type": "execute_result"
    }
   ],
   "source": [
    "e_anterior.sort_values('Fecha',ascending=True,inplace=True)\n",
    "e_anterior['dia'] = [i for i in range(1,10)]\n",
    "e_anterior.head()"
   ]
  },
  {
   "cell_type": "code",
   "execution_count": 10,
   "id": "2a7a9bf1",
   "metadata": {},
   "outputs": [
    {
     "name": "stdout",
     "output_type": "stream",
     "text": [
      "Cantidad de canjes en el período anterior: 1936\n"
     ]
    }
   ],
   "source": [
    "print('Cantidad de canjes en el período anterior:',e_anterior.canjes.sum())"
   ]
  },
  {
   "cell_type": "markdown",
   "id": "8fe3f82e",
   "metadata": {},
   "source": [
    "Ahora, comparamos los 9 días de la campaña con 9 días anteriores que contemplan dos fines de semana al igual que la campaña."
   ]
  },
  {
   "cell_type": "code",
   "execution_count": 30,
   "id": "39373caf",
   "metadata": {
    "scrolled": true
   },
   "outputs": [
    {
     "data": {
      "image/png": "[encoded data removed]",
      "text/plain": [
       "<Figure size 1080x360 with 1 Axes>"
      ]
     },
     "metadata": {},
     "output_type": "display_data"
    }
   ],
   "source": [
    "X['dia'] = [i for i in range(1,10)]\n",
    "fig, ax = plt.subplots(figsize=(15,5))\n",
    "ax.tick_params(axis='x', labelrotation = 30)\n",
    "ax.set_ylabel('Cantidad de canjes',fontsize=14)\n",
    "ax.set_xlabel('Día de comparativa')\n",
    "ax.set_title('Canjes \"Almendrado x 8 ud.\" por día durante la campaña',fontsize=16,loc='center')\n",
    "plt.ylim(0,12000)\n",
    "fig = sns.lineplot(x= X.dia,y= X.ExchangeId,marker='o')\n",
    "fig = sns.lineplot(x= e_anterior.día, y= e_anterior.canjes,marker='o')\n",
    "\n"
   ]
  },
  {
   "cell_type": "markdown",
   "id": "f414477a",
   "metadata": {},
   "source": [
    "Penetracion de canjes del almendrado en el total de canjes"
   ]
  },
  {
   "cell_type": "code",
   "execution_count": 31,
   "id": "808f8eb7",
   "metadata": {
    "scrolled": true
   },
   "outputs": [
    {
     "data": {
      "image/png": "[encoded data removed]",
      "text/plain": [
       "<Figure size 1080x360 with 1 Axes>"
      ]
     },
     "metadata": {},
     "output_type": "display_data"
    }
   ],
   "source": [
    "X['penetracion_unidades'] = X.ExchangeId / e.groupby(\"Fecha\",as_index=False).ExchangeId.nunique()['ExchangeId'] * 100\n",
    "fig, ax = plt.subplots(figsize=(15,5))\n",
    "ax.tick_params(axis='x', labelrotation = 30)\n",
    "ax.set_ylabel('% Almendrado / total canjes',fontsize=14)\n",
    "ax.set_xlabel(' ')\n",
    "ax.set_title('Participación canjes de Almendrado sobre el total de canjes',fontsize=16,loc='center')\n",
    "plt.ylim(0,100)\n",
    "fig = sns.lineplot(data= X, x= \"Fecha\",y= \"penetracion_unidades\",marker='o')"
   ]
  },
  {
   "cell_type": "code",
   "execution_count": 34,
   "id": "8cb8187b",
   "metadata": {},
   "outputs": [
    {
     "name": "stdout",
     "output_type": "stream",
     "text": [
      "Penetración promedio del canje de almendrado: 66.1 %\n"
     ]
    }
   ],
   "source": [
    "print('Penetración promedio del canje de almendrado:', round(X.penetracion_unidades.mean(),1),'%')"
   ]
  },
  {
   "cell_type": "markdown",
   "id": "923cdb76",
   "metadata": {},
   "source": [
    "### ¿Fueron canjes únicamente de Almendrado o estuvieron acompañados?"
   ]
  },
  {
   "cell_type": "markdown",
   "id": "dfdc0f38",
   "metadata": {},
   "source": [
    "Agrupo por ExchangeId los canjes del período que hayan contenido al menos una caja de almendrado"
   ]
  },
  {
   "cell_type": "code",
   "execution_count": 40,
   "id": "69046726",
   "metadata": {},
   "outputs": [
    {
     "data": {
      "text/plain": [
       "(42354, 2)"
      ]
     },
     "execution_count": 40,
     "metadata": {},
     "output_type": "execute_result"
    }
   ],
   "source": [
    "X = e[e.ExchangeId.isin(e[(e.ProductId == 56)].ExchangeId)].groupby('ExchangeId',as_index=False).Amount.sum()\n",
    "X.shape"
   ]
  },
  {
   "cell_type": "code",
   "execution_count": 41,
   "id": "247ec961",
   "metadata": {},
   "outputs": [
    {
     "name": "stdout",
     "output_type": "stream",
     "text": [
      "Cantidad de canjes que incluyeron más de 1 producto: 4535 . El  10.7 %\n"
     ]
    }
   ],
   "source": [
    "print('Cantidad de canjes que incluyeron más de 1 producto:',X[X.Amount >1].shape[0],'. El ', round(X[X.Amount>1].shape[0]/X.shape[0]*100,1),'%')"
   ]
  },
  {
   "cell_type": "markdown",
   "id": "8fb657c3",
   "metadata": {},
   "source": [
    "Los productos más canjeados con el Almendrado fueron:"
   ]
  },
  {
   "cell_type": "code",
   "execution_count": 42,
   "id": "c8cce8eb",
   "metadata": {
    "scrolled": true
   },
   "outputs": [
    {
     "data": {
      "text/html": [
       "<div>\n",
       "<style scoped>\n",
       "    .dataframe tbody tr th:only-of-type {\n",
       "        vertical-align: middle;\n",
       "    }\n",
       "\n",
       "    .dataframe tbody tr th {\n",
       "        vertical-align: top;\n",
       "    }\n",
       "\n",
       "    .dataframe thead th {\n",
       "        text-align: right;\n",
       "    }\n",
       "</style>\n",
       "<table border=\"1\" class=\"dataframe\">\n",
       "  <thead>\n",
       "    <tr style=\"text-align: right;\">\n",
       "      <th></th>\n",
       "      <th>index</th>\n",
       "      <th>ProductName</th>\n",
       "    </tr>\n",
       "  </thead>\n",
       "  <tbody>\n",
       "    <tr>\n",
       "      <th>0</th>\n",
       "      <td>Casatta x8U.</td>\n",
       "      <td>12.0</td>\n",
       "    </tr>\n",
       "    <tr>\n",
       "      <th>1</th>\n",
       "      <td>Bombon Escoces x8U.</td>\n",
       "      <td>10.3</td>\n",
       "    </tr>\n",
       "    <tr>\n",
       "      <th>2</th>\n",
       "      <td>Bombon Escoces xU.</td>\n",
       "      <td>7.2</td>\n",
       "    </tr>\n",
       "    <tr>\n",
       "      <th>3</th>\n",
       "      <td>Palito Frutal Frutilla xU.</td>\n",
       "      <td>5.9</td>\n",
       "    </tr>\n",
       "    <tr>\n",
       "      <th>4</th>\n",
       "      <td>Bombon Suizo x8U.</td>\n",
       "      <td>5.1</td>\n",
       "    </tr>\n",
       "    <tr>\n",
       "      <th>5</th>\n",
       "      <td>Bombon Crocante xU.</td>\n",
       "      <td>4.8</td>\n",
       "    </tr>\n",
       "    <tr>\n",
       "      <th>6</th>\n",
       "      <td>Palito Cremoso Americana xU.</td>\n",
       "      <td>4.8</td>\n",
       "    </tr>\n",
       "    <tr>\n",
       "      <th>7</th>\n",
       "      <td>Bombon Crocante x8U.</td>\n",
       "      <td>4.3</td>\n",
       "    </tr>\n",
       "    <tr>\n",
       "      <th>8</th>\n",
       "      <td>1/4 Kilo</td>\n",
       "      <td>4.1</td>\n",
       "    </tr>\n",
       "    <tr>\n",
       "      <th>9</th>\n",
       "      <td>Alfajor Shot x6U.</td>\n",
       "      <td>3.3</td>\n",
       "    </tr>\n",
       "  </tbody>\n",
       "</table>\n",
       "</div>"
      ],
      "text/plain": [
       "                          index  ProductName\n",
       "0                  Casatta x8U.         12.0\n",
       "1           Bombon Escoces x8U.         10.3\n",
       "2            Bombon Escoces xU.          7.2\n",
       "3    Palito Frutal Frutilla xU.          5.9\n",
       "4             Bombon Suizo x8U.          5.1\n",
       "5           Bombon Crocante xU.          4.8\n",
       "6  Palito Cremoso Americana xU.          4.8\n",
       "7          Bombon Crocante x8U.          4.3\n",
       "8                      1/4 Kilo          4.1\n",
       "9             Alfajor Shot x6U.          3.3"
      ]
     },
     "execution_count": 42,
     "metadata": {},
     "output_type": "execute_result"
    }
   ],
   "source": [
    "pd.DataFrame(e[e.ExchangeId.isin(e[(e.ProductId == 56)].ExchangeId) & (e.ProductId != 56)].ProductName.value_counts(normalize=True)*100).apply(lambda x: round(x,1)).reset_index().head(10)"
   ]
  },
  {
   "cell_type": "markdown",
   "id": "2d86559a",
   "metadata": {},
   "source": [
    "Cómo se comportaron los franquiciados?"
   ]
  },
  {
   "cell_type": "markdown",
   "id": "d4b1da55",
   "metadata": {},
   "source": [
    "Extraigo lista de los franquiciados que más canjes hicieron y los busco en el DW y Power BI"
   ]
  },
  {
   "cell_type": "code",
   "execution_count": 195,
   "id": "be1f78f8",
   "metadata": {},
   "outputs": [
    {
     "data": {
      "text/plain": [
       "['75032B8C-4EBB-CF8F-7F9B-08D2758F3B48',\n",
       " '79A0325A-3B39-CE92-3168-08D18A95FC6E',\n",
       " '80BB2015-6C7C-C10C-FB5A-08D286D57E09',\n",
       " 'FD7C4A11-BFEE-C922-A8AB-08D2870A4128',\n",
       " '79CEA7F2-B7A6-CFF0-FB68-08D18A95C14A',\n",
       " '803F4BF2-EDA6-C55C-2AC3-08D2732CD20A',\n",
       " '5ECDAB6D-0ED5-CC8F-EBBF-08D1C57EE82A',\n",
       " '1FE00F01-A17F-CC52-143A-08D275967FCD',\n",
       " '40449ABD-4408-CE49-8BBE-08D28706A156',\n",
       " 'BAAD3E15-E355-CA46-E5B7-08D1C5B8B108',\n",
       " 'F26F6A68-1F53-CA5D-EA22-08D422C96057',\n",
       " 'E92BFD98-D005-C1DF-DBD6-08D0BA8A8368',\n",
       " 'A9686735-6BE2-C998-8761-08D2AFB42D7C',\n",
       " 'C5A6EC51-3750-CE23-C9A7-08D2AFDD007D',\n",
       " 'D8BA51AF-132B-C2E1-B452-08D2AFDF9F2E']"
      ]
     },
     "execution_count": 195,
     "metadata": {},
     "output_type": "execute_result"
    }
   ],
   "source": [
    "e[e.ProductId==56].groupby('BranchOfficeId',as_index=False).ExchangeId.count().sort_values('ExchangeId',ascending=False).head(15).BranchOfficeId.tolist()"
   ]
  },
  {
   "cell_type": "markdown",
   "id": "16201271",
   "metadata": {},
   "source": [
    "#### Importo Datos de clientes"
   ]
  },
  {
   "cell_type": "code",
   "execution_count": 11,
   "id": "b1fe1893",
   "metadata": {
    "scrolled": true
   },
   "outputs": [
    {
     "data": {
      "text/html": [
       "<div>\n",
       "<style scoped>\n",
       "    .dataframe tbody tr th:only-of-type {\n",
       "        vertical-align: middle;\n",
       "    }\n",
       "\n",
       "    .dataframe tbody tr th {\n",
       "        vertical-align: top;\n",
       "    }\n",
       "\n",
       "    .dataframe thead th {\n",
       "        text-align: right;\n",
       "    }\n",
       "</style>\n",
       "<table border=\"1\" class=\"dataframe\">\n",
       "  <thead>\n",
       "    <tr style=\"text-align: right;\">\n",
       "      <th></th>\n",
       "      <th>CustomerId</th>\n",
       "      <th>fecha_asociacion</th>\n",
       "      <th>Email</th>\n",
       "      <th>cantidad_canjes</th>\n",
       "      <th>ultima_compra</th>\n",
       "      <th>ultimo_canje</th>\n",
       "      <th>categoria</th>\n",
       "    </tr>\n",
       "  </thead>\n",
       "  <tbody>\n",
       "    <tr>\n",
       "      <th>0</th>\n",
       "      <td>1D98B7F7-F833-C02E-DAA6-08D1435402FA</td>\n",
       "      <td>2014-01-08</td>\n",
       "      <td>pamela_administracion@hotmail.com</td>\n",
       "      <td>17</td>\n",
       "      <td>2022-06-04</td>\n",
       "      <td>2022-05-29</td>\n",
       "      <td>ALERTA DE CONSUMO</td>\n",
       "    </tr>\n",
       "    <tr>\n",
       "      <th>1</th>\n",
       "      <td>1DA46825-B486-C6AF-98A0-08D0DC4B02B4</td>\n",
       "      <td>2014-01-06</td>\n",
       "      <td>cristinalope_23@hotmail.com</td>\n",
       "      <td>7</td>\n",
       "      <td>2022-04-01</td>\n",
       "      <td>2021-11-23</td>\n",
       "      <td>ORO</td>\n",
       "    </tr>\n",
       "    <tr>\n",
       "      <th>2</th>\n",
       "      <td>8EA23418-9D5A-CEB4-353C-08D0E2DCF98C</td>\n",
       "      <td>2013-12-20</td>\n",
       "      <td>nomail@none.com</td>\n",
       "      <td>3</td>\n",
       "      <td>2020-08-17</td>\n",
       "      <td>2019-10-20</td>\n",
       "      <td>ABANDONO</td>\n",
       "    </tr>\n",
       "    <tr>\n",
       "      <th>3</th>\n",
       "      <td>4FC72B29-6F51-C1C2-F85E-08D0E1128FC2</td>\n",
       "      <td>2014-01-10</td>\n",
       "      <td>matingm01@gmail.com</td>\n",
       "      <td>2</td>\n",
       "      <td>2022-05-10</td>\n",
       "      <td>2021-02-22</td>\n",
       "      <td>PLATA</td>\n",
       "    </tr>\n",
       "    <tr>\n",
       "      <th>4</th>\n",
       "      <td>ECA8E3D8-A621-C7AF-D712-08D0E06C0EA0</td>\n",
       "      <td>2013-12-16</td>\n",
       "      <td>paulamaggi@hotmail.com.ar</td>\n",
       "      <td>3</td>\n",
       "      <td>2022-04-16</td>\n",
       "      <td>2022-02-04</td>\n",
       "      <td>ORO</td>\n",
       "    </tr>\n",
       "  </tbody>\n",
       "</table>\n",
       "</div>"
      ],
      "text/plain": [
       "                             CustomerId fecha_asociacion  \\\n",
       "0  1D98B7F7-F833-C02E-DAA6-08D1435402FA       2014-01-08   \n",
       "1  1DA46825-B486-C6AF-98A0-08D0DC4B02B4       2014-01-06   \n",
       "2  8EA23418-9D5A-CEB4-353C-08D0E2DCF98C       2013-12-20   \n",
       "3  4FC72B29-6F51-C1C2-F85E-08D0E1128FC2       2014-01-10   \n",
       "4  ECA8E3D8-A621-C7AF-D712-08D0E06C0EA0       2013-12-16   \n",
       "\n",
       "                               Email  cantidad_canjes ultima_compra  \\\n",
       "0  pamela_administracion@hotmail.com               17    2022-06-04   \n",
       "1        cristinalope_23@hotmail.com                7    2022-04-01   \n",
       "2                    nomail@none.com                3    2020-08-17   \n",
       "3                matingm01@gmail.com                2    2022-05-10   \n",
       "4          paulamaggi@hotmail.com.ar                3    2022-04-16   \n",
       "\n",
       "  ultimo_canje          categoria  \n",
       "0   2022-05-29  ALERTA DE CONSUMO  \n",
       "1   2021-11-23                ORO  \n",
       "2   2019-10-20           ABANDONO  \n",
       "3   2021-02-22              PLATA  \n",
       "4   2022-02-04                ORO  "
      ]
     },
     "execution_count": 11,
     "metadata": {},
     "output_type": "execute_result"
    }
   ],
   "source": [
    "DB = {'servername': '',\n",
    "      'database': '',\n",
    "      'usuario' :'',\n",
    "      'contraseña':'',\n",
    "      'Encrypt':'yes',\n",
    "      'TrustServerCertificate':'no',\n",
    "      'Connection Timeout':'30'}\n",
    "\n",
    "# create the connection\n",
    "conn = pyodbc.connect('DRIVER={ODBC Driver 17 for SQL Server};SERVER=' + DB['servername'] + ';DATABASE=' + DB['database'] +\\\n",
    "                      ';UID=' + DB['usuario'] + ';PWD='+ DB['contraseña'] + ';Encrypt=yes;TrustServerCertificate=no;Connection Timeout=30')\n",
    "\n",
    "# query db\n",
    "sql = \"\"\"\n",
    "SELECT\n",
    "c.CustomerId, CONVERT(DATE,c.ActivatedDate) 'fecha_asociacion', c.Email,\n",
    "count(DISTINCT case when e.ExchangeDate < '2022-06-11' then e.exchangeId else null end) 'cantidad_canjes',\n",
    "CONVERT(DATE,max(case when s.SaleDate < '2022-06-11' then s.SaleDate end)) 'ultima_compra',\n",
    "CONVERT(DATE,max(case when e.ExchangeDate < '2022-06-11' then e.ExchangeDate end)) 'ultimo_canje'\n",
    ", seg.categoria\n",
    "FROM dbo.Customer c\n",
    "LEFT JOIN dbo.Exchange e ON c.CustomerId = e.CustomerId\n",
    "LEFT JOIN dbo.SaleCustomer sc ON sc.CustomerId=c.CustomerId\n",
    "LEFT JOIN dbo.Sale s ON s.SaleId = sc.SaleId\n",
    "LEFT JOIN dbo.Clientes_segmentacion_2022 seg ON seg.CustomerId = c.CustomerId\n",
    "\n",
    "WHERE c.CustomerId IN (SELECT e.CustomerId \n",
    "                        FROM dbo.Exchange e \n",
    "                        WHERE e.ProductId = 56 \n",
    "                        AND e.ExchangeDate BETWEEN '2022-06-11' AND '2022-06-20'\n",
    "                        GROUP BY e.CustomerId) \n",
    "GROUP BY c.CustomerId, c.ActivatedDate, c.Email, seg.categoria\n",
    "\"\"\"\n",
    "clientes = pd.read_sql(sql, conn)\n",
    "clientes.head()"
   ]
  },
  {
   "cell_type": "markdown",
   "id": "c961873d",
   "metadata": {},
   "source": [
    "#### - Cuantos socios canjearon por primera vez?"
   ]
  },
  {
   "cell_type": "code",
   "execution_count": 12,
   "id": "1737b82d",
   "metadata": {},
   "outputs": [],
   "source": [
    "clientes['ultima_compra']= pd.to_datetime(clientes['ultima_compra'])\n",
    "clientes['ultimo_canje']= pd.to_datetime(clientes['ultimo_canje'])\n",
    "clientes['ultima_actividad']= clientes[['ultimo_canje','ultima_compra']].max(axis=1)"
   ]
  },
  {
   "cell_type": "code",
   "execution_count": 13,
   "id": "f8756dc9",
   "metadata": {},
   "outputs": [
    {
     "name": "stdout",
     "output_type": "stream",
     "text": [
      "Cantidad de clientes que canjearon por primera vez: 9997 que significa el 23.7 % de los socios que canjearon Almendrado\n",
      "Cantidad de clientes que canjearon por segunda vez: 8303 que significa el 19.7 % de los socios que canjearon Almendrado\n"
     ]
    }
   ],
   "source": [
    "print('Cantidad de clientes que canjearon por primera vez:',clientes[clientes.cantidad_canjes == 0].shape[0],\\\n",
    "      'que significa el',round(clientes[clientes.cantidad_canjes == 0].shape[0]/clientes.shape[0]*100,1),'% de los socios que canjearon Almendrado')\n",
    "\n",
    "print('Cantidad de clientes que canjearon por segunda vez:',clientes[clientes.cantidad_canjes == 1].shape[0],\\\n",
    "      'que significa el',round(clientes[clientes.cantidad_canjes == 1].shape[0]/clientes.shape[0]*100,1),'% de los socios que canjearon Almendrado')"
   ]
  },
  {
   "cell_type": "markdown",
   "id": "cb36c1ee",
   "metadata": {},
   "source": [
    "#### - Se asociaron recientemente?"
   ]
  },
  {
   "cell_type": "code",
   "execution_count": 18,
   "id": "16f747ef",
   "metadata": {},
   "outputs": [
    {
     "name": "stdout",
     "output_type": "stream",
     "text": [
      "Tenemos 0 socios que se dieron de alta el mismo día del canje\n"
     ]
    }
   ],
   "source": [
    "fecha_canje = e[e.ProductId == 56].groupby('CustomerId',as_index=False).Fecha.min()\n",
    "fecha_canje.columns=['CustomerId','fecha_canje_almendrado']\n",
    "\n",
    "#clientes = clientes.merge(fecha_canje, on='CustomerId',how='left')\n",
    "\n",
    "clientes['dias_entre_asociacion_y_canje'] = (pd.to_datetime(clientes.fecha_canje_almendrado) - pd.to_datetime(clientes.fecha_asociacion)) / np.timedelta64(1,'D')\n",
    "clientes['dias_entre_asociacion_y_canje'] = clientes['dias_entre_asociacion_y_canje'].apply(np.floor).astype('int')\n",
    "\n",
    "print('Tenemos', clientes[clientes.dias_entre_asociacion_y_canje == 0].shape[0],'socios que se dieron de alta el mismo día del canje')"
   ]
  },
  {
   "cell_type": "code",
   "execution_count": 60,
   "id": "9924da89",
   "metadata": {},
   "outputs": [
    {
     "name": "stdout",
     "output_type": "stream",
     "text": [
      "Los socios que canjearon por primera vez, habian pasado aproximadamente 1145.0 días activos previamente\n"
     ]
    }
   ],
   "source": [
    "print('Los socios que canjearon por primera vez, habian pasado aproximadamente', clientes[clientes.cantidad_canjes == 0].dias_entre_asociacio_y_canje.median(),'días activos previamente')"
   ]
  },
  {
   "cell_type": "code",
   "execution_count": 20,
   "id": "ef9a2101",
   "metadata": {},
   "outputs": [
    {
     "data": {
      "image/png": "[encoded data removed]",
      "text/plain": [
       "<Figure size 432x288 with 1 Axes>"
      ]
     },
     "metadata": {
      "needs_background": "light"
     },
     "output_type": "display_data"
    }
   ],
   "source": [
    "plt.hist(clientes[clientes.cantidad_canjes == 0].dias_entre_asociacion_y_canje,bins=100)\n",
    "plt.show()"
   ]
  },
  {
   "cell_type": "markdown",
   "id": "4d3a1a78",
   "metadata": {},
   "source": [
    "#### Analizo compras y canjes durante este tiempo"
   ]
  },
  {
   "cell_type": "markdown",
   "id": "eadff2ea",
   "metadata": {},
   "source": [
    "Cuantos canjes fueron acompañados de una compra?"
   ]
  },
  {
   "cell_type": "code",
   "execution_count": 21,
   "id": "54249f8d",
   "metadata": {
    "scrolled": true
   },
   "outputs": [
    {
     "data": {
      "text/html": [
       "<div>\n",
       "<style scoped>\n",
       "    .dataframe tbody tr th:only-of-type {\n",
       "        vertical-align: middle;\n",
       "    }\n",
       "\n",
       "    .dataframe tbody tr th {\n",
       "        vertical-align: top;\n",
       "    }\n",
       "\n",
       "    .dataframe thead th {\n",
       "        text-align: right;\n",
       "    }\n",
       "</style>\n",
       "<table border=\"1\" class=\"dataframe\">\n",
       "  <thead>\n",
       "    <tr style=\"text-align: right;\">\n",
       "      <th></th>\n",
       "      <th>CustomerId</th>\n",
       "      <th>SaleId</th>\n",
       "      <th>SaleDate</th>\n",
       "      <th>ProductId</th>\n",
       "      <th>ProductName</th>\n",
       "      <th>Amount</th>\n",
       "      <th>ProductWeightGrams</th>\n",
       "      <th>BranchOfficeId</th>\n",
       "    </tr>\n",
       "  </thead>\n",
       "  <tbody>\n",
       "    <tr>\n",
       "      <th>0</th>\n",
       "      <td>A0A0403F-B9C1-CB22-7013-08D2F1F79C18</td>\n",
       "      <td>128448471</td>\n",
       "      <td>2022-06-12</td>\n",
       "      <td>54.0</td>\n",
       "      <td>Palito Frutal Limon x20U.</td>\n",
       "      <td>2</td>\n",
       "      <td>1100.0</td>\n",
       "      <td>221661E2-6F69-CE94-0EA4-08D2863E51B5</td>\n",
       "    </tr>\n",
       "    <tr>\n",
       "      <th>1</th>\n",
       "      <td>9A23D896-F2CD-CCE0-709A-08D797BB73EE</td>\n",
       "      <td>128448512</td>\n",
       "      <td>2022-06-12</td>\n",
       "      <td>64.0</td>\n",
       "      <td>1 Kilo</td>\n",
       "      <td>1</td>\n",
       "      <td>1000.0</td>\n",
       "      <td>5983C654-9E53-CFE8-DA95-08D6F0170446</td>\n",
       "    </tr>\n",
       "    <tr>\n",
       "      <th>2</th>\n",
       "      <td>D628D9AA-0FC6-CF0E-C3F1-08DA1697ADAC</td>\n",
       "      <td>128448405</td>\n",
       "      <td>2022-06-12</td>\n",
       "      <td>70.0</td>\n",
       "      <td>Gigante 3 Bochas</td>\n",
       "      <td>2</td>\n",
       "      <td>240.0</td>\n",
       "      <td>5394FBB9-0550-CBE1-55EA-08D574723CA1</td>\n",
       "    </tr>\n",
       "    <tr>\n",
       "      <th>3</th>\n",
       "      <td>6C0EE8A5-39EE-CF63-D9C7-08D98901ACF9</td>\n",
       "      <td>128448433</td>\n",
       "      <td>2022-06-12</td>\n",
       "      <td>192.0</td>\n",
       "      <td>Pizza Moz. y Jamon Frizzio</td>\n",
       "      <td>2</td>\n",
       "      <td>734.0</td>\n",
       "      <td>FE895D04-08ED-CE77-7C8B-08D8871F6D80</td>\n",
       "    </tr>\n",
       "    <tr>\n",
       "      <th>4</th>\n",
       "      <td>564258B1-B1AA-C0D2-0CE2-08D8B7B02984</td>\n",
       "      <td>128448726</td>\n",
       "      <td>2022-06-12</td>\n",
       "      <td>3.0</td>\n",
       "      <td>Bombon Escoces x8U.</td>\n",
       "      <td>1</td>\n",
       "      <td>720.0</td>\n",
       "      <td>D2DD5058-9E6D-C441-7684-08D2710A29E9</td>\n",
       "    </tr>\n",
       "  </tbody>\n",
       "</table>\n",
       "</div>"
      ],
      "text/plain": [
       "                             CustomerId     SaleId    SaleDate  ProductId  \\\n",
       "0  A0A0403F-B9C1-CB22-7013-08D2F1F79C18  128448471  2022-06-12       54.0   \n",
       "1  9A23D896-F2CD-CCE0-709A-08D797BB73EE  128448512  2022-06-12       64.0   \n",
       "2  D628D9AA-0FC6-CF0E-C3F1-08DA1697ADAC  128448405  2022-06-12       70.0   \n",
       "3  6C0EE8A5-39EE-CF63-D9C7-08D98901ACF9  128448433  2022-06-12      192.0   \n",
       "4  564258B1-B1AA-C0D2-0CE2-08D8B7B02984  128448726  2022-06-12        3.0   \n",
       "\n",
       "                  ProductName  Amount  ProductWeightGrams  \\\n",
       "0   Palito Frutal Limon x20U.       2              1100.0   \n",
       "1                      1 Kilo       1              1000.0   \n",
       "2            Gigante 3 Bochas       2               240.0   \n",
       "3  Pizza Moz. y Jamon Frizzio       2               734.0   \n",
       "4         Bombon Escoces x8U.       1               720.0   \n",
       "\n",
       "                         BranchOfficeId  \n",
       "0  221661E2-6F69-CE94-0EA4-08D2863E51B5  \n",
       "1  5983C654-9E53-CFE8-DA95-08D6F0170446  \n",
       "2  5394FBB9-0550-CBE1-55EA-08D574723CA1  \n",
       "3  FE895D04-08ED-CE77-7C8B-08D8871F6D80  \n",
       "4  D2DD5058-9E6D-C441-7684-08D2710A29E9  "
      ]
     },
     "execution_count": 21,
     "metadata": {},
     "output_type": "execute_result"
    }
   ],
   "source": [
    "DB = {'servername': '',\n",
    "      'database': '',\n",
    "      'usuario' :'',\n",
    "      'contraseña':'',\n",
    "      'Encrypt':'yes',\n",
    "      'TrustServerCertificate':'no',\n",
    "      'Connection Timeout':'30'}\n",
    "\n",
    "# create the connection\n",
    "conn = pyodbc.connect('DRIVER={ODBC Driver 17 for SQL Server};SERVER=' + DB['servername'] + ';DATABASE=' + DB['database'] +\\\n",
    "                      ';UID=' + DB['usuario'] + ';PWD='+ DB['contraseña'] + ';Encrypt=yes;TrustServerCertificate=no;Connection Timeout=30')\n",
    "\n",
    "# query db\n",
    "sql = \"\"\"\n",
    "SELECT\n",
    "sc.CustomerId, s.SaleId, convert(date,s.SaleDate) 'SaleDate', s.ProductId, s.ProductName, s.Amount, s.ProductWeightGrams,s.BranchOfficeId\n",
    "FROM dbo.SaleCustomer sc\n",
    "INNER JOIN dbo.Sale s ON s.SaleId = sc.SaleId\n",
    "WHERE s.SaleDate BETWEEN '2022-06-11' AND '2022-06-20'\n",
    "\n",
    "\"\"\"\n",
    "sale = pd.read_sql(sql, conn)\n",
    "sale.head()"
   ]
  },
  {
   "cell_type": "code",
   "execution_count": 23,
   "id": "314bd0ad",
   "metadata": {},
   "outputs": [],
   "source": [
    "sale['kilos'] = sale.Amount * sale.ProductWeightGrams * 0.001"
   ]
  },
  {
   "cell_type": "markdown",
   "id": "b9c89791",
   "metadata": {},
   "source": [
    "Agrupo ventas buscando obtener su SaleId, CustomerId y fecha. Con estos datos despues lo cruzo con los canjes para ver si hubo compra y canje al mismo momento."
   ]
  },
  {
   "cell_type": "code",
   "execution_count": 29,
   "id": "26c79020",
   "metadata": {},
   "outputs": [
    {
     "data": {
      "text/html": [
       "<div>\n",
       "<style scoped>\n",
       "    .dataframe tbody tr th:only-of-type {\n",
       "        vertical-align: middle;\n",
       "    }\n",
       "\n",
       "    .dataframe tbody tr th {\n",
       "        vertical-align: top;\n",
       "    }\n",
       "\n",
       "    .dataframe thead th {\n",
       "        text-align: right;\n",
       "    }\n",
       "</style>\n",
       "<table border=\"1\" class=\"dataframe\">\n",
       "  <thead>\n",
       "    <tr style=\"text-align: right;\">\n",
       "      <th></th>\n",
       "      <th>SaleId</th>\n",
       "      <th>CustomerId</th>\n",
       "      <th>BranchOfficeId</th>\n",
       "      <th>SaleDate</th>\n",
       "      <th>kilos</th>\n",
       "    </tr>\n",
       "  </thead>\n",
       "  <tbody>\n",
       "    <tr>\n",
       "      <th>158206</th>\n",
       "      <td>128531023</td>\n",
       "      <td>FA47AEF9-E54F-C79C-BCCC-08D77613495E</td>\n",
       "      <td>6B2CAAE3-A993-CC17-A482-08D22035431B</td>\n",
       "      <td>2022-06-14</td>\n",
       "      <td>84.000</td>\n",
       "    </tr>\n",
       "    <tr>\n",
       "      <th>67766</th>\n",
       "      <td>128435369</td>\n",
       "      <td>27B13314-0B83-CA60-A74B-08D40FFCF51F</td>\n",
       "      <td>CA9F8758-45EB-CADE-D0E3-08D2B2099B85</td>\n",
       "      <td>2022-06-12</td>\n",
       "      <td>72.496</td>\n",
       "    </tr>\n",
       "    <tr>\n",
       "      <th>340744</th>\n",
       "      <td>128724225</td>\n",
       "      <td>31D3E74A-1780-C394-07A6-08D4C72FC358</td>\n",
       "      <td>CA9F8758-45EB-CADE-D0E3-08D2B2099B85</td>\n",
       "      <td>2022-06-18</td>\n",
       "      <td>71.680</td>\n",
       "    </tr>\n",
       "    <tr>\n",
       "      <th>323422</th>\n",
       "      <td>128705969</td>\n",
       "      <td>F9F70F98-3DDE-CA23-737D-08D43A4F4A56</td>\n",
       "      <td>36D7BB1A-AFCA-C36E-BC13-08D2AFB27431</td>\n",
       "      <td>2022-06-18</td>\n",
       "      <td>70.880</td>\n",
       "    </tr>\n",
       "    <tr>\n",
       "      <th>154352</th>\n",
       "      <td>128526972</td>\n",
       "      <td>82E0732F-A82B-CC41-6359-08D4D62BFD1B</td>\n",
       "      <td>36D7BB1A-AFCA-C36E-BC13-08D2AFB27431</td>\n",
       "      <td>2022-06-14</td>\n",
       "      <td>70.700</td>\n",
       "    </tr>\n",
       "  </tbody>\n",
       "</table>\n",
       "</div>"
      ],
      "text/plain": [
       "           SaleId                            CustomerId  \\\n",
       "158206  128531023  FA47AEF9-E54F-C79C-BCCC-08D77613495E   \n",
       "67766   128435369  27B13314-0B83-CA60-A74B-08D40FFCF51F   \n",
       "340744  128724225  31D3E74A-1780-C394-07A6-08D4C72FC358   \n",
       "323422  128705969  F9F70F98-3DDE-CA23-737D-08D43A4F4A56   \n",
       "154352  128526972  82E0732F-A82B-CC41-6359-08D4D62BFD1B   \n",
       "\n",
       "                              BranchOfficeId    SaleDate   kilos  \n",
       "158206  6B2CAAE3-A993-CC17-A482-08D22035431B  2022-06-14  84.000  \n",
       "67766   CA9F8758-45EB-CADE-D0E3-08D2B2099B85  2022-06-12  72.496  \n",
       "340744  CA9F8758-45EB-CADE-D0E3-08D2B2099B85  2022-06-18  71.680  \n",
       "323422  36D7BB1A-AFCA-C36E-BC13-08D2AFB27431  2022-06-18  70.880  \n",
       "154352  36D7BB1A-AFCA-C36E-BC13-08D2AFB27431  2022-06-14  70.700  "
      ]
     },
     "execution_count": 29,
     "metadata": {},
     "output_type": "execute_result"
    }
   ],
   "source": [
    "sale_agrupada = sale.groupby(['SaleId','CustomerId','BranchOfficeId'],as_index=False).agg({'SaleDate':'min','kilos':'sum'})\n",
    "sale_agrupada.sort_values('kilos',ascending=False,inplace=True)\n",
    "sale_agrupada.drop_duplicates(subset=['CustomerId','SaleDate','BranchOfficeId'],inplace=True)\n",
    "sale_agrupada.head()"
   ]
  },
  {
   "cell_type": "markdown",
   "id": "6498bfbe",
   "metadata": {},
   "source": [
    "Agrupo los canjes de almendrado para obtener también customerId, fecha y BO Id"
   ]
  },
  {
   "cell_type": "code",
   "execution_count": 30,
   "id": "3553a0f8",
   "metadata": {},
   "outputs": [
    {
     "data": {
      "text/html": [
       "<div>\n",
       "<style scoped>\n",
       "    .dataframe tbody tr th:only-of-type {\n",
       "        vertical-align: middle;\n",
       "    }\n",
       "\n",
       "    .dataframe tbody tr th {\n",
       "        vertical-align: top;\n",
       "    }\n",
       "\n",
       "    .dataframe thead th {\n",
       "        text-align: right;\n",
       "    }\n",
       "</style>\n",
       "<table border=\"1\" class=\"dataframe\">\n",
       "  <thead>\n",
       "    <tr style=\"text-align: right;\">\n",
       "      <th></th>\n",
       "      <th>ExchangeId</th>\n",
       "      <th>CustomerId</th>\n",
       "      <th>BranchOfficeId</th>\n",
       "      <th>Fecha</th>\n",
       "    </tr>\n",
       "  </thead>\n",
       "  <tbody>\n",
       "    <tr>\n",
       "      <th>0</th>\n",
       "      <td>4541637</td>\n",
       "      <td>63DD8BA4-092C-C848-E318-08D8D999E5FA</td>\n",
       "      <td>4DC467DA-C6E9-C5AB-DA4A-08D1BCEEC44B</td>\n",
       "      <td>2022-06-11</td>\n",
       "    </tr>\n",
       "    <tr>\n",
       "      <th>1</th>\n",
       "      <td>4541640</td>\n",
       "      <td>9E9EC571-159D-C52F-B8B9-08D5DDDD3BE6</td>\n",
       "      <td>E31E8A39-B114-C1BE-81CB-08D18A9560A4</td>\n",
       "      <td>2022-06-11</td>\n",
       "    </tr>\n",
       "    <tr>\n",
       "      <th>2</th>\n",
       "      <td>4541658</td>\n",
       "      <td>7E31D1C2-426E-C80F-7917-08DA4B3DAAF8</td>\n",
       "      <td>93F61B44-50A3-C8C9-63CF-08D60F3FDA87</td>\n",
       "      <td>2022-06-11</td>\n",
       "    </tr>\n",
       "    <tr>\n",
       "      <th>3</th>\n",
       "      <td>4541659</td>\n",
       "      <td>CE796E74-57C7-CF58-FD45-08D51C5D166E</td>\n",
       "      <td>4C46A5EE-7B39-C2E8-929D-08D24993A60C</td>\n",
       "      <td>2022-06-11</td>\n",
       "    </tr>\n",
       "    <tr>\n",
       "      <th>4</th>\n",
       "      <td>4541665</td>\n",
       "      <td>ED90A1D3-3958-CEF3-BA59-08D31709FDBA</td>\n",
       "      <td>311B33AD-373F-C5DE-E73B-08D286D8D1F6</td>\n",
       "      <td>2022-06-11</td>\n",
       "    </tr>\n",
       "  </tbody>\n",
       "</table>\n",
       "</div>"
      ],
      "text/plain": [
       "   ExchangeId                            CustomerId  \\\n",
       "0     4541637  63DD8BA4-092C-C848-E318-08D8D999E5FA   \n",
       "1     4541640  9E9EC571-159D-C52F-B8B9-08D5DDDD3BE6   \n",
       "2     4541658  7E31D1C2-426E-C80F-7917-08DA4B3DAAF8   \n",
       "3     4541659  CE796E74-57C7-CF58-FD45-08D51C5D166E   \n",
       "4     4541665  ED90A1D3-3958-CEF3-BA59-08D31709FDBA   \n",
       "\n",
       "                         BranchOfficeId       Fecha  \n",
       "0  4DC467DA-C6E9-C5AB-DA4A-08D1BCEEC44B  2022-06-11  \n",
       "1  E31E8A39-B114-C1BE-81CB-08D18A9560A4  2022-06-11  \n",
       "2  93F61B44-50A3-C8C9-63CF-08D60F3FDA87  2022-06-11  \n",
       "3  4C46A5EE-7B39-C2E8-929D-08D24993A60C  2022-06-11  \n",
       "4  311B33AD-373F-C5DE-E73B-08D286D8D1F6  2022-06-11  "
      ]
     },
     "execution_count": 30,
     "metadata": {},
     "output_type": "execute_result"
    }
   ],
   "source": [
    "e_56 = e[e.ProductId==56].groupby(['ExchangeId','CustomerId','BranchOfficeId'],as_index=False).Fecha.min()\n",
    "e_56.head()"
   ]
  },
  {
   "cell_type": "code",
   "execution_count": 31,
   "id": "a538d8cc",
   "metadata": {},
   "outputs": [
    {
     "data": {
      "text/plain": [
       "(42354, 4)"
      ]
     },
     "execution_count": 31,
     "metadata": {},
     "output_type": "execute_result"
    }
   ],
   "source": [
    "e_56.shape"
   ]
  },
  {
   "cell_type": "code",
   "execution_count": 32,
   "id": "746f3faf",
   "metadata": {},
   "outputs": [
    {
     "data": {
      "text/plain": [
       "(42354, 7)"
      ]
     },
     "execution_count": 32,
     "metadata": {},
     "output_type": "execute_result"
    }
   ],
   "source": [
    "e_56 = e_56.merge(sale_agrupada,how='left',left_on=['CustomerId','Fecha','BranchOfficeId'],right_on=['CustomerId','SaleDate','BranchOfficeId'])\n",
    "e_56.shape"
   ]
  },
  {
   "cell_type": "code",
   "execution_count": 33,
   "id": "8c16338b",
   "metadata": {},
   "outputs": [
    {
     "data": {
      "text/plain": [
       "ExchangeId            0\n",
       "CustomerId            0\n",
       "BranchOfficeId        0\n",
       "Fecha                 0\n",
       "SaleId            24575\n",
       "SaleDate          24575\n",
       "kilos             24575\n",
       "dtype: int64"
      ]
     },
     "execution_count": 33,
     "metadata": {},
     "output_type": "execute_result"
    }
   ],
   "source": [
    "e_56.isnull().sum()"
   ]
  },
  {
   "cell_type": "code",
   "execution_count": 34,
   "id": "d480313c",
   "metadata": {},
   "outputs": [
    {
     "data": {
      "text/html": [
       "<div>\n",
       "<style scoped>\n",
       "    .dataframe tbody tr th:only-of-type {\n",
       "        vertical-align: middle;\n",
       "    }\n",
       "\n",
       "    .dataframe tbody tr th {\n",
       "        vertical-align: top;\n",
       "    }\n",
       "\n",
       "    .dataframe thead th {\n",
       "        text-align: right;\n",
       "    }\n",
       "</style>\n",
       "<table border=\"1\" class=\"dataframe\">\n",
       "  <thead>\n",
       "    <tr style=\"text-align: right;\">\n",
       "      <th></th>\n",
       "      <th>BranchOfficeId</th>\n",
       "      <th>ExchangeId</th>\n",
       "      <th>SaleId</th>\n",
       "      <th>kilos</th>\n",
       "      <th>%canjes_acompañados</th>\n",
       "    </tr>\n",
       "  </thead>\n",
       "  <tbody>\n",
       "    <tr>\n",
       "      <th>1035</th>\n",
       "      <td>A9686735-6BE2-C998-8761-08D2AFB42D7C</td>\n",
       "      <td>94</td>\n",
       "      <td>65</td>\n",
       "      <td>56.769</td>\n",
       "      <td>69.1</td>\n",
       "    </tr>\n",
       "    <tr>\n",
       "      <th>1036</th>\n",
       "      <td>A98BE6A2-BCD7-C9D1-A933-08D28637FDCD</td>\n",
       "      <td>90</td>\n",
       "      <td>59</td>\n",
       "      <td>67.882</td>\n",
       "      <td>65.6</td>\n",
       "    </tr>\n",
       "    <tr>\n",
       "      <th>1161</th>\n",
       "      <td>BD5F7034-18F2-C332-2193-08D18A93D8DD</td>\n",
       "      <td>81</td>\n",
       "      <td>53</td>\n",
       "      <td>61.363</td>\n",
       "      <td>65.4</td>\n",
       "    </tr>\n",
       "    <tr>\n",
       "      <th>85</th>\n",
       "      <td>0CDD1FA3-4698-CEDD-2A53-08D49DFFC0C0</td>\n",
       "      <td>83</td>\n",
       "      <td>51</td>\n",
       "      <td>52.711</td>\n",
       "      <td>61.4</td>\n",
       "    </tr>\n",
       "    <tr>\n",
       "      <th>204</th>\n",
       "      <td>1FE00F01-A17F-CC52-143A-08D275967FCD</td>\n",
       "      <td>99</td>\n",
       "      <td>60</td>\n",
       "      <td>77.203</td>\n",
       "      <td>60.6</td>\n",
       "    </tr>\n",
       "    <tr>\n",
       "      <th>578</th>\n",
       "      <td>5ECDAB6D-0ED5-CC8F-EBBF-08D1C57EE82A</td>\n",
       "      <td>105</td>\n",
       "      <td>60</td>\n",
       "      <td>63.386</td>\n",
       "      <td>57.1</td>\n",
       "    </tr>\n",
       "    <tr>\n",
       "      <th>205</th>\n",
       "      <td>1FFF46A0-7414-C402-1D65-08D286DA51C8</td>\n",
       "      <td>81</td>\n",
       "      <td>45</td>\n",
       "      <td>48.340</td>\n",
       "      <td>55.6</td>\n",
       "    </tr>\n",
       "    <tr>\n",
       "      <th>798</th>\n",
       "      <td>80BB2015-6C7C-C10C-FB5A-08D286D57E09</td>\n",
       "      <td>109</td>\n",
       "      <td>60</td>\n",
       "      <td>81.402</td>\n",
       "      <td>55.0</td>\n",
       "    </tr>\n",
       "    <tr>\n",
       "      <th>1391</th>\n",
       "      <td>E92BFD98-D005-C1DF-DBD6-08D0BA8A8368</td>\n",
       "      <td>94</td>\n",
       "      <td>51</td>\n",
       "      <td>48.407</td>\n",
       "      <td>54.3</td>\n",
       "    </tr>\n",
       "    <tr>\n",
       "      <th>748</th>\n",
       "      <td>7A6B9407-24AC-C32F-36F3-08D275890A08</td>\n",
       "      <td>83</td>\n",
       "      <td>44</td>\n",
       "      <td>42.936</td>\n",
       "      <td>53.0</td>\n",
       "    </tr>\n",
       "  </tbody>\n",
       "</table>\n",
       "</div>"
      ],
      "text/plain": [
       "                            BranchOfficeId  ExchangeId  SaleId   kilos  \\\n",
       "1035  A9686735-6BE2-C998-8761-08D2AFB42D7C          94      65  56.769   \n",
       "1036  A98BE6A2-BCD7-C9D1-A933-08D28637FDCD          90      59  67.882   \n",
       "1161  BD5F7034-18F2-C332-2193-08D18A93D8DD          81      53  61.363   \n",
       "85    0CDD1FA3-4698-CEDD-2A53-08D49DFFC0C0          83      51  52.711   \n",
       "204   1FE00F01-A17F-CC52-143A-08D275967FCD          99      60  77.203   \n",
       "578   5ECDAB6D-0ED5-CC8F-EBBF-08D1C57EE82A         105      60  63.386   \n",
       "205   1FFF46A0-7414-C402-1D65-08D286DA51C8          81      45  48.340   \n",
       "798   80BB2015-6C7C-C10C-FB5A-08D286D57E09         109      60  81.402   \n",
       "1391  E92BFD98-D005-C1DF-DBD6-08D0BA8A8368          94      51  48.407   \n",
       "748   7A6B9407-24AC-C32F-36F3-08D275890A08          83      44  42.936   \n",
       "\n",
       "      %canjes_acompañados  \n",
       "1035                 69.1  \n",
       "1036                 65.6  \n",
       "1161                 65.4  \n",
       "85                   61.4  \n",
       "204                  60.6  \n",
       "578                  57.1  \n",
       "205                  55.6  \n",
       "798                  55.0  \n",
       "1391                 54.3  \n",
       "748                  53.0  "
      ]
     },
     "execution_count": 34,
     "metadata": {},
     "output_type": "execute_result"
    }
   ],
   "source": [
    "fqcia_venta_canje= e_56.groupby('BranchOfficeId',as_index=False).agg({'ExchangeId':'count','SaleId':'count','kilos':'sum'})\n",
    "fqcia_venta_canje['%canjes_acompañados']= round(fqcia_venta_canje.SaleId / fqcia_venta_canje.ExchangeId * 100,1)\n",
    "fqcia_venta_canje[fqcia_venta_canje.ExchangeId > 80].sort_values('%canjes_acompañados',ascending = False).head(10)"
   ]
  },
  {
   "cell_type": "code",
   "execution_count": 35,
   "id": "c8b8919c",
   "metadata": {},
   "outputs": [
    {
     "name": "stdout",
     "output_type": "stream",
     "text": [
      "El promedio de canjes acompañados por una venta fue: 39.9560155239328\n"
     ]
    }
   ],
   "source": [
    "print('El promedio de canjes acompañados por una venta fue:',fqcia_venta_canje['%canjes_acompañados'].mean())"
   ]
  },
  {
   "cell_type": "code",
   "execution_count": 36,
   "id": "e543694b",
   "metadata": {},
   "outputs": [
    {
     "data": {
      "text/plain": [
       "(27975, 9)"
      ]
     },
     "execution_count": 36,
     "metadata": {},
     "output_type": "execute_result"
    }
   ],
   "source": [
    "sale_acompañaron = sale[sale.SaleId.isin(e_56.SaleId)]\n",
    "sale_acompañaron.shape"
   ]
  },
  {
   "cell_type": "code",
   "execution_count": 38,
   "id": "efaf2123",
   "metadata": {},
   "outputs": [
    {
     "name": "stdout",
     "output_type": "stream",
     "text": [
      "En total, 17779 canjes fueron acompañados por una compra que representó el 42.0 %\n"
     ]
    }
   ],
   "source": [
    "print('En total,',e_56[~e_56.SaleId.isnull()].ExchangeId.nunique(),'canjes fueron acompañados por una compra que representó el',\\\n",
    "     round(e_56[~e_56.SaleId.isnull()].ExchangeId.nunique()/e_56.ExchangeId.nunique()*100,1),'%')"
   ]
  },
  {
   "cell_type": "code",
   "execution_count": 40,
   "id": "ee661436",
   "metadata": {},
   "outputs": [
    {
     "name": "stdout",
     "output_type": "stream",
     "text": [
      "Un total de 18668.359 kilos vendidos acompañaron los canjes de almendrado\n"
     ]
    }
   ],
   "source": [
    "print('Un total de', sale_acompañaron.kilos.sum(),'kilos vendidos acompañaron los canjes de almendrado')"
   ]
  },
  {
   "cell_type": "markdown",
   "id": "535115c6",
   "metadata": {},
   "source": [
    "Productos más vendidos acompañando el canje"
   ]
  },
  {
   "cell_type": "code",
   "execution_count": 41,
   "id": "792600c4",
   "metadata": {},
   "outputs": [
    {
     "data": {
      "text/html": [
       "<div>\n",
       "<style scoped>\n",
       "    .dataframe tbody tr th:only-of-type {\n",
       "        vertical-align: middle;\n",
       "    }\n",
       "\n",
       "    .dataframe tbody tr th {\n",
       "        vertical-align: top;\n",
       "    }\n",
       "\n",
       "    .dataframe thead th {\n",
       "        text-align: right;\n",
       "    }\n",
       "</style>\n",
       "<table border=\"1\" class=\"dataframe\">\n",
       "  <thead>\n",
       "    <tr style=\"text-align: right;\">\n",
       "      <th></th>\n",
       "      <th>ProductName</th>\n",
       "      <th>kilos</th>\n",
       "    </tr>\n",
       "  </thead>\n",
       "  <tbody>\n",
       "    <tr>\n",
       "      <th>0</th>\n",
       "      <td>1 Kilo</td>\n",
       "      <td>3232.00</td>\n",
       "    </tr>\n",
       "    <tr>\n",
       "      <th>135</th>\n",
       "      <td>Bombon Escoces x8U.</td>\n",
       "      <td>1195.92</td>\n",
       "    </tr>\n",
       "    <tr>\n",
       "      <th>188</th>\n",
       "      <td>Familiar Nº 2 (Americana/Frutilla/Ddl Graniz.)</td>\n",
       "      <td>790.40</td>\n",
       "    </tr>\n",
       "    <tr>\n",
       "      <th>324</th>\n",
       "      <td>Torta Oreo</td>\n",
       "      <td>746.13</td>\n",
       "    </tr>\n",
       "    <tr>\n",
       "      <th>3</th>\n",
       "      <td>1/2 Kilo</td>\n",
       "      <td>744.00</td>\n",
       "    </tr>\n",
       "  </tbody>\n",
       "</table>\n",
       "</div>"
      ],
      "text/plain": [
       "                                        ProductName    kilos\n",
       "0                                            1 Kilo  3232.00\n",
       "135                             Bombon Escoces x8U.  1195.92\n",
       "188  Familiar Nº 2 (Americana/Frutilla/Ddl Graniz.)   790.40\n",
       "324                                      Torta Oreo   746.13\n",
       "3                                          1/2 Kilo   744.00"
      ]
     },
     "execution_count": 41,
     "metadata": {},
     "output_type": "execute_result"
    }
   ],
   "source": [
    "sale_acompañaron.groupby('ProductName',as_index=False).kilos.sum().sort_values('kilos',ascending=False).head(5)"
   ]
  },
  {
   "cell_type": "code",
   "execution_count": 42,
   "id": "8b30f699",
   "metadata": {},
   "outputs": [
    {
     "data": {
      "text/html": [
       "<div>\n",
       "<style scoped>\n",
       "    .dataframe tbody tr th:only-of-type {\n",
       "        vertical-align: middle;\n",
       "    }\n",
       "\n",
       "    .dataframe tbody tr th {\n",
       "        vertical-align: top;\n",
       "    }\n",
       "\n",
       "    .dataframe thead th {\n",
       "        text-align: right;\n",
       "    }\n",
       "</style>\n",
       "<table border=\"1\" class=\"dataframe\">\n",
       "  <thead>\n",
       "    <tr style=\"text-align: right;\">\n",
       "      <th></th>\n",
       "      <th>ProductName</th>\n",
       "      <th>Amount</th>\n",
       "      <th>%venta</th>\n",
       "    </tr>\n",
       "  </thead>\n",
       "  <tbody>\n",
       "    <tr>\n",
       "      <th>0</th>\n",
       "      <td>1 Kilo</td>\n",
       "      <td>3232</td>\n",
       "      <td>9.601616</td>\n",
       "    </tr>\n",
       "    <tr>\n",
       "      <th>135</th>\n",
       "      <td>Bombon Escoces x8U.</td>\n",
       "      <td>1661</td>\n",
       "      <td>4.934494</td>\n",
       "    </tr>\n",
       "    <tr>\n",
       "      <th>5</th>\n",
       "      <td>1/4 Kilo</td>\n",
       "      <td>1568</td>\n",
       "      <td>4.658210</td>\n",
       "    </tr>\n",
       "    <tr>\n",
       "      <th>123</th>\n",
       "      <td>Alfajor Shot x6U.</td>\n",
       "      <td>1507</td>\n",
       "      <td>4.476991</td>\n",
       "    </tr>\n",
       "    <tr>\n",
       "      <th>3</th>\n",
       "      <td>1/2 Kilo</td>\n",
       "      <td>1488</td>\n",
       "      <td>4.420546</td>\n",
       "    </tr>\n",
       "  </tbody>\n",
       "</table>\n",
       "</div>"
      ],
      "text/plain": [
       "             ProductName  Amount    %venta\n",
       "0                 1 Kilo    3232  9.601616\n",
       "135  Bombon Escoces x8U.    1661  4.934494\n",
       "5               1/4 Kilo    1568  4.658210\n",
       "123    Alfajor Shot x6U.    1507  4.476991\n",
       "3               1/2 Kilo    1488  4.420546"
      ]
     },
     "execution_count": 42,
     "metadata": {},
     "output_type": "execute_result"
    }
   ],
   "source": [
    "productos_mas_vendidos = sale_acompañaron.groupby('ProductName',as_index=False).Amount.sum().sort_values('Amount',ascending=False)\n",
    "productos_mas_vendidos['%venta'] = productos_mas_vendidos.Amount / productos_mas_vendidos.Amount.sum()*100\n",
    "productos_mas_vendidos.head()"
   ]
  },
  {
   "cell_type": "code",
   "execution_count": 43,
   "id": "27b9d7ad",
   "metadata": {},
   "outputs": [
    {
     "data": {
      "text/html": [
       "<div>\n",
       "<style scoped>\n",
       "    .dataframe tbody tr th:only-of-type {\n",
       "        vertical-align: middle;\n",
       "    }\n",
       "\n",
       "    .dataframe tbody tr th {\n",
       "        vertical-align: top;\n",
       "    }\n",
       "\n",
       "    .dataframe thead th {\n",
       "        text-align: right;\n",
       "    }\n",
       "</style>\n",
       "<table border=\"1\" class=\"dataframe\">\n",
       "  <thead>\n",
       "    <tr style=\"text-align: right;\">\n",
       "      <th></th>\n",
       "      <th>BranchOfficeId</th>\n",
       "      <th>kilos</th>\n",
       "    </tr>\n",
       "  </thead>\n",
       "  <tbody>\n",
       "    <tr>\n",
       "      <th>1186</th>\n",
       "      <td>CA9F8758-45EB-CADE-D0E3-08D2B2099B85</td>\n",
       "      <td>87.463</td>\n",
       "    </tr>\n",
       "    <tr>\n",
       "      <th>771</th>\n",
       "      <td>80BB2015-6C7C-C10C-FB5A-08D286D57E09</td>\n",
       "      <td>81.402</td>\n",
       "    </tr>\n",
       "    <tr>\n",
       "      <th>196</th>\n",
       "      <td>1FE00F01-A17F-CC52-143A-08D275967FCD</td>\n",
       "      <td>77.203</td>\n",
       "    </tr>\n",
       "    <tr>\n",
       "      <th>999</th>\n",
       "      <td>A98BE6A2-BCD7-C9D1-A933-08D28637FDCD</td>\n",
       "      <td>67.882</td>\n",
       "    </tr>\n",
       "    <tr>\n",
       "      <th>938</th>\n",
       "      <td>9D20A4CB-16BE-CADA-F506-08D5DAA2A189</td>\n",
       "      <td>64.977</td>\n",
       "    </tr>\n",
       "    <tr>\n",
       "      <th>558</th>\n",
       "      <td>5ECDAB6D-0ED5-CC8F-EBBF-08D1C57EE82A</td>\n",
       "      <td>63.386</td>\n",
       "    </tr>\n",
       "    <tr>\n",
       "      <th>374</th>\n",
       "      <td>40449ABD-4408-CE49-8BBE-08D28706A156</td>\n",
       "      <td>63.186</td>\n",
       "    </tr>\n",
       "    <tr>\n",
       "      <th>1119</th>\n",
       "      <td>BD5F7034-18F2-C332-2193-08D18A93D8DD</td>\n",
       "      <td>61.363</td>\n",
       "    </tr>\n",
       "    <tr>\n",
       "      <th>270</th>\n",
       "      <td>2D13CA73-883C-CF25-D49A-08D4E63523A1</td>\n",
       "      <td>59.887</td>\n",
       "    </tr>\n",
       "    <tr>\n",
       "      <th>1031</th>\n",
       "      <td>AE963D04-A481-CFB4-29C3-08D18AA29B71</td>\n",
       "      <td>59.876</td>\n",
       "    </tr>\n",
       "  </tbody>\n",
       "</table>\n",
       "</div>"
      ],
      "text/plain": [
       "                            BranchOfficeId   kilos\n",
       "1186  CA9F8758-45EB-CADE-D0E3-08D2B2099B85  87.463\n",
       "771   80BB2015-6C7C-C10C-FB5A-08D286D57E09  81.402\n",
       "196   1FE00F01-A17F-CC52-143A-08D275967FCD  77.203\n",
       "999   A98BE6A2-BCD7-C9D1-A933-08D28637FDCD  67.882\n",
       "938   9D20A4CB-16BE-CADA-F506-08D5DAA2A189  64.977\n",
       "558   5ECDAB6D-0ED5-CC8F-EBBF-08D1C57EE82A  63.386\n",
       "374   40449ABD-4408-CE49-8BBE-08D28706A156  63.186\n",
       "1119  BD5F7034-18F2-C332-2193-08D18A93D8DD  61.363\n",
       "270   2D13CA73-883C-CF25-D49A-08D4E63523A1  59.887\n",
       "1031  AE963D04-A481-CFB4-29C3-08D18AA29B71  59.876"
      ]
     },
     "execution_count": 43,
     "metadata": {},
     "output_type": "execute_result"
    }
   ],
   "source": [
    "sale_acompañaron.groupby('BranchOfficeId',as_index=False).kilos.sum().sort_values('kilos',ascending=False).head(10)"
   ]
  },
  {
   "cell_type": "code",
   "execution_count": 44,
   "id": "3a37c6b9",
   "metadata": {},
   "outputs": [
    {
     "data": {
      "text/html": [
       "<div>\n",
       "<style scoped>\n",
       "    .dataframe tbody tr th:only-of-type {\n",
       "        vertical-align: middle;\n",
       "    }\n",
       "\n",
       "    .dataframe tbody tr th {\n",
       "        vertical-align: top;\n",
       "    }\n",
       "\n",
       "    .dataframe thead th {\n",
       "        text-align: right;\n",
       "    }\n",
       "</style>\n",
       "<table border=\"1\" class=\"dataframe\">\n",
       "  <thead>\n",
       "    <tr style=\"text-align: right;\">\n",
       "      <th></th>\n",
       "      <th>BranchOfficeId</th>\n",
       "      <th>kilos</th>\n",
       "    </tr>\n",
       "  </thead>\n",
       "  <tbody>\n",
       "    <tr>\n",
       "      <th>1186</th>\n",
       "      <td>CA9F8758-45EB-CADE-D0E3-08D2B2099B85</td>\n",
       "      <td>87.463</td>\n",
       "    </tr>\n",
       "    <tr>\n",
       "      <th>771</th>\n",
       "      <td>80BB2015-6C7C-C10C-FB5A-08D286D57E09</td>\n",
       "      <td>81.402</td>\n",
       "    </tr>\n",
       "    <tr>\n",
       "      <th>196</th>\n",
       "      <td>1FE00F01-A17F-CC52-143A-08D275967FCD</td>\n",
       "      <td>77.203</td>\n",
       "    </tr>\n",
       "    <tr>\n",
       "      <th>999</th>\n",
       "      <td>A98BE6A2-BCD7-C9D1-A933-08D28637FDCD</td>\n",
       "      <td>67.882</td>\n",
       "    </tr>\n",
       "    <tr>\n",
       "      <th>938</th>\n",
       "      <td>9D20A4CB-16BE-CADA-F506-08D5DAA2A189</td>\n",
       "      <td>64.977</td>\n",
       "    </tr>\n",
       "    <tr>\n",
       "      <th>558</th>\n",
       "      <td>5ECDAB6D-0ED5-CC8F-EBBF-08D1C57EE82A</td>\n",
       "      <td>63.386</td>\n",
       "    </tr>\n",
       "    <tr>\n",
       "      <th>374</th>\n",
       "      <td>40449ABD-4408-CE49-8BBE-08D28706A156</td>\n",
       "      <td>63.186</td>\n",
       "    </tr>\n",
       "    <tr>\n",
       "      <th>1119</th>\n",
       "      <td>BD5F7034-18F2-C332-2193-08D18A93D8DD</td>\n",
       "      <td>61.363</td>\n",
       "    </tr>\n",
       "    <tr>\n",
       "      <th>270</th>\n",
       "      <td>2D13CA73-883C-CF25-D49A-08D4E63523A1</td>\n",
       "      <td>59.887</td>\n",
       "    </tr>\n",
       "    <tr>\n",
       "      <th>1031</th>\n",
       "      <td>AE963D04-A481-CFB4-29C3-08D18AA29B71</td>\n",
       "      <td>59.876</td>\n",
       "    </tr>\n",
       "  </tbody>\n",
       "</table>\n",
       "</div>"
      ],
      "text/plain": [
       "                            BranchOfficeId   kilos\n",
       "1186  CA9F8758-45EB-CADE-D0E3-08D2B2099B85  87.463\n",
       "771   80BB2015-6C7C-C10C-FB5A-08D286D57E09  81.402\n",
       "196   1FE00F01-A17F-CC52-143A-08D275967FCD  77.203\n",
       "999   A98BE6A2-BCD7-C9D1-A933-08D28637FDCD  67.882\n",
       "938   9D20A4CB-16BE-CADA-F506-08D5DAA2A189  64.977\n",
       "558   5ECDAB6D-0ED5-CC8F-EBBF-08D1C57EE82A  63.386\n",
       "374   40449ABD-4408-CE49-8BBE-08D28706A156  63.186\n",
       "1119  BD5F7034-18F2-C332-2193-08D18A93D8DD  61.363\n",
       "270   2D13CA73-883C-CF25-D49A-08D4E63523A1  59.887\n",
       "1031  AE963D04-A481-CFB4-29C3-08D18AA29B71  59.876"
      ]
     },
     "execution_count": 44,
     "metadata": {},
     "output_type": "execute_result"
    }
   ],
   "source": [
    "sale_acompañaron.groupby('BranchOfficeId',as_index=False).kilos.sum().sort_values('kilos',ascending=False).head(10)"
   ]
  },
  {
   "cell_type": "markdown",
   "id": "a7702dd8",
   "metadata": {},
   "source": [
    "#### Cuanto tiempo pasaron sin comprar hasta que fueron a la heladeria de nuevo?"
   ]
  },
  {
   "cell_type": "code",
   "execution_count": 45,
   "id": "b99c8a75",
   "metadata": {},
   "outputs": [
    {
     "data": {
      "text/plain": [
       "(42118, 11)"
      ]
     },
     "execution_count": 45,
     "metadata": {},
     "output_type": "execute_result"
    }
   ],
   "source": [
    "clientes = clientes.merge(sale_acompañaron.groupby('CustomerId',as_index=False).SaleDate.min(),on='CustomerId',how='left')\n",
    "clientes.shape"
   ]
  },
  {
   "cell_type": "code",
   "execution_count": 46,
   "id": "94b74980",
   "metadata": {},
   "outputs": [
    {
     "data": {
      "text/plain": [
       "CustomerId                           0\n",
       "fecha_asociacion                     0\n",
       "Email                                0\n",
       "cantidad_canjes                      0\n",
       "ultima_compra                      220\n",
       "ultimo_canje                      9997\n",
       "categoria                            1\n",
       "ultima_actividad                   194\n",
       "fecha_canje_almendrado               0\n",
       "dias_entre_asociacion_y_canje        0\n",
       "SaleDate                         24406\n",
       "dtype: int64"
      ]
     },
     "execution_count": 46,
     "metadata": {},
     "output_type": "execute_result"
    }
   ],
   "source": [
    "clientes.isnull().sum()"
   ]
  },
  {
   "cell_type": "code",
   "execution_count": 47,
   "id": "cbe9a812",
   "metadata": {},
   "outputs": [
    {
     "data": {
      "text/html": [
       "<div>\n",
       "<style scoped>\n",
       "    .dataframe tbody tr th:only-of-type {\n",
       "        vertical-align: middle;\n",
       "    }\n",
       "\n",
       "    .dataframe tbody tr th {\n",
       "        vertical-align: top;\n",
       "    }\n",
       "\n",
       "    .dataframe thead th {\n",
       "        text-align: right;\n",
       "    }\n",
       "</style>\n",
       "<table border=\"1\" class=\"dataframe\">\n",
       "  <thead>\n",
       "    <tr style=\"text-align: right;\">\n",
       "      <th></th>\n",
       "      <th>CustomerId</th>\n",
       "      <th>fecha_asociacion</th>\n",
       "      <th>Email</th>\n",
       "      <th>cantidad_canjes</th>\n",
       "      <th>ultima_compra</th>\n",
       "      <th>ultimo_canje</th>\n",
       "      <th>categoria</th>\n",
       "      <th>ultima_actividad</th>\n",
       "      <th>fecha_canje_almendrado</th>\n",
       "      <th>dias_entre_asociacion_y_canje</th>\n",
       "      <th>SaleDate</th>\n",
       "      <th>dias_sin_compra</th>\n",
       "    </tr>\n",
       "  </thead>\n",
       "  <tbody>\n",
       "    <tr>\n",
       "      <th>0</th>\n",
       "      <td>1D98B7F7-F833-C02E-DAA6-08D1435402FA</td>\n",
       "      <td>2014-01-08</td>\n",
       "      <td>pamela_administracion@hotmail.com</td>\n",
       "      <td>17</td>\n",
       "      <td>2022-06-04</td>\n",
       "      <td>2022-05-29</td>\n",
       "      <td>ALERTA DE CONSUMO</td>\n",
       "      <td>2022-06-04</td>\n",
       "      <td>2022-06-18</td>\n",
       "      <td>3083</td>\n",
       "      <td>2022-06-18</td>\n",
       "      <td>14</td>\n",
       "    </tr>\n",
       "    <tr>\n",
       "      <th>1</th>\n",
       "      <td>1DA46825-B486-C6AF-98A0-08D0DC4B02B4</td>\n",
       "      <td>2014-01-06</td>\n",
       "      <td>cristinalope_23@hotmail.com</td>\n",
       "      <td>7</td>\n",
       "      <td>2022-04-01</td>\n",
       "      <td>2021-11-23</td>\n",
       "      <td>ORO</td>\n",
       "      <td>2022-04-01</td>\n",
       "      <td>2022-06-14</td>\n",
       "      <td>3081</td>\n",
       "      <td>2022-06-14</td>\n",
       "      <td>74</td>\n",
       "    </tr>\n",
       "    <tr>\n",
       "      <th>2</th>\n",
       "      <td>8EA23418-9D5A-CEB4-353C-08D0E2DCF98C</td>\n",
       "      <td>2013-12-20</td>\n",
       "      <td>nomail@none.com</td>\n",
       "      <td>3</td>\n",
       "      <td>2020-08-17</td>\n",
       "      <td>2019-10-20</td>\n",
       "      <td>ABANDONO</td>\n",
       "      <td>2020-08-17</td>\n",
       "      <td>2022-06-17</td>\n",
       "      <td>3101</td>\n",
       "      <td>NaN</td>\n",
       "      <td>669</td>\n",
       "    </tr>\n",
       "    <tr>\n",
       "      <th>3</th>\n",
       "      <td>4FC72B29-6F51-C1C2-F85E-08D0E1128FC2</td>\n",
       "      <td>2014-01-10</td>\n",
       "      <td>matingm01@gmail.com</td>\n",
       "      <td>2</td>\n",
       "      <td>2022-05-10</td>\n",
       "      <td>2021-02-22</td>\n",
       "      <td>PLATA</td>\n",
       "      <td>2022-05-10</td>\n",
       "      <td>2022-06-18</td>\n",
       "      <td>3081</td>\n",
       "      <td>NaN</td>\n",
       "      <td>39</td>\n",
       "    </tr>\n",
       "    <tr>\n",
       "      <th>4</th>\n",
       "      <td>ECA8E3D8-A621-C7AF-D712-08D0E06C0EA0</td>\n",
       "      <td>2013-12-16</td>\n",
       "      <td>paulamaggi@hotmail.com.ar</td>\n",
       "      <td>3</td>\n",
       "      <td>2022-04-16</td>\n",
       "      <td>2022-02-04</td>\n",
       "      <td>ORO</td>\n",
       "      <td>2022-04-16</td>\n",
       "      <td>2022-06-12</td>\n",
       "      <td>3100</td>\n",
       "      <td>NaN</td>\n",
       "      <td>57</td>\n",
       "    </tr>\n",
       "  </tbody>\n",
       "</table>\n",
       "</div>"
      ],
      "text/plain": [
       "                             CustomerId fecha_asociacion  \\\n",
       "0  1D98B7F7-F833-C02E-DAA6-08D1435402FA       2014-01-08   \n",
       "1  1DA46825-B486-C6AF-98A0-08D0DC4B02B4       2014-01-06   \n",
       "2  8EA23418-9D5A-CEB4-353C-08D0E2DCF98C       2013-12-20   \n",
       "3  4FC72B29-6F51-C1C2-F85E-08D0E1128FC2       2014-01-10   \n",
       "4  ECA8E3D8-A621-C7AF-D712-08D0E06C0EA0       2013-12-16   \n",
       "\n",
       "                               Email  cantidad_canjes ultima_compra  \\\n",
       "0  pamela_administracion@hotmail.com               17    2022-06-04   \n",
       "1        cristinalope_23@hotmail.com                7    2022-04-01   \n",
       "2                    nomail@none.com                3    2020-08-17   \n",
       "3                matingm01@gmail.com                2    2022-05-10   \n",
       "4          paulamaggi@hotmail.com.ar                3    2022-04-16   \n",
       "\n",
       "  ultimo_canje          categoria ultima_actividad fecha_canje_almendrado  \\\n",
       "0   2022-05-29  ALERTA DE CONSUMO       2022-06-04             2022-06-18   \n",
       "1   2021-11-23                ORO       2022-04-01             2022-06-14   \n",
       "2   2019-10-20           ABANDONO       2020-08-17             2022-06-17   \n",
       "3   2021-02-22              PLATA       2022-05-10             2022-06-18   \n",
       "4   2022-02-04                ORO       2022-04-16             2022-06-12   \n",
       "\n",
       "   dias_entre_asociacion_y_canje    SaleDate  dias_sin_compra  \n",
       "0                           3083  2022-06-18               14  \n",
       "1                           3081  2022-06-14               74  \n",
       "2                           3101         NaN              669  \n",
       "3                           3081         NaN               39  \n",
       "4                           3100         NaN               57  "
      ]
     },
     "execution_count": 47,
     "metadata": {},
     "output_type": "execute_result"
    }
   ],
   "source": [
    "clientes.ultima_actividad.fillna('2000-01-01',inplace=True)\n",
    "clientes.ultima_compra.fillna('2000-01-01',inplace=True)\n",
    "clientes['dias_sin_compra'] = (pd.to_datetime(clientes.fecha_canje_almendrado) - pd.to_datetime(clientes.ultima_compra)) / np.timedelta64(1,'D')\n",
    "clientes['dias_sin_compra'] = clientes['dias_sin_compra'].apply(np.floor).astype('int')"
   ]
  },
  {
   "cell_type": "code",
   "execution_count": 48,
   "id": "883f51dc",
   "metadata": {},
   "outputs": [],
   "source": [
    "clientes['dias_sin_actividad'] = (pd.to_datetime(clientes.fecha_canje_almendrado) - pd.to_datetime(clientes.ultima_actividad)) / np.timedelta64(1,'D')\n",
    "clientes['dias_sin_actividad'] = clientes['dias_sin_actividad'].apply(np.floor).astype('int')"
   ]
  },
  {
   "cell_type": "code",
   "execution_count": 49,
   "id": "90d80e87",
   "metadata": {},
   "outputs": [
    {
     "data": {
      "text/plain": [
       "33.0"
      ]
     },
     "execution_count": 49,
     "metadata": {},
     "output_type": "execute_result"
    }
   ],
   "source": [
    "clientes.dias_sin_compra.median()"
   ]
  },
  {
   "cell_type": "code",
   "execution_count": 50,
   "id": "bf749338",
   "metadata": {},
   "outputs": [
    {
     "data": {
      "image/png": "[encoded data removed]",
      "text/plain": [
       "<Figure size 432x288 with 1 Axes>"
      ]
     },
     "metadata": {
      "needs_background": "light"
     },
     "output_type": "display_data"
    }
   ],
   "source": [
    "plt.xlim(0,465)\n",
    "plt.hist(clientes.dias_sin_compra,bins=1000)\n",
    "plt.show()"
   ]
  },
  {
   "cell_type": "code",
   "execution_count": 51,
   "id": "ab1a1de1",
   "metadata": {},
   "outputs": [
    {
     "data": {
      "text/plain": [
       "0    14\n",
       "dtype: int32"
      ]
     },
     "execution_count": 51,
     "metadata": {},
     "output_type": "execute_result"
    }
   ],
   "source": [
    "clientes.dias_sin_compra.mode()"
   ]
  },
  {
   "cell_type": "code",
   "execution_count": 57,
   "id": "bac359bd",
   "metadata": {},
   "outputs": [],
   "source": [
    "clusters = [-np.inf,30,60,90,120,180,365,np.inf]\n",
    "nombres_clusters = ['Menos de 1 mes','Entre 1 y 2 meses','Entre 2 y 3 meses','Entre 3 y 4 meses','Entre 4 y 6 meses','Entre 6 y 12 meses','Más de 12 meses']\n",
    "clientes['segmento_última_compra'] = pd.cut(clientes.dias_sin_compra,bins= clusters, labels = nombres_clusters)\n",
    "clientes['segmento_última_actividad'] = pd.cut(clientes.dias_sin_actividad,bins= clusters, labels = nombres_clusters)"
   ]
  },
  {
   "cell_type": "code",
   "execution_count": 58,
   "id": "c35244e5",
   "metadata": {},
   "outputs": [
    {
     "data": {
      "text/html": [
       "<div>\n",
       "<style scoped>\n",
       "    .dataframe tbody tr th:only-of-type {\n",
       "        vertical-align: middle;\n",
       "    }\n",
       "\n",
       "    .dataframe tbody tr th {\n",
       "        vertical-align: top;\n",
       "    }\n",
       "\n",
       "    .dataframe thead th {\n",
       "        text-align: right;\n",
       "    }\n",
       "</style>\n",
       "<table border=\"1\" class=\"dataframe\">\n",
       "  <thead>\n",
       "    <tr style=\"text-align: right;\">\n",
       "      <th></th>\n",
       "      <th>segmento_última_compra</th>\n",
       "      <th>count</th>\n",
       "      <th>percent</th>\n",
       "      <th>cumulative_count</th>\n",
       "      <th>cumulative_percent</th>\n",
       "    </tr>\n",
       "  </thead>\n",
       "  <tbody>\n",
       "    <tr>\n",
       "      <th>0</th>\n",
       "      <td>Menos de 1 mes</td>\n",
       "      <td>20436</td>\n",
       "      <td>48.520822</td>\n",
       "      <td>20436</td>\n",
       "      <td>48.520822</td>\n",
       "    </tr>\n",
       "    <tr>\n",
       "      <th>1</th>\n",
       "      <td>Entre 1 y 2 meses</td>\n",
       "      <td>9287</td>\n",
       "      <td>22.049955</td>\n",
       "      <td>29723</td>\n",
       "      <td>70.570777</td>\n",
       "    </tr>\n",
       "    <tr>\n",
       "      <th>2</th>\n",
       "      <td>Entre 2 y 3 meses</td>\n",
       "      <td>4372</td>\n",
       "      <td>10.380360</td>\n",
       "      <td>34095</td>\n",
       "      <td>80.951137</td>\n",
       "    </tr>\n",
       "    <tr>\n",
       "      <th>3</th>\n",
       "      <td>Entre 3 y 4 meses</td>\n",
       "      <td>2924</td>\n",
       "      <td>6.942400</td>\n",
       "      <td>37019</td>\n",
       "      <td>87.893537</td>\n",
       "    </tr>\n",
       "    <tr>\n",
       "      <th>4</th>\n",
       "      <td>Entre 4 y 6 meses</td>\n",
       "      <td>2788</td>\n",
       "      <td>6.619498</td>\n",
       "      <td>39807</td>\n",
       "      <td>94.513035</td>\n",
       "    </tr>\n",
       "    <tr>\n",
       "      <th>5</th>\n",
       "      <td>Entre 6 y 12 meses</td>\n",
       "      <td>1520</td>\n",
       "      <td>3.608908</td>\n",
       "      <td>41327</td>\n",
       "      <td>98.121943</td>\n",
       "    </tr>\n",
       "    <tr>\n",
       "      <th>6</th>\n",
       "      <td>Más de 12 meses</td>\n",
       "      <td>791</td>\n",
       "      <td>1.878057</td>\n",
       "      <td>42118</td>\n",
       "      <td>100.000000</td>\n",
       "    </tr>\n",
       "  </tbody>\n",
       "</table>\n",
       "</div>"
      ],
      "text/plain": [
       "  segmento_última_compra  count    percent  cumulative_count  \\\n",
       "0         Menos de 1 mes  20436  48.520822             20436   \n",
       "1      Entre 1 y 2 meses   9287  22.049955             29723   \n",
       "2      Entre 2 y 3 meses   4372  10.380360             34095   \n",
       "3      Entre 3 y 4 meses   2924   6.942400             37019   \n",
       "4      Entre 4 y 6 meses   2788   6.619498             39807   \n",
       "5     Entre 6 y 12 meses   1520   3.608908             41327   \n",
       "6        Más de 12 meses    791   1.878057             42118   \n",
       "\n",
       "   cumulative_percent  \n",
       "0           48.520822  \n",
       "1           70.570777  \n",
       "2           80.951137  \n",
       "3           87.893537  \n",
       "4           94.513035  \n",
       "5           98.121943  \n",
       "6          100.000000  "
      ]
     },
     "execution_count": 58,
     "metadata": {},
     "output_type": "execute_result"
    }
   ],
   "source": [
    "clientes.stb.freq(['segmento_última_compra'])"
   ]
  },
  {
   "cell_type": "code",
   "execution_count": 59,
   "id": "f3df165a",
   "metadata": {},
   "outputs": [
    {
     "data": {
      "text/html": [
       "<div>\n",
       "<style scoped>\n",
       "    .dataframe tbody tr th:only-of-type {\n",
       "        vertical-align: middle;\n",
       "    }\n",
       "\n",
       "    .dataframe tbody tr th {\n",
       "        vertical-align: top;\n",
       "    }\n",
       "\n",
       "    .dataframe thead th {\n",
       "        text-align: right;\n",
       "    }\n",
       "</style>\n",
       "<table border=\"1\" class=\"dataframe\">\n",
       "  <thead>\n",
       "    <tr style=\"text-align: right;\">\n",
       "      <th></th>\n",
       "      <th>segmento_última_actividad</th>\n",
       "      <th>count</th>\n",
       "      <th>percent</th>\n",
       "      <th>cumulative_count</th>\n",
       "      <th>cumulative_percent</th>\n",
       "    </tr>\n",
       "  </thead>\n",
       "  <tbody>\n",
       "    <tr>\n",
       "      <th>0</th>\n",
       "      <td>Menos de 1 mes</td>\n",
       "      <td>20704</td>\n",
       "      <td>49.157130</td>\n",
       "      <td>20704</td>\n",
       "      <td>49.157130</td>\n",
       "    </tr>\n",
       "    <tr>\n",
       "      <th>1</th>\n",
       "      <td>Entre 1 y 2 meses</td>\n",
       "      <td>9587</td>\n",
       "      <td>22.762239</td>\n",
       "      <td>30291</td>\n",
       "      <td>71.919369</td>\n",
       "    </tr>\n",
       "    <tr>\n",
       "      <th>2</th>\n",
       "      <td>Entre 2 y 3 meses</td>\n",
       "      <td>4276</td>\n",
       "      <td>10.152429</td>\n",
       "      <td>34567</td>\n",
       "      <td>82.071798</td>\n",
       "    </tr>\n",
       "    <tr>\n",
       "      <th>3</th>\n",
       "      <td>Entre 3 y 4 meses</td>\n",
       "      <td>2792</td>\n",
       "      <td>6.628995</td>\n",
       "      <td>37359</td>\n",
       "      <td>88.700793</td>\n",
       "    </tr>\n",
       "    <tr>\n",
       "      <th>4</th>\n",
       "      <td>Entre 4 y 6 meses</td>\n",
       "      <td>2639</td>\n",
       "      <td>6.265730</td>\n",
       "      <td>39998</td>\n",
       "      <td>94.966523</td>\n",
       "    </tr>\n",
       "    <tr>\n",
       "      <th>5</th>\n",
       "      <td>Entre 6 y 12 meses</td>\n",
       "      <td>1412</td>\n",
       "      <td>3.352486</td>\n",
       "      <td>41410</td>\n",
       "      <td>98.319008</td>\n",
       "    </tr>\n",
       "    <tr>\n",
       "      <th>6</th>\n",
       "      <td>Más de 12 meses</td>\n",
       "      <td>708</td>\n",
       "      <td>1.680992</td>\n",
       "      <td>42118</td>\n",
       "      <td>100.000000</td>\n",
       "    </tr>\n",
       "  </tbody>\n",
       "</table>\n",
       "</div>"
      ],
      "text/plain": [
       "  segmento_última_actividad  count    percent  cumulative_count  \\\n",
       "0            Menos de 1 mes  20704  49.157130             20704   \n",
       "1         Entre 1 y 2 meses   9587  22.762239             30291   \n",
       "2         Entre 2 y 3 meses   4276  10.152429             34567   \n",
       "3         Entre 3 y 4 meses   2792   6.628995             37359   \n",
       "4         Entre 4 y 6 meses   2639   6.265730             39998   \n",
       "5        Entre 6 y 12 meses   1412   3.352486             41410   \n",
       "6           Más de 12 meses    708   1.680992             42118   \n",
       "\n",
       "   cumulative_percent  \n",
       "0           49.157130  \n",
       "1           71.919369  \n",
       "2           82.071798  \n",
       "3           88.700793  \n",
       "4           94.966523  \n",
       "5           98.319008  \n",
       "6          100.000000  "
      ]
     },
     "execution_count": 59,
     "metadata": {},
     "output_type": "execute_result"
    }
   ],
   "source": [
    "clientes.stb.freq(['segmento_última_actividad'])"
   ]
  },
  {
   "cell_type": "markdown",
   "id": "592d8618",
   "metadata": {},
   "source": [
    "### Socios que abrieron el mail y canjearon?"
   ]
  },
  {
   "cell_type": "code",
   "execution_count": 93,
   "id": "01e978bb",
   "metadata": {},
   "outputs": [
    {
     "data": {
      "text/plain": [
       "(349214, 5)"
      ]
     },
     "execution_count": 93,
     "metadata": {},
     "output_type": "execute_result"
    }
   ],
   "source": [
    "path = r''\n",
    "all_files = glob.glob(path + \"\\*.csv\")\n",
    "\n",
    "envios_efectivos = pd.concat((pd.read_csv(f,delimiter = \";\",encoding='utf16') for f in all_files))\n",
    "envios_efectivos.sort_values('FECHA',inplace=True)\n",
    "envios_efectivos.shape"
   ]
  },
  {
   "cell_type": "code",
   "execution_count": 94,
   "id": "71de3123",
   "metadata": {},
   "outputs": [
    {
     "name": "stdout",
     "output_type": "stream",
     "text": [
      "251240 personas abrieron al menos un mail\n"
     ]
    }
   ],
   "source": [
    "envios_efectivos.drop_duplicates(subset=['EMAIL'],inplace=True)\n",
    "print(envios_efectivos.shape[0],'personas abrieron al menos un mail')"
   ]
  },
  {
   "cell_type": "code",
   "execution_count": 68,
   "id": "6ef80322",
   "metadata": {},
   "outputs": [
    {
     "data": {
      "text/plain": [
       "0    0.553208\n",
       "1    0.446792\n",
       "Name: abrieron_mail, dtype: float64"
      ]
     },
     "execution_count": 68,
     "metadata": {},
     "output_type": "execute_result"
    }
   ],
   "source": [
    "clientes['abrieron_mail'] = np.where(clientes.Email.isin(envios_efectivos.EMAIL),1,0)\n",
    "clientes.abrieron_mail.value_counts(normalize=True)"
   ]
  },
  {
   "cell_type": "code",
   "execution_count": 71,
   "id": "8148b749",
   "metadata": {},
   "outputs": [],
   "source": [
    "clientes['canjearon_y_compraron']=np.where(~clientes.SaleDate.isnull(),1,0)"
   ]
  },
  {
   "cell_type": "code",
   "execution_count": 72,
   "id": "b982bc5b",
   "metadata": {},
   "outputs": [
    {
     "data": {
      "text/plain": [
       "0    0.579467\n",
       "1    0.420533\n",
       "Name: canjearon_y_compraron, dtype: float64"
      ]
     },
     "execution_count": 72,
     "metadata": {},
     "output_type": "execute_result"
    }
   ],
   "source": [
    "clientes.canjearon_y_compraron.value_counts(normalize=True)"
   ]
  },
  {
   "cell_type": "code",
   "execution_count": 74,
   "id": "06ef812a",
   "metadata": {},
   "outputs": [
    {
     "name": "stdout",
     "output_type": "stream",
     "text": [
      "Socios que abrieron el mail, canjearon y compraron: 6181\n",
      "Sobre el total que canjearon y compraron esto es 34.89724480578139\n",
      "Sobre el total que canjearon 14.675435680706586\n"
     ]
    }
   ],
   "source": [
    "print( 'Socios que abrieron el mail, canjearon y compraron:', clientes[(clientes.canjearon_y_compraron ==1) & (clientes.abrieron_mail == 1)].shape[0])\n",
    "print('Sobre el total que canjearon y compraron esto es',clientes[(clientes.canjearon_y_compraron ==1) & (clientes.abrieron_mail == 1)].shape[0]/clientes[clientes.canjearon_y_compraron ==1].shape[0]*100)\n",
    "print('Sobre el total que canjearon',clientes[(clientes.canjearon_y_compraron ==1) & (clientes.abrieron_mail == 1)].shape[0]/clientes.shape[0]*100)"
   ]
  },
  {
   "cell_type": "markdown",
   "id": "7e5b12dc",
   "metadata": {},
   "source": [
    "¿Cuanto tiempo tardan en comprar los socios luego de abrir el mail?"
   ]
  },
  {
   "cell_type": "code",
   "execution_count": 76,
   "id": "af18da08",
   "metadata": {},
   "outputs": [
    {
     "data": {
      "text/html": [
       "<div>\n",
       "<style scoped>\n",
       "    .dataframe tbody tr th:only-of-type {\n",
       "        vertical-align: middle;\n",
       "    }\n",
       "\n",
       "    .dataframe tbody tr th {\n",
       "        vertical-align: top;\n",
       "    }\n",
       "\n",
       "    .dataframe thead th {\n",
       "        text-align: right;\n",
       "    }\n",
       "</style>\n",
       "<table border=\"1\" class=\"dataframe\">\n",
       "  <thead>\n",
       "    <tr style=\"text-align: right;\">\n",
       "      <th></th>\n",
       "      <th>CustomerId</th>\n",
       "      <th>fecha_asociacion</th>\n",
       "      <th>Email</th>\n",
       "      <th>cantidad_canjes</th>\n",
       "      <th>ultima_compra</th>\n",
       "      <th>ultimo_canje</th>\n",
       "      <th>categoria</th>\n",
       "      <th>ultima_actividad</th>\n",
       "      <th>fecha_canje_almendrado</th>\n",
       "      <th>dias_entre_asociacion_y_canje</th>\n",
       "      <th>SaleDate</th>\n",
       "      <th>dias_sin_compra</th>\n",
       "      <th>dias_sin_actividad</th>\n",
       "      <th>segmento_última_compra</th>\n",
       "      <th>segmento_última_actividad</th>\n",
       "      <th>abrieron_mail</th>\n",
       "      <th>canjearon_y_compraron</th>\n",
       "    </tr>\n",
       "  </thead>\n",
       "  <tbody>\n",
       "    <tr>\n",
       "      <th>0</th>\n",
       "      <td>1D98B7F7-F833-C02E-DAA6-08D1435402FA</td>\n",
       "      <td>2014-01-08</td>\n",
       "      <td>pamela_administracion@hotmail.com</td>\n",
       "      <td>17</td>\n",
       "      <td>2022-06-04</td>\n",
       "      <td>2022-05-29</td>\n",
       "      <td>ALERTA DE CONSUMO</td>\n",
       "      <td>2022-06-04</td>\n",
       "      <td>2022-06-18</td>\n",
       "      <td>3083</td>\n",
       "      <td>2022-06-18</td>\n",
       "      <td>14</td>\n",
       "      <td>14</td>\n",
       "      <td>Menos de 1 mes</td>\n",
       "      <td>Menos de 1 mes</td>\n",
       "      <td>0</td>\n",
       "      <td>1</td>\n",
       "    </tr>\n",
       "    <tr>\n",
       "      <th>1</th>\n",
       "      <td>1DA46825-B486-C6AF-98A0-08D0DC4B02B4</td>\n",
       "      <td>2014-01-06</td>\n",
       "      <td>cristinalope_23@hotmail.com</td>\n",
       "      <td>7</td>\n",
       "      <td>2022-04-01</td>\n",
       "      <td>2021-11-23</td>\n",
       "      <td>ORO</td>\n",
       "      <td>2022-04-01</td>\n",
       "      <td>2022-06-14</td>\n",
       "      <td>3081</td>\n",
       "      <td>2022-06-14</td>\n",
       "      <td>74</td>\n",
       "      <td>74</td>\n",
       "      <td>Entre 2 y 3 meses</td>\n",
       "      <td>Entre 2 y 3 meses</td>\n",
       "      <td>0</td>\n",
       "      <td>1</td>\n",
       "    </tr>\n",
       "    <tr>\n",
       "      <th>2</th>\n",
       "      <td>8EA23418-9D5A-CEB4-353C-08D0E2DCF98C</td>\n",
       "      <td>2013-12-20</td>\n",
       "      <td>nomail@none.com</td>\n",
       "      <td>3</td>\n",
       "      <td>2020-08-17</td>\n",
       "      <td>2019-10-20</td>\n",
       "      <td>ABANDONO</td>\n",
       "      <td>2020-08-17</td>\n",
       "      <td>2022-06-17</td>\n",
       "      <td>3101</td>\n",
       "      <td>NaN</td>\n",
       "      <td>669</td>\n",
       "      <td>669</td>\n",
       "      <td>Más de 12 meses</td>\n",
       "      <td>Más de 12 meses</td>\n",
       "      <td>0</td>\n",
       "      <td>0</td>\n",
       "    </tr>\n",
       "    <tr>\n",
       "      <th>3</th>\n",
       "      <td>4FC72B29-6F51-C1C2-F85E-08D0E1128FC2</td>\n",
       "      <td>2014-01-10</td>\n",
       "      <td>matingm01@gmail.com</td>\n",
       "      <td>2</td>\n",
       "      <td>2022-05-10</td>\n",
       "      <td>2021-02-22</td>\n",
       "      <td>PLATA</td>\n",
       "      <td>2022-05-10</td>\n",
       "      <td>2022-06-18</td>\n",
       "      <td>3081</td>\n",
       "      <td>NaN</td>\n",
       "      <td>39</td>\n",
       "      <td>39</td>\n",
       "      <td>Entre 1 y 2 meses</td>\n",
       "      <td>Entre 1 y 2 meses</td>\n",
       "      <td>0</td>\n",
       "      <td>0</td>\n",
       "    </tr>\n",
       "    <tr>\n",
       "      <th>4</th>\n",
       "      <td>ECA8E3D8-A621-C7AF-D712-08D0E06C0EA0</td>\n",
       "      <td>2013-12-16</td>\n",
       "      <td>paulamaggi@hotmail.com.ar</td>\n",
       "      <td>3</td>\n",
       "      <td>2022-04-16</td>\n",
       "      <td>2022-02-04</td>\n",
       "      <td>ORO</td>\n",
       "      <td>2022-04-16</td>\n",
       "      <td>2022-06-12</td>\n",
       "      <td>3100</td>\n",
       "      <td>NaN</td>\n",
       "      <td>57</td>\n",
       "      <td>57</td>\n",
       "      <td>Entre 1 y 2 meses</td>\n",
       "      <td>Entre 1 y 2 meses</td>\n",
       "      <td>0</td>\n",
       "      <td>0</td>\n",
       "    </tr>\n",
       "  </tbody>\n",
       "</table>\n",
       "</div>"
      ],
      "text/plain": [
       "                             CustomerId fecha_asociacion  \\\n",
       "0  1D98B7F7-F833-C02E-DAA6-08D1435402FA       2014-01-08   \n",
       "1  1DA46825-B486-C6AF-98A0-08D0DC4B02B4       2014-01-06   \n",
       "2  8EA23418-9D5A-CEB4-353C-08D0E2DCF98C       2013-12-20   \n",
       "3  4FC72B29-6F51-C1C2-F85E-08D0E1128FC2       2014-01-10   \n",
       "4  ECA8E3D8-A621-C7AF-D712-08D0E06C0EA0       2013-12-16   \n",
       "\n",
       "                               Email  cantidad_canjes ultima_compra  \\\n",
       "0  pamela_administracion@hotmail.com               17    2022-06-04   \n",
       "1        cristinalope_23@hotmail.com                7    2022-04-01   \n",
       "2                    nomail@none.com                3    2020-08-17   \n",
       "3                matingm01@gmail.com                2    2022-05-10   \n",
       "4          paulamaggi@hotmail.com.ar                3    2022-04-16   \n",
       "\n",
       "  ultimo_canje          categoria ultima_actividad fecha_canje_almendrado  \\\n",
       "0   2022-05-29  ALERTA DE CONSUMO       2022-06-04             2022-06-18   \n",
       "1   2021-11-23                ORO       2022-04-01             2022-06-14   \n",
       "2   2019-10-20           ABANDONO       2020-08-17             2022-06-17   \n",
       "3   2021-02-22              PLATA       2022-05-10             2022-06-18   \n",
       "4   2022-02-04                ORO       2022-04-16             2022-06-12   \n",
       "\n",
       "   dias_entre_asociacion_y_canje    SaleDate  dias_sin_compra  \\\n",
       "0                           3083  2022-06-18               14   \n",
       "1                           3081  2022-06-14               74   \n",
       "2                           3101         NaN              669   \n",
       "3                           3081         NaN               39   \n",
       "4                           3100         NaN               57   \n",
       "\n",
       "   dias_sin_actividad segmento_última_compra segmento_última_actividad  \\\n",
       "0                  14         Menos de 1 mes            Menos de 1 mes   \n",
       "1                  74      Entre 2 y 3 meses         Entre 2 y 3 meses   \n",
       "2                 669        Más de 12 meses           Más de 12 meses   \n",
       "3                  39      Entre 1 y 2 meses         Entre 1 y 2 meses   \n",
       "4                  57      Entre 1 y 2 meses         Entre 1 y 2 meses   \n",
       "\n",
       "   abrieron_mail  canjearon_y_compraron  \n",
       "0              0                      1  \n",
       "1              0                      1  \n",
       "2              0                      0  \n",
       "3              0                      0  \n",
       "4              0                      0  "
      ]
     },
     "execution_count": 76,
     "metadata": {},
     "output_type": "execute_result"
    }
   ],
   "source": [
    "clientes.head()"
   ]
  },
  {
   "cell_type": "code",
   "execution_count": 75,
   "id": "9e97d51c",
   "metadata": {},
   "outputs": [
    {
     "data": {
      "text/html": [
       "<div>\n",
       "<style scoped>\n",
       "    .dataframe tbody tr th:only-of-type {\n",
       "        vertical-align: middle;\n",
       "    }\n",
       "\n",
       "    .dataframe tbody tr th {\n",
       "        vertical-align: top;\n",
       "    }\n",
       "\n",
       "    .dataframe thead th {\n",
       "        text-align: right;\n",
       "    }\n",
       "</style>\n",
       "<table border=\"1\" class=\"dataframe\">\n",
       "  <thead>\n",
       "    <tr style=\"text-align: right;\">\n",
       "      <th></th>\n",
       "      <th>FECHA</th>\n",
       "      <th>EMAIL</th>\n",
       "      <th>ACTIVIDAD</th>\n",
       "      <th>CAMPANIA</th>\n",
       "      <th>ACCION</th>\n",
       "    </tr>\n",
       "  </thead>\n",
       "  <tbody>\n",
       "    <tr>\n",
       "      <th>13854</th>\n",
       "      <td>2022-06-24 10:54:12.500</td>\n",
       "      <td>rominagiselediaz89@gmail.com</td>\n",
       "      <td>Aperturas Originales</td>\n",
       "      <td>JUNIO 22</td>\n",
       "      <td>Día del padre - A ACTIVAR</td>\n",
       "    </tr>\n",
       "    <tr>\n",
       "      <th>4728</th>\n",
       "      <td>2022-06-24 10:53:39.647</td>\n",
       "      <td>ernecur1959@gmail.com</td>\n",
       "      <td>Aperturas Originales</td>\n",
       "      <td>JUNIO 22</td>\n",
       "      <td>Día del padre - A ACTIVAR</td>\n",
       "    </tr>\n",
       "    <tr>\n",
       "      <th>2091</th>\n",
       "      <td>2022-06-24 10:53:38.290</td>\n",
       "      <td>caiacabj16@gmail.com</td>\n",
       "      <td>Aperturas Originales</td>\n",
       "      <td>JUNIO 22</td>\n",
       "      <td>Día del padre - A ACTIVAR</td>\n",
       "    </tr>\n",
       "    <tr>\n",
       "      <th>8285</th>\n",
       "      <td>2022-06-24 10:53:28.940</td>\n",
       "      <td>lananudesanmiguel@gmail.com</td>\n",
       "      <td>Aperturas Originales</td>\n",
       "      <td>JUNIO 22</td>\n",
       "      <td>Día del padre - A ACTIVAR</td>\n",
       "    </tr>\n",
       "    <tr>\n",
       "      <th>16617</th>\n",
       "      <td>2022-06-24 10:52:39.957</td>\n",
       "      <td>zulmavitale.67@gmail.com</td>\n",
       "      <td>Aperturas Originales</td>\n",
       "      <td>JUNIO 22</td>\n",
       "      <td>Día del padre - A ACTIVAR</td>\n",
       "    </tr>\n",
       "  </tbody>\n",
       "</table>\n",
       "</div>"
      ],
      "text/plain": [
       "                         FECHA                         EMAIL  \\\n",
       "13854  2022-06-24 10:54:12.500  rominagiselediaz89@gmail.com   \n",
       "4728   2022-06-24 10:53:39.647         ernecur1959@gmail.com   \n",
       "2091   2022-06-24 10:53:38.290          caiacabj16@gmail.com   \n",
       "8285   2022-06-24 10:53:28.940   lananudesanmiguel@gmail.com   \n",
       "16617  2022-06-24 10:52:39.957      zulmavitale.67@gmail.com   \n",
       "\n",
       "                  ACTIVIDAD  CAMPANIA                     ACCION  \n",
       "13854  Aperturas Originales  JUNIO 22  Día del padre - A ACTIVAR  \n",
       "4728   Aperturas Originales  JUNIO 22  Día del padre - A ACTIVAR  \n",
       "2091   Aperturas Originales  JUNIO 22  Día del padre - A ACTIVAR  \n",
       "8285   Aperturas Originales  JUNIO 22  Día del padre - A ACTIVAR  \n",
       "16617  Aperturas Originales  JUNIO 22  Día del padre - A ACTIVAR  "
      ]
     },
     "execution_count": 75,
     "metadata": {},
     "output_type": "execute_result"
    }
   ],
   "source": [
    "envios_efectivos.head()"
   ]
  },
  {
   "cell_type": "code",
   "execution_count": 96,
   "id": "2bb2ee0d",
   "metadata": {},
   "outputs": [],
   "source": [
    "clientes.drop(columns=['fecha_apertura_mail'],inplace=True)"
   ]
  },
  {
   "cell_type": "code",
   "execution_count": 97,
   "id": "baba498b",
   "metadata": {},
   "outputs": [],
   "source": [
    "clientes=clientes.merge(envios_efectivos[['FECHA','EMAIL']],left_on='Email',right_on='EMAIL',how='left')\n",
    "clientes.drop(columns=['EMAIL'],inplace=True)\n",
    "clientes.rename(columns={'FECHA':'fecha_apertura_mail'},inplace=True)\n",
    "clientes['fecha_apertura_mail'] = pd.to_datetime(clientes['fecha_apertura_mail']).dt.date\n",
    "clientes['dias_entre_apertura_mail_y_canje'] = (pd.to_datetime(clientes.fecha_canje_almendrado) - pd.to_datetime(clientes.fecha_apertura_mail)) / np.timedelta64(1,'D')"
   ]
  },
  {
   "cell_type": "code",
   "execution_count": 104,
   "id": "30d54d35",
   "metadata": {},
   "outputs": [
    {
     "data": {
      "text/html": [
       "<div>\n",
       "<style scoped>\n",
       "    .dataframe tbody tr th:only-of-type {\n",
       "        vertical-align: middle;\n",
       "    }\n",
       "\n",
       "    .dataframe tbody tr th {\n",
       "        vertical-align: top;\n",
       "    }\n",
       "\n",
       "    .dataframe thead th {\n",
       "        text-align: right;\n",
       "    }\n",
       "</style>\n",
       "<table border=\"1\" class=\"dataframe\">\n",
       "  <thead>\n",
       "    <tr style=\"text-align: right;\">\n",
       "      <th></th>\n",
       "      <th>dias_entre_apertura_mail_y_canje</th>\n",
       "      <th>count</th>\n",
       "      <th>percent</th>\n",
       "      <th>cumulative_count</th>\n",
       "      <th>cumulative_percent</th>\n",
       "    </tr>\n",
       "  </thead>\n",
       "  <tbody>\n",
       "    <tr>\n",
       "      <th>0</th>\n",
       "      <td>0.0</td>\n",
       "      <td>3453</td>\n",
       "      <td>18.349453</td>\n",
       "      <td>3453</td>\n",
       "      <td>18.349453</td>\n",
       "    </tr>\n",
       "    <tr>\n",
       "      <th>1</th>\n",
       "      <td>1.0</td>\n",
       "      <td>2988</td>\n",
       "      <td>15.878414</td>\n",
       "      <td>6441</td>\n",
       "      <td>34.227867</td>\n",
       "    </tr>\n",
       "    <tr>\n",
       "      <th>2</th>\n",
       "      <td>3.0</td>\n",
       "      <td>2027</td>\n",
       "      <td>10.771602</td>\n",
       "      <td>8468</td>\n",
       "      <td>44.999469</td>\n",
       "    </tr>\n",
       "    <tr>\n",
       "      <th>3</th>\n",
       "      <td>2.0</td>\n",
       "      <td>1968</td>\n",
       "      <td>10.458072</td>\n",
       "      <td>10436</td>\n",
       "      <td>55.457541</td>\n",
       "    </tr>\n",
       "    <tr>\n",
       "      <th>4</th>\n",
       "      <td>4.0</td>\n",
       "      <td>1795</td>\n",
       "      <td>9.538740</td>\n",
       "      <td>12231</td>\n",
       "      <td>64.996280</td>\n",
       "    </tr>\n",
       "    <tr>\n",
       "      <th>5</th>\n",
       "      <td>7.0</td>\n",
       "      <td>1397</td>\n",
       "      <td>7.423743</td>\n",
       "      <td>13628</td>\n",
       "      <td>72.420023</td>\n",
       "    </tr>\n",
       "    <tr>\n",
       "      <th>6</th>\n",
       "      <td>6.0</td>\n",
       "      <td>1343</td>\n",
       "      <td>7.136784</td>\n",
       "      <td>14971</td>\n",
       "      <td>79.556807</td>\n",
       "    </tr>\n",
       "    <tr>\n",
       "      <th>7</th>\n",
       "      <td>8.0</td>\n",
       "      <td>1220</td>\n",
       "      <td>6.483154</td>\n",
       "      <td>16191</td>\n",
       "      <td>86.039962</td>\n",
       "    </tr>\n",
       "    <tr>\n",
       "      <th>8</th>\n",
       "      <td>5.0</td>\n",
       "      <td>1202</td>\n",
       "      <td>6.387501</td>\n",
       "      <td>17393</td>\n",
       "      <td>92.427463</td>\n",
       "    </tr>\n",
       "    <tr>\n",
       "      <th>9</th>\n",
       "      <td>-1.0</td>\n",
       "      <td>346</td>\n",
       "      <td>1.838665</td>\n",
       "      <td>17739</td>\n",
       "      <td>94.266128</td>\n",
       "    </tr>\n",
       "    <tr>\n",
       "      <th>10</th>\n",
       "      <td>-2.0</td>\n",
       "      <td>263</td>\n",
       "      <td>1.397598</td>\n",
       "      <td>18002</td>\n",
       "      <td>95.663726</td>\n",
       "    </tr>\n",
       "    <tr>\n",
       "      <th>11</th>\n",
       "      <td>-3.0</td>\n",
       "      <td>259</td>\n",
       "      <td>1.376342</td>\n",
       "      <td>18261</td>\n",
       "      <td>97.040068</td>\n",
       "    </tr>\n",
       "    <tr>\n",
       "      <th>12</th>\n",
       "      <td>-4.0</td>\n",
       "      <td>167</td>\n",
       "      <td>0.887448</td>\n",
       "      <td>18428</td>\n",
       "      <td>97.927516</td>\n",
       "    </tr>\n",
       "    <tr>\n",
       "      <th>13</th>\n",
       "      <td>-5.0</td>\n",
       "      <td>110</td>\n",
       "      <td>0.584547</td>\n",
       "      <td>18538</td>\n",
       "      <td>98.512063</td>\n",
       "    </tr>\n",
       "    <tr>\n",
       "      <th>14</th>\n",
       "      <td>-6.0</td>\n",
       "      <td>88</td>\n",
       "      <td>0.467637</td>\n",
       "      <td>18626</td>\n",
       "      <td>98.979700</td>\n",
       "    </tr>\n",
       "    <tr>\n",
       "      <th>15</th>\n",
       "      <td>-7.0</td>\n",
       "      <td>83</td>\n",
       "      <td>0.441067</td>\n",
       "      <td>18709</td>\n",
       "      <td>99.420767</td>\n",
       "    </tr>\n",
       "    <tr>\n",
       "      <th>16</th>\n",
       "      <td>-8.0</td>\n",
       "      <td>55</td>\n",
       "      <td>0.292273</td>\n",
       "      <td>18764</td>\n",
       "      <td>99.713041</td>\n",
       "    </tr>\n",
       "    <tr>\n",
       "      <th>17</th>\n",
       "      <td>-9.0</td>\n",
       "      <td>27</td>\n",
       "      <td>0.143480</td>\n",
       "      <td>18791</td>\n",
       "      <td>99.856520</td>\n",
       "    </tr>\n",
       "    <tr>\n",
       "      <th>18</th>\n",
       "      <td>-10.0</td>\n",
       "      <td>14</td>\n",
       "      <td>0.074397</td>\n",
       "      <td>18805</td>\n",
       "      <td>99.930917</td>\n",
       "    </tr>\n",
       "    <tr>\n",
       "      <th>19</th>\n",
       "      <td>-11.0</td>\n",
       "      <td>9</td>\n",
       "      <td>0.047827</td>\n",
       "      <td>18814</td>\n",
       "      <td>99.978744</td>\n",
       "    </tr>\n",
       "    <tr>\n",
       "      <th>20</th>\n",
       "      <td>-12.0</td>\n",
       "      <td>4</td>\n",
       "      <td>0.021256</td>\n",
       "      <td>18818</td>\n",
       "      <td>100.000000</td>\n",
       "    </tr>\n",
       "  </tbody>\n",
       "</table>\n",
       "</div>"
      ],
      "text/plain": [
       "    dias_entre_apertura_mail_y_canje  count    percent  cumulative_count  \\\n",
       "0                                0.0   3453  18.349453              3453   \n",
       "1                                1.0   2988  15.878414              6441   \n",
       "2                                3.0   2027  10.771602              8468   \n",
       "3                                2.0   1968  10.458072             10436   \n",
       "4                                4.0   1795   9.538740             12231   \n",
       "5                                7.0   1397   7.423743             13628   \n",
       "6                                6.0   1343   7.136784             14971   \n",
       "7                                8.0   1220   6.483154             16191   \n",
       "8                                5.0   1202   6.387501             17393   \n",
       "9                               -1.0    346   1.838665             17739   \n",
       "10                              -2.0    263   1.397598             18002   \n",
       "11                              -3.0    259   1.376342             18261   \n",
       "12                              -4.0    167   0.887448             18428   \n",
       "13                              -5.0    110   0.584547             18538   \n",
       "14                              -6.0     88   0.467637             18626   \n",
       "15                              -7.0     83   0.441067             18709   \n",
       "16                              -8.0     55   0.292273             18764   \n",
       "17                              -9.0     27   0.143480             18791   \n",
       "18                             -10.0     14   0.074397             18805   \n",
       "19                             -11.0      9   0.047827             18814   \n",
       "20                             -12.0      4   0.021256             18818   \n",
       "\n",
       "    cumulative_percent  \n",
       "0            18.349453  \n",
       "1            34.227867  \n",
       "2            44.999469  \n",
       "3            55.457541  \n",
       "4            64.996280  \n",
       "5            72.420023  \n",
       "6            79.556807  \n",
       "7            86.039962  \n",
       "8            92.427463  \n",
       "9            94.266128  \n",
       "10           95.663726  \n",
       "11           97.040068  \n",
       "12           97.927516  \n",
       "13           98.512063  \n",
       "14           98.979700  \n",
       "15           99.420767  \n",
       "16           99.713041  \n",
       "17           99.856520  \n",
       "18           99.930917  \n",
       "19           99.978744  \n",
       "20          100.000000  "
      ]
     },
     "execution_count": 104,
     "metadata": {},
     "output_type": "execute_result"
    }
   ],
   "source": [
    "clientes.stb.freq(['dias_entre_apertura_mail_y_canje'])"
   ]
  },
  {
   "cell_type": "markdown",
   "id": "b0a82ee9",
   "metadata": {},
   "source": [
    "##### Extraigo el listado de socios para, en un futuro, hacer un analisis sobre cambio de comportamiento de consumo a partir de esta accion"
   ]
  },
  {
   "cell_type": "code",
   "execution_count": 285,
   "id": "5b174541",
   "metadata": {},
   "outputs": [],
   "source": [
    "clientes[['CustomerId','canjearon_y_compraron', 'dias_entre_asociacio_y_canje','dias_sin_compra',\n",
    "       'dias_sin_actividad', 'segmento_última_compra',\n",
    "       'segmento_última_actividad']].to_excel(r'')"
   ]
  }
 ],
 "metadata": {
  "kernelspec": {
   "display_name": "Python 3",
   "language": "python",
   "name": "python3"
  },
  "language_info": {
   "codemirror_mode": {
    "name": "ipython",
    "version": 3
   },
   "file_extension": ".py",
   "mimetype": "text/x-python",
   "name": "python",
   "nbconvert_exporter": "python",
   "pygments_lexer": "ipython3",
   "version": "3.8.8"
  }
 },
 "nbformat": 4,
 "nbformat_minor": 5
}
