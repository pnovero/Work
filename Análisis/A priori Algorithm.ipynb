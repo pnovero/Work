{
 "cells": [
  {
   "cell_type": "markdown",
   "id": "35b5f619",
   "metadata": {},
   "source": [
    "### En este notebook hago una prueba de implementación del algoritmo de market basket 'a priori' con el objetivo de implementarlo en casos más específicos en un futuro.\n",
    "\n",
    "##### También aprovecho para sacar días y horas de mayores ventas"
   ]
  },
  {
   "cell_type": "code",
   "execution_count": null,
   "id": "c2461a88",
   "metadata": {},
   "outputs": [],
   "source": [
    "import numpy as np\n",
    "import pandas as pd\n",
    "from mlxtend.frequent_patterns import apriori, association_rules\n",
    "import matplotlib.pyplot as plt\n",
    "import seaborn as sns\n",
    "import datetime as dt\n",
    "\n",
    "pd.set_option('display.max_rows', 10000)\n",
    "pd.set_option('display.max_columns', 10000)"
   ]
  },
  {
   "cell_type": "code",
   "execution_count": null,
   "id": "daebfd8e",
   "metadata": {
    "scrolled": true
   },
   "outputs": [],
   "source": [
    "ventas = pd.read_csv(r'C:\\Users\\pablo\\OneDrive - Helacor S.A\\Club Grido\\Extractos DW\\ventas_primer_semestre_21-22.csv')\n",
    "ventas.head()"
   ]
  },
  {
   "cell_type": "code",
   "execution_count": null,
   "id": "64b7d4fb",
   "metadata": {},
   "outputs": [],
   "source": [
    "pd.DataFrame(ventas.ProductName.value_counts(normalize=True)*100).head(10)"
   ]
  },
  {
   "cell_type": "markdown",
   "id": "e0d15d76",
   "metadata": {},
   "source": [
    "##### Analizo las horas de venta"
   ]
  },
  {
   "cell_type": "code",
   "execution_count": null,
   "id": "92c091a5",
   "metadata": {},
   "outputs": [],
   "source": [
    "horas = pd.to_datetime(ventas['SaleDate']).dt.hour"
   ]
  },
  {
   "cell_type": "code",
   "execution_count": null,
   "id": "223db3af",
   "metadata": {},
   "outputs": [],
   "source": [
    "fig, ax = plt.subplots(figsize=(10,7))\n",
    "ax.tick_params(axis='x', labelrotation = 30)\n",
    "plt.title('Compras por hora del día')\n",
    "fig = sns.countplot(y=horas, palette=[\"#0C3B65\"])\n",
    "ax.set_xlabel('Cantidad de compras',loc='center')\n",
    "ax.set_ylabel('Hora del día en que se compra',loc='center')"
   ]
  },
  {
   "cell_type": "markdown",
   "id": "0b1046d5",
   "metadata": {},
   "source": [
    "##### Analizo los días de venta"
   ]
  },
  {
   "cell_type": "code",
   "execution_count": null,
   "id": "675b2b47",
   "metadata": {},
   "outputs": [],
   "source": [
    "import locale\n",
    "import calendar\n",
    "locale.setlocale(locale.LC_ALL,'es_ES.UTF-8')\n",
    "dia = pd.to_datetime(ventas['SaleDate']).dt.weekday.apply(lambda x: calendar.day_name[x])"
   ]
  },
  {
   "cell_type": "code",
   "execution_count": null,
   "id": "4b86940f",
   "metadata": {},
   "outputs": [],
   "source": [
    "fig, ax = plt.subplots(figsize=(10,7))\n",
    "ax.tick_params(axis='x', labelrotation = 30)\n",
    "plt.title('Compras por día de la semana')\n",
    "fig = sns.countplot(y=dia, order = list(calendar.day_name), color='grey')\n",
    "ax.set_xlabel('Cantidad de compras',loc='center')\n",
    "ax.set_ylabel('',loc='center')"
   ]
  },
  {
   "cell_type": "code",
   "execution_count": null,
   "id": "e9830c67",
   "metadata": {},
   "outputs": [],
   "source": [
    "(dia.value_counts(normalize=True)*100).apply(lambda x: round(x,1))"
   ]
  },
  {
   "cell_type": "markdown",
   "id": "bb630dda",
   "metadata": {},
   "source": [
    "##### Proceso data frame"
   ]
  },
  {
   "cell_type": "code",
   "execution_count": null,
   "id": "0faa81b9",
   "metadata": {},
   "outputs": [],
   "source": [
    "ventas = ventas[pd.to_datetime(ventas.SaleDate).dt.date >= dt.datetime(2021,8,1).date()]"
   ]
  },
  {
   "cell_type": "code",
   "execution_count": null,
   "id": "fe4b618d",
   "metadata": {},
   "outputs": [],
   "source": [
    "ventas=ventas[['SaleId','Amount','ProductId','ProductName']]"
   ]
  },
  {
   "cell_type": "code",
   "execution_count": null,
   "id": "1520ab02",
   "metadata": {},
   "outputs": [],
   "source": [
    "productos = pd.read_excel(r'C:\\Users\\Pablo\\Helacor S.A\\Equipo CLUB GRIDO - General\\Datos\\productos_vigentes.xlsx')\n",
    "productos['ProductId']= productos.ProductId.astype('float')\n",
    "productos=productos[productos['Linea x Producto']!='No Definido']\n",
    "productos.drop_duplicates(subset=['ProductId'],inplace=True)\n",
    "productos.drop('ProductName',axis=1,inplace=True)\n",
    "productos.head()"
   ]
  },
  {
   "cell_type": "code",
   "execution_count": null,
   "id": "c6ed4338",
   "metadata": {},
   "outputs": [],
   "source": [
    "ventas.shape"
   ]
  },
  {
   "cell_type": "code",
   "execution_count": null,
   "id": "06d39b6a",
   "metadata": {},
   "outputs": [],
   "source": [
    "ventas= ventas.merge(productos,left_on='ProductId',right_on='ProductId',how='left')\n",
    "ventas.shape"
   ]
  },
  {
   "cell_type": "code",
   "execution_count": null,
   "id": "babec50c",
   "metadata": {},
   "outputs": [],
   "source": [
    "ventas.head()"
   ]
  },
  {
   "cell_type": "code",
   "execution_count": null,
   "id": "84390b7c",
   "metadata": {},
   "outputs": [],
   "source": [
    "ventas.isna().sum()"
   ]
  },
  {
   "cell_type": "code",
   "execution_count": null,
   "id": "f1a489e8",
   "metadata": {},
   "outputs": [],
   "source": [
    "ventas.dropna(inplace=True)"
   ]
  },
  {
   "cell_type": "code",
   "execution_count": null,
   "id": "10d4ab3e",
   "metadata": {},
   "outputs": [],
   "source": [
    "ventas.ProductName.value_counts(normalize=True)*100"
   ]
  },
  {
   "cell_type": "code",
   "execution_count": null,
   "id": "1119190f",
   "metadata": {},
   "outputs": [],
   "source": [
    "ventas.familia.value_counts(normalize=True)*100"
   ]
  },
  {
   "cell_type": "code",
   "execution_count": null,
   "id": "36ebbd5b",
   "metadata": {},
   "outputs": [],
   "source": [
    "ventas[ventas['Linea x Producto']=='Líneas Especiales'].head()"
   ]
  },
  {
   "cell_type": "markdown",
   "id": "afc8a6d8",
   "metadata": {},
   "source": [
    "#### Armo la columna \"Linea\" donde estará linea o familia de producto, segun volumen"
   ]
  },
  {
   "cell_type": "code",
   "execution_count": null,
   "id": "4001594a",
   "metadata": {},
   "outputs": [],
   "source": [
    "ventas['Linea x Producto'].value_counts(normalize=True)*100"
   ]
  },
  {
   "cell_type": "code",
   "execution_count": null,
   "id": "8a3db756",
   "metadata": {},
   "outputs": [],
   "source": [
    "ventas['Linea'] = ventas['Linea x Producto']\n",
    "\n",
    "ventas['Linea'] = np.where((ventas['familia']=='Frizzio') | (ventas['Linea']=='Frizzio'),'Congelado',ventas['Linea'])\n",
    "ventas['Linea'] = np.where((ventas['familia']=='Gofriz')|(ventas['familia']=='McCain') | (ventas['familia']=='Swift'),'Congelado',ventas['Linea'])\n",
    "ventas['Linea'] = np.where((ventas['Linea']=='Cañon')|(ventas['Linea']=='Conosud')|(ventas['Linea']=='Black Pan')\\\n",
    "                           |(ventas['Linea']=='Granja del Sol')|(ventas['Linea']=='Cresfood')|(ventas['Linea']=='Bettini'),\n",
    "                          'Congelado',ventas['Linea'])\n",
    "\n",
    "ventas['Linea'] = np.where(ventas['Linea']=='Helado x kg','Helado X Kilo',ventas['Linea'])\n",
    "ventas['Linea'] = np.where(ventas['Linea']=='Factura','Café',ventas['Linea'])\n",
    "ventas['Linea'] = np.where(ventas['Linea']=='Especial','Líneas Especiales',ventas['Linea'])\n",
    "ventas['Linea'] = np.where((ventas['Linea']=='Cups y vasos')|(ventas['Linea']=='Tops'),'A definir',ventas['Linea'])"
   ]
  },
  {
   "cell_type": "code",
   "execution_count": null,
   "id": "c5b49040",
   "metadata": {},
   "outputs": [],
   "source": [
    "ventas['Linea'].value_counts(normalize=True)*100"
   ]
  },
  {
   "cell_type": "markdown",
   "id": "182c51f7",
   "metadata": {},
   "source": [
    "Armo el df para correr el algoritmo"
   ]
  },
  {
   "cell_type": "code",
   "execution_count": null,
   "id": "8006aff0",
   "metadata": {},
   "outputs": [],
   "source": [
    "basket = ventas.groupby(['SaleId', 'Linea'])['Amount'].sum().unstack().reset_index().fillna(0).set_index('SaleId')\n",
    "basket.dtypes"
   ]
  },
  {
   "cell_type": "code",
   "execution_count": null,
   "id": "04f484c0",
   "metadata": {},
   "outputs": [],
   "source": [
    "basket.head()"
   ]
  },
  {
   "cell_type": "code",
   "execution_count": null,
   "id": "8f9e336b",
   "metadata": {},
   "outputs": [],
   "source": [
    "basket.columns"
   ]
  },
  {
   "cell_type": "code",
   "execution_count": 1,
   "id": "2ce9ba59",
   "metadata": {},
   "outputs": [],
   "source": [
    "# Matriz esparsa\n",
    "\n",
    "def hot_encode(x):\n",
    "    if(x<= 0):\n",
    "        return 0\n",
    "    if(x>= 1):\n",
    "        return 1"
   ]
  },
  {
   "cell_type": "code",
   "execution_count": null,
   "id": "3436a888",
   "metadata": {},
   "outputs": [],
   "source": [
    "basket_encoded = basket.applymap(hot_encode)\n",
    "basket = basket_encoded\n",
    "basket= basket.astype('int32')"
   ]
  },
  {
   "cell_type": "code",
   "execution_count": null,
   "id": "b2ede7f2",
   "metadata": {},
   "outputs": [],
   "source": [
    "# Building the model\n",
    "df= basket[['Bombones', 'Congelado', 'Familiar','Helado X Kilo', 'Helado x Bocha', 'Palitos','Postres', 'Pote 1 Litro', 'Semifrío', 'Tortas']]\n",
    "#df = df.loc[~(df==0).all(axis=1)]\n",
    "frq_items = apriori(df, min_support = 0.01, use_colnames = True)\n",
    "\n",
    "\n",
    "# Collecting the inferred rules in a dataframe\n",
    "rules = association_rules(frq_items, metric =\"lift\", min_threshold = 1)\n",
    "rules = rules.sort_values(['confidence', 'lift'], ascending =[False, False])\n",
    "rules"
   ]
  },
  {
   "cell_type": "code",
   "execution_count": null,
   "id": "2ebf1dfd",
   "metadata": {},
   "outputs": [],
   "source": [
    "frq_items"
   ]
  },
  {
   "cell_type": "code",
   "execution_count": null,
   "id": "ec92eb04",
   "metadata": {},
   "outputs": [],
   "source": [
    "rules"
   ]
  }
 ],
 "metadata": {
  "kernelspec": {
   "display_name": "Python 3",
   "language": "python",
   "name": "python3"
  },
  "language_info": {
   "codemirror_mode": {
    "name": "ipython",
    "version": 3
   },
   "file_extension": ".py",
   "mimetype": "text/x-python",
   "name": "python",
   "nbconvert_exporter": "python",
   "pygments_lexer": "ipython3",
   "version": "3.8.8"
  }
 },
 "nbformat": 4,
 "nbformat_minor": 5
}
