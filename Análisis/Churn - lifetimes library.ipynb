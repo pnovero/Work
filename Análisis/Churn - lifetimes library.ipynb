{
 "cells": [
  {
   "cell_type": "markdown",
   "id": "087ba54f",
   "metadata": {},
   "source": [
    "Es de uso extendido en la industria el modelo predictivo de Churn. En él, a partir de un modelo de clasificación, se obtiene la probabilidad de que un socio nos abandone.\n",
    "\n",
    "Sin embargo, el modelo de churn clásico apunta a modelos de suscripción o contrato donde el cliente abandona a partir de un evento bien determinado (pide la baja del servicio). En el caso de Club Grido, esto no es así ya que el socio se da de alta, comienza a comprar y en cualquier momento puede hacer una compra que sea la última y no volver más. Entonces, cómo sabemos cuando nos abandonó? cómo predecimos que nos va a abandona?\n",
    "\n",
    "En este notebook se aplica la librería lifetimes que utiliza modelos estadisticos para predecir si un cliente is alive o no. Para ello, toma el comportamiento particular de cada cliente y no es que determina si abandonó o no fijando un período de tiempo arbitrario como podría ser 1 año.\n",
    "\n",
    "#### Veamos alguna nomenclatura propia de la librería:\n",
    "\n",
    "- frequency represents the number of repeat purchases the customer has made. This means that it’s one less than the total number of purchases. This is actually slightly wrong. It’s the count of time periods the customer had a purchase in. So if using days as units, then it’s the count of days the customer had a purchase on.\n",
    "- T represents the age of the customer in whatever time units chosen (weekly, in the above dataset). This is equal to the duration between a customer’s first purchase and the end of the period under study.\n",
    "- recency represents the age of the customer when they made their most recent purchases. This is equal to the duration between a customer’s first purchase and their latest purchase. (Thus if they have made only 1 purchase, the recency is 0.)\n",
    "- monetary_value represents the average value of a given customer’s purchases. This is equal to the sum of all a customer’s purchases divided by the total number of purchases. Note that the denominator here is different than the frequency described above."
   ]
  },
  {
   "cell_type": "code",
   "execution_count": 77,
   "id": "55cd63da",
   "metadata": {},
   "outputs": [],
   "source": [
    "import pandas as pd\n",
    "import numpy as np\n",
    "import pyodbc\n",
    "import os\n",
    "from lifetimes import BetaGeoFitter\n",
    "import matplotlib.pyplot as plt\n",
    "import seaborn as sns\n",
    "import sidetable as stb\n",
    "import math\n",
    "\n",
    "from datetime import datetime as dt\n",
    "\n",
    "from sklearn.cluster import KMeans\n",
    "from sklearn import metrics\n",
    "from scipy.spatial.distance import cdist\n",
    "\n",
    "pd.set_option('display.max_rows', None)\n",
    "pd.set_option('display.max_columns', None)\n",
    "pd.set_option('max_colwidth', None)"
   ]
  },
  {
   "cell_type": "markdown",
   "id": "4455380a",
   "metadata": {},
   "source": [
    "#### Importo datos"
   ]
  },
  {
   "cell_type": "code",
   "execution_count": 49,
   "id": "bfaa6857",
   "metadata": {
    "scrolled": true
   },
   "outputs": [
    {
     "data": {
      "text/html": [
       "<div>\n",
       "<style scoped>\n",
       "    .dataframe tbody tr th:only-of-type {\n",
       "        vertical-align: middle;\n",
       "    }\n",
       "\n",
       "    .dataframe tbody tr th {\n",
       "        vertical-align: top;\n",
       "    }\n",
       "\n",
       "    .dataframe thead th {\n",
       "        text-align: right;\n",
       "    }\n",
       "</style>\n",
       "<table border=\"1\" class=\"dataframe\">\n",
       "  <thead>\n",
       "    <tr style=\"text-align: right;\">\n",
       "      <th></th>\n",
       "      <th>CustomerId</th>\n",
       "      <th>T</th>\n",
       "      <th>recency</th>\n",
       "      <th>frequency</th>\n",
       "    </tr>\n",
       "  </thead>\n",
       "  <tbody>\n",
       "    <tr>\n",
       "      <th>0</th>\n",
       "      <td>FDA6A364-4A62-C5E0-EBA8-08D6897BF82F</td>\n",
       "      <td>365</td>\n",
       "      <td>349</td>\n",
       "      <td>22</td>\n",
       "    </tr>\n",
       "    <tr>\n",
       "      <th>1</th>\n",
       "      <td>7A3ABCD1-85F8-C819-F510-08D6EA5282E9</td>\n",
       "      <td>292</td>\n",
       "      <td>224</td>\n",
       "      <td>12</td>\n",
       "    </tr>\n",
       "    <tr>\n",
       "      <th>2</th>\n",
       "      <td>072A0863-EEC3-C280-D0A7-08D7C2DC2CA5</td>\n",
       "      <td>335</td>\n",
       "      <td>310</td>\n",
       "      <td>4</td>\n",
       "    </tr>\n",
       "    <tr>\n",
       "      <th>3</th>\n",
       "      <td>77A88836-5701-C7AB-DF3C-08D702FE9148</td>\n",
       "      <td>300</td>\n",
       "      <td>282</td>\n",
       "      <td>2</td>\n",
       "    </tr>\n",
       "    <tr>\n",
       "      <th>4</th>\n",
       "      <td>4CD637D7-248B-C49B-D409-08D562B6B355</td>\n",
       "      <td>256</td>\n",
       "      <td>56</td>\n",
       "      <td>1</td>\n",
       "    </tr>\n",
       "  </tbody>\n",
       "</table>\n",
       "</div>"
      ],
      "text/plain": [
       "                             CustomerId    T  recency  frequency\n",
       "0  FDA6A364-4A62-C5E0-EBA8-08D6897BF82F  365      349         22\n",
       "1  7A3ABCD1-85F8-C819-F510-08D6EA5282E9  292      224         12\n",
       "2  072A0863-EEC3-C280-D0A7-08D7C2DC2CA5  335      310          4\n",
       "3  77A88836-5701-C7AB-DF3C-08D702FE9148  300      282          2\n",
       "4  4CD637D7-248B-C49B-D409-08D562B6B355  256       56          1"
      ]
     },
     "execution_count": 49,
     "metadata": {},
     "output_type": "execute_result"
    }
   ],
   "source": [
    "DB = {'servername': '',\n",
    "      'database': '',\n",
    "      'usuario' :'',\n",
    "      'contraseña':'',\n",
    "      'Encrypt':'yes',\n",
    "      'TrustServerCertificate':'no',\n",
    "      'Connection Timeout':'30'}\n",
    "\n",
    "# create the connection\n",
    "conn = pyodbc.connect('DRIVER={ODBC Driver 17 for SQL Server};SERVER=' + DB['servername'] + ';DATABASE=' + DB['database'] +\\\n",
    "                      ';UID=' + DB['usuario'] + ';PWD='+ DB['contraseña'] + ';Encrypt=yes;TrustServerCertificate=no;Connection Timeout=30')\n",
    "\n",
    "# query db\n",
    "sql = \"\"\"\n",
    "SELECT\n",
    "sc.CustomerId, \n",
    "ISNULL(DATEDIFF(DAY,min(s.SaleDate),getdate()),0) 'T',\n",
    "ISNULL(DATEDIFF(DAY,min(s.SaleDate),max(s.SaleDate)),0) 'recency',\n",
    "COUNT(DISTINCT CONVERT(DATE,s.SaleDate)) -1 'frequency'\n",
    "\n",
    "FROM dbo.SaleCustomer sc\n",
    "INNER JOIN dbo.Sale s ON s.SaleId=sc.SaleId\n",
    "WHERE s.SaleDate >= DATEADD(year,-1,CONVERT(DATE,getdate()))\n",
    "\n",
    "GROUP BY sc.CustomerId\n",
    "\"\"\"\n",
    "df = pd.read_sql(sql, conn)\n",
    "df.head()"
   ]
  },
  {
   "cell_type": "code",
   "execution_count": 50,
   "id": "1892c6e9",
   "metadata": {},
   "outputs": [
    {
     "name": "stdout",
     "output_type": "stream",
     "text": [
      "<lifetimes.BetaGeoFitter: fitted with 2725551 subjects, a: 0.22, alpha: 35.13, b: 2.71, r: 0.89>\n"
     ]
    }
   ],
   "source": [
    "bgf = BetaGeoFitter(penalizer_coef=0.001)\n",
    "bgf.fit(df['frequency'], df['recency'], df['T'])\n",
    "print(bgf)"
   ]
  },
  {
   "cell_type": "markdown",
   "id": "e057276a",
   "metadata": {},
   "source": [
    "Ahora, ploteamos el gráfico Recency vs Frecuency donde tenemos los mejores clientes en el cuadrante de abajo a la derecha ya que son los clientes más antiguos y que más compraron.\n",
    "\n",
    "Arriba a la derecha están los clientes que compraron mucho rápidamente y hace mucho que no compran."
   ]
  },
  {
   "cell_type": "code",
   "execution_count": 4,
   "id": "9c249be4",
   "metadata": {},
   "outputs": [
    {
     "name": "stderr",
     "output_type": "stream",
     "text": [
      "C:\\Users\\pnovero\\Anaconda3\\lib\\site-packages\\lifetimes\\fitters\\beta_geo_fitter.py:256: RuntimeWarning: overflow encountered in double_scalars\n",
      "  denominator = 1 + (x > 0) * (a / (b + x - 1)) * ((alpha + T) / (alpha + recency)) ** (r + x)\n"
     ]
    },
    {
     "data": {
      "text/plain": [
       "<AxesSubplot:title={'center':'Expected Number of Future Purchases for 1 Unit of Time,\\nby Frequency and Recency of a Customer'}, xlabel=\"Customer's Historical Frequency\", ylabel=\"Customer's Recency\">"
      ]
     },
     "execution_count": 4,
     "metadata": {},
     "output_type": "execute_result"
    },
    {
     "data": {
      "image/png": "[encoded data removed]",
      "text/plain": [
       "<Figure size 432x288 with 2 Axes>"
      ]
     },
     "metadata": {
      "needs_background": "light"
     },
     "output_type": "display_data"
    }
   ],
   "source": [
    "from lifetimes.plotting import plot_frequency_recency_matrix\n",
    "\n",
    "plot_frequency_recency_matrix(bgf)"
   ]
  },
  {
   "cell_type": "markdown",
   "id": "62cc9d7f",
   "metadata": {},
   "source": [
    "Ahora veremos la probabilidad de seguir Alive de un socio dentro de una matriz recency vs frequency"
   ]
  },
  {
   "cell_type": "code",
   "execution_count": 5,
   "id": "c8491301",
   "metadata": {},
   "outputs": [
    {
     "data": {
      "text/plain": [
       "<AxesSubplot:title={'center':'Probability Customer is Alive,\\nby Frequency and Recency of a Customer'}, xlabel=\"Customer's Historical Frequency\", ylabel=\"Customer's Recency\">"
      ]
     },
     "execution_count": 5,
     "metadata": {},
     "output_type": "execute_result"
    },
    {
     "data": {
      "image/png": "[encoded data removed]",
      "text/plain": [
       "<Figure size 432x288 with 2 Axes>"
      ]
     },
     "metadata": {
      "needs_background": "light"
     },
     "output_type": "display_data"
    }
   ],
   "source": [
    "from lifetimes.plotting import plot_probability_alive_matrix\n",
    "\n",
    "plot_probability_alive_matrix(bgf)"
   ]
  },
  {
   "cell_type": "markdown",
   "id": "7c4b1d91",
   "metadata": {},
   "source": [
    "Ahora haremos un ranking de acuerdo a la cantidad de compras expected para cada socio en el próximo mes"
   ]
  },
  {
   "cell_type": "code",
   "execution_count": 51,
   "id": "18578590",
   "metadata": {},
   "outputs": [
    {
     "data": {
      "text/html": [
       "<div>\n",
       "<style scoped>\n",
       "    .dataframe tbody tr th:only-of-type {\n",
       "        vertical-align: middle;\n",
       "    }\n",
       "\n",
       "    .dataframe tbody tr th {\n",
       "        vertical-align: top;\n",
       "    }\n",
       "\n",
       "    .dataframe thead th {\n",
       "        text-align: right;\n",
       "    }\n",
       "</style>\n",
       "<table border=\"1\" class=\"dataframe\">\n",
       "  <thead>\n",
       "    <tr style=\"text-align: right;\">\n",
       "      <th></th>\n",
       "      <th>CustomerId</th>\n",
       "      <th>T</th>\n",
       "      <th>recency</th>\n",
       "      <th>frequency</th>\n",
       "      <th>prob_alive</th>\n",
       "    </tr>\n",
       "  </thead>\n",
       "  <tbody>\n",
       "    <tr>\n",
       "      <th>1510094</th>\n",
       "      <td>45290F43-93E5-C527-1AD9-08D5725C8870</td>\n",
       "      <td>342</td>\n",
       "      <td>0</td>\n",
       "      <td>0</td>\n",
       "      <td>1.0</td>\n",
       "    </tr>\n",
       "    <tr>\n",
       "      <th>1510096</th>\n",
       "      <td>7F702A4D-A943-C035-D36B-08D667B52F85</td>\n",
       "      <td>5</td>\n",
       "      <td>0</td>\n",
       "      <td>0</td>\n",
       "      <td>1.0</td>\n",
       "    </tr>\n",
       "    <tr>\n",
       "      <th>1510099</th>\n",
       "      <td>F66B2F72-6CBC-CD8A-84F4-08D65A8BB192</td>\n",
       "      <td>188</td>\n",
       "      <td>0</td>\n",
       "      <td>0</td>\n",
       "      <td>1.0</td>\n",
       "    </tr>\n",
       "    <tr>\n",
       "      <th>1510879</th>\n",
       "      <td>8B11CF25-B19E-CAC7-0A48-08D301A2A674</td>\n",
       "      <td>260</td>\n",
       "      <td>0</td>\n",
       "      <td>0</td>\n",
       "      <td>1.0</td>\n",
       "    </tr>\n",
       "    <tr>\n",
       "      <th>2725550</th>\n",
       "      <td>EE4EBDFE-C42D-C0DC-56D8-08D5497E8E78</td>\n",
       "      <td>354</td>\n",
       "      <td>0</td>\n",
       "      <td>0</td>\n",
       "      <td>1.0</td>\n",
       "    </tr>\n",
       "  </tbody>\n",
       "</table>\n",
       "</div>"
      ],
      "text/plain": [
       "                                   CustomerId    T  recency  frequency  \\\n",
       "1510094  45290F43-93E5-C527-1AD9-08D5725C8870  342        0          0   \n",
       "1510096  7F702A4D-A943-C035-D36B-08D667B52F85    5        0          0   \n",
       "1510099  F66B2F72-6CBC-CD8A-84F4-08D65A8BB192  188        0          0   \n",
       "1510879  8B11CF25-B19E-CAC7-0A48-08D301A2A674  260        0          0   \n",
       "2725550  EE4EBDFE-C42D-C0DC-56D8-08D5497E8E78  354        0          0   \n",
       "\n",
       "         prob_alive  \n",
       "1510094         1.0  \n",
       "1510096         1.0  \n",
       "1510099         1.0  \n",
       "1510879         1.0  \n",
       "2725550         1.0  "
      ]
     },
     "execution_count": 51,
     "metadata": {},
     "output_type": "execute_result"
    }
   ],
   "source": [
    "t = 30 #es una unidad de tiempo, si uso meses en todas las variables, entonces t es en meses\n",
    "df['prob_alive'] = bgf.conditional_probability_alive(df['frequency'], df['recency'], df['T'])\n",
    "df.sort_values(by='prob_alive').tail(5)"
   ]
  },
  {
   "cell_type": "code",
   "execution_count": 52,
   "id": "047cac01",
   "metadata": {},
   "outputs": [
    {
     "data": {
      "text/html": [
       "<div>\n",
       "<style scoped>\n",
       "    .dataframe tbody tr th:only-of-type {\n",
       "        vertical-align: middle;\n",
       "    }\n",
       "\n",
       "    .dataframe tbody tr th {\n",
       "        vertical-align: top;\n",
       "    }\n",
       "\n",
       "    .dataframe thead th {\n",
       "        text-align: right;\n",
       "    }\n",
       "</style>\n",
       "<table border=\"1\" class=\"dataframe\">\n",
       "  <thead>\n",
       "    <tr style=\"text-align: right;\">\n",
       "      <th></th>\n",
       "      <th>CustomerId</th>\n",
       "      <th>T</th>\n",
       "      <th>recency</th>\n",
       "      <th>frequency</th>\n",
       "      <th>prob_alive</th>\n",
       "      <th>cant_compras_mes_sig</th>\n",
       "    </tr>\n",
       "  </thead>\n",
       "  <tbody>\n",
       "    <tr>\n",
       "      <th>676764</th>\n",
       "      <td>A0A0403F-B9C1-CB22-7013-08D2F1F79C18</td>\n",
       "      <td>364</td>\n",
       "      <td>362</td>\n",
       "      <td>275</td>\n",
       "      <td>0.996825</td>\n",
       "      <td>20.505654</td>\n",
       "    </tr>\n",
       "    <tr>\n",
       "      <th>2421426</th>\n",
       "      <td>169E85D8-FF29-CC1F-1DDB-08D2618144D1</td>\n",
       "      <td>365</td>\n",
       "      <td>363</td>\n",
       "      <td>278</td>\n",
       "      <td>0.996823</td>\n",
       "      <td>20.677170</td>\n",
       "    </tr>\n",
       "    <tr>\n",
       "      <th>221300</th>\n",
       "      <td>77DD93FC-57D6-C43B-8220-08D30B035344</td>\n",
       "      <td>365</td>\n",
       "      <td>363</td>\n",
       "      <td>283</td>\n",
       "      <td>0.996799</td>\n",
       "      <td>21.047365</td>\n",
       "    </tr>\n",
       "    <tr>\n",
       "      <th>253562</th>\n",
       "      <td>D5E9B992-D6D0-C551-F91A-08D9E696ABCB</td>\n",
       "      <td>162</td>\n",
       "      <td>160</td>\n",
       "      <td>147</td>\n",
       "      <td>0.993348</td>\n",
       "      <td>22.005982</td>\n",
       "    </tr>\n",
       "    <tr>\n",
       "      <th>2529512</th>\n",
       "      <td>FCAB6C32-CB9D-C43C-ACB0-08D8A2D0C9DA</td>\n",
       "      <td>364</td>\n",
       "      <td>362</td>\n",
       "      <td>298</td>\n",
       "      <td>0.996710</td>\n",
       "      <td>22.212498</td>\n",
       "    </tr>\n",
       "  </tbody>\n",
       "</table>\n",
       "</div>"
      ],
      "text/plain": [
       "                                   CustomerId    T  recency  frequency  \\\n",
       "676764   A0A0403F-B9C1-CB22-7013-08D2F1F79C18  364      362        275   \n",
       "2421426  169E85D8-FF29-CC1F-1DDB-08D2618144D1  365      363        278   \n",
       "221300   77DD93FC-57D6-C43B-8220-08D30B035344  365      363        283   \n",
       "253562   D5E9B992-D6D0-C551-F91A-08D9E696ABCB  162      160        147   \n",
       "2529512  FCAB6C32-CB9D-C43C-ACB0-08D8A2D0C9DA  364      362        298   \n",
       "\n",
       "         prob_alive  cant_compras_mes_sig  \n",
       "676764     0.996825             20.505654  \n",
       "2421426    0.996823             20.677170  \n",
       "221300     0.996799             21.047365  \n",
       "253562     0.993348             22.005982  \n",
       "2529512    0.996710             22.212498  "
      ]
     },
     "execution_count": 52,
     "metadata": {},
     "output_type": "execute_result"
    }
   ],
   "source": [
    "t = 30 #es una unidad de tiempo, si uso meses en todas las variables, entonces t es en meses\n",
    "df['cant_compras_mes_sig'] = bgf.conditional_expected_number_of_purchases_up_to_time(t,df['frequency'], df['recency'], df['T'])\n",
    "df.sort_values(by='cant_compras_mes_sig').tail(5)"
   ]
  },
  {
   "cell_type": "markdown",
   "id": "c0c24644",
   "metadata": {},
   "source": [
    "Assesing that the model is correct"
   ]
  },
  {
   "cell_type": "code",
   "execution_count": 8,
   "id": "74c81c08",
   "metadata": {
    "scrolled": true
   },
   "outputs": [
    {
     "data": {
      "text/plain": [
       "<AxesSubplot:title={'center':'Frequency of Repeat Transactions'}, xlabel='Number of Calibration Period Transactions', ylabel='Customers'>"
      ]
     },
     "execution_count": 8,
     "metadata": {},
     "output_type": "execute_result"
    },
    {
     "data": {
      "image/png": "[encoded data removed]",
      "text/plain": [
       "<Figure size 432x288 with 1 Axes>"
      ]
     },
     "metadata": {
      "needs_background": "light"
     },
     "output_type": "display_data"
    }
   ],
   "source": [
    "from lifetimes.plotting import plot_period_transactions\n",
    "plot_period_transactions(bgf)"
   ]
  },
  {
   "cell_type": "code",
   "execution_count": 53,
   "id": "fb588f79",
   "metadata": {},
   "outputs": [],
   "source": [
    "df['prob_churn'] = np.where(df['prob_alive']== 1, 1- df.cant_compras_mes_sig, 1 - df.prob_alive)"
   ]
  },
  {
   "cell_type": "code",
   "execution_count": 54,
   "id": "a1545378",
   "metadata": {},
   "outputs": [
    {
     "data": {
      "image/png": "[encoded data removed]",
      "text/plain": [
       "<Figure size 432x288 with 1 Axes>"
      ]
     },
     "metadata": {
      "needs_background": "light"
     },
     "output_type": "display_data"
    }
   ],
   "source": [
    "plt.hist(df.prob_churn,bins=100)\n",
    "plt.show()"
   ]
  },
  {
   "cell_type": "markdown",
   "id": "012c27c5",
   "metadata": {},
   "source": [
    "### Traigo último producto consumido por cada socio"
   ]
  },
  {
   "cell_type": "code",
   "execution_count": null,
   "id": "77c28f9a",
   "metadata": {},
   "outputs": [],
   "source": [
    "DB = {'servername': '',\n",
    "      'database': '',\n",
    "      'usuario' :'',\n",
    "      'contraseña':'',\n",
    "      'Encrypt':'yes',\n",
    "      'TrustServerCertificate':'no',\n",
    "      'Connection Timeout':'30'}\n",
    "\n",
    "# create the connection\n",
    "conn = pyodbc.connect('DRIVER={ODBC Driver 17 for SQL Server};SERVER=' + DB['servername'] + ';DATABASE=' + DB['database'] +\\\n",
    "                      ';UID=' + DB['usuario'] + ';PWD='+ DB['contraseña'] + ';Encrypt=yes;TrustServerCertificate=no;Connection Timeout=30')\n",
    "\n",
    "# query db\n",
    "sql = \"\"\"\n",
    "SELECT sc.CustomerId,max(s.ProductName) 'ProductName'\n",
    "FROM dbo.Sale s\n",
    "JOIN dbo.SaleCustomer sc ON sc.SaleId = s.SaleId\n",
    "\n",
    "JOIN (SELECT sc.CustomerId, CONVERT(DATE,max(s.SaleDate)) 'SaleDate' FROM dbo.Sale s \n",
    "JOIN dbo.SaleCustomer sc ON sc.SaleId = s.SaleId\n",
    "GROUP BY sc.CustomerId) AS tabla_secundaria \n",
    "ON tabla_secundaria.CustomerId = sc.CustomerId AND CONVERT(DATE, s.SaleDate) = tabla_secundaria.SaleDate\n",
    "\n",
    "GROUP BY sc.CustomerId, s.SaleId,CONVERT(DATE,s.SaleDate)\n",
    "\"\"\"\n",
    "ultimo_producto = pd.read_sql(sql, conn)\n",
    "ultimo_producto.head()\n"
   ]
  },
  {
   "cell_type": "code",
   "execution_count": null,
   "id": "3348e4d9",
   "metadata": {},
   "outputs": [],
   "source": [
    "ultimo_producto = ultimo_producto.merge(productos[['ProductId','ProductName']],on='ProductId',how='left')\n",
    "ultimo_producto.shape"
   ]
  },
  {
   "cell_type": "code",
   "execution_count": null,
   "id": "9d7fdca8",
   "metadata": {},
   "outputs": [],
   "source": [
    "ultimo_producto.head()"
   ]
  },
  {
   "cell_type": "code",
   "execution_count": null,
   "id": "b7e4f311",
   "metadata": {},
   "outputs": [],
   "source": [
    "ultimo_producto['producto'] = np.where(ultimo_producto.ProductName.str.contains(\" X\"), ultimo_producto.ProductName.str.split(\" X\").str[0],ultimo_producto.ProductName)\n",
    "ultimo_producto['producto'] = np.where(ultimo_producto.producto.str.contains(\" x\"), ultimo_producto.producto.str.split(\" x\").str[0],ultimo_producto.producto)\n",
    "ultimo_producto.producto.value_counts()"
   ]
  },
  {
   "cell_type": "code",
   "execution_count": null,
   "id": "36278cc1",
   "metadata": {},
   "outputs": [],
   "source": [
    "ultimo_producto.isnull().sum()"
   ]
  },
  {
   "cell_type": "code",
   "execution_count": null,
   "id": "8fb2ac57",
   "metadata": {},
   "outputs": [],
   "source": [
    "ultimo_producto.fillna('1')[ultimo_producto.producto.str.contains('\\?')]"
   ]
  },
  {
   "cell_type": "code",
   "execution_count": null,
   "id": "20dee284",
   "metadata": {},
   "outputs": [],
   "source": [
    "ultimo_producto.drop(columns=['ProductName', 'linea_producto',\n",
    "       'familia', 'idCategoria', 'categoria'],inplace=True)"
   ]
  },
  {
   "cell_type": "markdown",
   "id": "056cf412",
   "metadata": {},
   "source": [
    "### Importo nombre y mail del socio"
   ]
  },
  {
   "cell_type": "code",
   "execution_count": 65,
   "id": "b3f9b09b",
   "metadata": {},
   "outputs": [
    {
     "data": {
      "text/html": [
       "<div>\n",
       "<style scoped>\n",
       "    .dataframe tbody tr th:only-of-type {\n",
       "        vertical-align: middle;\n",
       "    }\n",
       "\n",
       "    .dataframe tbody tr th {\n",
       "        vertical-align: top;\n",
       "    }\n",
       "\n",
       "    .dataframe thead th {\n",
       "        text-align: right;\n",
       "    }\n",
       "</style>\n",
       "<table border=\"1\" class=\"dataframe\">\n",
       "  <thead>\n",
       "    <tr style=\"text-align: right;\">\n",
       "      <th></th>\n",
       "      <th>CustomerId</th>\n",
       "      <th>Puntos</th>\n",
       "      <th>FirstName</th>\n",
       "      <th>Email</th>\n",
       "      <th>DaysLastsale</th>\n",
       "      <th>dias_ult_canje</th>\n",
       "    </tr>\n",
       "  </thead>\n",
       "  <tbody>\n",
       "    <tr>\n",
       "      <th>0</th>\n",
       "      <td>273AFE21-79E8-CC3A-AAF6-08D0C0CE8984</td>\n",
       "      <td>6300</td>\n",
       "      <td>Lujan Evangelina</td>\n",
       "      <td>lujantassone@hotmail.com</td>\n",
       "      <td>30.0</td>\n",
       "      <td>1290</td>\n",
       "    </tr>\n",
       "    <tr>\n",
       "      <th>1</th>\n",
       "      <td>D1C0D365-6970-C40B-A6E6-08D0BD70A3EB</td>\n",
       "      <td>16470</td>\n",
       "      <td>Jose Antonio</td>\n",
       "      <td>joseamin12@hotmail.com</td>\n",
       "      <td>23.0</td>\n",
       "      <td>941</td>\n",
       "    </tr>\n",
       "    <tr>\n",
       "      <th>2</th>\n",
       "      <td>10C29CB8-C4F5-C071-3842-08D0BF4D95AE</td>\n",
       "      <td>0</td>\n",
       "      <td>Luciana Mariela</td>\n",
       "      <td>acolombero@huincacoop.com.ar</td>\n",
       "      <td>NaN</td>\n",
       "      <td>1290</td>\n",
       "    </tr>\n",
       "    <tr>\n",
       "      <th>3</th>\n",
       "      <td>DE3B393D-8E46-C831-D611-08D0BF3B6F0A</td>\n",
       "      <td>140</td>\n",
       "      <td>Maria Graciela</td>\n",
       "      <td>escuelaingalfedotbelot@hotmail.com</td>\n",
       "      <td>28.0</td>\n",
       "      <td>1290</td>\n",
       "    </tr>\n",
       "    <tr>\n",
       "      <th>4</th>\n",
       "      <td>6ACC86A5-45BC-C851-BE13-08D0BF45D4BD</td>\n",
       "      <td>6050</td>\n",
       "      <td>Carolina Marina</td>\n",
       "      <td>carolmon7@hotmail.com</td>\n",
       "      <td>165.0</td>\n",
       "      <td>1290</td>\n",
       "    </tr>\n",
       "  </tbody>\n",
       "</table>\n",
       "</div>"
      ],
      "text/plain": [
       "                             CustomerId  Puntos          FirstName  \\\n",
       "0  273AFE21-79E8-CC3A-AAF6-08D0C0CE8984    6300  Lujan Evangelina    \n",
       "1  D1C0D365-6970-C40B-A6E6-08D0BD70A3EB   16470       Jose Antonio   \n",
       "2  10C29CB8-C4F5-C071-3842-08D0BF4D95AE       0    Luciana Mariela   \n",
       "3  DE3B393D-8E46-C831-D611-08D0BF3B6F0A     140     Maria Graciela   \n",
       "4  6ACC86A5-45BC-C851-BE13-08D0BF45D4BD    6050    Carolina Marina   \n",
       "\n",
       "                                Email  DaysLastsale  dias_ult_canje  \n",
       "0            lujantassone@hotmail.com          30.0            1290  \n",
       "1              joseamin12@hotmail.com          23.0             941  \n",
       "2        acolombero@huincacoop.com.ar           NaN            1290  \n",
       "3  escuelaingalfedotbelot@hotmail.com          28.0            1290  \n",
       "4               carolmon7@hotmail.com         165.0            1290  "
      ]
     },
     "execution_count": 65,
     "metadata": {},
     "output_type": "execute_result"
    }
   ],
   "source": [
    "DB = {'servername': '',\n",
    "      'database': '',\n",
    "      'usuario' :'',\n",
    "      'contraseña':'',\n",
    "      'Encrypt':'yes',\n",
    "      'TrustServerCertificate':'no',\n",
    "      'Connection Timeout':'30'}\n",
    "\n",
    "# create the connection\n",
    "conn = pyodbc.connect('DRIVER={ODBC Driver 13 for SQL Server};SERVER=' + DB['servername'] + ';DATABASE=' + DB['database'] +\\\n",
    "                      ';UID=' + DB['usuario'] + ';PWD='+ DB['contraseña'] + ';Encrypt=yes;TrustServerCertificate=no;Connection Timeout=30')\n",
    "\n",
    "# query db\n",
    "sql = \"\"\"\n",
    "\n",
    "SELECT cpl.CustomerId, sum(cpl.Points) 'Puntos', c.FirstName, c.Email, seg.DaysLastsale,\n",
    "DATEDIFF(DAY,max(case when cpl.eventTypeCode = 'DiscountPointsByExchange' then cpl.LogDate else '2019-01-01' end),getdate()) 'dias_ult_canje'\n",
    "\n",
    "\n",
    "FROM dbo.CustomerPointsLog cpl\n",
    "INNER JOIN dbo.Customer c ON c.CustomerId = cpl.CustomerId\n",
    "INNER JOIN dbo.clientes_segmentacion_2022 seg ON cpl.CustomerId = seg.CustomerId\n",
    "GROUP BY cpl.CustomerId, c.FirstName, c.Email, seg.DaysLastsale\n",
    "\"\"\"\n",
    "datos_socio = pd.read_sql(sql, conn)\n",
    "datos_socio.head()"
   ]
  },
  {
   "cell_type": "code",
   "execution_count": 66,
   "id": "1ec53960",
   "metadata": {},
   "outputs": [],
   "source": [
    "datos_socio.DaysLastsale.fillna(1000,inplace=True)"
   ]
  },
  {
   "cell_type": "code",
   "execution_count": 68,
   "id": "78b30359",
   "metadata": {},
   "outputs": [],
   "source": [
    "datos_socio['dias_desde_ult_actividad'] = datos_socio[['DaysLastsale','dias_ult_canje']].min(1)"
   ]
  },
  {
   "cell_type": "code",
   "execution_count": 71,
   "id": "0fff9b61",
   "metadata": {},
   "outputs": [
    {
     "data": {
      "text/plain": [
       "Index(['CustomerId', 'Puntos', 'FirstName', 'Email', 'DaysLastsale',\n",
       "       'dias_ult_canje', 'dias_desde_ult_actividad'],\n",
       "      dtype='object')"
      ]
     },
     "execution_count": 71,
     "metadata": {},
     "output_type": "execute_result"
    }
   ],
   "source": [
    "datos_socio.columns"
   ]
  },
  {
   "cell_type": "markdown",
   "id": "730c7d1e",
   "metadata": {},
   "source": [
    "### Armo el archivo a exportar"
   ]
  },
  {
   "cell_type": "code",
   "execution_count": 69,
   "id": "bef43e28",
   "metadata": {},
   "outputs": [
    {
     "data": {
      "text/plain": [
       "(780386, 7)"
      ]
     },
     "execution_count": 69,
     "metadata": {},
     "output_type": "execute_result"
    }
   ],
   "source": [
    "socios_enviar_mail = df[df.prob_churn > 0.62]\n",
    "socios_enviar_mail.shape"
   ]
  },
  {
   "cell_type": "code",
   "execution_count": 70,
   "id": "daa1282e",
   "metadata": {},
   "outputs": [
    {
     "data": {
      "text/plain": [
       "Index(['CustomerId', 'T', 'recency', 'frequency', 'prob_alive',\n",
       "       'cant_compras_mes_sig', 'prob_churn'],\n",
       "      dtype='object')"
      ]
     },
     "execution_count": 70,
     "metadata": {},
     "output_type": "execute_result"
    }
   ],
   "source": [
    "socios_enviar_mail.columns"
   ]
  },
  {
   "cell_type": "code",
   "execution_count": 87,
   "id": "1cd984d0",
   "metadata": {},
   "outputs": [],
   "source": [
    "#base_exportar = socios_enviar_mail[['CustomerId','prob_alive']].merge(datos_socio[['CustomerId', 'Puntos', 'FirstName', 'Email', 'dias_desde_ult_actividad']], on ='CustomerId',how='left')\n",
    "base_exportar['Puntos'] = base_exportar['Puntos'].astype('int')\n",
    "base_exportar['dias_desde_ult_actividad'] = base_exportar['dias_desde_ult_actividad'].astype('int')"
   ]
  },
  {
   "cell_type": "code",
   "execution_count": 89,
   "id": "2cbc3e3a",
   "metadata": {},
   "outputs": [
    {
     "name": "stdout",
     "output_type": "stream",
     "text": [
      "71.076445\n",
      "C:/Users/pnovero/Documents/Extractos DW/alta_prob_churn_0.csv\n",
      "C:/Users/pnovero/Documents/Extractos DW/alta_prob_churn_1.csv\n"
     ]
    }
   ],
   "source": [
    "max_MB=50\n",
    "path = r''\n",
    "base_exportar.to_csv(path,index=False)\n",
    "tamaño = os.path.getsize(path)/1000000\n",
    "print(tamaño)\n",
    "if tamaño > max_MB:\n",
    "    os.remove(path)\n",
    "    cantidad_archivos= math.ceil(tamaño/max_MB)\n",
    "    archivos= np.array_split(base_exportar,cantidad_archivos)\n",
    "    for idx,archivo in enumerate(archivos):\n",
    "        path = r'' + str(idx) + '.csv'\n",
    "        archivo.to_csv(path,index=False)\n",
    "        print(path)"
   ]
  },
  {
   "cell_type": "code",
   "execution_count": 88,
   "id": "c1ec0d6b",
   "metadata": {},
   "outputs": [
    {
     "data": {
      "text/html": [
       "<div>\n",
       "<style scoped>\n",
       "    .dataframe tbody tr th:only-of-type {\n",
       "        vertical-align: middle;\n",
       "    }\n",
       "\n",
       "    .dataframe tbody tr th {\n",
       "        vertical-align: top;\n",
       "    }\n",
       "\n",
       "    .dataframe thead th {\n",
       "        text-align: right;\n",
       "    }\n",
       "</style>\n",
       "<table border=\"1\" class=\"dataframe\">\n",
       "  <thead>\n",
       "    <tr style=\"text-align: right;\">\n",
       "      <th></th>\n",
       "      <th>CustomerId</th>\n",
       "      <th>prob_alive</th>\n",
       "      <th>Puntos</th>\n",
       "      <th>FirstName</th>\n",
       "      <th>Email</th>\n",
       "      <th>dias_desde_ult_actividad</th>\n",
       "    </tr>\n",
       "  </thead>\n",
       "  <tbody>\n",
       "    <tr>\n",
       "      <th>0</th>\n",
       "      <td>074046CF-ED23-C0A2-3C15-08D43763C535</td>\n",
       "      <td>0.100702</td>\n",
       "      <td>13900</td>\n",
       "      <td>Cintia</td>\n",
       "      <td>cintiavero83@gmail.com</td>\n",
       "      <td>171</td>\n",
       "    </tr>\n",
       "    <tr>\n",
       "      <th>1</th>\n",
       "      <td>7959737F-6376-C0EE-3A04-08D9BE8520C7</td>\n",
       "      <td>0.259303</td>\n",
       "      <td>2100</td>\n",
       "      <td>Veronica</td>\n",
       "      <td>veroksk1@gmail.com</td>\n",
       "      <td>39</td>\n",
       "    </tr>\n",
       "    <tr>\n",
       "      <th>2</th>\n",
       "      <td>7AC2E300-FB1B-C4E2-1A73-08D3268071C9</td>\n",
       "      <td>0.099691</td>\n",
       "      <td>5110</td>\n",
       "      <td>Damian</td>\n",
       "      <td>sarmiento.damian25@gmail.com</td>\n",
       "      <td>136</td>\n",
       "    </tr>\n",
       "    <tr>\n",
       "      <th>3</th>\n",
       "      <td>F99CF5BF-1E8E-C683-B70C-08D67BD9BDB8</td>\n",
       "      <td>0.236676</td>\n",
       "      <td>2360</td>\n",
       "      <td>Susana Leonor</td>\n",
       "      <td>luisstea.ls@gmail.com</td>\n",
       "      <td>181</td>\n",
       "    </tr>\n",
       "    <tr>\n",
       "      <th>4</th>\n",
       "      <td>53B94A78-5429-C121-098B-08D305B9AF96</td>\n",
       "      <td>1.000000</td>\n",
       "      <td>5900</td>\n",
       "      <td>Marcela</td>\n",
       "      <td>flocaniso@hotmail.com</td>\n",
       "      <td>361</td>\n",
       "    </tr>\n",
       "  </tbody>\n",
       "</table>\n",
       "</div>"
      ],
      "text/plain": [
       "                             CustomerId  prob_alive  Puntos      FirstName  \\\n",
       "0  074046CF-ED23-C0A2-3C15-08D43763C535    0.100702   13900         Cintia   \n",
       "1  7959737F-6376-C0EE-3A04-08D9BE8520C7    0.259303    2100       Veronica   \n",
       "2  7AC2E300-FB1B-C4E2-1A73-08D3268071C9    0.099691    5110         Damian   \n",
       "3  F99CF5BF-1E8E-C683-B70C-08D67BD9BDB8    0.236676    2360  Susana Leonor   \n",
       "4  53B94A78-5429-C121-098B-08D305B9AF96    1.000000    5900        Marcela   \n",
       "\n",
       "                          Email  dias_desde_ult_actividad  \n",
       "0        cintiavero83@gmail.com                       171  \n",
       "1            veroksk1@gmail.com                        39  \n",
       "2  sarmiento.damian25@gmail.com                       136  \n",
       "3         luisstea.ls@gmail.com                       181  \n",
       "4         flocaniso@hotmail.com                       361  "
      ]
     },
     "execution_count": 88,
     "metadata": {},
     "output_type": "execute_result"
    }
   ],
   "source": [
    "base_exportar.head()"
   ]
  },
  {
   "cell_type": "code",
   "execution_count": null,
   "id": "94f7252b",
   "metadata": {},
   "outputs": [],
   "source": []
  }
 ],
 "metadata": {
  "kernelspec": {
   "display_name": "Python 3",
   "language": "python",
   "name": "python3"
  },
  "language_info": {
   "codemirror_mode": {
    "name": "ipython",
    "version": 3
   },
   "file_extension": ".py",
   "mimetype": "text/x-python",
   "name": "python",
   "nbconvert_exporter": "python",
   "pygments_lexer": "ipython3",
   "version": "3.8.8"
  }
 },
 "nbformat": 4,
 "nbformat_minor": 5
}
