{
 "cells": [
  {
   "cell_type": "code",
   "execution_count": null,
   "id": "41ed3139",
   "metadata": {},
   "outputs": [],
   "source": [
    "import pandas as pd\n",
    "import numpy as np\n",
    "import matplotlib.pyplot as plt\n",
    "import seaborn as sns\n",
    "import datetime as dt\n",
    "import calendar\n",
    "\n",
    "pd.set_option('display.max_rows', 10000)\n",
    "pd.set_option('display.max_columns', 10000)"
   ]
  },
  {
   "cell_type": "code",
   "execution_count": null,
   "id": "22e48e65",
   "metadata": {},
   "outputs": [],
   "source": [
    "ventas= pd.read_excel(r'C:\\Users\\Pablo\\OneDrive - Helacor S.A\\Club Grido\\Informes de analítica\\Analisis de tartas\\ventas_tartas.xlsx')\n",
    "ventas.head()"
   ]
  },
  {
   "cell_type": "markdown",
   "id": "391b1bdb",
   "metadata": {},
   "source": [
    "#### Analizo indicadores básicos compras de tartas"
   ]
  },
  {
   "cell_type": "code",
   "execution_count": null,
   "id": "9c8c7b60",
   "metadata": {},
   "outputs": [],
   "source": [
    "print('minima fecha:', ventas['SaleDate'].min())\n",
    "print('maxima fecha:', ventas['SaleDate'].max())"
   ]
  },
  {
   "cell_type": "code",
   "execution_count": null,
   "id": "9aabd773",
   "metadata": {},
   "outputs": [],
   "source": [
    "print('Kilos vendidos de tartas a través de Club Grido:', ventas[(ventas.ProductId ==406) | (ventas.ProductId ==407) | (ventas.ProductId ==408)].Kilos.sum())"
   ]
  },
  {
   "cell_type": "code",
   "execution_count": null,
   "id": "e0aa2a39",
   "metadata": {},
   "outputs": [],
   "source": [
    "print('unidades vendidas:', ventas[((ventas.ProductId ==406) | (ventas.ProductId ==407) | (ventas.ProductId ==408))].SaleId.count())"
   ]
  },
  {
   "cell_type": "code",
   "execution_count": null,
   "id": "e41bc16d",
   "metadata": {},
   "outputs": [],
   "source": [
    "socios_tartas = ventas.CustomerId.nunique()\n",
    "print('Socios que compraron tartas:', socios_tartas)"
   ]
  },
  {
   "cell_type": "code",
   "execution_count": null,
   "id": "741b3ae8",
   "metadata": {},
   "outputs": [],
   "source": [
    "socios_recompraron= (ventas.groupby('CustomerId').SaleId.nunique()>1).sum()\n",
    "print('clientes que recompraron tartas:',socios_recompraron)"
   ]
  },
  {
   "cell_type": "code",
   "execution_count": null,
   "id": "f3aa29c9",
   "metadata": {},
   "outputs": [],
   "source": [
    "print('porcentaje de socios que recompró:',round(socios_recompraron/socios_tartas*100,1),'%')"
   ]
  },
  {
   "cell_type": "code",
   "execution_count": null,
   "id": "4bba58c3",
   "metadata": {},
   "outputs": [],
   "source": [
    "print('porcentaje de ventas por producto')\n",
    "ventas[((ventas.ProductId ==406) | (ventas.ProductId ==407) | (ventas.ProductId ==408))].ProductName.value_counts(normalize=True)*100"
   ]
  },
  {
   "cell_type": "markdown",
   "id": "a67bfbdb",
   "metadata": {},
   "source": [
    "##### Analizo las compras segun la hora"
   ]
  },
  {
   "cell_type": "code",
   "execution_count": null,
   "id": "66450d56",
   "metadata": {},
   "outputs": [],
   "source": [
    "horas = pd.to_datetime(ventas['SaleDate']).dt.hour"
   ]
  },
  {
   "cell_type": "code",
   "execution_count": null,
   "id": "a49d0f20",
   "metadata": {},
   "outputs": [],
   "source": [
    "fig, ax = plt.subplots(figsize=(10,7))\n",
    "ax.tick_params(axis='x', labelrotation = 30)\n",
    "plt.title('Compras de tarta Frizzio por hora del día')\n",
    "fig = sns.countplot(y=horas, palette=[\"#0C3B65\"], order= [num for num in range(0,24)])\n",
    "ax.set_xlabel('Cantidad de compras de tartas Frizzio',loc='center')\n",
    "ax.set_ylabel('Hora del día en que se compran tartas Frizzio',loc='center')"
   ]
  },
  {
   "cell_type": "markdown",
   "id": "a46e662e",
   "metadata": {},
   "source": [
    "##### Analizo las compras segun días"
   ]
  },
  {
   "cell_type": "code",
   "execution_count": null,
   "id": "6e44e442",
   "metadata": {},
   "outputs": [],
   "source": [
    "import locale\n",
    "locale.setlocale(locale.LC_ALL,'es_ES.UTF-8')\n",
    "dia = pd.to_datetime(ventas['SaleDate']).dt.weekday.apply(lambda x: calendar.day_name[x])"
   ]
  },
  {
   "cell_type": "code",
   "execution_count": null,
   "id": "ffd3defe",
   "metadata": {},
   "outputs": [],
   "source": [
    "fig, ax = plt.subplots(figsize=(10,7))\n",
    "ax.tick_params(axis='x', labelrotation = 30)\n",
    "plt.title('Compras de tarta Frizzio por día de la semana')\n",
    "fig = sns.countplot(y=dia, order = list(calendar.day_name), color='grey')\n",
    "ax.set_xlabel('Cantidad de compras de tartas Frizzio',loc='center')\n",
    "ax.set_ylabel('',loc='center')"
   ]
  },
  {
   "cell_type": "code",
   "execution_count": null,
   "id": "3543fb5e",
   "metadata": {},
   "outputs": [],
   "source": [
    "(dia.value_counts(normalize=True)*100).apply(lambda x: round(x,1))"
   ]
  },
  {
   "cell_type": "markdown",
   "id": "85fe8598",
   "metadata": {},
   "source": [
    "#### Analizo comportamiento con productos"
   ]
  },
  {
   "cell_type": "code",
   "execution_count": null,
   "id": "bf66aedc",
   "metadata": {},
   "outputs": [],
   "source": [
    "print('cantidad de ventas:',ventas.SaleId.nunique())"
   ]
  },
  {
   "cell_type": "code",
   "execution_count": null,
   "id": "89b25419",
   "metadata": {},
   "outputs": [],
   "source": [
    "print('Cantidad de ventas con otro producto:',ventas[~((ventas.ProductId ==406) | (ventas.ProductId ==407) | (ventas.ProductId ==408))].SaleId.nunique())"
   ]
  },
  {
   "cell_type": "code",
   "execution_count": null,
   "id": "96ddd350",
   "metadata": {},
   "outputs": [],
   "source": [
    "print('porcentaje de ventas realizadas en conjunto con otro producto')\n",
    "ventas[~((ventas.ProductId ==406) | (ventas.ProductId ==407) | (ventas.ProductId ==408))].SaleId.nunique() / ventas.SaleId.nunique()*100"
   ]
  },
  {
   "cell_type": "code",
   "execution_count": null,
   "id": "70531610",
   "metadata": {},
   "outputs": [],
   "source": [
    "productos = pd.read_excel(r'C:\\Users\\Pablo\\Helacor S.A\\Equipo CLUB GRIDO - General\\Datos\\productos_vigentes.xlsx')\n",
    "productos['ProductId']= productos.ProductId.astype('float')\n",
    "productos=productos[productos['Linea x Producto']!='No Definido']\n",
    "productos.drop_duplicates(subset=['ProductId'],inplace=True)\n",
    "productos.drop('ProductName',axis=1,inplace=True)\n",
    "productos.head()"
   ]
  },
  {
   "cell_type": "code",
   "execution_count": null,
   "id": "209d80cd",
   "metadata": {},
   "outputs": [],
   "source": [
    "ventas= ventas.merge(productos,left_on='ProductId',right_on='ProductId',how='left')\n",
    "ventas.shape"
   ]
  },
  {
   "cell_type": "code",
   "execution_count": null,
   "id": "2bf0b7ba",
   "metadata": {},
   "outputs": [],
   "source": [
    "ventas.head()"
   ]
  },
  {
   "cell_type": "code",
   "execution_count": null,
   "id": "c0f1500a",
   "metadata": {},
   "outputs": [],
   "source": [
    "print('Porcentaje de acompañamiento por producto')\n",
    "pd.DataFrame(ventas[~((ventas.ProductId ==406) | (ventas.ProductId ==407) | (ventas.ProductId ==408))].ProductName.value_counts(normalize=True)*100).head(10)"
   ]
  },
  {
   "cell_type": "code",
   "execution_count": null,
   "id": "be735e94",
   "metadata": {},
   "outputs": [],
   "source": [
    "print('Porcentaje de acompañamiento por Linea')\n",
    "pd.DataFrame(ventas[~((ventas.ProductId ==406) | (ventas.ProductId ==407) | (ventas.ProductId ==408))]['Linea x Producto'].value_counts(normalize=True)*100).head(10)"
   ]
  },
  {
   "cell_type": "code",
   "execution_count": null,
   "id": "e1b8d9ae",
   "metadata": {},
   "outputs": [],
   "source": [
    "print('Porcentaje de acompañamiento por Familia')\n",
    "pd.DataFrame(ventas[~((ventas.ProductId ==406) | (ventas.ProductId ==407) | (ventas.ProductId ==408))]['familia'].value_counts(normalize=True)*100).head(20)"
   ]
  },
  {
   "cell_type": "code",
   "execution_count": null,
   "id": "f0d871ce",
   "metadata": {
    "scrolled": true
   },
   "outputs": [],
   "source": [
    "print('Porcentaje de acompañamiento por producto')\n",
    "pd.DataFrame(ventas[~((ventas.ProductId ==406) | (ventas.ProductId ==407) | (ventas.ProductId ==408))].ProductName.value_counts(normalize=True)*100).head(20)"
   ]
  },
  {
   "cell_type": "markdown",
   "id": "322855d0",
   "metadata": {},
   "source": [
    "Análisis por franquicia"
   ]
  },
  {
   "cell_type": "code",
   "execution_count": null,
   "id": "c366040d",
   "metadata": {},
   "outputs": [],
   "source": [
    "pd.DataFrame(ventas[~((ventas.ProductId ==406) | (ventas.ProductId ==407) | (ventas.ProductId ==408))].BranchOfficeId.value_counts(normalize=True)*100).head(20)"
   ]
  },
  {
   "cell_type": "code",
   "execution_count": null,
   "id": "9a619fb0",
   "metadata": {},
   "outputs": [],
   "source": [
    "ventas.BranchOfficeId.nunique()"
   ]
  },
  {
   "cell_type": "code",
   "execution_count": null,
   "id": "cde81676",
   "metadata": {},
   "outputs": [],
   "source": []
  }
 ],
 "metadata": {
  "kernelspec": {
   "display_name": "Python 3",
   "language": "python",
   "name": "python3"
  },
  "language_info": {
   "codemirror_mode": {
    "name": "ipython",
    "version": 3
   },
   "file_extension": ".py",
   "mimetype": "text/x-python",
   "name": "python",
   "nbconvert_exporter": "python",
   "pygments_lexer": "ipython3",
   "version": "3.8.8"
  }
 },
 "nbformat": 4,
 "nbformat_minor": 5
}
