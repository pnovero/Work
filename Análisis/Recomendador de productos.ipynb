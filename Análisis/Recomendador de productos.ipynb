{
 "cells": [
  {
   "cell_type": "markdown",
   "id": "9b729618",
   "metadata": {},
   "source": [
    "## Recomendador de productos Club Grido"
   ]
  },
  {
   "cell_type": "markdown",
   "id": "31fa78c3",
   "metadata": {},
   "source": [
    "Existe la necesidad de procesar los datos históricos de consumo de los socios para poder recomendarles productos de acuerdo a sus preferencias.\n",
    "\n",
    "En este caso se aplicará la librería LightFM que permite analizar las compras que realizó cada socio y ademas agregarle variables descriptivas a cada entidad (socio y producto)"
   ]
  },
  {
   "cell_type": "code",
   "execution_count": 1,
   "id": "55cd63da",
   "metadata": {},
   "outputs": [],
   "source": [
    "import pandas as pd\n",
    "import numpy as np\n",
    "import seaborn as sns\n",
    "import pyodbc\n",
    "import os\n",
    "\n",
    "from lightfm import LightFM\n",
    "from datetime import datetime as dt\n",
    "\n",
    "pd.set_option('display.max_rows', None)\n",
    "pd.set_option('display.max_columns', None)\n",
    "pd.set_option('max_colwidth', None)"
   ]
  },
  {
   "cell_type": "markdown",
   "id": "4455380a",
   "metadata": {},
   "source": [
    "#### Importo datos"
   ]
  },
  {
   "cell_type": "code",
   "execution_count": 14,
   "id": "bfaa6857",
   "metadata": {
    "scrolled": true
   },
   "outputs": [
    {
     "data": {
      "text/html": [
       "<div>\n",
       "<style scoped>\n",
       "    .dataframe tbody tr th:only-of-type {\n",
       "        vertical-align: middle;\n",
       "    }\n",
       "\n",
       "    .dataframe tbody tr th {\n",
       "        vertical-align: top;\n",
       "    }\n",
       "\n",
       "    .dataframe thead th {\n",
       "        text-align: right;\n",
       "    }\n",
       "</style>\n",
       "<table border=\"1\" class=\"dataframe\">\n",
       "  <thead>\n",
       "    <tr style=\"text-align: right;\">\n",
       "      <th></th>\n",
       "      <th>CustomerId</th>\n",
       "      <th>monetary_value</th>\n",
       "      <th>T</th>\n",
       "      <th>recency</th>\n",
       "      <th>frequency</th>\n",
       "      <th>categoria</th>\n",
       "    </tr>\n",
       "  </thead>\n",
       "  <tbody>\n",
       "    <tr>\n",
       "      <th>0</th>\n",
       "      <td>954A3FC4-1205-C8A0-6BA4-08D0C305D616</td>\n",
       "      <td>0.512954</td>\n",
       "      <td>102</td>\n",
       "      <td>87</td>\n",
       "      <td>65</td>\n",
       "      <td>ABANDONO</td>\n",
       "    </tr>\n",
       "    <tr>\n",
       "      <th>1</th>\n",
       "      <td>0E246B1A-F8E1-CED5-72D4-08D0C0CDF115</td>\n",
       "      <td>0.573958</td>\n",
       "      <td>102</td>\n",
       "      <td>23</td>\n",
       "      <td>23</td>\n",
       "      <td>ABANDONO</td>\n",
       "    </tr>\n",
       "    <tr>\n",
       "      <th>2</th>\n",
       "      <td>10C29CB8-C4F5-C071-3842-08D0BF4D95AE</td>\n",
       "      <td>1.453636</td>\n",
       "      <td>103</td>\n",
       "      <td>71</td>\n",
       "      <td>10</td>\n",
       "      <td>ABANDONO</td>\n",
       "    </tr>\n",
       "    <tr>\n",
       "      <th>3</th>\n",
       "      <td>DE3B393D-8E46-C831-D611-08D0BF3B6F0A</td>\n",
       "      <td>0.780000</td>\n",
       "      <td>71</td>\n",
       "      <td>16</td>\n",
       "      <td>1</td>\n",
       "      <td>ABANDONO</td>\n",
       "    </tr>\n",
       "    <tr>\n",
       "      <th>4</th>\n",
       "      <td>C0D42EB9-FF1F-CBC2-E54E-08D0BF488BE9</td>\n",
       "      <td>0.556818</td>\n",
       "      <td>102</td>\n",
       "      <td>56</td>\n",
       "      <td>10</td>\n",
       "      <td>ABANDONO</td>\n",
       "    </tr>\n",
       "  </tbody>\n",
       "</table>\n",
       "</div>"
      ],
      "text/plain": [
       "                             CustomerId  monetary_value    T  recency  \\\n",
       "0  954A3FC4-1205-C8A0-6BA4-08D0C305D616        0.512954  102       87   \n",
       "1  0E246B1A-F8E1-CED5-72D4-08D0C0CDF115        0.573958  102       23   \n",
       "2  10C29CB8-C4F5-C071-3842-08D0BF4D95AE        1.453636  103       71   \n",
       "3  DE3B393D-8E46-C831-D611-08D0BF3B6F0A        0.780000   71       16   \n",
       "4  C0D42EB9-FF1F-CBC2-E54E-08D0BF488BE9        0.556818  102       56   \n",
       "\n",
       "   frequency categoria  \n",
       "0         65  ABANDONO  \n",
       "1         23  ABANDONO  \n",
       "2         10  ABANDONO  \n",
       "3          1  ABANDONO  \n",
       "4         10  ABANDONO  "
      ]
     },
     "execution_count": 14,
     "metadata": {},
     "output_type": "execute_result"
    }
   ],
   "source": [
    "DB = {'servername': '',\n",
    "      'database': '',\n",
    "      'usuario' :'',\n",
    "      'contraseña':'',\n",
    "      'Encrypt':'yes',\n",
    "      'TrustServerCertificate':'no',\n",
    "      'Connection Timeout':'30'}\n",
    "\n",
    "# create the connection\n",
    "conn = pyodbc.connect('DRIVER={ODBC Driver 17 for SQL Server};SERVER=' + DB['servername'] + ';DATABASE=' + DB['database'] +\\\n",
    "                      ';UID=' + DB['usuario'] + ';PWD='+ DB['contraseña'] + ';Encrypt=yes;TrustServerCertificate=no;Connection Timeout=30')\n",
    "\n",
    "# query db\n",
    "sql = \"\"\"\n",
    "\n",
    "\"\"\"\n",
    "df = pd.read_sql(sql, conn)\n",
    "df.head(2)"
   ]
  },
  {
   "cell_type": "code",
   "execution_count": 18,
   "id": "06c03dd0",
   "metadata": {},
   "outputs": [
    {
     "data": {
      "text/plain": [
       "CustomerId           0\n",
       "monetary_value       0\n",
       "T                    0\n",
       "recency              0\n",
       "frequency            0\n",
       "categoria            0\n",
       "meses_con_compras    0\n",
       "dtype: int64"
      ]
     },
     "execution_count": 18,
     "metadata": {},
     "output_type": "execute_result"
    }
   ],
   "source": [
    "df.isnull().sum()"
   ]
  },
  {
   "cell_type": "markdown",
   "id": "1fe0d215",
   "metadata": {},
   "source": [
    "### Matrix Factorization (MF) model: Solo una matriz users-items. Implementa collaborative Filterinf (CF)."
   ]
  },
  {
   "cell_type": "markdown",
   "id": "ef5e5a16",
   "metadata": {},
   "source": [
    "#### Estos algoritmos utilizan únicamente el consumo pasado de los socios.\n",
    "\n",
    "Debo crear una matriz esparsa donde cada fila es un cliente y en cada columna están los productos. Si un cliente compró alguna vez el producto, va un 1, sino -1"
   ]
  },
  {
   "cell_type": "code",
   "execution_count": null,
   "id": "cee940a5",
   "metadata": {},
   "outputs": [],
   "source": [
    "model = LightFM(no_components=30)\n",
    "model.fit(train, epochs=20)"
   ]
  },
  {
   "cell_type": "code",
   "execution_count": null,
   "id": "36349c44",
   "metadata": {},
   "outputs": [],
   "source": []
  },
  {
   "cell_type": "code",
   "execution_count": null,
   "id": "feee1af1",
   "metadata": {},
   "outputs": [],
   "source": []
  },
  {
   "cell_type": "code",
   "execution_count": null,
   "id": "6b8f082e",
   "metadata": {},
   "outputs": [],
   "source": []
  },
  {
   "cell_type": "markdown",
   "id": "b88d8b36",
   "metadata": {},
   "source": []
  }
 ],
 "metadata": {
  "kernelspec": {
   "display_name": "Python 3",
   "language": "python",
   "name": "python3"
  },
  "language_info": {
   "codemirror_mode": {
    "name": "ipython",
    "version": 3
   },
   "file_extension": ".py",
   "mimetype": "text/x-python",
   "name": "python",
   "nbconvert_exporter": "python",
   "pygments_lexer": "ipython3",
   "version": "3.8.8"
  }
 },
 "nbformat": 4,
 "nbformat_minor": 5
}
