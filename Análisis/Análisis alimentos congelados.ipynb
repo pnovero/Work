{
 "cells": [
  {
   "cell_type": "markdown",
   "id": "c44abe56",
   "metadata": {},
   "source": [
    "#### En este notebook me enfoco en productos de alimentos congelados:\n",
    "- Análisis exploratorio de datos.\n",
    "- Clusterización RFV utilizando Kmeans.\n",
    "- Market Basket con algoritmo A priori."
   ]
  },
  {
   "cell_type": "code",
   "execution_count": null,
   "id": "aa4d4247",
   "metadata": {},
   "outputs": [],
   "source": [
    "import pyodbc\n",
    "import pandas as pd\n",
    "import matplotlib.pyplot as plt\n",
    "from matplotlib import colors\n",
    "import seaborn as sns\n",
    "import datetime as dt\n",
    "import numpy as np\n",
    "import sidetable as stb\n",
    "\n",
    "from mlxtend.frequent_patterns import apriori, association_rules\n",
    "\n",
    "from sklearn.preprocessing import LabelEncoder\n",
    "from sklearn.preprocessing import StandardScaler\n",
    "from sklearn.decomposition import PCA\n",
    "from sklearn.cluster import KMeans\n",
    "from sklearn import metrics\n",
    "from scipy.spatial.distance import cdist\n",
    "\n",
    "\n",
    "pd.set_option('display.max_rows', 10000)\n",
    "pd.set_option('display.max_columns', 10000)"
   ]
  },
  {
   "cell_type": "code",
   "execution_count": null,
   "id": "e00253e9",
   "metadata": {},
   "outputs": [],
   "source": [
    "#!conda install -c conda-forge yellowbrick\n",
    "#from yellowbrick.cluster import KElbowVisualizer\n"
   ]
  },
  {
   "cell_type": "code",
   "execution_count": null,
   "id": "ae2770e1",
   "metadata": {},
   "outputs": [],
   "source": [
    "#yconda install -c conda-forge sidetable\n",
    "#conda install -c districtdatalabs yellowbrick\n",
    "#conda install -c sklearn.utils\n",
    "#yellowbrick.download()"
   ]
  },
  {
   "cell_type": "markdown",
   "id": "ea3a1c04",
   "metadata": {},
   "source": [
    "SELECT s.SaleId, s.SaleDate, sc.CustomerId, s.ProductId, s.ProductName, s.Amount,s.ProductWeightGrams * 0.001 'Kilos', s.BranchOfficeId, s.PromotionId, s.PromotionName\n",
    "FROM dbo.Sale s\n",
    "INNER JOIN dbo.SaleCustomer sc ON sc.SaleId=s.SaleId\n",
    "WHERE s.SaleId IN\n",
    "    (\n",
    "    SELECT sbis.SaleId FROM dbo.Sale sbis\n",
    "    INNER JOIN [dbo].[powerbi_franquicias_ventas_articulos] prod ON prod.codigo = sbis.ProductId\n",
    "    WHERE prod.ptipo = 'H'\n",
    "    AND prod.idCategoria = 3\n",
    "    GROUP BY sbis.SaleId\n",
    "    )\n",
    "AND s.InvalidatedDate IS NULL\n",
    "AND s.SaleDate > '2019-04-30'"
   ]
  },
  {
   "cell_type": "code",
   "execution_count": null,
   "id": "eef7ea04",
   "metadata": {},
   "outputs": [],
   "source": [
    "productos= pd.read_csv(r'C:\\Users\\Pablo\\OneDrive - Helacor S.A\\Club Grido\\Informes de analítica\\Alimentos congelados\\productos.csv')\n",
    "productos.drop_duplicates(subset=['codigo'],inplace=True)\n",
    "productos.head()"
   ]
  },
  {
   "cell_type": "markdown",
   "id": "39f4dcb7",
   "metadata": {},
   "source": [
    "## Importo y analizo ventas"
   ]
  },
  {
   "cell_type": "markdown",
   "id": "3bd225d5",
   "metadata": {},
   "source": [
    "Ventas a partir del 1/5/2021"
   ]
  },
  {
   "cell_type": "code",
   "execution_count": null,
   "id": "970236b3",
   "metadata": {},
   "outputs": [],
   "source": [
    "sns.set(rc={\"axes.facecolor\":\"#FFF9ED\",\"figure.facecolor\":\"#FFF9ED\"})"
   ]
  },
  {
   "cell_type": "code",
   "execution_count": null,
   "id": "3321204d",
   "metadata": {},
   "outputs": [],
   "source": [
    "ventas= pd.read_csv(r'C:\\Users\\Pablo\\OneDrive - Helacor S.A\\Club Grido\\Informes de analítica\\Alimentos congelados\\ventas_congelados.csv')\n",
    "ventas.head()"
   ]
  },
  {
   "cell_type": "code",
   "execution_count": null,
   "id": "17049c95",
   "metadata": {},
   "outputs": [],
   "source": [
    "ventas.dropna(subset=['ProductId'],inplace=True)"
   ]
  },
  {
   "cell_type": "code",
   "execution_count": null,
   "id": "79900ba3",
   "metadata": {},
   "outputs": [],
   "source": [
    "ventas= ventas.merge(productos[['codigo','linea_producto','idCategoria']], left_on='ProductId', right_on='codigo',how='left')\n",
    "ventas.shape"
   ]
  },
  {
   "cell_type": "code",
   "execution_count": null,
   "id": "d7a74e4c",
   "metadata": {},
   "outputs": [],
   "source": [
    "ventas.isnull().sum()"
   ]
  },
  {
   "cell_type": "code",
   "execution_count": null,
   "id": "6f97501c",
   "metadata": {},
   "outputs": [],
   "source": [
    "ventas_alimentos = ventas[ventas.idCategoria ==3]"
   ]
  },
  {
   "cell_type": "markdown",
   "id": "cfe0f7e7",
   "metadata": {},
   "source": [
    "##### Analizo evolución de ventas"
   ]
  },
  {
   "cell_type": "code",
   "execution_count": null,
   "id": "08da2fb1",
   "metadata": {},
   "outputs": [],
   "source": [
    "ventas['mes'] = pd.to_datetime(ventas['SaleDate']).dt.month\n",
    "ventas['año'] = pd.to_datetime(ventas['SaleDate']).dt.year"
   ]
  },
  {
   "cell_type": "code",
   "execution_count": null,
   "id": "7c9361ba",
   "metadata": {},
   "outputs": [],
   "source": [
    "X= ventas[ventas.idCategoria ==3].groupby([\"año\",\"mes\"],as_index=False)[\"Kilos\"].sum()\n",
    "X.columns= ['año','mes','Kilos']\n",
    "X[\"mes-año\"] = X[\"mes\"].astype(str)+ \"-\" + X[\"año\"].astype(str)\n",
    "\n",
    "fig, ax = plt.subplots(figsize=(15,5))\n",
    "ax.tick_params(axis='x', labelrotation = 30)\n",
    "fig = sns.lineplot(data= X, x= \"mes-año\",y= \"Kilos\")\n",
    "#fig.show()"
   ]
  },
  {
   "cell_type": "markdown",
   "id": "2ec69213",
   "metadata": {},
   "source": [
    "Las ventas no se recuperaron luego del cierre por pandemia"
   ]
  },
  {
   "cell_type": "code",
   "execution_count": null,
   "id": "6962e2fc",
   "metadata": {},
   "outputs": [],
   "source": [
    "print('El ', round(100 - ventas_alimentos.PromotionId.isnull().sum()/ventas_alimentos.shape[0]*100,1),' % de las ventas fueron gracias a promociones')"
   ]
  },
  {
   "cell_type": "code",
   "execution_count": null,
   "id": "c45fc8e8",
   "metadata": {
    "scrolled": true
   },
   "outputs": [],
   "source": [
    "# Participación de las promociones\n",
    "\n",
    "kilos_totales_promo= ventas_alimentos[~ventas_alimentos.PromotionId.isnull()].Kilos.sum()\n",
    "ventas_promos = pd.DataFrame(ventas_alimentos.groupby('PromotionName').Kilos.sum()).reset_index()\n",
    "ventas_promos['% kilos'] = round(ventas_promos.Kilos / kilos_totales_promo*100,1)\n",
    "ventas_promos.sort_values('% kilos',ascending=False,inplace=True)\n",
    "ventas_promos.head(5)"
   ]
  },
  {
   "cell_type": "markdown",
   "id": "32584714",
   "metadata": {},
   "source": [
    "Las promos más exitosas son puramente de Frizzio."
   ]
  },
  {
   "cell_type": "code",
   "execution_count": null,
   "id": "361b35dd",
   "metadata": {},
   "outputs": [],
   "source": [
    "# Participación de los productos\n",
    "\n",
    "kilos_totales_alimento= ventas_alimentos.Kilos.sum()\n",
    "ventas_prod = pd.DataFrame(ventas_alimentos.groupby('ProductName').Kilos.sum()).reset_index()\n",
    "ventas_prod['% kilos'] = round(ventas_prod.Kilos / kilos_totales_alimento*100,1)\n",
    "ventas_prod.sort_values('% kilos',ascending=False,inplace=True)\n",
    "ventas_prod.head(5)"
   ]
  },
  {
   "cell_type": "code",
   "execution_count": null,
   "id": "eae1848e",
   "metadata": {},
   "outputs": [],
   "source": [
    "# Participación de las lineas de producto\n",
    "\n",
    "ventas_linea = pd.DataFrame(ventas_alimentos.groupby('linea_producto').Kilos.sum()).reset_index()\n",
    "ventas_linea['% kilos'] = round(ventas_linea.Kilos / kilos_totales_alimento*100,1)\n",
    "ventas_linea.sort_values('% kilos',ascending=False,inplace=True)\n",
    "ventas_linea.head(5)"
   ]
  },
  {
   "cell_type": "code",
   "execution_count": null,
   "id": "a2740b47",
   "metadata": {},
   "outputs": [],
   "source": [
    "#Participacion por linea esta temporada\n",
    "\n",
    "kilos_temp_alim= ventas_alimentos[pd.to_datetime(ventas.SaleDate).dt.date >= dt.datetime(2021,5,1).date()].Kilos.sum()\n",
    "ventas_linea = pd.DataFrame(ventas_alimentos[pd.to_datetime(ventas.SaleDate).dt.date >= dt.datetime(2021,5,1).date()]\\\n",
    "                            .groupby('linea_producto').Kilos.sum()).reset_index()\n",
    "ventas_linea['% kilos'] = round(ventas_linea.Kilos / kilos_temp_alim*100,1)\n",
    "ventas_linea.sort_values('% kilos',ascending=False,inplace=True)\n",
    "ventas_linea.head(5)"
   ]
  },
  {
   "cell_type": "markdown",
   "id": "199bfe13",
   "metadata": {},
   "source": [
    "Analizo la evolucion de las lineas principales post pandemia"
   ]
  },
  {
   "cell_type": "code",
   "execution_count": null,
   "id": "2f635ee5",
   "metadata": {},
   "outputs": [],
   "source": [
    "lineas_top=['Pizzas', 'Bastoncitos', 'Pechuguitas','Empanadas','Papas']\n",
    "X = ventas[ventas.linea_producto.isin(lineas_top)].groupby([\"año\",\"mes\",'linea_producto'],as_index=False)[\"Kilos\"].sum()\n",
    "X['mes-año'] = X['año'].astype('str') + '-' + X['mes'].astype('str')"
   ]
  },
  {
   "cell_type": "code",
   "execution_count": null,
   "id": "8a44948d",
   "metadata": {},
   "outputs": [],
   "source": [
    "fig, ax = plt.subplots(figsize=(15,5))\n",
    "ax.tick_params(axis='x', labelrotation = 30)\n",
    "fig = sns.lineplot(data=X,x='mes-año',y='Kilos',hue='linea_producto')"
   ]
  },
  {
   "cell_type": "code",
   "execution_count": null,
   "id": "41d5bcce",
   "metadata": {},
   "outputs": [],
   "source": [
    "lineas_top=['Pizzas', 'Bastoncitos', 'Pechuguitas','Empanadas','Papas']\n",
    "X = ventas[(ventas.linea_producto.isin(lineas_top)) & (pd.to_datetime(ventas.SaleDate).dt.date >= dt.datetime(2020,4,1).date())]\\\n",
    "    .groupby([\"año\",\"mes\",'linea_producto'],as_index=False)[\"Kilos\"].sum()\n",
    "X['mes-año'] = X['año'].astype('str') + '-' + X['mes'].astype('str')"
   ]
  },
  {
   "cell_type": "code",
   "execution_count": null,
   "id": "10386711",
   "metadata": {
    "scrolled": true
   },
   "outputs": [],
   "source": [
    "fig, ax = plt.subplots(figsize=(15,5))\n",
    "ax.tick_params(axis='x', labelrotation = 30)\n",
    "fig = sns.lineplot(data=X,x='mes-año',y='Kilos',hue='linea_producto')"
   ]
  },
  {
   "cell_type": "code",
   "execution_count": null,
   "id": "3d953584",
   "metadata": {},
   "outputs": [],
   "source": [
    "lineas_top=['Bastoncitos', 'Pechuguitas','Empanadas','Papas']\n",
    "X = ventas[(ventas.linea_producto.isin(lineas_top)) & (pd.to_datetime(ventas.SaleDate).dt.date >= dt.datetime(2020,4,1).date())]\\\n",
    "    .groupby([\"año\",\"mes\",'linea_producto'],as_index=False)[\"Kilos\"].sum()\n",
    "X['mes-año'] = X['año'].astype('str') + '-' + X['mes'].astype('str')"
   ]
  },
  {
   "cell_type": "code",
   "execution_count": null,
   "id": "51869d36",
   "metadata": {
    "scrolled": false
   },
   "outputs": [],
   "source": [
    "fig, ax = plt.subplots(figsize=(15,5))\n",
    "ax.tick_params(axis='x', labelrotation = 30)\n",
    "fig = sns.lineplot(data=X,x='mes-año',y='Kilos',hue='linea_producto')"
   ]
  },
  {
   "cell_type": "markdown",
   "id": "84c35098",
   "metadata": {},
   "source": [
    "La unica linea que volvió a crecer consistentemente fue la de pizzas, el resto aleatorio"
   ]
  },
  {
   "cell_type": "markdown",
   "id": "0b185091",
   "metadata": {},
   "source": [
    "##### Analizo días de ventas"
   ]
  },
  {
   "cell_type": "code",
   "execution_count": null,
   "id": "1511361b",
   "metadata": {},
   "outputs": [],
   "source": [
    "import locale\n",
    "import calendar\n",
    "locale.setlocale(locale.LC_ALL,'es_ES.UTF-8')\n",
    "dia = pd.to_datetime(ventas_alimentos['SaleDate']).dt.weekday.apply(lambda x: calendar.day_name[x])"
   ]
  },
  {
   "cell_type": "code",
   "execution_count": null,
   "id": "fd4cf2ce",
   "metadata": {},
   "outputs": [],
   "source": [
    "fig, ax = plt.subplots(figsize=(10,7))\n",
    "ax.tick_params(axis='x', labelrotation = 30)\n",
    "#plt.title('Compras por día de la semana')\n",
    "fig = sns.countplot(y=dia, order = list(calendar.day_name), color='grey')\n",
    "ax.set_xlabel('',loc='center')\n",
    "ax.set_ylabel('',loc='center')"
   ]
  },
  {
   "cell_type": "code",
   "execution_count": null,
   "id": "029eef29",
   "metadata": {},
   "outputs": [],
   "source": [
    "(dia.value_counts(normalize=True)*100).apply(lambda x: round(x,1))"
   ]
  },
  {
   "cell_type": "markdown",
   "id": "705e08c0",
   "metadata": {},
   "source": [
    "##### Analizo las horas de mayor venta"
   ]
  },
  {
   "cell_type": "code",
   "execution_count": null,
   "id": "7b23081b",
   "metadata": {},
   "outputs": [],
   "source": [
    "horas = pd.to_datetime(ventas_alimentos['SaleDate']).dt.hour"
   ]
  },
  {
   "cell_type": "code",
   "execution_count": null,
   "id": "e2bd0f87",
   "metadata": {},
   "outputs": [],
   "source": [
    "fig, ax = plt.subplots(figsize=(10,7))\n",
    "ax.tick_params(axis='x', labelrotation = 30)\n",
    "plt.title('')\n",
    "fig = sns.countplot(y=horas, palette=[\"#0C3B65\"])\n",
    "ax.set_xlabel('',loc='center')\n",
    "ax.set_ylabel('',loc='center')"
   ]
  },
  {
   "cell_type": "code",
   "execution_count": null,
   "id": "ef86245a",
   "metadata": {},
   "outputs": [],
   "source": [
    "dia_hora = pd.DataFrame(data={'dia':dia,'horas':horas})\n",
    "dia_hora.head()"
   ]
  },
  {
   "cell_type": "code",
   "execution_count": null,
   "id": "1752fa2b",
   "metadata": {},
   "outputs": [],
   "source": [
    "fig, axes = plt.subplots(nrows=7,ncols= 1,figsize=(10,40))\n",
    "\n",
    "for i,n_dia in enumerate(calendar.day_name[:]):\n",
    "    axes[i].tick_params(axis='x', labelrotation = 30)\n",
    "    axes[i].title.set_text(n_dia)\n",
    "    sns.countplot(y=dia_hora[dia_hora.dia == n_dia].horas, palette=[\"#0C3B65\"],ax=axes[i])"
   ]
  },
  {
   "cell_type": "code",
   "execution_count": null,
   "id": "44d6d29d",
   "metadata": {},
   "outputs": [],
   "source": [
    "ventas_alimentos.SaleDate.max()"
   ]
  },
  {
   "cell_type": "markdown",
   "id": "d64f8e30",
   "metadata": {},
   "source": [
    "### Análisis de clientes"
   ]
  },
  {
   "cell_type": "markdown",
   "id": "ff55392f",
   "metadata": {},
   "source": [
    "##### Agrupo por clientes en ventas de alimentos"
   ]
  },
  {
   "cell_type": "code",
   "execution_count": null,
   "id": "b520c439",
   "metadata": {},
   "outputs": [],
   "source": [
    "lineas_top=['Pizzas','Bastoncitos', 'Pechuguitas','Empanadas','Papas']\n",
    "ventas_alimentos['linea_producto']= np.where(~ventas_alimentos['linea_producto'].isin(lineas_top),'otras lineas',ventas_alimentos['linea_producto'])\n",
    "\n",
    "\n",
    "clientes_alimentos = ventas_alimentos.groupby('CustomerId').agg({'Kilos':'sum','SaleId':'nunique','SaleDate':'max','linea_producto':'nunique'}).reset_index()\n",
    "clientes_alimentos.rename(columns={'Kilos':'Kilos alimentos','SaleId':'Cantidad compras alimentos','SaleDate':'ultima_compra','linea_producto':'lineas_alim_probadas'},inplace=True)\n",
    "ultima_fecha = pd.to_datetime(ventas_alimentos.SaleDate).dt.date.max()\n",
    "clientes_alimentos['recencia_alimentos'] = (ultima_fecha - pd.to_datetime(clientes_alimentos.ultima_compra).dt.date)/ np.timedelta64(1,'D')"
   ]
  },
  {
   "cell_type": "code",
   "execution_count": null,
   "id": "7cb59366",
   "metadata": {},
   "outputs": [],
   "source": [
    "#clientes_alimentos_lineas = ventas_alimentos.groupby(['CustomerId','linea_producto']).Kilos.sum().unstack().fillna(0).reset_index().head(10)\n",
    "#clientes_alimentos = clientes_alimentos.merge(clientes_alimentos_lineas,on='CustomerId',how='left')\n",
    "clientes_alimentos.head()"
   ]
  },
  {
   "cell_type": "code",
   "execution_count": null,
   "id": "4c66f0ae",
   "metadata": {},
   "outputs": [],
   "source": [
    "cliente_promo = pd.DataFrame(ventas_alimentos[~ventas_alimentos.PromotionId.isnull()].groupby('CustomerId').SaleId.nunique().reset_index())\n",
    "\n",
    "cliente_promo.rename(columns={'SaleId':'cantidad_promos_alimentos'},inplace=True)\n",
    "cliente_promo.head()"
   ]
  },
  {
   "cell_type": "code",
   "execution_count": null,
   "id": "4c427ca1",
   "metadata": {},
   "outputs": [],
   "source": [
    "clientes_alimentos.shape"
   ]
  },
  {
   "cell_type": "code",
   "execution_count": null,
   "id": "df6a325c",
   "metadata": {},
   "outputs": [],
   "source": [
    "cliente_promo.drop_duplicates(subset=['CustomerId'],inplace=True)\n",
    "clientes_alimentos.drop_duplicates(subset=['CustomerId'],inplace=True)\n",
    "\n",
    "clientes_alimentos = clientes_alimentos.merge(cliente_promo,on='CustomerId',how='left')\n",
    "clientes_alimentos.shape"
   ]
  },
  {
   "cell_type": "markdown",
   "id": "f3376cd4",
   "metadata": {},
   "source": [
    "##### Agrupo por clientes en todas las ventas"
   ]
  },
  {
   "cell_type": "code",
   "execution_count": null,
   "id": "aad8ec6f",
   "metadata": {},
   "outputs": [],
   "source": [
    "clientes_total = ventas.groupby('CustomerId').agg({'Kilos':'sum','SaleId':'nunique','SaleDate':'max'}).reset_index()\n",
    "clientes_total.columns= ['CustomerId', 'Kilos totales','Cantidad de compras','ultima_compra']\n",
    "\n",
    "ultima_fecha = pd.to_datetime(ventas.SaleDate).dt.date.max()\n",
    "clientes_total['recencia'] = (ultima_fecha - pd.to_datetime(clientes_total.ultima_compra).dt.date)/ np.timedelta64(1,'D')\n",
    "clientes_total.head()"
   ]
  },
  {
   "cell_type": "markdown",
   "id": "7b2a7d48",
   "metadata": {},
   "source": [
    "##### Consolido todas las variables agrupadas en una sola tabla de clientes"
   ]
  },
  {
   "cell_type": "code",
   "execution_count": null,
   "id": "8f922e1c",
   "metadata": {},
   "outputs": [],
   "source": [
    "consumo_clientes = clientes_alimentos.merge(clientes_total,on='CustomerId')\n",
    "consumo_clientes.head()"
   ]
  },
  {
   "cell_type": "code",
   "execution_count": null,
   "id": "4b7b0c16",
   "metadata": {},
   "outputs": [],
   "source": [
    "print('Hay', consumo_clientes.shape[0],' clientes que consumieron alimentos congelados desde el 01-05-2019')"
   ]
  },
  {
   "cell_type": "code",
   "execution_count": null,
   "id": "6782887d",
   "metadata": {},
   "outputs": [],
   "source": [
    "consumo_clientes['% Alimentos'] = round(consumo_clientes['Kilos alimentos']/consumo_clientes['Kilos totales']*100,0)"
   ]
  },
  {
   "cell_type": "code",
   "execution_count": null,
   "id": "3d02d43f",
   "metadata": {},
   "outputs": [],
   "source": [
    "consumo_clientes['% Alimentos'].describe()"
   ]
  },
  {
   "cell_type": "code",
   "execution_count": null,
   "id": "70f038a7",
   "metadata": {
    "scrolled": true
   },
   "outputs": [],
   "source": [
    "plt.hist(consumo_clientes['% Alimentos'],bins=100)\n",
    "plt.show()"
   ]
  },
  {
   "cell_type": "code",
   "execution_count": null,
   "id": "585e222e",
   "metadata": {},
   "outputs": [],
   "source": [
    "clusters = [0,5.9,34.5,95.5,100]\n",
    "nombres_clusters =[\"Muy poco\",\"Poco\",\"Mucho\",\"Exclusivo alimentos\"]\n",
    "consumo_clientes['Consumo_alimentos'] = pd.cut(consumo_clientes['% Alimentos'],bins= clusters, labels = nombres_clusters)"
   ]
  },
  {
   "cell_type": "code",
   "execution_count": null,
   "id": "74fdbd55",
   "metadata": {},
   "outputs": [],
   "source": [
    "consumo_clientes.stb.freq(['Consumo_alimentos'])"
   ]
  },
  {
   "cell_type": "markdown",
   "id": "004e6b76",
   "metadata": {},
   "source": [
    "Armar graficos de 2 variables pintando por cluster armado"
   ]
  },
  {
   "cell_type": "markdown",
   "id": "714e9d1d",
   "metadata": {},
   "source": [
    "##### Importo otros datos de clientes y uno tablas"
   ]
  },
  {
   "cell_type": "markdown",
   "id": "8fb019f0",
   "metadata": {},
   "source": [
    "Consulta SQL Utilizada:\n",
    "\n",
    "SELECT c.CustomerId, c.BirthDate, c.GenderCode, c.MaritalStatus, c.ActivatedDate, seg.categoria\n",
    "FROM dbo.Customer c\n",
    "INNER JOIN dbo.clientes_segmentacion seg ON seg.CustomerId = c.CustomerId"
   ]
  },
  {
   "cell_type": "code",
   "execution_count": null,
   "id": "ce93575e",
   "metadata": {},
   "outputs": [],
   "source": [
    "clientes = pd.read_csv(r'C:\\Users\\Pablo\\OneDrive - Helacor S.A\\Club Grido\\Informes de analítica\\Alimentos congelados\\customers.csv')\n",
    "clientes.head()"
   ]
  },
  {
   "cell_type": "code",
   "execution_count": null,
   "id": "5f9f9b07",
   "metadata": {},
   "outputs": [],
   "source": [
    "clientes['edad'] = (dt.datetime.today() - pd.to_datetime(clientes.BirthDate)) / np.timedelta64(1,'Y')\n",
    "clientes['edad'] = clientes['edad'].apply(np.floor).astype('int')\n",
    "\n",
    "clientes['años de activo'] = (dt.datetime.today().date() - pd.to_datetime(clientes.ActivatedDate).dt.date) / np.timedelta64(1,'Y')"
   ]
  },
  {
   "cell_type": "code",
   "execution_count": null,
   "id": "ba8658db",
   "metadata": {},
   "outputs": [],
   "source": [
    "clientes.drop(columns=['BirthDate','ActivatedDate','MaritalStatus'],inplace=True)"
   ]
  },
  {
   "cell_type": "code",
   "execution_count": null,
   "id": "cd320c5a",
   "metadata": {},
   "outputs": [],
   "source": [
    "clientes.drop_duplicates(subset=['CustomerId'],inplace=True)"
   ]
  },
  {
   "cell_type": "code",
   "execution_count": null,
   "id": "cbd22479",
   "metadata": {},
   "outputs": [],
   "source": [
    "clientes.isnull().sum()/clientes.shape[0]*100"
   ]
  },
  {
   "cell_type": "code",
   "execution_count": null,
   "id": "ecc27a5d",
   "metadata": {},
   "outputs": [],
   "source": [
    "consumo_clientes = consumo_clientes.merge(clientes, how='left', on='CustomerId')\n",
    "consumo_clientes.head()"
   ]
  },
  {
   "cell_type": "code",
   "execution_count": null,
   "id": "90d30fdd",
   "metadata": {},
   "outputs": [],
   "source": [
    "consumo_clientes['Frecuencia de compra'] = round(365 * consumo_clientes['años de activo'] / consumo_clientes['Cantidad de compras'],0)\n",
    "consumo_clientes['Frecuencia de compra alimento'] = round(365 * consumo_clientes['años de activo'] / consumo_clientes['Cantidad compras alimentos'],0)"
   ]
  },
  {
   "cell_type": "code",
   "execution_count": null,
   "id": "870f0f69",
   "metadata": {},
   "outputs": [],
   "source": [
    "consumo_clientes.head()"
   ]
  },
  {
   "cell_type": "code",
   "execution_count": null,
   "id": "0bf378ab",
   "metadata": {},
   "outputs": [],
   "source": [
    "consumo_clientes.isnull().sum()"
   ]
  },
  {
   "cell_type": "code",
   "execution_count": null,
   "id": "eb4ec8b5",
   "metadata": {},
   "outputs": [],
   "source": [
    "consumo_clientes.shape"
   ]
  },
  {
   "cell_type": "code",
   "execution_count": null,
   "id": "3e33394f",
   "metadata": {},
   "outputs": [],
   "source": [
    "consumo_clientes['Frecuencia de compra'].describe()"
   ]
  },
  {
   "cell_type": "code",
   "execution_count": null,
   "id": "f23f13fa",
   "metadata": {},
   "outputs": [],
   "source": [
    "consumo_clientes['Frecuencia de compra alimento'].describe()"
   ]
  },
  {
   "cell_type": "markdown",
   "id": "3bdf18fd",
   "metadata": {},
   "source": [
    "##### Gráficas según segmento"
   ]
  },
  {
   "cell_type": "code",
   "execution_count": null,
   "id": "e2faf578",
   "metadata": {},
   "outputs": [],
   "source": [
    "consumo_clientes.groupby('Consumo_alimentos').agg({'edad':['mean','median'],'% Alimentos':'mean','Kilos alimentos':['mean','median'],'Cantidad compras alimentos':'mean'})"
   ]
  },
  {
   "cell_type": "code",
   "execution_count": null,
   "id": "620283f7",
   "metadata": {},
   "outputs": [],
   "source": [
    "consumo_clientes.groupby(['Consumo_alimentos','GenderCode']).agg({'edad':['mean','median'],'% Alimentos':'mean','Kilos alimentos':['mean','median'],'Cantidad compras alimentos':'mean'})"
   ]
  },
  {
   "cell_type": "markdown",
   "id": "49bb6626",
   "metadata": {},
   "source": [
    "Hay 2.664.536 socias del total de 4.375.681\n",
    "\n",
    "Es decir, el 60% de los socios de Club Grido, son mujeres."
   ]
  },
  {
   "cell_type": "code",
   "execution_count": null,
   "id": "d586508d",
   "metadata": {},
   "outputs": [],
   "source": [
    "consumo_clientes.groupby(['Consumo_alimentos','GenderCode']).agg({'CustomerId':'nunique'}).groupby(level=0).apply(lambda x:\n",
    "                                                 100 * x / float(x.sum()))"
   ]
  },
  {
   "cell_type": "code",
   "execution_count": null,
   "id": "5e6e601e",
   "metadata": {},
   "outputs": [],
   "source": [
    "clientes.stb.freq(['GenderCode'])"
   ]
  },
  {
   "cell_type": "code",
   "execution_count": null,
   "id": "54de6569",
   "metadata": {},
   "outputs": [],
   "source": [
    "pal = [\"#682F2F\",\"#B9C0C9\", \"#9F8A78\",\"#F3AB60\"]\n",
    "pl = sns.scatterplot(data = consumo_clientes,x='edad', y=\"GenderCode\",hue='Consumo_alimentos',size= \"Kilos alimentos\",palette= pal)\n",
    "pl.set_title(\"Edad y género según segmento\")\n",
    "plt.legend()\n",
    "plt.show()"
   ]
  },
  {
   "cell_type": "markdown",
   "id": "090d4054",
   "metadata": {},
   "source": [
    "# Clusterización"
   ]
  },
  {
   "cell_type": "markdown",
   "id": "e2a3bb16",
   "metadata": {},
   "source": [
    "La idea es ir armando clusterización de clientes para obtener ideas\n",
    "\\\n",
    "\\\n",
    "\\\n",
    "\\\n",
    "\\\n",
    "."
   ]
  },
  {
   "cell_type": "markdown",
   "id": "8c76d0a0",
   "metadata": {},
   "source": [
    "### RFV de alimentos"
   ]
  },
  {
   "cell_type": "code",
   "execution_count": null,
   "id": "cc568d00",
   "metadata": {
    "scrolled": true
   },
   "outputs": [],
   "source": [
    "consumo_clientes.columns"
   ]
  },
  {
   "cell_type": "code",
   "execution_count": null,
   "id": "b475e131",
   "metadata": {},
   "outputs": [],
   "source": [
    "X = consumo_clientes[['CustomerId','Kilos alimentos', 'Cantidad compras alimentos', 'recencia_alimentos']]"
   ]
  },
  {
   "cell_type": "markdown",
   "id": "6b2ff097",
   "metadata": {},
   "source": [
    "##### Analizar outliers y correlaciones"
   ]
  },
  {
   "cell_type": "code",
   "execution_count": null,
   "id": "06dd2ce0",
   "metadata": {},
   "outputs": [],
   "source": [
    "#correlation matrix\n",
    "corrmat= X.corr()\n",
    "plt.figure(figsize=(20,20))  \n",
    "sns.heatmap(corrmat,annot=True, center=0)"
   ]
  },
  {
   "cell_type": "markdown",
   "id": "e8af9925",
   "metadata": {},
   "source": [
    "Analizo la existencia de outliers con gráficos pareados"
   ]
  },
  {
   "cell_type": "code",
   "execution_count": null,
   "id": "a20ac5cd",
   "metadata": {
    "scrolled": true
   },
   "outputs": [],
   "source": [
    "#To plot some selected features \n",
    "#Setting up colors prefrences\n",
    "pallet = [\"#682F2F\", \"#9E726F\", \"#D6B2B1\", \"#B9C0C9\", \"#9F8A78\", \"#F3AB60\"]\n",
    "cmap = colors.ListedColormap([\"#682F2F\", \"#9E726F\", \"#D6B2B1\", \"#B9C0C9\", \"#9F8A78\", \"#F3AB60\"])\n",
    "#Plotting following features\n",
    "plt.figure()\n",
    "sns.pairplot(X,palette= ([\"#682F2F\",\"#F3AB60\"]))\n",
    "#Taking hue \n",
    "plt.show()"
   ]
  },
  {
   "cell_type": "markdown",
   "id": "6fca7d96",
   "metadata": {},
   "source": [
    "A partir de los gráficos, puedo reconocer los outliers.\n",
    "- Kilos alimentos tiene que ser < a 300\n"
   ]
  },
  {
   "cell_type": "code",
   "execution_count": null,
   "id": "e04971f7",
   "metadata": {},
   "outputs": [],
   "source": [
    "X= X[X['Kilos alimentos']<300]"
   ]
  },
  {
   "cell_type": "markdown",
   "id": "3c8aff8b",
   "metadata": {},
   "source": [
    "Elimino nulos"
   ]
  },
  {
   "cell_type": "code",
   "execution_count": null,
   "id": "2fc73f96",
   "metadata": {},
   "outputs": [],
   "source": [
    "X.isnull().sum()"
   ]
  },
  {
   "cell_type": "code",
   "execution_count": null,
   "id": "6a33820a",
   "metadata": {},
   "outputs": [],
   "source": [
    "X.dropna(how='any',inplace=True)"
   ]
  },
  {
   "cell_type": "markdown",
   "id": "1526b2b6",
   "metadata": {},
   "source": [
    "##### Normalizar variables"
   ]
  },
  {
   "cell_type": "markdown",
   "id": "90b97d14",
   "metadata": {},
   "source": [
    "Esto se hace para que las distancias sean las mismas en todos los ejes"
   ]
  },
  {
   "cell_type": "code",
   "execution_count": null,
   "id": "eef09f6e",
   "metadata": {},
   "outputs": [],
   "source": [
    "scaler = StandardScaler()\n",
    "scaler.fit(X.drop(columns=['CustomerId']))\n",
    "X_standard = pd.DataFrame(scaler.transform(X.drop(columns=['CustomerId'])),columns= X.drop(columns=['CustomerId']).columns)\n",
    "X_standard.head()"
   ]
  },
  {
   "cell_type": "markdown",
   "id": "8b8492d9",
   "metadata": {},
   "source": [
    "##### Principal Component Analysis (PCA)"
   ]
  },
  {
   "cell_type": "markdown",
   "id": "ad013a6c",
   "metadata": {},
   "source": [
    "Tecnica para reducir la dimensionalidad"
   ]
  },
  {
   "cell_type": "code",
   "execution_count": null,
   "id": "aa42a952",
   "metadata": {},
   "outputs": [],
   "source": [
    "pca = PCA(n_components=2)"
   ]
  },
  {
   "cell_type": "code",
   "execution_count": null,
   "id": "c12d93cf",
   "metadata": {},
   "outputs": [],
   "source": [
    "principalComponents = pca.fit_transform(X_standard)"
   ]
  },
  {
   "cell_type": "code",
   "execution_count": null,
   "id": "0946e0ec",
   "metadata": {},
   "outputs": [],
   "source": [
    "principalDf = pd.DataFrame(data = principalComponents\n",
    "             , columns = ['principal component 1', 'principal component 2'])\n",
    "principalDf.head()"
   ]
  },
  {
   "cell_type": "code",
   "execution_count": null,
   "id": "2010702e",
   "metadata": {},
   "outputs": [],
   "source": [
    "pca.explained_variance_ratio_"
   ]
  },
  {
   "cell_type": "markdown",
   "id": "3397cd61",
   "metadata": {},
   "source": [
    "Tecnica para reducir la dimensionalidad. Con 2 variables explican el 96% de los datos."
   ]
  },
  {
   "cell_type": "markdown",
   "id": "e9f5f771",
   "metadata": {},
   "source": [
    "##### Método del codo para definir cantidad de clusters"
   ]
  },
  {
   "cell_type": "code",
   "execution_count": null,
   "id": "101a3179",
   "metadata": {},
   "outputs": [],
   "source": [
    "distortions = []\n",
    "inertias = []\n",
    "mapping1 = {}\n",
    "mapping2 = {}\n",
    "K = range(1, 10)\n",
    "\n",
    "for k in K:\n",
    "    # Building and fitting the model\n",
    "    kmeanModel = KMeans(n_clusters=k).fit(principalDf)\n",
    "    kmeanModel.fit(principalDf)\n",
    "\n",
    "    distortions.append(sum(np.min(cdist(principalDf, kmeanModel.cluster_centers_,'euclidean'), axis=1)) / principalDf.shape[0])\n",
    "    inertias.append(kmeanModel.inertia_)\n",
    "\n",
    "    mapping1[k] = sum(np.min(cdist(principalDf, kmeanModel.cluster_centers_,'euclidean'), axis=1)) / principalDf.shape[0]\n",
    "    mapping2[k] = kmeanModel.inertia_\n"
   ]
  },
  {
   "cell_type": "code",
   "execution_count": null,
   "id": "5a480705",
   "metadata": {},
   "outputs": [],
   "source": [
    "for key, val in mapping1.items():\n",
    "    print(f'{key} : {val}')"
   ]
  },
  {
   "cell_type": "code",
   "execution_count": null,
   "id": "0a8236c5",
   "metadata": {},
   "outputs": [],
   "source": [
    "plt.plot(K, distortions, 'bx-')\n",
    "plt.xlabel('Values of K')\n",
    "plt.ylabel('Distortion')\n",
    "plt.title('The Elbow Method using Distortion')\n",
    "plt.show()"
   ]
  },
  {
   "cell_type": "code",
   "execution_count": null,
   "id": "48a87382",
   "metadata": {},
   "outputs": [],
   "source": [
    "plt.plot(K, inertias, 'bx-')\n",
    "plt.xlabel('Values of K')\n",
    "plt.ylabel('Inertias')\n",
    "plt.title('The Elbow Method using Inertia')\n",
    "plt.show()"
   ]
  },
  {
   "cell_type": "markdown",
   "id": "87b2443a",
   "metadata": {},
   "source": [
    "Pruebo con k=3"
   ]
  },
  {
   "cell_type": "markdown",
   "id": "8f4f6606",
   "metadata": {},
   "source": [
    "#### Implemento el algoritmo"
   ]
  },
  {
   "cell_type": "code",
   "execution_count": null,
   "id": "d6c3ab42",
   "metadata": {},
   "outputs": [],
   "source": [
    "kmeans = KMeans(n_clusters=3).fit(principalDf)\n",
    "labels = kmeans.predict(principalDf)\n",
    "# Obtengo los 3 centroides\n",
    "C = kmeans.cluster_centers_"
   ]
  },
  {
   "cell_type": "code",
   "execution_count": null,
   "id": "dc8cb049",
   "metadata": {
    "scrolled": true
   },
   "outputs": [],
   "source": [
    "X['labels_kmeans'] = labels\n",
    "principalDf['labels_kmeans'] = labels\n",
    "consumo_clientes = consumo_clientes.merge(X[['CustomerId','labels_kmeans']],on='CustomerId',how='left')\n",
    "consumo_clientes.head()"
   ]
  },
  {
   "cell_type": "markdown",
   "id": "9035537c",
   "metadata": {},
   "source": [
    "##### Evalúo el algoritmo"
   ]
  },
  {
   "cell_type": "code",
   "execution_count": null,
   "id": "9f38e542",
   "metadata": {},
   "outputs": [],
   "source": [
    "metrics.silhouette_score(principalDf, labels,sample_size=250000)"
   ]
  },
  {
   "cell_type": "code",
   "execution_count": null,
   "id": "781362db",
   "metadata": {},
   "outputs": [],
   "source": [
    "principalDf.shape"
   ]
  },
  {
   "cell_type": "code",
   "execution_count": null,
   "id": "be90b759",
   "metadata": {},
   "outputs": [],
   "source": [
    "px = 1/plt.rcParams['figure.dpi']  # pixel in inches\n",
    "plt.figure(figsize=(1280*px,769*px))\n",
    "pl = sns.scatterplot(data = principalDf, x='principal component 1', y='principal component 2',hue='labels_kmeans')\n",
    "pl.set_title(\"Customer Cluster's Profile Based on kg alimentos and kg totales\")\n",
    "plt.legend()\n",
    "\n",
    "plt.show()"
   ]
  },
  {
   "cell_type": "code",
   "execution_count": null,
   "id": "e79eee3e",
   "metadata": {},
   "outputs": [],
   "source": [
    "X.stb.freq(['labels_kmeans'],cum_cols=False)"
   ]
  },
  {
   "cell_type": "code",
   "execution_count": null,
   "id": "449d8a45",
   "metadata": {
    "scrolled": false
   },
   "outputs": [],
   "source": [
    "sns.countplot(y=X['labels_kmeans'],palette = ['#880105','#EDC305','#88AD05'])\n",
    "plt.ylabel('')"
   ]
  },
  {
   "cell_type": "markdown",
   "id": "119519df",
   "metadata": {},
   "source": [
    "##### Interpreto el algoritmo"
   ]
  },
  {
   "cell_type": "code",
   "execution_count": null,
   "id": "2d1bd5e3",
   "metadata": {
    "scrolled": true
   },
   "outputs": [],
   "source": [
    "#Setting up colors prefrences\n",
    "sns.set(rc={\"axes.facecolor\":\"#FFF9ED\",\"figure.facecolor\":\"#FFF9ED\"})\n",
    "pallet = [\"#682F2F\", \"#9E726F\", \"#D6B2B1\", \"#B9C0C9\", \"#9F8A78\", \"#F3AB60\"]\n",
    "cmap = colors.ListedColormap([\"#682F2F\", \"#9E726F\", \"#D6B2B1\", \"#B9C0C9\", \"#9F8A78\", \"#F3AB60\"])\n",
    "\n",
    "#Plotting following features\n",
    "\n",
    "px = 1/plt.rcParams['figure.dpi']  # pixel in inches\n",
    "plt.figure(figsize=(1280*px,769*px))\n",
    "\n",
    "sns.pairplot(X,hue='labels_kmeans',palette =pallet[:3])\n",
    "\n",
    "#Taking hue \n",
    "plt.show()"
   ]
  },
  {
   "cell_type": "markdown",
   "id": "a0e40e43",
   "metadata": {},
   "source": [
    "#### Interpretación\n",
    "\n",
    "- Kilos alimentos: grupo 2 es el que más kg compra, 0 y 1 aproximadamente lo mismo y poco\n",
    "- Cantidad de compras: grupo 2 es el que más compras hace, 0 y 1 muy pocas\n",
    "- Recencia: grupo 2 se distribuye por todo el rango, 0 compró hace poco y 1 probó alguna vez pero no volvió a comprar.\n",
    "\n",
    "##### Entonces:\n",
    "\n",
    "* Grupo 0: Clientes nuevos de alimentos congelados, todavía tienen poco consumo pero siguen probando los productos.\n",
    "* Grupo 1: Probaron los alimentos congelados pero no se engancharon con los mismos.\n",
    "* Grupo 2: son los clientes oro de alimentos congelados, algunos están \"dormidos\"\n",
    "\n",
    "El grupo 0 se convertirá en 1 o 2 dependiendo de su comportamiento inmediato."
   ]
  },
  {
   "cell_type": "code",
   "execution_count": null,
   "id": "cf5ea557",
   "metadata": {},
   "outputs": [],
   "source": [
    "X['labels_kmeans'] = np.where(X['labels_kmeans']==0,'Clientes perdidos',np.where(X['labels_kmeans']==1,'Clientes top alimentos','Clientes activos alimentos'))"
   ]
  },
  {
   "cell_type": "code",
   "execution_count": null,
   "id": "69d38815",
   "metadata": {},
   "outputs": [],
   "source": [
    "plt.figure(figsize=(10,5))\n",
    "pl = sns.scatterplot(data = X, x='recencia_alimentos', y='Kilos alimentos',hue='labels_kmeans',palette = ['#880105','#EDC305','#88AD05'])\n",
    "pl.set_title(\"Grupos según recencia de alimentos y kilos de alimentos comprados\")\n",
    "plt.legend()\n",
    "plt.show()"
   ]
  },
  {
   "cell_type": "code",
   "execution_count": null,
   "id": "cb8c7fc5",
   "metadata": {},
   "outputs": [],
   "source": [
    "plt.figure(figsize=(10,5))\n",
    "pl = sns.scatterplot(data = X, x='Cantidad compras alimentos', y='Kilos alimentos',hue='labels_kmeans',palette = ['#880105','#EDC305','#88AD05'])\n",
    "pl.set_title(\"Grupos según recencia de alimentos y kilos de alimentos comprados\")\n",
    "plt.legend()\n",
    "plt.show()"
   ]
  },
  {
   "cell_type": "code",
   "execution_count": null,
   "id": "6cac663c",
   "metadata": {},
   "outputs": [],
   "source": [
    "consumo_clientes.columns"
   ]
  },
  {
   "cell_type": "code",
   "execution_count": null,
   "id": "62549cb7",
   "metadata": {},
   "outputs": [],
   "source": [
    "consumo_clientes['% promociones'] = round(consumo_clientes['cantidad_promos_alimentos']/consumo_clientes['Cantidad compras alimentos']*100,1)"
   ]
  },
  {
   "cell_type": "code",
   "execution_count": null,
   "id": "35b928aa",
   "metadata": {},
   "outputs": [],
   "source": [
    "consumo_clientes['labels_kmeans'] = np.where(consumo_clientes['labels_kmeans']==0,'Clientes perdidos',\\\n",
    "                        np.where(consumo_clientes['labels_kmeans']==1,'Clientes top alimentos','Clientes activos alimentos'))"
   ]
  },
  {
   "cell_type": "code",
   "execution_count": null,
   "id": "c575ed51",
   "metadata": {},
   "outputs": [],
   "source": [
    "consumo_clientes.groupby('labels_kmeans').agg({'edad':['mean','median'],'Kilos alimentos':'mean','Cantidad compras alimentos':'mean','lineas_alim_probadas':'mean','recencia_alimentos':['mean','median'],'años de activo':['mean','median'],'% promociones':['mean','median']})"
   ]
  },
  {
   "cell_type": "code",
   "execution_count": null,
   "id": "0efbc582",
   "metadata": {},
   "outputs": [],
   "source": [
    "consumo_clientes.groupby('labels_kmeans').agg({'Kilos totales':['mean','median'],'Cantidad de compras':['mean','median'],'recencia':['mean','median'],'Frecuencia de compra':['mean','median']})"
   ]
  },
  {
   "cell_type": "code",
   "execution_count": null,
   "id": "13c52b80",
   "metadata": {
    "scrolled": false
   },
   "outputs": [],
   "source": [
    "consumo_clientes.groupby(['labels_kmeans','GenderCode']).agg({'CustomerId':'nunique'}).groupby(level=0).apply(lambda x:\n",
    "                                                 100 * x / float(x.sum()))"
   ]
  },
  {
   "cell_type": "code",
   "execution_count": null,
   "id": "a1200912",
   "metadata": {
    "scrolled": false
   },
   "outputs": [],
   "source": [
    "consumo_clientes.groupby(['labels_kmeans','categoria']).agg({'CustomerId':'nunique'}).groupby(level=0).apply(lambda x:\n",
    "                                                 100 * x / float(x.sum()))"
   ]
  },
  {
   "cell_type": "code",
   "execution_count": null,
   "id": "2073534b",
   "metadata": {},
   "outputs": [],
   "source": [
    "consumo_clientes.groupby(['labels_kmeans','GenderCode']).agg({'edad':['mean','median'],'años de activo':['mean','median']})"
   ]
  },
  {
   "cell_type": "code",
   "execution_count": null,
   "id": "d414814f",
   "metadata": {},
   "outputs": [],
   "source": [
    "consumo_clientes.groupby('labels_kmeans')['Kilos alimentos'].sum() / consumo_clientes['Kilos alimentos'].sum()*100"
   ]
  },
  {
   "cell_type": "markdown",
   "id": "98821636",
   "metadata": {},
   "source": [
    "### A Priori Algorithm"
   ]
  },
  {
   "cell_type": "markdown",
   "id": "f3d5f4c8",
   "metadata": {},
   "source": [
    "Armo la columna línea con lo que me interesa"
   ]
  },
  {
   "cell_type": "code",
   "execution_count": null,
   "id": "a7dfcc58",
   "metadata": {},
   "outputs": [],
   "source": [
    "ventas.head()"
   ]
  },
  {
   "cell_type": "code",
   "execution_count": null,
   "id": "662a73a2",
   "metadata": {},
   "outputs": [],
   "source": [
    "lineas_top=['Pizzas','Bastoncitos', 'Pechuguitas','Empanadas','Papas']\n",
    "\n",
    "ventas['Linea'] = ventas['linea_producto']\n",
    "\n",
    "ventas['Linea'] = np.where(ventas['idCategoria']==3,'Congelado',ventas['Linea'])\n",
    "ventas['Linea'] = np.where(ventas['linea_producto'].isin(lineas_top),ventas['linea_producto'],ventas['Linea'])\n",
    "\n",
    "ventas['Linea'] = np.where((ventas['linea_producto'] == 'Palitos')|(ventas['linea_producto'] == 'Bombones') | \\\n",
    "                           (ventas['linea_producto'] == 'Tortas')|(ventas['linea_producto'] == 'Postres')\\\n",
    "                           |(ventas['linea_producto'] == 'Semifrío'),'Cajas',ventas['Linea'])\n",
    "ventas['Linea'] = np.where(((~ventas['ProductName'].str.contains('X 8',case=False)) & (~ventas['ProductName'].str\\\n",
    "    .contains('X 10',case=False))&(~ventas['ProductName'].str.contains('X 20'))&(~ventas['ProductName'].str.contains('x20')))\\\n",
    "    & ((ventas['linea_producto'] == 'Palitos')|(ventas['linea_producto'] == 'Bombones')),'Por unidad',ventas['Linea'])\n",
    "\n",
    "\n",
    "ventas['Linea'] = np.where(ventas['Linea']=='Factura','Café',ventas['Linea'])\n",
    "\n",
    "ventas['Linea'] = np.where(ventas['Linea']=='Especial','Líneas Especiales',ventas['Linea'])\n",
    "\n",
    "#ventas['Linea'] = np.where(ventas['Linea']=='Helado x Bocha','Por unidad',ventas['Linea'])\n",
    "\n",
    "ventas['Linea'] = np.where(ventas['ProductName'].str.contains('1 Kilo',case=False),'1 kg',ventas['Linea'])\n",
    "\n",
    "#ventas['Linea'] = np.where((ventas['Linea']=='Cups y vasos')|(ventas['Linea']=='Tops'),'A definir',ventas['Linea'])\n",
    "\n",
    "# Se podria agregar helado por bocha + por unidades"
   ]
  },
  {
   "cell_type": "code",
   "execution_count": null,
   "id": "ccd94e3c",
   "metadata": {},
   "outputs": [],
   "source": [
    "ventas = ventas[ventas.PromotionId.isnull()].copy()\n",
    "ventas.drop(columns=['ProductId','BranchOfficeId','PromotionId','PromotionName','Kilos'],inplace=True)"
   ]
  },
  {
   "cell_type": "code",
   "execution_count": null,
   "id": "e1335ab8",
   "metadata": {},
   "outputs": [],
   "source": [
    "ventas.Linea.value_counts(normalize=True)*100"
   ]
  },
  {
   "cell_type": "code",
   "execution_count": null,
   "id": "14ecdcfd",
   "metadata": {},
   "outputs": [],
   "source": [
    "ventas.head()"
   ]
  },
  {
   "cell_type": "code",
   "execution_count": null,
   "id": "c4325181",
   "metadata": {},
   "outputs": [],
   "source": [
    "#ventas.Linea.unique()"
   ]
  },
  {
   "cell_type": "code",
   "execution_count": null,
   "id": "dc8eb6bb",
   "metadata": {
    "scrolled": true
   },
   "outputs": [],
   "source": [
    "lineas_elegidas = ['Cajas', '1 kg', 'Por unidad','Helado x Bocha', 'Familiar', 'Helado X Kilo',\n",
    "       'Pote 1 Litro', 'Pizzas', 'Congelado', 'Pechuguitas','Bastoncitos', 'Café', 'Papas', 'Empanadas']\n",
    "basket= ventas[ventas.Linea.isin(lineas_elegidas)].groupby(['SaleId', 'Linea'])['Amount'].sum().unstack().reset_index().fillna(0).set_index('SaleId')\n",
    "basket.head()"
   ]
  },
  {
   "cell_type": "code",
   "execution_count": null,
   "id": "87d13b1e",
   "metadata": {},
   "outputs": [],
   "source": [
    "# Defining the hot encoding function to make the data suitable\n",
    "# for the concerned libraries\n",
    "def hot_encode(x):\n",
    "    if(x<= 0):\n",
    "        return 0\n",
    "    if(x>= 1):\n",
    "        return 1"
   ]
  },
  {
   "cell_type": "code",
   "execution_count": null,
   "id": "ef830eac",
   "metadata": {},
   "outputs": [],
   "source": [
    "basket = basket.applymap(hot_encode)\n",
    "basket= basket.astype('int32')"
   ]
  },
  {
   "cell_type": "code",
   "execution_count": null,
   "id": "f37e0f3a",
   "metadata": {},
   "outputs": [],
   "source": [
    "# Building the model\n",
    "frq_items = apriori(basket, min_support = 0.0015, use_colnames = True)\n",
    "\n",
    "# Collecting the inferred rules in a dataframe\n",
    "rules = association_rules(frq_items, metric =\"lift\", min_threshold = 1)\n",
    "rules = rules.sort_values(['confidence', 'lift'], ascending =[False, False])\n",
    "rules\n"
   ]
  },
  {
   "cell_type": "markdown",
   "id": "2a14a74a",
   "metadata": {},
   "source": [
    "- Support: numero de transacciones donde aparece x item sobre el total de transacciones\n",
    "- Confidence: probabilidad condicional P(A|B) = (P(A y B)/P(A)): la prob de que se venda B dado que se vendió A\n",
    "- Lift: probabilidad de que ambos items sean comprados juntos. \n",
    "        - Si lift < 1, hay mas probabilidad de que los items se compren por separado\n",
    "        - Si lift =1, no hay asociacion entre los items\n",
    "        - Si lift > 1, hay asociacion entre los items"
   ]
  },
  {
   "cell_type": "code",
   "execution_count": null,
   "id": "213d0010",
   "metadata": {},
   "outputs": [],
   "source": [
    "frq_items"
   ]
  },
  {
   "cell_type": "markdown",
   "id": "f34a03be",
   "metadata": {},
   "source": [
    "Mismo análisis pero para esta temporada"
   ]
  },
  {
   "cell_type": "code",
   "execution_count": null,
   "id": "8927b5bc",
   "metadata": {
    "scrolled": true
   },
   "outputs": [],
   "source": [
    "lineas_elegidas = ['Cajas', '1 kg', 'Por unidad','Helado x Bocha', 'Familiar', 'Helado X Kilo',\n",
    "       'Pote 1 Litro', 'Pizzas', 'Congelado', 'Pechuguitas','Bastoncitos', 'Café', 'Papas', 'Empanadas']\n",
    "basket= ventas[(ventas.Linea.isin(lineas_elegidas)) & (pd.to_datetime)].groupby(['SaleId', 'Linea'])['Amount'].sum().unstack().reset_index().fillna(0).set_index('SaleId')\n",
    "basket.head()"
   ]
  },
  {
   "cell_type": "code",
   "execution_count": null,
   "id": "bbe0bb6d",
   "metadata": {},
   "outputs": [],
   "source": [
    "# Defining the hot encoding function to make the data suitable\n",
    "# for the concerned libraries\n",
    "def hot_encode(x):\n",
    "    if(x<= 0):\n",
    "        return 0\n",
    "    if(x>= 1):\n",
    "        return 1"
   ]
  },
  {
   "cell_type": "code",
   "execution_count": null,
   "id": "f4abfb7e",
   "metadata": {},
   "outputs": [],
   "source": [
    "# Building the model\n",
    "frq_items = apriori(basket, min_support = 0.0015, use_colnames = True)\n",
    "\n",
    "# Collecting the inferred rules in a dataframe\n",
    "rules = association_rules(frq_items, metric =\"lift\", min_threshold = 1)\n",
    "rules = rules.sort_values(['confidence', 'lift'], ascending =[False, False])\n",
    "rules\n"
   ]
  },
  {
   "cell_type": "markdown",
   "id": "8ac545f2",
   "metadata": {},
   "source": [
    "- Support: numero de transacciones donde aparece x item sobre el total de transacciones\n",
    "- Confidence: probabilidad condicional P(A|B) = (P(A y B)/P(A)): la prob de que se venda B dado que se vendió A\n",
    "- Lift: probabilidad de que ambos items sean comprados juntos. \n",
    "        - Si lift < 1, hay mas probabilidad de que los items se compren por separado\n",
    "        - Si lift =1, no hay asociacion entre los items\n",
    "        - Si lift > 1, hay asociacion entre los items"
   ]
  },
  {
   "cell_type": "code",
   "execution_count": null,
   "id": "f9a0f2e7",
   "metadata": {},
   "outputs": [],
   "source": [
    "basket = basket.applymap(hot_encode)\n",
    "basket= basket.astype('int32')"
   ]
  },
  {
   "cell_type": "code",
   "execution_count": null,
   "id": "342b3e8f",
   "metadata": {},
   "outputs": [],
   "source": [
    "frq_items"
   ]
  },
  {
   "cell_type": "markdown",
   "id": "5396d8bc",
   "metadata": {},
   "source": [
    "### Analizo consumo de líneas por segmento"
   ]
  },
  {
   "cell_type": "code",
   "execution_count": null,
   "id": "2d45a680",
   "metadata": {},
   "outputs": [],
   "source": [
    "consumo_clientes_linea = ventas.groupby(['CustomerId','Linea']).Kilos.sum().reset_index()\n",
    "consumo_clientes_linea.head()"
   ]
  },
  {
   "cell_type": "code",
   "execution_count": null,
   "id": "711360a1",
   "metadata": {},
   "outputs": [],
   "source": [
    "consumo_clientes_linea = consumo_clientes_linea.merge(X[['CustomerId','labels_kmeans']],on='CustomerId')\n",
    "consumo_clientes_linea.head()"
   ]
  },
  {
   "cell_type": "code",
   "execution_count": null,
   "id": "b3b173cb",
   "metadata": {},
   "outputs": [],
   "source": [
    "consumo_clientes_linea_grouped= consumo_clientes_linea.groupby(['labels_kmeans','Linea']).Kilos.sum().groupby(level=0).apply(lambda x:100 * x / float(x.sum())).reset_index()\n",
    "\n",
    "lineas_grafico = ['1 kg', 'Bastoncitos', 'Cajas', 'Congelado', 'Empanadas','Familiar', 'Helado X Kilo', 'Helado x Bocha','Papas', 'Pechuguitas', 'Pizzas', 'Por unidad','Pote 1 Litro']\n",
    "consumo_clientes_linea_grouped = consumo_clientes_linea_grouped[consumo_clientes_linea_grouped['Linea'].isin(lineas_grafico)]\n",
    "\n",
    "consumo_clientes_linea_grouped['Linea'] = np.where(consumo_clientes_linea_grouped['Linea'] == 'Helado X Kilo', '1/4 y 1/2 kg', consumo_clientes_linea_grouped['Linea'])\n",
    "consumo_clientes_linea_grouped['Linea'] = np.where(consumo_clientes_linea_grouped['Linea'] == 'Papas', 'Congelado', consumo_clientes_linea_grouped['Linea'])\n",
    "consumo_clientes_linea_grouped['Linea'] = np.where(consumo_clientes_linea_grouped['Linea'] == 'Congelado', 'Otros congelados', consumo_clientes_linea_grouped['Linea'])\n",
    "consumo_clientes_linea_grouped['Linea'] = np.where(consumo_clientes_linea_grouped['Linea'] == 'Cajas', 'Packs y tortas', consumo_clientes_linea_grouped['Linea'])\n",
    "consumo_clientes_linea_grouped['Linea'] = np.where(consumo_clientes_linea_grouped['Linea'] == 'Helado x Bocha', 'Por unidad', consumo_clientes_linea_grouped['Linea'])"
   ]
  },
  {
   "cell_type": "code",
   "execution_count": null,
   "id": "c659feac",
   "metadata": {
    "scrolled": true
   },
   "outputs": [],
   "source": [
    "plt.figure(figsize=(20,10))\n",
    "\n",
    "\n",
    "fig, ax = plt.subplots(figsize=(15,5))\n",
    "ax.tick_params(axis='x', labelrotation = 30)\n",
    "ax.grid(b=True,axis='y',color='black', linestyle='-', linewidth=0.2)\n",
    "fig=sns.barplot(data=consumo_clientes_linea_grouped, x='Linea',y='Kilos',hue='labels_kmeans',palette = ['#EDC305','#880105','#88AD05'])\n",
    "ax.set_xlabel('Línea de producto')\n",
    "ax.set_ylabel('% Kilos consumidos sobre el total del segmento')\n",
    "\n"
   ]
  },
  {
   "cell_type": "code",
   "execution_count": null,
   "id": "e53d618c",
   "metadata": {},
   "outputs": [],
   "source": [
    "plt.figure(figsize=(20,10))\n",
    "\n",
    "fig, ax = plt.subplots(figsize=(15,5))\n",
    "ax.tick_params(axis='x', labelrotation = 30)\n",
    "fig=sns.barplot(data=consumo_clientes_linea, x='Linea',y='Kilos',hue='labels_kmeans',palette = ['#880105','#EDC305','#88AD05'])"
   ]
  },
  {
   "cell_type": "markdown",
   "id": "9a5759e8",
   "metadata": {},
   "source": [
    "### Analizo localidades donde hubo ventas"
   ]
  },
  {
   "cell_type": "markdown",
   "id": "6c9fe724",
   "metadata": {},
   "source": [
    "##### Importo datos de franquicias y de localidades"
   ]
  },
  {
   "cell_type": "code",
   "execution_count": null,
   "id": "73da3bac",
   "metadata": {},
   "outputs": [],
   "source": [
    "fqcias = pd.read_excel(r'C:\\Users\\Pablo\\Helacor S.A\\Equipo CLUB GRIDO - General\\Datos\\fqcias.xlsx')\n",
    "fqcias.head()"
   ]
  },
  {
   "cell_type": "code",
   "execution_count": null,
   "id": "6579e937",
   "metadata": {},
   "outputs": [],
   "source": [
    "fqcias.drop_duplicates(subset=['BranchOfficeId'],inplace=True)"
   ]
  },
  {
   "cell_type": "code",
   "execution_count": null,
   "id": "ad28d693",
   "metadata": {},
   "outputs": [],
   "source": [
    "localidades = pd.read_excel(r'C:\\Users\\Pablo\\Helacor S.A\\Equipo CLUB GRIDO - General\\Datos\\Localidades.xlsx')\n",
    "localidades.head()"
   ]
  },
  {
   "cell_type": "markdown",
   "id": "f7376148",
   "metadata": {},
   "source": [
    "##### Saco la localidad donde el cliente realizó más compras"
   ]
  },
  {
   "cell_type": "code",
   "execution_count": null,
   "id": "10a1e5ad",
   "metadata": {},
   "outputs": [],
   "source": [
    "customer_localidad = ventas_alimentos.groupby(['CustomerId','BranchOfficeId']).SaleId.nunique().reset_index()\n",
    "customer_localidad.sort_values('CustomerId',inplace=True)\n",
    "customer_localidad.sort_values('SaleId',ascending=False,inplace=True)\n",
    "customer_localidad.drop_duplicates(subset=['CustomerId'],inplace=True)\n",
    "customer_localidad = customer_localidad.merge(fqcias[['idLocalidad','BranchOfficeId']],on='BranchOfficeId')\n",
    "customer_localidad.head()"
   ]
  },
  {
   "cell_type": "code",
   "execution_count": null,
   "id": "b69fb957",
   "metadata": {},
   "outputs": [],
   "source": [
    "customer_localidad['idLocalidad'] = customer_localidad['idLocalidad'].astype('int')\n",
    "customer_localidad = customer_localidad.merge(localidades[['Código','poblacion','Localidad']], left_on='idLocalidad', right_on='Código')\n",
    "customer_localidad['tamaño_ciudad'] = np.where(customer_localidad.poblacion <20000,'Chica',np.where(customer_localidad.poblacion >150000,'Grande','Mediana'))\n",
    "customer_localidad.drop(columns=['BranchOfficeId','SaleId','Código'],inplace=True)\n",
    "customer_localidad.head()"
   ]
  },
  {
   "cell_type": "markdown",
   "id": "5050b257",
   "metadata": {},
   "source": [
    "##### Cruzo la localidad de cada cliente con sus datos"
   ]
  },
  {
   "cell_type": "code",
   "execution_count": null,
   "id": "ed561618",
   "metadata": {},
   "outputs": [],
   "source": [
    "consumo_clientes = consumo_clientes.merge(customer_localidad,on='CustomerId',how='left')\n",
    "consumo_clientes.head()"
   ]
  },
  {
   "cell_type": "code",
   "execution_count": null,
   "id": "a6a6ebab",
   "metadata": {},
   "outputs": [],
   "source": [
    "pd.DataFrame(consumo_clientes.groupby(['labels_kmeans','tamaño_ciudad']).CustomerId.nunique().groupby(level=0).apply(lambda x:100 * x / float(x.sum())))"
   ]
  },
  {
   "cell_type": "code",
   "execution_count": null,
   "id": "2c11f598",
   "metadata": {},
   "outputs": [],
   "source": [
    "consumo_clientes.stb.freq(['labels_kmeans'])"
   ]
  },
  {
   "cell_type": "code",
   "execution_count": null,
   "id": "cec01d5e",
   "metadata": {},
   "outputs": [],
   "source": [
    "pd.DataFrame(consumo_clientes.groupby(['labels_kmeans','GenderCode','tamaño_ciudad']).CustomerId.nunique().groupby(level=0).apply(lambda x:100 * x / float(x.sum())))"
   ]
  },
  {
   "cell_type": "markdown",
   "id": "545e9d8c",
   "metadata": {},
   "source": [
    "##### Cruzo ventas con localidad y saco % alimentos en cada localidad"
   ]
  },
  {
   "cell_type": "code",
   "execution_count": null,
   "id": "f365079e",
   "metadata": {},
   "outputs": [],
   "source": [
    "ventas_localidad = ((ventas[['Kilos','BranchOfficeId']].merge(fqcias[['BranchOfficeId','idLocalidad','Localidad','Provincia']],on='BranchOfficeId',how='left')).groupby(['Localidad','Provincia']).Kilos.sum()).apply(lambda x: round(x,1)).reset_index()\n",
    "ventas_localidad.shape"
   ]
  },
  {
   "cell_type": "code",
   "execution_count": null,
   "id": "b20defd0",
   "metadata": {},
   "outputs": [],
   "source": [
    "ventas_alimentos = ventas_alimentos.merge(fqcias[['BranchOfficeId','idLocalidad','Localidad','Provincia']],on='BranchOfficeId',how='left')"
   ]
  },
  {
   "cell_type": "code",
   "execution_count": null,
   "id": "444c1651",
   "metadata": {},
   "outputs": [],
   "source": [
    "ventas_localidad_alim = (ventas_alimentos.groupby(['idLocalidad','Localidad','Provincia']).Kilos.sum()).apply(lambda x: round(x,1)).reset_index()\n",
    "ventas_localidad_alim.rename(columns={'Kilos':'Kilos alimento'},inplace=True)\n",
    "ventas_localidad_alim.head()"
   ]
  },
  {
   "cell_type": "code",
   "execution_count": null,
   "id": "415f028e",
   "metadata": {},
   "outputs": [],
   "source": [
    "ventas_localidad = ventas_localidad.merge(ventas_localidad_alim, on=['Localidad','Provincia'],how='left').fillna(0)\n",
    "ventas_localidad.shape"
   ]
  },
  {
   "cell_type": "code",
   "execution_count": null,
   "id": "938474a8",
   "metadata": {},
   "outputs": [],
   "source": [
    "ventas_localidad['% alimento'] = round(ventas_localidad['Kilos alimento'] / ventas_localidad['Kilos'] * 100,1)\n",
    "ventas_localidad.sort_values('% alimento',ascending=False,inplace=True)"
   ]
  },
  {
   "cell_type": "markdown",
   "id": "9649d9b4",
   "metadata": {},
   "source": [
    "#### Observo rdos de % alimentos"
   ]
  },
  {
   "cell_type": "code",
   "execution_count": null,
   "id": "c878d168",
   "metadata": {},
   "outputs": [],
   "source": [
    "ventas_localidad['% alimento'].describe()"
   ]
  },
  {
   "cell_type": "code",
   "execution_count": null,
   "id": "97e1140c",
   "metadata": {},
   "outputs": [],
   "source": [
    "ventas_localidad[ventas_localidad.Kilos >20000]['% alimento'].describe()"
   ]
  },
  {
   "cell_type": "code",
   "execution_count": null,
   "id": "15f6c42f",
   "metadata": {},
   "outputs": [],
   "source": [
    "plt.hist(ventas_localidad['% alimento'],bins=100)\n",
    "plt.ylabel('Cantidad de localidades')\n",
    "plt.xlabel('Kg alimento / Kg totales x 100 (%)')\n",
    "plt.title('Histograma de recuento de localidades')\n",
    "plt.show()"
   ]
  },
  {
   "cell_type": "code",
   "execution_count": null,
   "id": "be509eef",
   "metadata": {},
   "outputs": [],
   "source": [
    "plt.hist(ventas_localidad[ventas_localidad.Kilos >20000]['% alimento'],bins=100)\n",
    "plt.ylabel('Cantidad de localidades')\n",
    "plt.xlabel('Kg alimento / Kg totales x 100 (%)')\n",
    "plt.title('Histograma de recuento de localidades')\n",
    "plt.show()"
   ]
  },
  {
   "cell_type": "code",
   "execution_count": null,
   "id": "423c0954",
   "metadata": {},
   "outputs": [],
   "source": [
    "ventas_localidad.sort_values('Kilos',ascending=False,inplace=True)\n",
    "ventas_localidad.head(200)"
   ]
  },
  {
   "cell_type": "code",
   "execution_count": null,
   "id": "90aae67b",
   "metadata": {},
   "outputs": [],
   "source": [
    "ventas_localidad['idLocalidad'] = ventas_localidad['idLocalidad'].astype('int')\n",
    "ventas_localidad = ventas_localidad.merge(localidades[['Código','poblacion']], left_on='idLocalidad',right_on = 'Código')\n",
    "ventas_localidad.shape"
   ]
  },
  {
   "cell_type": "code",
   "execution_count": null,
   "id": "00b36bcf",
   "metadata": {},
   "outputs": [],
   "source": [
    "ventas_localidad['% alimento'].describe()"
   ]
  },
  {
   "cell_type": "code",
   "execution_count": null,
   "id": "6ff00e3e",
   "metadata": {},
   "outputs": [],
   "source": [
    "ventas_localidad['poblacion'].describe()"
   ]
  },
  {
   "cell_type": "code",
   "execution_count": null,
   "id": "49e10b23",
   "metadata": {},
   "outputs": [],
   "source": [
    "ventas_localidad['tamaño_ciudad'] = np.where(ventas_localidad.poblacion <50000,'Chica',np.where(ventas_localidad.poblacion >1200000,'Grande','Mediana'))"
   ]
  },
  {
   "cell_type": "code",
   "execution_count": null,
   "id": "ef886a4a",
   "metadata": {},
   "outputs": [],
   "source": [
    "ventas_localidad.groupby(['tamaño_ciudad']).agg({'% alimento':['mean','median']})"
   ]
  },
  {
   "cell_type": "code",
   "execution_count": null,
   "id": "4fc52629",
   "metadata": {},
   "outputs": [],
   "source": [
    "plt.hist(ventas_localidad[ventas_localidad['poblacion'] > 70000]['% alimento'],bins=100)\n",
    "plt.show()\n"
   ]
  },
  {
   "cell_type": "code",
   "execution_count": null,
   "id": "a363fc0a",
   "metadata": {},
   "outputs": [],
   "source": []
  }
 ],
 "metadata": {
  "kernelspec": {
   "display_name": "Python 3",
   "language": "python",
   "name": "python3"
  },
  "language_info": {
   "codemirror_mode": {
    "name": "ipython",
    "version": 3
   },
   "file_extension": ".py",
   "mimetype": "text/x-python",
   "name": "python",
   "nbconvert_exporter": "python",
   "pygments_lexer": "ipython3",
   "version": "3.8.8"
  }
 },
 "nbformat": 4,
 "nbformat_minor": 5
}
