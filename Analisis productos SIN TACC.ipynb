{
 "cells": [
  {
   "cell_type": "markdown",
   "id": "8e07321a",
   "metadata": {},
   "source": [
    "##### En este notebook  hago Análisis exploratorio de datos sobre las ventas de un producto en particular y el comportamiento de los socios que lo consumieron."
   ]
  },
  {
   "cell_type": "code",
   "execution_count": null,
   "id": "cc8dbf76",
   "metadata": {},
   "outputs": [],
   "source": [
    "import pandas as pd\n",
    "import numpy as np\n",
    "import matplotlib.pyplot as plt\n",
    "import seaborn as sns\n",
    "import datetime as dt\n",
    "\n",
    "pd.set_option('display.max_rows', 10000)\n",
    "pd.set_option('display.max_columns', 10000)"
   ]
  },
  {
   "cell_type": "code",
   "execution_count": null,
   "id": "8a57b2b3",
   "metadata": {},
   "outputs": [],
   "source": [
    "df= pd.read_csv(r'C:\\Users\\Pablo\\OneDrive - Helacor S.A\\Club Grido\\Extractos DW\\CustomerID compraron S-TACC.csv')\n",
    "df.head()"
   ]
  },
  {
   "cell_type": "code",
   "execution_count": null,
   "id": "6f99f6c3",
   "metadata": {},
   "outputs": [],
   "source": [
    "socios_STACC = df.CustomerId.count()\n",
    "print('Socios que compraron productos sin TACC:', socios_STACC)"
   ]
  },
  {
   "cell_type": "code",
   "execution_count": null,
   "id": "2a2c8e90",
   "metadata": {},
   "outputs": [],
   "source": [
    "print('minima fecha:', df['fecha primera compra SIN TACC'].min())\n",
    "print('maxima fecha:', df['fecha primera compra SIN TACC'].max())"
   ]
  },
  {
   "cell_type": "code",
   "execution_count": null,
   "id": "577de760",
   "metadata": {},
   "outputs": [],
   "source": [
    "ventas= pd.read_csv(r'C:\\Users\\Pablo\\OneDrive - Helacor S.A\\Club Grido\\Extractos DW\\ventas totales Customer con TACC.csv')\n",
    "ventas.head()"
   ]
  },
  {
   "cell_type": "code",
   "execution_count": null,
   "id": "556ad097",
   "metadata": {},
   "outputs": [],
   "source": [
    "ventas_STACC= ventas[ventas.ProductId.isin([242,243,244,245,246,247])]"
   ]
  },
  {
   "cell_type": "code",
   "execution_count": null,
   "id": "445523ae",
   "metadata": {},
   "outputs": [],
   "source": [
    "ventas_STACC['Sabor'] = np.where(ventas_STACC['ProductName'].str.contains('Frutilla'),'Frutilla',np.where(ventas_STACC['ProductName'].str.contains('Frutos'),'Frutos del bosque','Mango y Maracuya'))\n",
    "ventas_STACC['Cantidad'] = np.where(ventas_STACC['ProductName'].str.contains('6'),'Pack','Individual')\n",
    "ventas_STACC.head(100)"
   ]
  },
  {
   "cell_type": "code",
   "execution_count": null,
   "id": "942dca4a",
   "metadata": {},
   "outputs": [],
   "source": [
    "ventas_STACC['mes'] = pd.to_datetime(ventas_STACC['SaleDate']).dt.month\n",
    "ventas_STACC['año'] = pd.to_datetime(ventas_STACC['SaleDate']).dt.year"
   ]
  },
  {
   "cell_type": "code",
   "execution_count": null,
   "id": "9204dfe8",
   "metadata": {},
   "outputs": [],
   "source": [
    "X= ventas_STACC.groupby([\"año\",\"mes\"],as_index=False)[\"ProductWeightGrams\"].sum()\n",
    "X.columns= ['año','mes','Kilos']\n",
    "X['Kilos'] = (X['Kilos']/1000).apply(lambda x: round(x,1))\n",
    "X[\"mes-año\"] = X[\"mes\"].astype(str)+\"-\" + X[\"año\"].astype(str)\n",
    "\n",
    "fig, ax = plt.subplots(figsize=(15,5))\n",
    "ax.tick_params(axis='x', labelrotation = 30)\n",
    "fig = sns.lineplot(data= X, x= \"mes-año\",y= \"Kilos\")\n",
    "#fig.show()"
   ]
  },
  {
   "cell_type": "code",
   "execution_count": null,
   "id": "76e2e04a",
   "metadata": {},
   "outputs": [],
   "source": [
    "X"
   ]
  },
  {
   "cell_type": "code",
   "execution_count": null,
   "id": "a8c3f4f3",
   "metadata": {},
   "outputs": [],
   "source": [
    "kg_STACC = int(ventas_STACC.ProductWeightGrams.sum()/1000)\n",
    "print('Ventas totales de productos sin TACC:', kg_STACC)"
   ]
  },
  {
   "cell_type": "code",
   "execution_count": null,
   "id": "a210e2bc",
   "metadata": {},
   "outputs": [],
   "source": [
    "venta_agrupada= pd.DataFrame(ventas_STACC.groupby('ProductName')['ProductWeightGrams'].sum()).reset_index()\n",
    "venta_agrupada[\"Sabor\"] = np.where(venta_agrupada['ProductName'].str.contains('Frutilla'),'Frutilla',np.where(venta_agrupada['ProductName'].str.contains('Frutos'),'Frutos del bosque','Mango y Maracuya'))\n",
    "venta_agrupada.head()"
   ]
  },
  {
   "cell_type": "code",
   "execution_count": null,
   "id": "424ff18f",
   "metadata": {},
   "outputs": [],
   "source": [
    "grupo_producto = pd.DataFrame(venta_agrupada.groupby(venta_agrupada['ProductName']).ProductWeightGrams.sum()/venta_agrupada.ProductWeightGrams.sum()*100).apply(lambda x: round(x, 1)).reset_index()\n",
    "grupo_producto.columns= ['Producto','% Kilos']\n",
    "grupo_producto.sort_values('% Kilos',ascending=False)"
   ]
  },
  {
   "cell_type": "code",
   "execution_count": null,
   "id": "08997e88",
   "metadata": {},
   "outputs": [],
   "source": [
    "grupo_sabor = pd.DataFrame(venta_agrupada.groupby(venta_agrupada['Sabor']).ProductWeightGrams.sum()/venta_agrupada.ProductWeightGrams.sum()*100).apply(lambda x: round(x, 1)).reset_index()\n",
    "grupo_sabor.columns= ['Sabor','% Kilos']\n",
    "grupo_sabor.sort_values('% Kilos',ascending=False)"
   ]
  },
  {
   "cell_type": "markdown",
   "id": "5b85e788",
   "metadata": {},
   "source": [
    "Se podria continuar haciendo un analisis sobre cómo se venden los productos segun la forma. Los individuales son impulsivos para acompañar otros productos? que productos?"
   ]
  },
  {
   "cell_type": "markdown",
   "id": "f440b65b",
   "metadata": {},
   "source": [
    "#### Ahora, hago analisis por CustomerId. Compró anteriormente? cuanto? se asocio gracias a S/TACC? Cambio la frecuencia de consumo?"
   ]
  },
  {
   "cell_type": "code",
   "execution_count": null,
   "id": "32fd20be",
   "metadata": {},
   "outputs": [],
   "source": [
    "ventas = ventas.merge(df[['CustomerId','fecha primera compra SIN TACC']],on='CustomerId')"
   ]
  },
  {
   "cell_type": "code",
   "execution_count": null,
   "id": "b4e5de5d",
   "metadata": {},
   "outputs": [],
   "source": [
    "ventas.head()"
   ]
  },
  {
   "cell_type": "code",
   "execution_count": null,
   "id": "052cdb98",
   "metadata": {},
   "outputs": [],
   "source": [
    "ventas['compra anterior'] = np.where(ventas['SaleDate']< ventas['fecha primera compra SIN TACC'],1,0)\n",
    "#ventas['compra anterior'] = np.where(ventas['SaleDate'] == ventas['fecha primera compra SIN TACC'],-1,ventas['compra anterior'])"
   ]
  },
  {
   "cell_type": "code",
   "execution_count": null,
   "id": "770911c5",
   "metadata": {},
   "outputs": [],
   "source": [
    "ventas_anteriores = ventas[ventas['compra anterior'] ==1]\n",
    "ventas_posteriores = ventas[ventas['compra anterior'] ==0]"
   ]
  },
  {
   "cell_type": "code",
   "execution_count": null,
   "id": "d8502881",
   "metadata": {},
   "outputs": [],
   "source": [
    "ventas.shape"
   ]
  },
  {
   "cell_type": "code",
   "execution_count": null,
   "id": "deb8dd81",
   "metadata": {},
   "outputs": [],
   "source": [
    "ventas_anteriores.shape"
   ]
  },
  {
   "cell_type": "code",
   "execution_count": null,
   "id": "4c05a12d",
   "metadata": {},
   "outputs": [],
   "source": [
    "ventas_posteriores.shape"
   ]
  },
  {
   "cell_type": "code",
   "execution_count": null,
   "id": "6b32eeb7",
   "metadata": {},
   "outputs": [],
   "source": [
    "frec_compra_antes = ventas_anteriores.groupby('CustomerId').agg({'SaleId':'count','SaleDate':['min','max'],'ProductWeightGrams':'sum'}).reset_index()\n",
    "frec_compra_antes.columns=['CustomerId','Cantidad de compras antes','Primera compra historica','ultima compra previo a compra S/TACC','kg antes']\n",
    "frec_compra_antes['kg antes']=frec_compra_antes['kg antes']/1000\n",
    "frec_compra_antes"
   ]
  },
  {
   "cell_type": "code",
   "execution_count": null,
   "id": "0b406b43",
   "metadata": {},
   "outputs": [],
   "source": [
    "frec_compra_dps = ventas_posteriores.groupby('CustomerId').agg({'SaleId':'count','SaleDate':'max','ProductWeightGrams':'sum'}).reset_index()\n",
    "frec_compra_dps.columns=['CustomerId','Cantidad de compras dps','Ultima compra historica','kg dps']\n",
    "frec_compra_dps['kg dps']=frec_compra_dps['kg dps']/1000\n",
    "frec_compra_dps"
   ]
  },
  {
   "cell_type": "code",
   "execution_count": null,
   "id": "b4ca8a29",
   "metadata": {},
   "outputs": [],
   "source": [
    "df= df.merge(frec_compra_antes,on=\"CustomerId\",how='left')\n",
    "df= df.merge(frec_compra_dps,on=\"CustomerId\",how='left')"
   ]
  },
  {
   "cell_type": "code",
   "execution_count": null,
   "id": "aeb7e334",
   "metadata": {},
   "outputs": [],
   "source": [
    "df.head()"
   ]
  },
  {
   "cell_type": "markdown",
   "id": "847522cb",
   "metadata": {},
   "source": [
    "### Inactividad"
   ]
  },
  {
   "cell_type": "code",
   "execution_count": null,
   "id": "70dd0117",
   "metadata": {},
   "outputs": [],
   "source": [
    "print('Socios cuya primera compra registrada incluye producto Sin TACC:',df['ultima compra previo a compra S/TACC'].isnull().sum())\n",
    "print('% de socios cuya primera compra registrada incluye producto Sin TACC sobre el total de socios que compraron Sin TACC:',round(df['ultima compra previo a compra S/TACC'].isnull().sum()/df.shape[0]*100,1))"
   ]
  },
  {
   "cell_type": "code",
   "execution_count": null,
   "id": "f37dc51f",
   "metadata": {},
   "outputs": [],
   "source": [
    "df['Dias inactivo previo a compra S/TACC'] = abs(pd.to_datetime(df['fecha primera compra SIN TACC']) - pd.to_datetime(df['ultima compra previo a compra S/TACC'])).apply(lambda x: x.days)"
   ]
  },
  {
   "cell_type": "code",
   "execution_count": null,
   "id": "56c78301",
   "metadata": {
    "scrolled": true
   },
   "outputs": [],
   "source": [
    "clusters = [0,30,90,np.inf]\n",
    "nombres_clusters =[\"menor a 30 días\",\"entre 30 y 90 días\",\"mas de 90 días\"]\n",
    "df['Inactividad previa'] = pd.cut(df['Dias inactivo previo a compra S/TACC'],bins= clusters, labels = nombres_clusters)\n",
    "df['Inactividad previa']= np.where(df['Inactividad previa'].isnull(),'socio nuevo',df['Inactividad previa'])\n",
    "df.head()"
   ]
  },
  {
   "cell_type": "code",
   "execution_count": null,
   "id": "b150fb95",
   "metadata": {},
   "outputs": [],
   "source": [
    "fig, ax = plt.subplots(figsize=(10,7))\n",
    "ax.tick_params(axis='x', labelrotation = 30)\n",
    "plt.title('Inactividad de socios previo a la primera compra de producto S/TACC')\n",
    "fig = sns.countplot(data=df, y=\"Inactividad previa\", order = [\"menor a 30 días\",\"entre 30 y 90 días\",\"mas de 90 días\",\"socio nuevo\"])\n",
    "ax.set_xlabel('Cantidad de socios',loc='center')"
   ]
  },
  {
   "cell_type": "code",
   "execution_count": null,
   "id": "c28391d5",
   "metadata": {},
   "outputs": [],
   "source": [
    "plt.hist(df[\"Dias inactivo previo a compra S/TACC\"],bins = 500)\n",
    "plt.xlim(0,30)\n",
    "plt.xlabel(\"Dias inactivo previo a compra de producto S/TACC\")\n",
    "plt.ylabel(\"Cantidad de apariciones\")"
   ]
  },
  {
   "cell_type": "code",
   "execution_count": null,
   "id": "bfbb6551",
   "metadata": {},
   "outputs": [],
   "source": [
    "clusters_2 = [0,90,np.inf]\n",
    "nombres_clusters_2 =[\"menor a 90 días\",\"más de 90 días o nuevo\"]\n",
    "inactividad = pd.cut(df['Dias inactivo previo a compra S/TACC'],bins= clusters_2, labels = nombres_clusters_2)\n",
    "inactividad= np.where(inactividad.isnull(),'más de 90 días o nuevo',inactividad)\n",
    "\n",
    "fig, ax = plt.subplots(figsize=(10,5))\n",
    "ax.tick_params(axis='x', labelrotation = 30)\n",
    "plt.title('Inactividad de socios previo a la primera compra de producto S/TACC')\n",
    "fig = sns.countplot(y= inactividad)\n",
    "ax.set_xlabel('Cantidad de socios',loc='center')"
   ]
  },
  {
   "cell_type": "code",
   "execution_count": null,
   "id": "37be91cd",
   "metadata": {},
   "outputs": [],
   "source": [
    "unique, counts = np.unique(inactividad, return_counts=True)\n",
    "dict(zip(unique,counts))"
   ]
  },
  {
   "cell_type": "markdown",
   "id": "828129cf",
   "metadata": {},
   "source": [
    "### Frecuencia de compra"
   ]
  },
  {
   "cell_type": "code",
   "execution_count": null,
   "id": "37977470",
   "metadata": {},
   "outputs": [],
   "source": [
    "df['Frecuencia de compra antes'] = (pd.to_datetime(df['fecha primera compra SIN TACC']) - \\\n",
    "                                    pd.to_datetime(df['Primera compra historica'])).apply(lambda x: x.days)\\\n",
    "                                    / df['Cantidad de compras antes']\n",
    "\n",
    "# En lugar de ultima compra historica, va 29/09/2021\n",
    "df[\"fecha_fin\"]='2021-09-29 16:36:43.9586853 +00:00'\n",
    "df[\"fecha_fin\"] = pd.to_datetime(df[\"fecha_fin\"])\n",
    "df['Frecuencia de compra dps'] = (df.fecha_fin -pd.to_datetime(df['fecha primera compra SIN TACC'])).apply(lambda x: x.days)/df[\"Cantidad de compras dps\"]\n",
    "df.drop(columns=\"fecha_fin\",inplace=True)"
   ]
  },
  {
   "cell_type": "code",
   "execution_count": null,
   "id": "253de9ee",
   "metadata": {},
   "outputs": [],
   "source": [
    "df.isnull().sum()"
   ]
  },
  {
   "cell_type": "code",
   "execution_count": null,
   "id": "371d0baf",
   "metadata": {},
   "outputs": [],
   "source": [
    "df[~df[\"Cantidad de compras antes\"].isnull()][\"Frecuencia de compra antes\"].mean()"
   ]
  },
  {
   "cell_type": "code",
   "execution_count": null,
   "id": "2ac3377e",
   "metadata": {},
   "outputs": [],
   "source": [
    "df[~df[\"Cantidad de compras antes\"].isnull()][\"Frecuencia de compra dps\"].mean()"
   ]
  },
  {
   "cell_type": "code",
   "execution_count": null,
   "id": "db1c8cc2",
   "metadata": {},
   "outputs": [],
   "source": [
    "df[\"cambio frecuencia de compra\"] =  df[\"Cantidad de compras antes\"] - df[\"Frecuencia de compra dps\"]"
   ]
  },
  {
   "cell_type": "code",
   "execution_count": null,
   "id": "3a199b2e",
   "metadata": {},
   "outputs": [],
   "source": [
    "df[\"cambio frecuencia de compra\"].mean()"
   ]
  },
  {
   "cell_type": "code",
   "execution_count": null,
   "id": "894226bf",
   "metadata": {
    "scrolled": true
   },
   "outputs": [],
   "source": [
    "plt.hist(df[\"cambio frecuencia de compra\"],bins=1000)\n",
    "plt.xlim(-100,100)\n",
    "plt.xlabel(\"Frecuencia de compra antes - Frecuencia de compra despues\")\n",
    "plt.ylabel(\"Cantidad de apariciones\")\n",
    "plt.title('Cambio en frecuencias de compra')"
   ]
  },
  {
   "cell_type": "code",
   "execution_count": null,
   "id": "f0edaf4c",
   "metadata": {},
   "outputs": [],
   "source": [
    "df.groupby('Inactividad previa').agg({\"cambio frecuencia de compra\":'mean'}).apply(lambda x: round(x,1))"
   ]
  },
  {
   "cell_type": "markdown",
   "id": "fb669b71",
   "metadata": {},
   "source": [
    "### Ticket promedio"
   ]
  },
  {
   "cell_type": "code",
   "execution_count": null,
   "id": "cf0a68f5",
   "metadata": {},
   "outputs": [],
   "source": [
    "df[\"Ticket promedio antes\"] = df[\"kg antes\"] /df[\"Cantidad de compras antes\"]\n",
    "df[\"Ticket promedio dps\"] = df[\"kg dps\"] / df[\"Cantidad de compras dps\"]\n",
    "df[\"Cambio en ticket promedio\"] = df[\"Ticket promedio dps\"] - df[\"Ticket promedio antes\"]"
   ]
  },
  {
   "cell_type": "code",
   "execution_count": null,
   "id": "9652ce07",
   "metadata": {},
   "outputs": [],
   "source": [
    "plt.hist(df[\"Cambio en ticket promedio\"],bins=1000)\n",
    "plt.xlim(-1,1)\n",
    "plt.xlabel(\"Ticket promedio despues - Ticket promedio antes\")\n",
    "plt.ylabel(\"Cantidad de apariciones\")\n",
    "plt.title('Cambio en Ticket promedio')"
   ]
  },
  {
   "cell_type": "code",
   "execution_count": null,
   "id": "b7fa77bb",
   "metadata": {},
   "outputs": [],
   "source": [
    "df[\"Cambio en ticket promedio\"].mean()"
   ]
  },
  {
   "cell_type": "code",
   "execution_count": null,
   "id": "09e20f31",
   "metadata": {},
   "outputs": [],
   "source": [
    "df[\"Cambio en ticket promedio\"].median()"
   ]
  },
  {
   "cell_type": "code",
   "execution_count": null,
   "id": "358cbaf5",
   "metadata": {},
   "outputs": [],
   "source": [
    "df[\"Ticket promedio antes\"].mean()"
   ]
  },
  {
   "cell_type": "code",
   "execution_count": null,
   "id": "34c09692",
   "metadata": {},
   "outputs": [],
   "source": [
    "df[\"Ticket promedio dps\"].mean()"
   ]
  },
  {
   "cell_type": "code",
   "execution_count": null,
   "id": "231d8967",
   "metadata": {},
   "outputs": [],
   "source": [
    "print('% de gente que empeoró su ticket promedio:',df[df[\"Cambio en ticket promedio\"]<0].shape[0]/df.shape[0]*100)"
   ]
  },
  {
   "cell_type": "code",
   "execution_count": null,
   "id": "dd26431d",
   "metadata": {},
   "outputs": [],
   "source": [
    "print(\"Variacion en ticket promedio desde 11/20 hasta 9/21: \", round((0.45/0.51 -1)*100,1),\"%\")"
   ]
  },
  {
   "cell_type": "code",
   "execution_count": null,
   "id": "4efc08b2",
   "metadata": {},
   "outputs": [],
   "source": [
    "print(\"Variacion en ticket promedio despues de comprar sin TACC \", round((df[\"Ticket promedio dps\"].mean()/df[\"Ticket promedio antes\"].mean() - 1)*100,1),\"%\")"
   ]
  },
  {
   "cell_type": "code",
   "execution_count": null,
   "id": "4199aeae",
   "metadata": {},
   "outputs": [],
   "source": [
    "variacion_ticket_promedio = df.groupby('Inactividad previa').agg({\"Ticket promedio antes\":'mean',\"Ticket promedio dps\":'mean'})\n",
    "variacion_ticket_promedio['Variacion'] = (variacion_ticket_promedio[\"Ticket promedio dps\"]/variacion_ticket_promedio[\"Ticket promedio antes\"]- 1).apply(lambda x: round(x*100,1))\n",
    "variacion_ticket_promedio"
   ]
  },
  {
   "cell_type": "code",
   "execution_count": null,
   "id": "b8324687",
   "metadata": {},
   "outputs": [],
   "source": [
    "ventas_ticket_prom = ventas.groupby([\"SaleId\",\"SaleDate\"]).agg({\"Amount\":'sum',\"ProductWeightGrams\":'sum'})\n",
    "ventas_ticket_prom['Kilos']= (ventas_ticket_prom[\"ProductWeightGrams\"]/1000)\n",
    "ventas_ticket_prom.reset_index(inplace=True)\n",
    "ventas_ticket_prom['SaleDate'] = pd.to_datetime(ventas_ticket_prom['SaleDate'])\n",
    "ventas_ticket_prom.set_index('SaleDate')"
   ]
  },
  {
   "cell_type": "code",
   "execution_count": null,
   "id": "e4254e02",
   "metadata": {},
   "outputs": [],
   "source": [
    "plt.figure(figsize=(10,10))\n",
    "plt.plot(ventas_ticket_prom.groupby(pd.Grouper(key='SaleDate',freq='M'))['Kilos'].mean())"
   ]
  },
  {
   "cell_type": "markdown",
   "id": "641c8c74",
   "metadata": {},
   "source": [
    "### Cross - selling"
   ]
  },
  {
   "cell_type": "markdown",
   "id": "0384c717",
   "metadata": {},
   "source": [
    "Armo mi master de productos"
   ]
  },
  {
   "cell_type": "code",
   "execution_count": null,
   "id": "1641a221",
   "metadata": {},
   "outputs": [],
   "source": [
    "productos = pd.DataFrame(ventas.groupby(['ProductId','ProductName','ProductWeightGrams']).Amount.count()).reset_index()\n",
    "productos.drop('Amount',axis=1,inplace=True)"
   ]
  },
  {
   "cell_type": "code",
   "execution_count": null,
   "id": "f1a1d3f0",
   "metadata": {},
   "outputs": [],
   "source": [
    "productos.drop_duplicates(subset='ProductId',inplace=True)"
   ]
  },
  {
   "cell_type": "markdown",
   "id": "1959beab",
   "metadata": {},
   "source": [
    "Separo todas las ventas que hayan incluido productos sin tacc y tambien los demas productos"
   ]
  },
  {
   "cell_type": "code",
   "execution_count": null,
   "id": "d4904323",
   "metadata": {},
   "outputs": [],
   "source": [
    "toda_ventas_STACC= pd.DataFrame(ventas[ventas.SaleId.isin(ventas_STACC.SaleId)].groupby(['SaleId','ProductId']).Amount.count()).reset_index()\n",
    "toda_ventas_STACC.head()"
   ]
  },
  {
   "cell_type": "code",
   "execution_count": null,
   "id": "3cb3f5f7",
   "metadata": {},
   "outputs": [],
   "source": [
    "total_ventas = toda_ventas_STACC.groupby('SaleId').count().shape[0]\n",
    "print('Ventas totales sin TACC:', total_ventas)"
   ]
  },
  {
   "cell_type": "code",
   "execution_count": null,
   "id": "a4195a23",
   "metadata": {},
   "outputs": [],
   "source": [
    "medicion_cantidades= toda_ventas_STACC.groupby('SaleId').count()\n",
    "ventas_unicas = medicion_cantidades[medicion_cantidades.Amount==1].shape[0]\n",
    "print('De todas las ventas en las que hubo un producto sin TACC, el', round(ventas_unicas/total_ventas*100,1),\"% fueron solas\")"
   ]
  },
  {
   "cell_type": "code",
   "execution_count": null,
   "id": "ed35cfdb",
   "metadata": {},
   "outputs": [],
   "source": [
    "ventas_acompañadas = medicion_cantidades[medicion_cantidades.Amount>1].shape[0]\n",
    "print('De todas las ventas en las que hubo un producto sin TACC, el', round(ventas_acompañadas/total_ventas*100,1),\"% fueron junto a otro producto\")"
   ]
  },
  {
   "cell_type": "markdown",
   "id": "6596b36b",
   "metadata": {},
   "source": [
    "#### Analizo las ventas que incluyeron solo Yogurt sin TACC en pack"
   ]
  },
  {
   "cell_type": "code",
   "execution_count": null,
   "id": "f3687efd",
   "metadata": {},
   "outputs": [],
   "source": [
    "ventas_pack = ventas[ventas['SaleId'].isin(ventas[ventas.ProductId.isin([245,246,247])].SaleId)]\n",
    "ventas_pack= ventas_pack[~ventas_pack.ProductId.isin([245,246,247])]\n",
    "\n",
    "total_ventas_pack= ventas_pack.groupby('SaleId').Amount.count().shape[0]\n",
    "\n",
    "\n",
    "pack_productos = pd.DataFrame(ventas_pack.ProductId.value_counts().reset_index())\n",
    "pack_productos.columns = ['ProductId','Cantidad apariciones']\n",
    "pack_productos= pack_productos.merge(productos,on='ProductId')\n",
    "pack_productos[\"% participacion ventas\"] = (pack_productos[\"Cantidad apariciones\"]/total_ventas_pack*100).apply(lambda x: round(x,1))\n",
    "pack_productos.head(20)"
   ]
  },
  {
   "cell_type": "code",
   "execution_count": null,
   "id": "2d4b95e9",
   "metadata": {},
   "outputs": [],
   "source": []
  },
  {
   "cell_type": "code",
   "execution_count": null,
   "id": "ac02ad91",
   "metadata": {},
   "outputs": [],
   "source": [
    "ventas[ventas.ProductId.isin([245,246,247])].SaleId"
   ]
  },
  {
   "cell_type": "markdown",
   "id": "b0255dac",
   "metadata": {},
   "source": [
    "#### Ahora, analizo las ventas que no incluyeron otro producto sin TACC"
   ]
  },
  {
   "cell_type": "code",
   "execution_count": null,
   "id": "ec6b49df",
   "metadata": {},
   "outputs": [],
   "source": [
    "medicion_cantidades_STACC =toda_ventas_STACC[~toda_ventas_STACC.ProductId.isin([242,243,244,245,246,247])].groupby('SaleId').count()"
   ]
  },
  {
   "cell_type": "code",
   "execution_count": null,
   "id": "0835dde8",
   "metadata": {},
   "outputs": [],
   "source": [
    "ventas_acompañadas_STACC = medicion_cantidades_STACC.shape[0]\n",
    "print('De todas las ventas en las que hubo un producto sin TACC, el', round(ventas_acompañadas_STACC/total_ventas*100,1),\"% fueron junto a otro producto\")"
   ]
  },
  {
   "cell_type": "code",
   "execution_count": null,
   "id": "2a66189e",
   "metadata": {},
   "outputs": [],
   "source": [
    "productos_asociados = pd.DataFrame(toda_ventas_STACC[~toda_ventas_STACC.ProductId.isin([242,243,244,245,246,247])].ProductId.value_counts()).reset_index()\n",
    "productos_asociados.columns = ['ProductId','Cantidad apariciones']\n",
    "productos_asociados= productos_asociados.merge(productos,on='ProductId')\n",
    "productos_asociados[\"% participacion ventas\"] = (productos_asociados[\"Cantidad apariciones\"]/total_ventas*100).apply(lambda x: round(x,1))\n",
    "productos_asociados.head(20)"
   ]
  },
  {
   "cell_type": "markdown",
   "id": "aa61e639",
   "metadata": {},
   "source": [
    "### Recompra de clientes"
   ]
  },
  {
   "cell_type": "code",
   "execution_count": null,
   "id": "9f27de6e",
   "metadata": {},
   "outputs": [],
   "source": [
    "recompra = pd.DataFrame(ventas[ventas['compra anterior']==0].groupby('CustomerId').agg({'SaleId':'nunique','SaleDate':'min'})).reset_index()\n",
    "print( 'El ', round(recompra[recompra.SaleId > 1].shape[0]/ socios_STACC*100,1),'% de los socios que compró un producto sin TACC, volvió a comprar en la cadena')"
   ]
  },
  {
   "cell_type": "code",
   "execution_count": null,
   "id": "2e686ec9",
   "metadata": {},
   "outputs": [],
   "source": [
    "recompra_STACC = pd.DataFrame(ventas_STACC.groupby('CustomerId').SaleId.nunique()).reset_index()\n",
    "total_recompra = recompra_STACC.shape[0]\n",
    "print('El',round(recompra_STACC[recompra_STACC.SaleId > 1].shape[0] / socios_STACC * 100,1),' % de los clientes, volvieron a comprar productos sin TACC')"
   ]
  },
  {
   "cell_type": "code",
   "execution_count": null,
   "id": "be539162",
   "metadata": {},
   "outputs": [],
   "source": [
    "recompra = recompra.merge(df[['CustomerId','fecha primera compra SIN TACC']],on='CustomerId')\n",
    "#recompra ['Días para la recompra'] = recompra['fecha primera compra SIN TACC'] - recompra['SaleDate']\n",
    "recompra"
   ]
  },
  {
   "cell_type": "code",
   "execution_count": null,
   "id": "0ff4de99",
   "metadata": {},
   "outputs": [],
   "source": [
    "recompra ['Días para la recompra'] = pd.to_datetime(recompra['SaleDate']) - pd.to_datetime(recompra['fecha primera compra SIN TACC']) \n",
    "recompra"
   ]
  },
  {
   "cell_type": "code",
   "execution_count": null,
   "id": "8a18ca3c",
   "metadata": {},
   "outputs": [],
   "source": [
    "print('Promedio días para la recompra:', recompra['Días para la recompra'].mean())"
   ]
  },
  {
   "cell_type": "code",
   "execution_count": null,
   "id": "8873d320",
   "metadata": {},
   "outputs": [],
   "source": []
  }
 ],
 "metadata": {
  "kernelspec": {
   "display_name": "Python 3",
   "language": "python",
   "name": "python3"
  },
  "language_info": {
   "codemirror_mode": {
    "name": "ipython",
    "version": 3
   },
   "file_extension": ".py",
   "mimetype": "text/x-python",
   "name": "python",
   "nbconvert_exporter": "python",
   "pygments_lexer": "ipython3",
   "version": "3.8.8"
  }
 },
 "nbformat": 4,
 "nbformat_minor": 5
}
