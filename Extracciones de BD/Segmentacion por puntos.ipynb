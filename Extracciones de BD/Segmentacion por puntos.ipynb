{
 "cells": [
  {
   "cell_type": "markdown",
   "id": "2735b0fc",
   "metadata": {},
   "source": [
    "De acuerdo a la cantidad de puntos disponible que tiene cada socio, realizamos clusters de socios y extraemos esas bases a archivos CSV para que puedan ser subidos a Emblue y se realicen envíos de mail"
   ]
  },
  {
   "cell_type": "code",
   "execution_count": 1,
   "id": "cc0969ce",
   "metadata": {},
   "outputs": [],
   "source": [
    "import pandas as pd\n",
    "import numpy as np\n",
    "import seaborn as sns\n",
    "import matplotlib.pyplot as plt\n",
    "import seaborn as sns\n",
    "import matplotlib.axes as ax\n",
    "import pyodbc\n",
    "import math\n",
    "import os\n",
    "pd.set_option('display.max_columns', None)"
   ]
  },
  {
   "cell_type": "code",
   "execution_count": 2,
   "id": "58bb8f56",
   "metadata": {},
   "outputs": [
    {
     "data": {
      "text/html": [
       "<div>\n",
       "<style scoped>\n",
       "    .dataframe tbody tr th:only-of-type {\n",
       "        vertical-align: middle;\n",
       "    }\n",
       "\n",
       "    .dataframe tbody tr th {\n",
       "        vertical-align: top;\n",
       "    }\n",
       "\n",
       "    .dataframe thead th {\n",
       "        text-align: right;\n",
       "    }\n",
       "</style>\n",
       "<table border=\"1\" class=\"dataframe\">\n",
       "  <thead>\n",
       "    <tr style=\"text-align: right;\">\n",
       "      <th></th>\n",
       "      <th>CustomerId</th>\n",
       "      <th>Puntos</th>\n",
       "      <th>FirstName</th>\n",
       "      <th>Email</th>\n",
       "    </tr>\n",
       "  </thead>\n",
       "  <tbody>\n",
       "    <tr>\n",
       "      <th>0</th>\n",
       "      <td>273AFE21-79E8-CC3A-AAF6-08D0C0CE8984</td>\n",
       "      <td>5440</td>\n",
       "      <td>Lujan Evangelina</td>\n",
       "      <td>lujantassone@hotmail.com</td>\n",
       "    </tr>\n",
       "    <tr>\n",
       "      <th>1</th>\n",
       "      <td>D1C0D365-6970-C40B-A6E6-08D0BD70A3EB</td>\n",
       "      <td>13720</td>\n",
       "      <td>Jose Antonio</td>\n",
       "      <td>joseamin12@hotmail.com</td>\n",
       "    </tr>\n",
       "    <tr>\n",
       "      <th>2</th>\n",
       "      <td>10C29CB8-C4F5-C071-3842-08D0BF4D95AE</td>\n",
       "      <td>5220</td>\n",
       "      <td>Luciana Mariela</td>\n",
       "      <td>acolombero@huincacoop.com.ar</td>\n",
       "    </tr>\n",
       "    <tr>\n",
       "      <th>3</th>\n",
       "      <td>98CAB44B-121A-C48F-E2F3-08D0BF43298F</td>\n",
       "      <td>2260</td>\n",
       "      <td>Melina</td>\n",
       "      <td>mely-2012-22@hotmail.com</td>\n",
       "    </tr>\n",
       "    <tr>\n",
       "      <th>4</th>\n",
       "      <td>6ACC86A5-45BC-C851-BE13-08D0BF45D4BD</td>\n",
       "      <td>6050</td>\n",
       "      <td>Carolina Marina</td>\n",
       "      <td>carolmon7@hotmail.com</td>\n",
       "    </tr>\n",
       "  </tbody>\n",
       "</table>\n",
       "</div>"
      ],
      "text/plain": [
       "                             CustomerId  Puntos          FirstName  \\\n",
       "0  273AFE21-79E8-CC3A-AAF6-08D0C0CE8984    5440  Lujan Evangelina    \n",
       "1  D1C0D365-6970-C40B-A6E6-08D0BD70A3EB   13720       Jose Antonio   \n",
       "2  10C29CB8-C4F5-C071-3842-08D0BF4D95AE    5220    Luciana Mariela   \n",
       "3  98CAB44B-121A-C48F-E2F3-08D0BF43298F    2260             Melina   \n",
       "4  6ACC86A5-45BC-C851-BE13-08D0BF45D4BD    6050    Carolina Marina   \n",
       "\n",
       "                          Email  \n",
       "0      lujantassone@hotmail.com  \n",
       "1        joseamin12@hotmail.com  \n",
       "2  acolombero@huincacoop.com.ar  \n",
       "3      mely-2012-22@hotmail.com  \n",
       "4         carolmon7@hotmail.com  "
      ]
     },
     "execution_count": 2,
     "metadata": {},
     "output_type": "execute_result"
    }
   ],
   "source": [
    "DB = {'servername': '',\n",
    "      'database': '',\n",
    "      'usuario' :'',\n",
    "      'contraseña':'',\n",
    "      'Encrypt':'yes',\n",
    "      'TrustServerCertificate':'no',\n",
    "      'Connection Timeout':'30'}\n",
    "\n",
    "# create the connection\n",
    "conn = pyodbc.connect('DRIVER={ODBC Driver 13 for SQL Server};SERVER=' + DB['servername'] + ';DATABASE=' + DB['database'] +\\\n",
    "                      ';UID=' + DB['usuario'] + ';PWD='+ DB['contraseña'] + ';Encrypt=yes;TrustServerCertificate=no;Connection Timeout=30')\n",
    "\n",
    "# query db\n",
    "sql = \"\"\"\n",
    "\n",
    "SELECT cpl.CustomerId, sum(cpl.Points) 'Puntos', c.FirstName, c.Email\n",
    "FROM dbo.CustomerPointsLog cpl\n",
    "INNER JOIN dbo.Customer c ON c.CustomerId = cpl.CustomerId\n",
    "GROUP BY cpl.CustomerId, c.FirstName, c.Email\n",
    "HAVING sum(cpl.Points) > 1799\n",
    "\"\"\"\n",
    "df = pd.read_sql(sql, conn)\n",
    "df.head()"
   ]
  },
  {
   "cell_type": "code",
   "execution_count": 3,
   "id": "f646852b",
   "metadata": {},
   "outputs": [],
   "source": [
    "#Como ya me pasan los datos que necesito para df, importo directamente.\n",
    "\n",
    "#df = pd.read_csv(r'C:/Users/pnovero/Documents/Extractos DW/puntos al 07-12.csv')\n",
    "#df.drop(index=df.index[0], axis=0, inplace=True)\n",
    "#df[\"Puntos\"] = df.Puntos.astype('int')\n",
    "\n",
    "#df.head()"
   ]
  },
  {
   "cell_type": "code",
   "execution_count": 4,
   "id": "56a242a1",
   "metadata": {},
   "outputs": [
    {
     "data": {
      "text/plain": [
       "(2617797, 4)"
      ]
     },
     "execution_count": 4,
     "metadata": {},
     "output_type": "execute_result"
    }
   ],
   "source": [
    "df.shape"
   ]
  },
  {
   "cell_type": "code",
   "execution_count": 5,
   "id": "ce406f26",
   "metadata": {},
   "outputs": [
    {
     "data": {
      "text/plain": [
       "Email         3\n",
       "FirstName     1\n",
       "CustomerId    0\n",
       "Puntos        0\n",
       "dtype: int64"
      ]
     },
     "execution_count": 5,
     "metadata": {},
     "output_type": "execute_result"
    }
   ],
   "source": [
    "df.Puntos.fillna(0,inplace=True)\n",
    "df.isna().sum().sort_values(ascending=False)"
   ]
  },
  {
   "cell_type": "code",
   "execution_count": 6,
   "id": "4814237b",
   "metadata": {},
   "outputs": [],
   "source": [
    "df.dropna(how=\"any\",inplace=True)"
   ]
  },
  {
   "cell_type": "code",
   "execution_count": 7,
   "id": "eb2d30ca",
   "metadata": {},
   "outputs": [
    {
     "data": {
      "text/html": [
       "<div>\n",
       "<style scoped>\n",
       "    .dataframe tbody tr th:only-of-type {\n",
       "        vertical-align: middle;\n",
       "    }\n",
       "\n",
       "    .dataframe tbody tr th {\n",
       "        vertical-align: top;\n",
       "    }\n",
       "\n",
       "    .dataframe thead th {\n",
       "        text-align: right;\n",
       "    }\n",
       "</style>\n",
       "<table border=\"1\" class=\"dataframe\">\n",
       "  <thead>\n",
       "    <tr style=\"text-align: right;\">\n",
       "      <th></th>\n",
       "      <th>CustomerId</th>\n",
       "      <th>Puntos</th>\n",
       "      <th>FirstName</th>\n",
       "      <th>Email</th>\n",
       "    </tr>\n",
       "  </thead>\n",
       "  <tbody>\n",
       "  </tbody>\n",
       "</table>\n",
       "</div>"
      ],
      "text/plain": [
       "Empty DataFrame\n",
       "Columns: [CustomerId, Puntos, FirstName, Email]\n",
       "Index: []"
      ]
     },
     "execution_count": 7,
     "metadata": {},
     "output_type": "execute_result"
    }
   ],
   "source": [
    "pd.DataFrame(df[df.Puntos < 0])"
   ]
  },
  {
   "cell_type": "code",
   "execution_count": 8,
   "id": "73879de2",
   "metadata": {},
   "outputs": [],
   "source": [
    "df.drop(columns=['CustomerId'],inplace=True)"
   ]
  },
  {
   "cell_type": "code",
   "execution_count": 9,
   "id": "0f6a2e5c",
   "metadata": {},
   "outputs": [],
   "source": [
    "clusters = [-np.inf,-1,1799,4599,5999,6499,7999,np.inf]\n",
    "nombres_clusters =[\"negativos\",\"0 a 1799\",\"1800 a 4599\",\"4600 a 5999\",\"6000 a 6499\",\"6500 a 7999\",\"mas de 8000\"]\n",
    "df['segmento_puntos'] = pd.cut(df.Puntos,bins= clusters, labels = nombres_clusters)"
   ]
  },
  {
   "cell_type": "code",
   "execution_count": 10,
   "id": "73e71923",
   "metadata": {},
   "outputs": [
    {
     "name": "stderr",
     "output_type": "stream",
     "text": [
      "C:\\Users\\pnovero\\Anaconda3\\lib\\site-packages\\pandas\\core\\frame.py:4906: SettingWithCopyWarning: \n",
      "A value is trying to be set on a copy of a slice from a DataFrame\n",
      "\n",
      "See the caveats in the documentation: https://pandas.pydata.org/pandas-docs/stable/user_guide/indexing.html#returning-a-view-versus-a-copy\n",
      "  return super().drop(\n"
     ]
    },
    {
     "name": "stdout",
     "output_type": "stream",
     "text": [
      "56.061549\n",
      "C:/Users/pnovero/Documents/Extractos DW/1800 a 4599_0.csv\n",
      "C:/Users/pnovero/Documents/Extractos DW/1800 a 4599_1.csv\n",
      "17.262759\n",
      "4.636647\n",
      "10.248487\n",
      "19.275507\n"
     ]
    }
   ],
   "source": [
    "for grupo in [\"1800 a 4599\",\"4600 a 5999\",\"6000 a 6499\",\"6500 a 7999\",\"mas de 8000\"]:\n",
    "    max_MB=50\n",
    "    df_grupo = df[df[\"segmento_puntos\"] == grupo]\n",
    "    df_grupo.drop('segmento_puntos',axis=1,inplace=True)\n",
    "    path = r'C:/Users/pnovero/Documents/Extractos DW/' + grupo + '.csv'\n",
    "    df_grupo.to_csv(path,index=False)\n",
    "    tamaño = os.path.getsize(path)/1000000\n",
    "    print(tamaño)\n",
    "    if tamaño > max_MB:\n",
    "        os.remove(path)\n",
    "        cantidad_archivos= math.ceil(tamaño/max_MB)\n",
    "        archivos= np.array_split(df_grupo,cantidad_archivos)\n",
    "        for idx,archivo in enumerate(archivos):\n",
    "            path = r'C:/Users/pnovero/Documents/Extractos DW/' + grupo + '_' +str(idx) + '.csv'\n",
    "            archivo.to_csv(path,index=False)\n",
    "            print(path)"
   ]
  },
  {
   "cell_type": "code",
   "execution_count": null,
   "id": "3514d732",
   "metadata": {},
   "outputs": [],
   "source": []
  }
 ],
 "metadata": {
  "kernelspec": {
   "display_name": "Python 3",
   "language": "python",
   "name": "python3"
  },
  "language_info": {
   "codemirror_mode": {
    "name": "ipython",
    "version": 3
   },
   "file_extension": ".py",
   "mimetype": "text/x-python",
   "name": "python",
   "nbconvert_exporter": "python",
   "pygments_lexer": "ipython3",
   "version": "3.8.8"
  }
 },
 "nbformat": 4,
 "nbformat_minor": 5
}
